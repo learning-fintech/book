{
 "cells": [
  {
   "cell_type": "markdown",
   "metadata": {
    "collapsed": false
   },
   "source": [
    "### The `pandas_datareader` Module\n",
    "\n",
    "In previous parts of this chapter, we discussed APIs.  We use APIs to interface with data on a web server and bring that data in to Python.\n",
    "\n",
    "In this section, we make use of the `pandas_datareader` module.  This is a module that provides a set of API features to Python in such a way that the data is directly loaded in to a `pandas` DataFrame format.  The `pandas_datareader` module actually used to be part of the `pandas` module, but it was spun off in to its own separate module."
   ]
  },
  {
   "cell_type": "code",
   "execution_count": 1,
   "metadata": {
    "collapsed": false
   },
   "outputs": [
   ],
   "source": [
    "import pandas_datareader.data as web"
   ]
  },
  {
   "cell_type": "markdown",
   "metadata": {
    "collapsed": false
   },
   "source": [
    "Let's start with an example provided in the module's [documentation](https://pandas-datareader.readthedocs.io/en/latest/remote_data.html#fred)."
   ]
  },
  {
   "cell_type": "code",
   "execution_count": 7,
   "metadata": {
    "collapsed": false
   },
   "outputs": [
    {
     "data": {
      "text/html": [
       "<div>\n",
       "<style scoped>\n",
       "    .dataframe tbody tr th:only-of-type {\n",
       "        vertical-align: middle;\n",
       "    }\n",
       "\n",
       "    .dataframe tbody tr th {\n",
       "        vertical-align: top;\n",
       "    }\n",
       "\n",
       "    .dataframe thead th {\n",
       "        text-align: right;\n",
       "    }\n",
       "</style>\n",
       "<table border=\"1\" class=\"dataframe\">\n",
       "  <thead>\n",
       "    <tr style=\"text-align: right;\">\n",
       "      <th></th>\n",
       "      <th>GDP</th>\n",
       "    </tr>\n",
       "    <tr>\n",
       "      <th>DATE</th>\n",
       "      <th></th>\n",
       "    </tr>\n",
       "  </thead>\n",
       "  <tbody>\n",
       "    <tr>\n",
       "      <th>2005-01-01</th>\n",
       "      <td>12767.286</td>\n",
       "    </tr>\n",
       "    <tr>\n",
       "      <th>2005-04-01</th>\n",
       "      <td>12922.656</td>\n",
       "    </tr>\n",
       "    <tr>\n",
       "      <th>2005-07-01</th>\n",
       "      <td>13142.642</td>\n",
       "    </tr>\n",
       "    <tr>\n",
       "      <th>2005-10-01</th>\n",
       "      <td>13324.204</td>\n",
       "    </tr>\n",
       "    <tr>\n",
       "      <th>2006-01-01</th>\n",
       "      <td>13599.160</td>\n",
       "    </tr>\n",
       "  </tbody>\n",
       "</table>\n",
       "</div>"
      ],
      "text/plain": [
       "                  GDP\n",
       "DATE                 \n",
       "2005-01-01  12767.286\n",
       "2005-04-01  12922.656\n",
       "2005-07-01  13142.642\n",
       "2005-10-01  13324.204\n",
       "2006-01-01  13599.160"
      ]
     },
     "execution_count": 7,
     "metadata": {
     },
     "output_type": "execute_result"
    }
   ],
   "source": [
    "from datetime import datetime\n",
    "\n",
    "start = datetime(2005, 1, 1)\n",
    "end = datetime(2019, 12, 31)\n",
    "\n",
    "gdp = web.DataReader('GDP', 'fred', start, end)\n",
    "\n",
    "gdp.head()"
   ]
  },
  {
   "cell_type": "markdown",
   "metadata": {
    "collapsed": false
   },
   "source": [
    "The above yields a data series of GDP values, listed at a quarterly frequency.  Note that the `DATE` listed in the above DataFrame is not a column of data, it contains the labels for the rows.  Remember, label names are bold-faced, so the name `2010-01-01` being in bold tells you that this is a row label, just like the name `GDP` in bold tells you that this is a column label.\n",
    "\n",
    "Above, we accessed data from the `'fred'` data provider.  The FRED (Federal Reserve Economic Data) is an important provider of macroeconomic data, like measurement of gross domestic product.\n",
    "\n",
    "Note that we can collect multiple data series from FRED simultaneously by requesting a list of data series in the first argument to the `DataReader()` function, as shown below."
   ]
  },
  {
   "cell_type": "code",
   "execution_count": 8,
   "metadata": {
    "collapsed": false
   },
   "outputs": [
    {
     "data": {
      "text/html": [
       "<div>\n",
       "<style scoped>\n",
       "    .dataframe tbody tr th:only-of-type {\n",
       "        vertical-align: middle;\n",
       "    }\n",
       "\n",
       "    .dataframe tbody tr th {\n",
       "        vertical-align: top;\n",
       "    }\n",
       "\n",
       "    .dataframe thead th {\n",
       "        text-align: right;\n",
       "    }\n",
       "</style>\n",
       "<table border=\"1\" class=\"dataframe\">\n",
       "  <thead>\n",
       "    <tr style=\"text-align: right;\">\n",
       "      <th></th>\n",
       "      <th>CPIAUCSL</th>\n",
       "      <th>CPILFESL</th>\n",
       "    </tr>\n",
       "    <tr>\n",
       "      <th>DATE</th>\n",
       "      <th></th>\n",
       "      <th></th>\n",
       "    </tr>\n",
       "  </thead>\n",
       "  <tbody>\n",
       "    <tr>\n",
       "      <th>2005-01-01</th>\n",
       "      <td>191.6</td>\n",
       "      <td>199.0</td>\n",
       "    </tr>\n",
       "    <tr>\n",
       "      <th>2005-02-01</th>\n",
       "      <td>192.4</td>\n",
       "      <td>199.4</td>\n",
       "    </tr>\n",
       "    <tr>\n",
       "      <th>2005-03-01</th>\n",
       "      <td>193.1</td>\n",
       "      <td>200.1</td>\n",
       "    </tr>\n",
       "    <tr>\n",
       "      <th>2005-04-01</th>\n",
       "      <td>193.7</td>\n",
       "      <td>200.2</td>\n",
       "    </tr>\n",
       "    <tr>\n",
       "      <th>2005-05-01</th>\n",
       "      <td>193.6</td>\n",
       "      <td>200.5</td>\n",
       "    </tr>\n",
       "  </tbody>\n",
       "</table>\n",
       "</div>"
      ],
      "text/plain": [
       "            CPIAUCSL  CPILFESL\n",
       "DATE                          \n",
       "2005-01-01     191.6     199.0\n",
       "2005-02-01     192.4     199.4\n",
       "2005-03-01     193.1     200.1\n",
       "2005-04-01     193.7     200.2\n",
       "2005-05-01     193.6     200.5"
      ]
     },
     "execution_count": 8,
     "metadata": {
     },
     "output_type": "execute_result"
    }
   ],
   "source": [
    "inflation = web.DataReader(['CPIAUCSL', 'CPILFESL'], 'fred', start, end)\n",
    "\n",
    "inflation.head()"
   ]
  },
  {
   "cell_type": "markdown",
   "metadata": {
    "collapsed": false
   },
   "source": [
    "We see two columns of data printed above, corresponding to the two data series names that were requested.  But how are these series names chosen?  The name `'CPIAUCSL'`, for instance, is not an intuitive name for \"inflation.\"  And if `'CPIAUCSL'` and `'CPILFESL'` are both data about inflation, what makes them different?\n",
    "\n",
    "If you search for a data series name on the [FRED website](https://fred.stlouisfed.org/), it will take you to the data series.  Thus, we can easily find that:\n",
    "- [CPIAUCSL](https://fred.stlouisfed.org/series/CPIAUCSL) is the consumer price index for urban consumers\n",
    "- [CPILFESL](https://fred.stlouisfed.org/series/CPILFESL) is the consumer price index for urban consumers, excluding food and energy costs\n",
    "\n",
    "Data on FRED are organized by [category](https://fred.stlouisfed.org/categories),and [consumer price indexes](https://fred.stlouisfed.org/categories/9) are one such category.\n",
    "\n",
    "We could get the consumer price index for just alcohol using the data series `'CUSR0000SAF116'`."
   ]
  },
  {
   "cell_type": "code",
   "execution_count": 9,
   "metadata": {
    "collapsed": false
   },
   "outputs": [
    {
     "data": {
      "text/html": [
       "<div>\n",
       "<style scoped>\n",
       "    .dataframe tbody tr th:only-of-type {\n",
       "        vertical-align: middle;\n",
       "    }\n",
       "\n",
       "    .dataframe tbody tr th {\n",
       "        vertical-align: top;\n",
       "    }\n",
       "\n",
       "    .dataframe thead th {\n",
       "        text-align: right;\n",
       "    }\n",
       "</style>\n",
       "<table border=\"1\" class=\"dataframe\">\n",
       "  <thead>\n",
       "    <tr style=\"text-align: right;\">\n",
       "      <th></th>\n",
       "      <th>CUSR0000SAF116</th>\n",
       "    </tr>\n",
       "    <tr>\n",
       "      <th>DATE</th>\n",
       "      <th></th>\n",
       "    </tr>\n",
       "  </thead>\n",
       "  <tbody>\n",
       "    <tr>\n",
       "      <th>2005-01-01</th>\n",
       "      <td>194.6</td>\n",
       "    </tr>\n",
       "    <tr>\n",
       "      <th>2005-02-01</th>\n",
       "      <td>195.0</td>\n",
       "    </tr>\n",
       "    <tr>\n",
       "      <th>2005-03-01</th>\n",
       "      <td>195.2</td>\n",
       "    </tr>\n",
       "    <tr>\n",
       "      <th>2005-04-01</th>\n",
       "      <td>195.5</td>\n",
       "    </tr>\n",
       "    <tr>\n",
       "      <th>2005-05-01</th>\n",
       "      <td>195.3</td>\n",
       "    </tr>\n",
       "  </tbody>\n",
       "</table>\n",
       "</div>"
      ],
      "text/plain": [
       "            CUSR0000SAF116\n",
       "DATE                      \n",
       "2005-01-01           194.6\n",
       "2005-02-01           195.0\n",
       "2005-03-01           195.2\n",
       "2005-04-01           195.5\n",
       "2005-05-01           195.3"
      ]
     },
     "execution_count": 9,
     "metadata": {
     },
     "output_type": "execute_result"
    }
   ],
   "source": [
    "alcohol = web.DataReader('CUSR0000SAF116', 'fred', start, end)\n",
    "\n",
    "alcohol.head()"
   ]
  },
  {
   "cell_type": "markdown",
   "metadata": {
    "collapsed": false
   },
   "source": [
    "Price indices are interesting, but let's focus on some financial time series."
   ]
  },
  {
   "cell_type": "code",
   "execution_count": 10,
   "metadata": {
    "collapsed": false
   },
   "outputs": [
    {
     "data": {
      "text/html": [
       "<div>\n",
       "<style scoped>\n",
       "    .dataframe tbody tr th:only-of-type {\n",
       "        vertical-align: middle;\n",
       "    }\n",
       "\n",
       "    .dataframe tbody tr th {\n",
       "        vertical-align: top;\n",
       "    }\n",
       "\n",
       "    .dataframe thead th {\n",
       "        text-align: right;\n",
       "    }\n",
       "</style>\n",
       "<table border=\"1\" class=\"dataframe\">\n",
       "  <thead>\n",
       "    <tr style=\"text-align: right;\">\n",
       "      <th></th>\n",
       "      <th>DGS1MO</th>\n",
       "      <th>DGS3MO</th>\n",
       "      <th>DGS6MO</th>\n",
       "      <th>DGS1</th>\n",
       "      <th>DGS2</th>\n",
       "      <th>DGS5</th>\n",
       "      <th>DGS7</th>\n",
       "      <th>DGS10</th>\n",
       "      <th>DGS30</th>\n",
       "    </tr>\n",
       "    <tr>\n",
       "      <th>DATE</th>\n",
       "      <th></th>\n",
       "      <th></th>\n",
       "      <th></th>\n",
       "      <th></th>\n",
       "      <th></th>\n",
       "      <th></th>\n",
       "      <th></th>\n",
       "      <th></th>\n",
       "      <th></th>\n",
       "    </tr>\n",
       "  </thead>\n",
       "  <tbody>\n",
       "    <tr>\n",
       "      <th>2005-01-03</th>\n",
       "      <td>1.99</td>\n",
       "      <td>2.32</td>\n",
       "      <td>2.63</td>\n",
       "      <td>2.79</td>\n",
       "      <td>3.10</td>\n",
       "      <td>3.64</td>\n",
       "      <td>3.94</td>\n",
       "      <td>4.23</td>\n",
       "      <td>4.85</td>\n",
       "    </tr>\n",
       "    <tr>\n",
       "      <th>2005-01-04</th>\n",
       "      <td>2.05</td>\n",
       "      <td>2.33</td>\n",
       "      <td>2.63</td>\n",
       "      <td>2.82</td>\n",
       "      <td>3.20</td>\n",
       "      <td>3.72</td>\n",
       "      <td>4.02</td>\n",
       "      <td>4.29</td>\n",
       "      <td>4.91</td>\n",
       "    </tr>\n",
       "    <tr>\n",
       "      <th>2005-01-05</th>\n",
       "      <td>2.04</td>\n",
       "      <td>2.33</td>\n",
       "      <td>2.63</td>\n",
       "      <td>2.83</td>\n",
       "      <td>3.22</td>\n",
       "      <td>3.73</td>\n",
       "      <td>4.02</td>\n",
       "      <td>4.29</td>\n",
       "      <td>4.88</td>\n",
       "    </tr>\n",
       "    <tr>\n",
       "      <th>2005-01-06</th>\n",
       "      <td>2.04</td>\n",
       "      <td>2.31</td>\n",
       "      <td>2.63</td>\n",
       "      <td>2.82</td>\n",
       "      <td>3.18</td>\n",
       "      <td>3.71</td>\n",
       "      <td>4.01</td>\n",
       "      <td>4.29</td>\n",
       "      <td>4.89</td>\n",
       "    </tr>\n",
       "    <tr>\n",
       "      <th>2005-01-07</th>\n",
       "      <td>2.03</td>\n",
       "      <td>2.32</td>\n",
       "      <td>2.63</td>\n",
       "      <td>2.82</td>\n",
       "      <td>3.20</td>\n",
       "      <td>3.73</td>\n",
       "      <td>4.03</td>\n",
       "      <td>4.29</td>\n",
       "      <td>4.88</td>\n",
       "    </tr>\n",
       "  </tbody>\n",
       "</table>\n",
       "</div>"
      ],
      "text/plain": [
       "            DGS1MO  DGS3MO  DGS6MO  DGS1  DGS2  DGS5  DGS7  DGS10  DGS30\n",
       "DATE                                                                    \n",
       "2005-01-03    1.99    2.32    2.63  2.79  3.10  3.64  3.94   4.23   4.85\n",
       "2005-01-04    2.05    2.33    2.63  2.82  3.20  3.72  4.02   4.29   4.91\n",
       "2005-01-05    2.04    2.33    2.63  2.83  3.22  3.73  4.02   4.29   4.88\n",
       "2005-01-06    2.04    2.31    2.63  2.82  3.18  3.71  4.01   4.29   4.89\n",
       "2005-01-07    2.03    2.32    2.63  2.82  3.20  3.73  4.03   4.29   4.88"
      ]
     },
     "execution_count": 10,
     "metadata": {
     },
     "output_type": "execute_result"
    }
   ],
   "source": [
    "data_list = ['DGS1MO', 'DGS3MO', 'DGS6MO', 'DGS1', 'DGS2', 'DGS5', 'DGS7', 'DGS10', 'DGS30']\n",
    "\n",
    "ts = web.DataReader(data_list, 'fred', start, end)\n",
    "\n",
    "ts.head()"
   ]
  },
  {
   "cell_type": "markdown",
   "metadata": {
    "collapsed": false
   },
   "source": [
    "The data returned provides the term structure of interest rates.  Interest rates on treasuries of varying maturities are collected.\n",
    "\n",
    "It's time to treat these row labels a bit more formally.\n",
    "\n",
    "Recall that column labels can be accessed like so."
   ]
  },
  {
   "cell_type": "code",
   "execution_count": 11,
   "metadata": {
    "collapsed": false
   },
   "outputs": [
    {
     "data": {
      "text/plain": [
       "Index(['DGS1MO', 'DGS3MO', 'DGS6MO', 'DGS1', 'DGS2', 'DGS5', 'DGS7', 'DGS10',\n",
       "       'DGS30'],\n",
       "      dtype='object')"
      ]
     },
     "execution_count": 11,
     "metadata": {
     },
     "output_type": "execute_result"
    }
   ],
   "source": [
    "ts.columns"
   ]
  },
  {
   "cell_type": "markdown",
   "metadata": {
    "collapsed": false
   },
   "source": [
    "The columns of a DataFrame are referred to as, quite intuitively, *columns*!\n",
    "\n",
    "The row labels are a bit different, they are typically referred to as the *index* of the DataFrame.  The list of row labels is thus accessible via:"
   ]
  },
  {
   "cell_type": "code",
   "execution_count": 12,
   "metadata": {
    "collapsed": false
   },
   "outputs": [
    {
     "data": {
      "text/plain": [
       "DatetimeIndex(['2005-01-03', '2005-01-04', '2005-01-05', '2005-01-06',\n",
       "               '2005-01-07', '2005-01-10', '2005-01-11', '2005-01-12',\n",
       "               '2005-01-13', '2005-01-14',\n",
       "               ...\n",
       "               '2019-12-18', '2019-12-19', '2019-12-20', '2019-12-23',\n",
       "               '2019-12-24', '2019-12-25', '2019-12-26', '2019-12-27',\n",
       "               '2019-12-30', '2019-12-31'],\n",
       "              dtype='datetime64[ns]', name='DATE', length=3912, freq=None)"
      ]
     },
     "execution_count": 12,
     "metadata": {
     },
     "output_type": "execute_result"
    }
   ],
   "source": [
    "ts.index"
   ]
  },
  {
   "cell_type": "markdown",
   "metadata": {
    "collapsed": false
   },
   "source": [
    "It is at this point that use of `.loc` becomes interesting and useful, rather than simply an academic point about the structure of DataFrames.  For instance, to look up the term structure of interest rates on June 7, 2019, we would enter:"
   ]
  },
  {
   "cell_type": "code",
   "execution_count": 13,
   "metadata": {
    "collapsed": false
   },
   "outputs": [
    {
     "data": {
      "text/plain": [
       "DGS1MO    2.30\n",
       "DGS3MO    2.28\n",
       "DGS6MO    2.15\n",
       "DGS1      1.97\n",
       "DGS2      1.85\n",
       "DGS5      1.85\n",
       "DGS7      1.97\n",
       "DGS10     2.09\n",
       "DGS30     2.57\n",
       "Name: 2019-06-07 00:00:00, dtype: float64"
      ]
     },
     "execution_count": 13,
     "metadata": {
     },
     "output_type": "execute_result"
    }
   ],
   "source": [
    "ts.loc['2019-06-07']"
   ]
  },
  {
   "cell_type": "markdown",
   "metadata": {
    "collapsed": false
   },
   "source": [
    "It's helpful to have an index because it lets us label the data in two dimensions at once.  The column label will tell us the name of the data series (e.g. `'DGS1'`, which is the yield on a set of 1 year constant maturity U.S. treasuries) and the row *index* will tell us the time at which that data is observed.\n",
    "\n",
    "In earlier parts of this book, the row index was boring.  Unless explicitly given a list of row labels to use for the index, Python will assign the row index to be the row number.  For example:"
   ]
  },
  {
   "cell_type": "code",
   "execution_count": 14,
   "metadata": {
    "collapsed": false
   },
   "outputs": [
    {
     "data": {
      "text/html": [
       "<div>\n",
       "<style scoped>\n",
       "    .dataframe tbody tr th:only-of-type {\n",
       "        vertical-align: middle;\n",
       "    }\n",
       "\n",
       "    .dataframe tbody tr th {\n",
       "        vertical-align: top;\n",
       "    }\n",
       "\n",
       "    .dataframe thead th {\n",
       "        text-align: right;\n",
       "    }\n",
       "</style>\n",
       "<table border=\"1\" class=\"dataframe\">\n",
       "  <thead>\n",
       "    <tr style=\"text-align: right;\">\n",
       "      <th></th>\n",
       "      <th>x</th>\n",
       "    </tr>\n",
       "  </thead>\n",
       "  <tbody>\n",
       "    <tr>\n",
       "      <th>0</th>\n",
       "      <td>1.764052</td>\n",
       "    </tr>\n",
       "    <tr>\n",
       "      <th>1</th>\n",
       "      <td>0.400157</td>\n",
       "    </tr>\n",
       "    <tr>\n",
       "      <th>2</th>\n",
       "      <td>0.978738</td>\n",
       "    </tr>\n",
       "    <tr>\n",
       "      <th>3</th>\n",
       "      <td>2.240893</td>\n",
       "    </tr>\n",
       "    <tr>\n",
       "      <th>4</th>\n",
       "      <td>1.867558</td>\n",
       "    </tr>\n",
       "  </tbody>\n",
       "</table>\n",
       "</div>"
      ],
      "text/plain": [
       "          x\n",
       "0  1.764052\n",
       "1  0.400157\n",
       "2  0.978738\n",
       "3  2.240893\n",
       "4  1.867558"
      ]
     },
     "execution_count": 14,
     "metadata": {
     },
     "output_type": "execute_result"
    }
   ],
   "source": [
    "import pandas as pd\n",
    "import numpy as np\n",
    "np.random.seed(0)\n",
    "df = pd.DataFrame(columns=['x'])\n",
    "df['x'] = np.random.normal(0, 1, 10)\n",
    "df.head()"
   ]
  },
  {
   "cell_type": "markdown",
   "metadata": {
    "collapsed": false
   },
   "source": [
    "Note that the data returned from `pandas_datareader` is indexed in a very convenient way.  Along with using `ts.loc['2019-06-07']`, we can get slices of the data like so:"
   ]
  },
  {
   "cell_type": "code",
   "execution_count": 15,
   "metadata": {
    "collapsed": false
   },
   "outputs": [
    {
     "data": {
      "text/html": [
       "<div>\n",
       "<style scoped>\n",
       "    .dataframe tbody tr th:only-of-type {\n",
       "        vertical-align: middle;\n",
       "    }\n",
       "\n",
       "    .dataframe tbody tr th {\n",
       "        vertical-align: top;\n",
       "    }\n",
       "\n",
       "    .dataframe thead th {\n",
       "        text-align: right;\n",
       "    }\n",
       "</style>\n",
       "<table border=\"1\" class=\"dataframe\">\n",
       "  <thead>\n",
       "    <tr style=\"text-align: right;\">\n",
       "      <th></th>\n",
       "      <th>DGS1MO</th>\n",
       "      <th>DGS3MO</th>\n",
       "      <th>DGS6MO</th>\n",
       "      <th>DGS1</th>\n",
       "      <th>DGS2</th>\n",
       "      <th>DGS5</th>\n",
       "      <th>DGS7</th>\n",
       "      <th>DGS10</th>\n",
       "      <th>DGS30</th>\n",
       "    </tr>\n",
       "    <tr>\n",
       "      <th>DATE</th>\n",
       "      <th></th>\n",
       "      <th></th>\n",
       "      <th></th>\n",
       "      <th></th>\n",
       "      <th></th>\n",
       "      <th></th>\n",
       "      <th></th>\n",
       "      <th></th>\n",
       "      <th></th>\n",
       "    </tr>\n",
       "  </thead>\n",
       "  <tbody>\n",
       "    <tr>\n",
       "      <th>2005-01-03</th>\n",
       "      <td>1.99</td>\n",
       "      <td>2.32</td>\n",
       "      <td>2.63</td>\n",
       "      <td>2.79</td>\n",
       "      <td>3.10</td>\n",
       "      <td>3.64</td>\n",
       "      <td>3.94</td>\n",
       "      <td>4.23</td>\n",
       "      <td>4.85</td>\n",
       "    </tr>\n",
       "    <tr>\n",
       "      <th>2005-01-04</th>\n",
       "      <td>2.05</td>\n",
       "      <td>2.33</td>\n",
       "      <td>2.63</td>\n",
       "      <td>2.82</td>\n",
       "      <td>3.20</td>\n",
       "      <td>3.72</td>\n",
       "      <td>4.02</td>\n",
       "      <td>4.29</td>\n",
       "      <td>4.91</td>\n",
       "    </tr>\n",
       "    <tr>\n",
       "      <th>2005-01-05</th>\n",
       "      <td>2.04</td>\n",
       "      <td>2.33</td>\n",
       "      <td>2.63</td>\n",
       "      <td>2.83</td>\n",
       "      <td>3.22</td>\n",
       "      <td>3.73</td>\n",
       "      <td>4.02</td>\n",
       "      <td>4.29</td>\n",
       "      <td>4.88</td>\n",
       "    </tr>\n",
       "    <tr>\n",
       "      <th>2005-01-06</th>\n",
       "      <td>2.04</td>\n",
       "      <td>2.31</td>\n",
       "      <td>2.63</td>\n",
       "      <td>2.82</td>\n",
       "      <td>3.18</td>\n",
       "      <td>3.71</td>\n",
       "      <td>4.01</td>\n",
       "      <td>4.29</td>\n",
       "      <td>4.89</td>\n",
       "    </tr>\n",
       "    <tr>\n",
       "      <th>2005-01-07</th>\n",
       "      <td>2.03</td>\n",
       "      <td>2.32</td>\n",
       "      <td>2.63</td>\n",
       "      <td>2.82</td>\n",
       "      <td>3.20</td>\n",
       "      <td>3.73</td>\n",
       "      <td>4.03</td>\n",
       "      <td>4.29</td>\n",
       "      <td>4.88</td>\n",
       "    </tr>\n",
       "    <tr>\n",
       "      <th>2005-01-10</th>\n",
       "      <td>2.07</td>\n",
       "      <td>2.36</td>\n",
       "      <td>2.67</td>\n",
       "      <td>2.86</td>\n",
       "      <td>3.23</td>\n",
       "      <td>3.75</td>\n",
       "      <td>4.03</td>\n",
       "      <td>4.29</td>\n",
       "      <td>4.86</td>\n",
       "    </tr>\n",
       "  </tbody>\n",
       "</table>\n",
       "</div>"
      ],
      "text/plain": [
       "            DGS1MO  DGS3MO  DGS6MO  DGS1  DGS2  DGS5  DGS7  DGS10  DGS30\n",
       "DATE                                                                    \n",
       "2005-01-03    1.99    2.32    2.63  2.79  3.10  3.64  3.94   4.23   4.85\n",
       "2005-01-04    2.05    2.33    2.63  2.82  3.20  3.72  4.02   4.29   4.91\n",
       "2005-01-05    2.04    2.33    2.63  2.83  3.22  3.73  4.02   4.29   4.88\n",
       "2005-01-06    2.04    2.31    2.63  2.82  3.18  3.71  4.01   4.29   4.89\n",
       "2005-01-07    2.03    2.32    2.63  2.82  3.20  3.73  4.03   4.29   4.88\n",
       "2005-01-10    2.07    2.36    2.67  2.86  3.23  3.75  4.03   4.29   4.86"
      ]
     },
     "execution_count": 15,
     "metadata": {
     },
     "output_type": "execute_result"
    }
   ],
   "source": [
    "ts.loc['2005-01-03':'2005-01-10']"
   ]
  },
  {
   "cell_type": "markdown",
   "metadata": {
    "collapsed": false
   },
   "source": [
    "There are two important things to notice about index slicing here (*slicing* is another term for getting a subset of data).\n",
    "\n",
    "First, the slice ends *at* the endpoint, not just before it.  *This breaks from normal Python convention.*  For instance, `range(0:10)` will give you the numbers 0 through 9, not the numbers 0 through 10.  When slicing by index, the last row label you include is the last row you get.  As another example:"
   ]
  },
  {
   "cell_type": "code",
   "execution_count": 16,
   "metadata": {
    "collapsed": false
   },
   "outputs": [
    {
     "data": {
      "text/html": [
       "<div>\n",
       "<style scoped>\n",
       "    .dataframe tbody tr th:only-of-type {\n",
       "        vertical-align: middle;\n",
       "    }\n",
       "\n",
       "    .dataframe tbody tr th {\n",
       "        vertical-align: top;\n",
       "    }\n",
       "\n",
       "    .dataframe thead th {\n",
       "        text-align: right;\n",
       "    }\n",
       "</style>\n",
       "<table border=\"1\" class=\"dataframe\">\n",
       "  <thead>\n",
       "    <tr style=\"text-align: right;\">\n",
       "      <th></th>\n",
       "      <th>x</th>\n",
       "    </tr>\n",
       "  </thead>\n",
       "  <tbody>\n",
       "    <tr>\n",
       "      <th>1</th>\n",
       "      <td>0.400157</td>\n",
       "    </tr>\n",
       "    <tr>\n",
       "      <th>2</th>\n",
       "      <td>0.978738</td>\n",
       "    </tr>\n",
       "  </tbody>\n",
       "</table>\n",
       "</div>"
      ],
      "text/plain": [
       "          x\n",
       "1  0.400157\n",
       "2  0.978738"
      ]
     },
     "execution_count": 16,
     "metadata": {
     },
     "output_type": "execute_result"
    }
   ],
   "source": [
    "df.loc[1:2]"
   ]
  },
  {
   "cell_type": "markdown",
   "metadata": {
    "collapsed": false
   },
   "source": [
    "Second, the data exists for Jan. 3-7 and Jan. 10, but not for Jan. 8-9.  Why?  Because Jan. 8-9 was a weekend.\n",
    "\n",
    "We can shift date indexes around quite easily via `.shift()`.  This will come in handy in many applications."
   ]
  },
  {
   "cell_type": "code",
   "execution_count": 17,
   "metadata": {
    "collapsed": false
   },
   "outputs": [
    {
     "data": {
      "text/html": [
       "<div>\n",
       "<style scoped>\n",
       "    .dataframe tbody tr th:only-of-type {\n",
       "        vertical-align: middle;\n",
       "    }\n",
       "\n",
       "    .dataframe tbody tr th {\n",
       "        vertical-align: top;\n",
       "    }\n",
       "\n",
       "    .dataframe thead th {\n",
       "        text-align: right;\n",
       "    }\n",
       "</style>\n",
       "<table border=\"1\" class=\"dataframe\">\n",
       "  <thead>\n",
       "    <tr style=\"text-align: right;\">\n",
       "      <th></th>\n",
       "      <th>DGS1MO</th>\n",
       "      <th>DGS3MO</th>\n",
       "      <th>DGS6MO</th>\n",
       "      <th>DGS1</th>\n",
       "      <th>DGS2</th>\n",
       "      <th>DGS5</th>\n",
       "      <th>DGS7</th>\n",
       "      <th>DGS10</th>\n",
       "      <th>DGS30</th>\n",
       "    </tr>\n",
       "    <tr>\n",
       "      <th>DATE</th>\n",
       "      <th></th>\n",
       "      <th></th>\n",
       "      <th></th>\n",
       "      <th></th>\n",
       "      <th></th>\n",
       "      <th></th>\n",
       "      <th></th>\n",
       "      <th></th>\n",
       "      <th></th>\n",
       "    </tr>\n",
       "  </thead>\n",
       "  <tbody>\n",
       "    <tr>\n",
       "      <th>2005-01-03</th>\n",
       "      <td>1.99</td>\n",
       "      <td>2.32</td>\n",
       "      <td>2.63</td>\n",
       "      <td>2.79</td>\n",
       "      <td>3.10</td>\n",
       "      <td>3.64</td>\n",
       "      <td>3.94</td>\n",
       "      <td>4.23</td>\n",
       "      <td>4.85</td>\n",
       "    </tr>\n",
       "    <tr>\n",
       "      <th>2005-01-04</th>\n",
       "      <td>2.05</td>\n",
       "      <td>2.33</td>\n",
       "      <td>2.63</td>\n",
       "      <td>2.82</td>\n",
       "      <td>3.20</td>\n",
       "      <td>3.72</td>\n",
       "      <td>4.02</td>\n",
       "      <td>4.29</td>\n",
       "      <td>4.91</td>\n",
       "    </tr>\n",
       "    <tr>\n",
       "      <th>2005-01-05</th>\n",
       "      <td>2.04</td>\n",
       "      <td>2.33</td>\n",
       "      <td>2.63</td>\n",
       "      <td>2.83</td>\n",
       "      <td>3.22</td>\n",
       "      <td>3.73</td>\n",
       "      <td>4.02</td>\n",
       "      <td>4.29</td>\n",
       "      <td>4.88</td>\n",
       "    </tr>\n",
       "    <tr>\n",
       "      <th>2005-01-06</th>\n",
       "      <td>2.04</td>\n",
       "      <td>2.31</td>\n",
       "      <td>2.63</td>\n",
       "      <td>2.82</td>\n",
       "      <td>3.18</td>\n",
       "      <td>3.71</td>\n",
       "      <td>4.01</td>\n",
       "      <td>4.29</td>\n",
       "      <td>4.89</td>\n",
       "    </tr>\n",
       "    <tr>\n",
       "      <th>2005-01-07</th>\n",
       "      <td>2.03</td>\n",
       "      <td>2.32</td>\n",
       "      <td>2.63</td>\n",
       "      <td>2.82</td>\n",
       "      <td>3.20</td>\n",
       "      <td>3.73</td>\n",
       "      <td>4.03</td>\n",
       "      <td>4.29</td>\n",
       "      <td>4.88</td>\n",
       "    </tr>\n",
       "    <tr>\n",
       "      <th>2005-01-10</th>\n",
       "      <td>2.07</td>\n",
       "      <td>2.36</td>\n",
       "      <td>2.67</td>\n",
       "      <td>2.86</td>\n",
       "      <td>3.23</td>\n",
       "      <td>3.75</td>\n",
       "      <td>4.03</td>\n",
       "      <td>4.29</td>\n",
       "      <td>4.86</td>\n",
       "    </tr>\n",
       "  </tbody>\n",
       "</table>\n",
       "</div>"
      ],
      "text/plain": [
       "            DGS1MO  DGS3MO  DGS6MO  DGS1  DGS2  DGS5  DGS7  DGS10  DGS30\n",
       "DATE                                                                    \n",
       "2005-01-03    1.99    2.32    2.63  2.79  3.10  3.64  3.94   4.23   4.85\n",
       "2005-01-04    2.05    2.33    2.63  2.82  3.20  3.72  4.02   4.29   4.91\n",
       "2005-01-05    2.04    2.33    2.63  2.83  3.22  3.73  4.02   4.29   4.88\n",
       "2005-01-06    2.04    2.31    2.63  2.82  3.18  3.71  4.01   4.29   4.89\n",
       "2005-01-07    2.03    2.32    2.63  2.82  3.20  3.73  4.03   4.29   4.88\n",
       "2005-01-10    2.07    2.36    2.67  2.86  3.23  3.75  4.03   4.29   4.86"
      ]
     },
     "execution_count": 17,
     "metadata": {
     },
     "output_type": "execute_result"
    }
   ],
   "source": [
    "ts.head(6)"
   ]
  },
  {
   "cell_type": "code",
   "execution_count": 18,
   "metadata": {
    "collapsed": false
   },
   "outputs": [
    {
     "data": {
      "text/html": [
       "<div>\n",
       "<style scoped>\n",
       "    .dataframe tbody tr th:only-of-type {\n",
       "        vertical-align: middle;\n",
       "    }\n",
       "\n",
       "    .dataframe tbody tr th {\n",
       "        vertical-align: top;\n",
       "    }\n",
       "\n",
       "    .dataframe thead th {\n",
       "        text-align: right;\n",
       "    }\n",
       "</style>\n",
       "<table border=\"1\" class=\"dataframe\">\n",
       "  <thead>\n",
       "    <tr style=\"text-align: right;\">\n",
       "      <th></th>\n",
       "      <th>DGS1MO</th>\n",
       "      <th>DGS3MO</th>\n",
       "      <th>DGS6MO</th>\n",
       "      <th>DGS1</th>\n",
       "      <th>DGS2</th>\n",
       "      <th>DGS5</th>\n",
       "      <th>DGS7</th>\n",
       "      <th>DGS10</th>\n",
       "      <th>DGS30</th>\n",
       "    </tr>\n",
       "    <tr>\n",
       "      <th>DATE</th>\n",
       "      <th></th>\n",
       "      <th></th>\n",
       "      <th></th>\n",
       "      <th></th>\n",
       "      <th></th>\n",
       "      <th></th>\n",
       "      <th></th>\n",
       "      <th></th>\n",
       "      <th></th>\n",
       "    </tr>\n",
       "  </thead>\n",
       "  <tbody>\n",
       "    <tr>\n",
       "      <th>2005-01-03</th>\n",
       "      <td>NaN</td>\n",
       "      <td>NaN</td>\n",
       "      <td>NaN</td>\n",
       "      <td>NaN</td>\n",
       "      <td>NaN</td>\n",
       "      <td>NaN</td>\n",
       "      <td>NaN</td>\n",
       "      <td>NaN</td>\n",
       "      <td>NaN</td>\n",
       "    </tr>\n",
       "    <tr>\n",
       "      <th>2005-01-04</th>\n",
       "      <td>1.99</td>\n",
       "      <td>2.32</td>\n",
       "      <td>2.63</td>\n",
       "      <td>2.79</td>\n",
       "      <td>3.10</td>\n",
       "      <td>3.64</td>\n",
       "      <td>3.94</td>\n",
       "      <td>4.23</td>\n",
       "      <td>4.85</td>\n",
       "    </tr>\n",
       "    <tr>\n",
       "      <th>2005-01-05</th>\n",
       "      <td>2.05</td>\n",
       "      <td>2.33</td>\n",
       "      <td>2.63</td>\n",
       "      <td>2.82</td>\n",
       "      <td>3.20</td>\n",
       "      <td>3.72</td>\n",
       "      <td>4.02</td>\n",
       "      <td>4.29</td>\n",
       "      <td>4.91</td>\n",
       "    </tr>\n",
       "    <tr>\n",
       "      <th>2005-01-06</th>\n",
       "      <td>2.04</td>\n",
       "      <td>2.33</td>\n",
       "      <td>2.63</td>\n",
       "      <td>2.83</td>\n",
       "      <td>3.22</td>\n",
       "      <td>3.73</td>\n",
       "      <td>4.02</td>\n",
       "      <td>4.29</td>\n",
       "      <td>4.88</td>\n",
       "    </tr>\n",
       "    <tr>\n",
       "      <th>2005-01-07</th>\n",
       "      <td>2.04</td>\n",
       "      <td>2.31</td>\n",
       "      <td>2.63</td>\n",
       "      <td>2.82</td>\n",
       "      <td>3.18</td>\n",
       "      <td>3.71</td>\n",
       "      <td>4.01</td>\n",
       "      <td>4.29</td>\n",
       "      <td>4.89</td>\n",
       "    </tr>\n",
       "    <tr>\n",
       "      <th>2005-01-10</th>\n",
       "      <td>2.03</td>\n",
       "      <td>2.32</td>\n",
       "      <td>2.63</td>\n",
       "      <td>2.82</td>\n",
       "      <td>3.20</td>\n",
       "      <td>3.73</td>\n",
       "      <td>4.03</td>\n",
       "      <td>4.29</td>\n",
       "      <td>4.88</td>\n",
       "    </tr>\n",
       "  </tbody>\n",
       "</table>\n",
       "</div>"
      ],
      "text/plain": [
       "            DGS1MO  DGS3MO  DGS6MO  DGS1  DGS2  DGS5  DGS7  DGS10  DGS30\n",
       "DATE                                                                    \n",
       "2005-01-03     NaN     NaN     NaN   NaN   NaN   NaN   NaN    NaN    NaN\n",
       "2005-01-04    1.99    2.32    2.63  2.79  3.10  3.64  3.94   4.23   4.85\n",
       "2005-01-05    2.05    2.33    2.63  2.82  3.20  3.72  4.02   4.29   4.91\n",
       "2005-01-06    2.04    2.33    2.63  2.83  3.22  3.73  4.02   4.29   4.88\n",
       "2005-01-07    2.04    2.31    2.63  2.82  3.18  3.71  4.01   4.29   4.89\n",
       "2005-01-10    2.03    2.32    2.63  2.82  3.20  3.73  4.03   4.29   4.88"
      ]
     },
     "execution_count": 18,
     "metadata": {
     },
     "output_type": "execute_result"
    }
   ],
   "source": [
    "ts.shift(1).head(6)"
   ]
  },
  {
   "cell_type": "markdown",
   "metadata": {
    "collapsed": false
   },
   "source": [
    "Note that the shifting moves data based on the dates included in the dataset.  For instance, the interest rates on Friday, if we shift the data forward by one day, are moved to Monday and not to Saturday.\n",
    "\n",
    "Shifting is incredibly useful for calculating things like growth rates."
   ]
  },
  {
   "cell_type": "code",
   "execution_count": 19,
   "metadata": {
    "collapsed": false
   },
   "outputs": [
    {
     "data": {
      "text/html": [
       "<div>\n",
       "<style scoped>\n",
       "    .dataframe tbody tr th:only-of-type {\n",
       "        vertical-align: middle;\n",
       "    }\n",
       "\n",
       "    .dataframe tbody tr th {\n",
       "        vertical-align: top;\n",
       "    }\n",
       "\n",
       "    .dataframe thead th {\n",
       "        text-align: right;\n",
       "    }\n",
       "</style>\n",
       "<table border=\"1\" class=\"dataframe\">\n",
       "  <thead>\n",
       "    <tr style=\"text-align: right;\">\n",
       "      <th></th>\n",
       "      <th>DGS1MO</th>\n",
       "      <th>DGS3MO</th>\n",
       "      <th>DGS6MO</th>\n",
       "      <th>DGS1</th>\n",
       "      <th>DGS2</th>\n",
       "      <th>DGS5</th>\n",
       "      <th>DGS7</th>\n",
       "      <th>DGS10</th>\n",
       "      <th>DGS30</th>\n",
       "      <th>DGS30 growth</th>\n",
       "    </tr>\n",
       "    <tr>\n",
       "      <th>DATE</th>\n",
       "      <th></th>\n",
       "      <th></th>\n",
       "      <th></th>\n",
       "      <th></th>\n",
       "      <th></th>\n",
       "      <th></th>\n",
       "      <th></th>\n",
       "      <th></th>\n",
       "      <th></th>\n",
       "      <th></th>\n",
       "    </tr>\n",
       "  </thead>\n",
       "  <tbody>\n",
       "    <tr>\n",
       "      <th>2005-01-03</th>\n",
       "      <td>1.99</td>\n",
       "      <td>2.32</td>\n",
       "      <td>2.63</td>\n",
       "      <td>2.79</td>\n",
       "      <td>3.10</td>\n",
       "      <td>3.64</td>\n",
       "      <td>3.94</td>\n",
       "      <td>4.23</td>\n",
       "      <td>4.85</td>\n",
       "      <td>NaN</td>\n",
       "    </tr>\n",
       "    <tr>\n",
       "      <th>2005-01-04</th>\n",
       "      <td>2.05</td>\n",
       "      <td>2.33</td>\n",
       "      <td>2.63</td>\n",
       "      <td>2.82</td>\n",
       "      <td>3.20</td>\n",
       "      <td>3.72</td>\n",
       "      <td>4.02</td>\n",
       "      <td>4.29</td>\n",
       "      <td>4.91</td>\n",
       "      <td>0.012371</td>\n",
       "    </tr>\n",
       "    <tr>\n",
       "      <th>2005-01-05</th>\n",
       "      <td>2.04</td>\n",
       "      <td>2.33</td>\n",
       "      <td>2.63</td>\n",
       "      <td>2.83</td>\n",
       "      <td>3.22</td>\n",
       "      <td>3.73</td>\n",
       "      <td>4.02</td>\n",
       "      <td>4.29</td>\n",
       "      <td>4.88</td>\n",
       "      <td>-0.006110</td>\n",
       "    </tr>\n",
       "    <tr>\n",
       "      <th>2005-01-06</th>\n",
       "      <td>2.04</td>\n",
       "      <td>2.31</td>\n",
       "      <td>2.63</td>\n",
       "      <td>2.82</td>\n",
       "      <td>3.18</td>\n",
       "      <td>3.71</td>\n",
       "      <td>4.01</td>\n",
       "      <td>4.29</td>\n",
       "      <td>4.89</td>\n",
       "      <td>0.002049</td>\n",
       "    </tr>\n",
       "    <tr>\n",
       "      <th>2005-01-07</th>\n",
       "      <td>2.03</td>\n",
       "      <td>2.32</td>\n",
       "      <td>2.63</td>\n",
       "      <td>2.82</td>\n",
       "      <td>3.20</td>\n",
       "      <td>3.73</td>\n",
       "      <td>4.03</td>\n",
       "      <td>4.29</td>\n",
       "      <td>4.88</td>\n",
       "      <td>-0.002045</td>\n",
       "    </tr>\n",
       "  </tbody>\n",
       "</table>\n",
       "</div>"
      ],
      "text/plain": [
       "            DGS1MO  DGS3MO  DGS6MO  DGS1  DGS2  DGS5  DGS7  DGS10  DGS30  \\\n",
       "DATE                                                                       \n",
       "2005-01-03    1.99    2.32    2.63  2.79  3.10  3.64  3.94   4.23   4.85   \n",
       "2005-01-04    2.05    2.33    2.63  2.82  3.20  3.72  4.02   4.29   4.91   \n",
       "2005-01-05    2.04    2.33    2.63  2.83  3.22  3.73  4.02   4.29   4.88   \n",
       "2005-01-06    2.04    2.31    2.63  2.82  3.18  3.71  4.01   4.29   4.89   \n",
       "2005-01-07    2.03    2.32    2.63  2.82  3.20  3.73  4.03   4.29   4.88   \n",
       "\n",
       "            DGS30 growth  \n",
       "DATE                      \n",
       "2005-01-03           NaN  \n",
       "2005-01-04      0.012371  \n",
       "2005-01-05     -0.006110  \n",
       "2005-01-06      0.002049  \n",
       "2005-01-07     -0.002045  "
      ]
     },
     "execution_count": 19,
     "metadata": {
     },
     "output_type": "execute_result"
    }
   ],
   "source": [
    "ts['DGS30 growth'] = ts['DGS30'] / ts['DGS30'].shift(1) - 1\n",
    "ts.head()"
   ]
  },
  {
   "cell_type": "markdown",
   "metadata": {
    "collapsed": false
   },
   "source": [
    "Beyond useful slicing and shifting tricks, using indexed data like this (i.e. data where the rows have an explicit label and not simply the default row label equals row number format) is great for plotting."
   ]
  },
  {
   "cell_type": "code",
   "execution_count": 20,
   "metadata": {
    "collapsed": false
   },
   "outputs": [
    {
     "data": {
      "text/plain": [
       "<AxesSubplot:xlabel='DATE'>"
      ]
     },
     "execution_count": 20,
     "metadata": {
     },
     "output_type": "execute_result"
    },
    {
     "data": {
      "image/png": "[encoded data removed]",
      "text/plain": [
       "<Figure size 864x504 with 1 Axes>"
      ]
     },
     "execution_count": 20,
     "metadata": {
      "image/png": {
       "height": 426,
       "width": 706
      },
      "needs_background": "light"
     },
     "output_type": "execute_result"
    }
   ],
   "source": [
    "ts['DGS30'].plot()"
   ]
  },
  {
   "cell_type": "markdown",
   "metadata": {
    "collapsed": false
   },
   "source": [
    "Look at the x-axis!  It's automatically labeled for us.  Thanks, Python.\n",
    "\n",
    "Let's now plot the Treasury yield curve for '2016-06-07'.  Recall that we can access the data like so:"
   ]
  },
  {
   "cell_type": "code",
   "execution_count": 23,
   "metadata": {
    "collapsed": false
   },
   "outputs": [
    {
     "data": {
      "text/plain": [
       "DGS1MO    0.20\n",
       "DGS3MO    0.28\n",
       "DGS6MO    0.43\n",
       "DGS1      0.59\n",
       "DGS2      0.78\n",
       "DGS5      1.23\n",
       "DGS7      1.51\n",
       "DGS10     1.72\n",
       "DGS30     2.54\n",
       "Name: 2016-06-07 00:00:00, dtype: float64"
      ]
     },
     "execution_count": 23,
     "metadata": {
     },
     "output_type": "execute_result"
    }
   ],
   "source": [
    "ts.loc['2016-06-07', data_list]"
   ]
  },
  {
   "cell_type": "markdown",
   "metadata": {
    "collapsed": false
   },
   "source": [
    "The maturity times for these securities are:"
   ]
  },
  {
   "cell_type": "code",
   "execution_count": 22,
   "metadata": {
    "collapsed": false
   },
   "outputs": [
   ],
   "source": [
    "mat = [1, 3, 6, 12, 24, 60, 84, 120, 360]"
   ]
  },
  {
   "cell_type": "markdown",
   "metadata": {
    "collapsed": false
   },
   "source": [
    "We can then plot the yield curve using `seaborn`."
   ]
  },
  {
   "cell_type": "code",
   "execution_count": 24,
   "metadata": {
    "collapsed": false
   },
   "outputs": [
    {
     "data": {
      "text/plain": [
       "<AxesSubplot:ylabel='2016-06-07 00:00:00'>"
      ]
     },
     "execution_count": 24,
     "metadata": {
     },
     "output_type": "execute_result"
    },
    {
     "data": {
      "image/png": "[encoded data removed]",
      "text/plain": [
       "<Figure size 864x504 with 1 Axes>"
      ]
     },
     "execution_count": 24,
     "metadata": {
      "image/png": {
       "height": 411,
       "width": 720
      },
      "needs_background": "light"
     },
     "output_type": "execute_result"
    }
   ],
   "source": [
    "import seaborn as sns\n",
    "sns.lineplot(x=mat, y=ts.loc['2016-06-07', data_list])"
   ]
  },
  {
   "cell_type": "markdown",
   "metadata": {
    "collapsed": false
   },
   "source": [
    "The yield curve does not always have this shape to it, though what's shown above is the \"standard\" appearance.  Typically, the yield curve is upward-sloping and somewhat curvy.\n",
    "\n",
    "In contrast, the yield curve may sometimes invert.  That is, it will have places in the curve that are downward-sloping."
   ]
  },
  {
   "cell_type": "code",
   "execution_count": 25,
   "metadata": {
    "collapsed": false
   },
   "outputs": [
    {
     "data": {
      "text/plain": [
       "<AxesSubplot:ylabel='2007-01-02 00:00:00'>"
      ]
     },
     "execution_count": 25,
     "metadata": {
     },
     "output_type": "execute_result"
    },
    {
     "data": {
      "image/png": "[encoded data removed]",
      "text/plain": [
       "<Figure size 864x504 with 1 Axes>"
      ]
     },
     "execution_count": 25,
     "metadata": {
      "image/png": {
       "height": 411,
       "width": 720
      },
      "needs_background": "light"
     },
     "output_type": "execute_result"
    }
   ],
   "source": [
    "sns.lineplot(x=mat, y=ts.loc['2007-01-02', data_list])"
   ]
  },
  {
   "cell_type": "markdown",
   "metadata": {
    "collapsed": false
   },
   "source": [
    "The usual place where we look for this is in the 10-year Treasury minus the 2-year Treasury."
   ]
  },
  {
   "cell_type": "code",
   "execution_count": 27,
   "metadata": {
    "collapsed": false
   },
   "outputs": [
    {
     "data": {
      "text/plain": [
       "<AxesSubplot:xlabel='DATE'>"
      ]
     },
     "execution_count": 27,
     "metadata": {
     },
     "output_type": "execute_result"
    },
    {
     "data": {
      "image/png": "[encoded data removed]",
      "text/plain": [
       "<Figure size 864x504 with 1 Axes>"
      ]
     },
     "execution_count": 27,
     "metadata": {
      "image/png": {
       "height": 424,
       "width": 706
      },
      "needs_background": "light"
     },
     "output_type": "execute_result"
    }
   ],
   "source": [
    "ts['Slope'] = ts['DGS10'] - ts['DGS2']\n",
    "ts['Slope'].plot()"
   ]
  },
  {
   "cell_type": "markdown",
   "metadata": {
    "collapsed": false
   },
   "source": [
    "When this slope (the difference between the 10 year and 2 year) is negative, we refer to this as a yield curve inversion.\n",
    "\n",
    "These inversion events are reasonably good predictors of recessions.\n",
    "\n",
    "Let's test this idea.  Begin by getting a series of data about when recessions occur from [FRED](https://fred.stlouisfed.org/series/JHDUSRGDPBR)."
   ]
  },
  {
   "cell_type": "code",
   "execution_count": 28,
   "metadata": {
    "collapsed": false
   },
   "outputs": [
    {
     "data": {
      "text/html": [
       "<div>\n",
       "<style scoped>\n",
       "    .dataframe tbody tr th:only-of-type {\n",
       "        vertical-align: middle;\n",
       "    }\n",
       "\n",
       "    .dataframe tbody tr th {\n",
       "        vertical-align: top;\n",
       "    }\n",
       "\n",
       "    .dataframe thead th {\n",
       "        text-align: right;\n",
       "    }\n",
       "</style>\n",
       "<table border=\"1\" class=\"dataframe\">\n",
       "  <thead>\n",
       "    <tr style=\"text-align: right;\">\n",
       "      <th></th>\n",
       "      <th>JHDUSRGDPBR</th>\n",
       "    </tr>\n",
       "    <tr>\n",
       "      <th>DATE</th>\n",
       "      <th></th>\n",
       "    </tr>\n",
       "  </thead>\n",
       "  <tbody>\n",
       "    <tr>\n",
       "      <th>2005-01-01</th>\n",
       "      <td>0.0</td>\n",
       "    </tr>\n",
       "    <tr>\n",
       "      <th>2005-04-01</th>\n",
       "      <td>0.0</td>\n",
       "    </tr>\n",
       "    <tr>\n",
       "      <th>2005-07-01</th>\n",
       "      <td>0.0</td>\n",
       "    </tr>\n",
       "    <tr>\n",
       "      <th>2005-10-01</th>\n",
       "      <td>0.0</td>\n",
       "    </tr>\n",
       "    <tr>\n",
       "      <th>2006-01-01</th>\n",
       "      <td>0.0</td>\n",
       "    </tr>\n",
       "  </tbody>\n",
       "</table>\n",
       "</div>"
      ],
      "text/plain": [
       "            JHDUSRGDPBR\n",
       "DATE                   \n",
       "2005-01-01          0.0\n",
       "2005-04-01          0.0\n",
       "2005-07-01          0.0\n",
       "2005-10-01          0.0\n",
       "2006-01-01          0.0"
      ]
     },
     "execution_count": 28,
     "metadata": {
     },
     "output_type": "execute_result"
    }
   ],
   "source": [
    "recession = web.DataReader('JHDUSRGDPBR', 'fred', start, end)\n",
    "recession.head()"
   ]
  },
  {
   "cell_type": "markdown",
   "metadata": {
    "collapsed": false
   },
   "source": [
    "The data series `'JHDUSRGDPBR'` is a list of recessions.  The value will be 1 when there is a recession and 0 when there is not a recession.\n",
    "\n",
    "Let's now merge the recession data.  Note that the recession data is observed once per quarter.  We should convert all data to a quarterly frequency before preceeding."
   ]
  },
  {
   "cell_type": "code",
   "execution_count": 29,
   "metadata": {
    "collapsed": false
   },
   "outputs": [
    {
     "data": {
      "text/html": [
       "<div>\n",
       "<style scoped>\n",
       "    .dataframe tbody tr th:only-of-type {\n",
       "        vertical-align: middle;\n",
       "    }\n",
       "\n",
       "    .dataframe tbody tr th {\n",
       "        vertical-align: top;\n",
       "    }\n",
       "\n",
       "    .dataframe thead th {\n",
       "        text-align: right;\n",
       "    }\n",
       "</style>\n",
       "<table border=\"1\" class=\"dataframe\">\n",
       "  <thead>\n",
       "    <tr style=\"text-align: right;\">\n",
       "      <th></th>\n",
       "      <th>DGS1MO</th>\n",
       "      <th>DGS3MO</th>\n",
       "      <th>DGS6MO</th>\n",
       "      <th>DGS1</th>\n",
       "      <th>DGS2</th>\n",
       "      <th>DGS5</th>\n",
       "      <th>DGS7</th>\n",
       "      <th>DGS10</th>\n",
       "      <th>DGS30</th>\n",
       "      <th>DGS30 growth</th>\n",
       "      <th>Slope</th>\n",
       "    </tr>\n",
       "    <tr>\n",
       "      <th>DATE</th>\n",
       "      <th></th>\n",
       "      <th></th>\n",
       "      <th></th>\n",
       "      <th></th>\n",
       "      <th></th>\n",
       "      <th></th>\n",
       "      <th></th>\n",
       "      <th></th>\n",
       "      <th></th>\n",
       "      <th></th>\n",
       "      <th></th>\n",
       "    </tr>\n",
       "  </thead>\n",
       "  <tbody>\n",
       "    <tr>\n",
       "      <th>2005Q1</th>\n",
       "      <td>1.99</td>\n",
       "      <td>2.32</td>\n",
       "      <td>2.63</td>\n",
       "      <td>2.79</td>\n",
       "      <td>3.10</td>\n",
       "      <td>3.64</td>\n",
       "      <td>3.94</td>\n",
       "      <td>4.23</td>\n",
       "      <td>4.85</td>\n",
       "      <td>NaN</td>\n",
       "      <td>1.13</td>\n",
       "    </tr>\n",
       "    <tr>\n",
       "      <th>2005Q1</th>\n",
       "      <td>2.05</td>\n",
       "      <td>2.33</td>\n",
       "      <td>2.63</td>\n",
       "      <td>2.82</td>\n",
       "      <td>3.20</td>\n",
       "      <td>3.72</td>\n",
       "      <td>4.02</td>\n",
       "      <td>4.29</td>\n",
       "      <td>4.91</td>\n",
       "      <td>0.012371</td>\n",
       "      <td>1.09</td>\n",
       "    </tr>\n",
       "    <tr>\n",
       "      <th>2005Q1</th>\n",
       "      <td>2.04</td>\n",
       "      <td>2.33</td>\n",
       "      <td>2.63</td>\n",
       "      <td>2.83</td>\n",
       "      <td>3.22</td>\n",
       "      <td>3.73</td>\n",
       "      <td>4.02</td>\n",
       "      <td>4.29</td>\n",
       "      <td>4.88</td>\n",
       "      <td>-0.006110</td>\n",
       "      <td>1.07</td>\n",
       "    </tr>\n",
       "    <tr>\n",
       "      <th>2005Q1</th>\n",
       "      <td>2.04</td>\n",
       "      <td>2.31</td>\n",
       "      <td>2.63</td>\n",
       "      <td>2.82</td>\n",
       "      <td>3.18</td>\n",
       "      <td>3.71</td>\n",
       "      <td>4.01</td>\n",
       "      <td>4.29</td>\n",
       "      <td>4.89</td>\n",
       "      <td>0.002049</td>\n",
       "      <td>1.11</td>\n",
       "    </tr>\n",
       "    <tr>\n",
       "      <th>2005Q1</th>\n",
       "      <td>2.03</td>\n",
       "      <td>2.32</td>\n",
       "      <td>2.63</td>\n",
       "      <td>2.82</td>\n",
       "      <td>3.20</td>\n",
       "      <td>3.73</td>\n",
       "      <td>4.03</td>\n",
       "      <td>4.29</td>\n",
       "      <td>4.88</td>\n",
       "      <td>-0.002045</td>\n",
       "      <td>1.09</td>\n",
       "    </tr>\n",
       "  </tbody>\n",
       "</table>\n",
       "</div>"
      ],
      "text/plain": [
       "        DGS1MO  DGS3MO  DGS6MO  DGS1  DGS2  DGS5  DGS7  DGS10  DGS30  \\\n",
       "DATE                                                                   \n",
       "2005Q1    1.99    2.32    2.63  2.79  3.10  3.64  3.94   4.23   4.85   \n",
       "2005Q1    2.05    2.33    2.63  2.82  3.20  3.72  4.02   4.29   4.91   \n",
       "2005Q1    2.04    2.33    2.63  2.83  3.22  3.73  4.02   4.29   4.88   \n",
       "2005Q1    2.04    2.31    2.63  2.82  3.18  3.71  4.01   4.29   4.89   \n",
       "2005Q1    2.03    2.32    2.63  2.82  3.20  3.73  4.03   4.29   4.88   \n",
       "\n",
       "        DGS30 growth  Slope  \n",
       "DATE                         \n",
       "2005Q1           NaN   1.13  \n",
       "2005Q1      0.012371   1.09  \n",
       "2005Q1     -0.006110   1.07  \n",
       "2005Q1      0.002049   1.11  \n",
       "2005Q1     -0.002045   1.09  "
      ]
     },
     "execution_count": 29,
     "metadata": {
     },
     "output_type": "execute_result"
    }
   ],
   "source": [
    "tsq = ts.to_period('Q')\n",
    "tsq.head()"
   ]
  },
  {
   "cell_type": "code",
   "execution_count": 30,
   "metadata": {
    "collapsed": false
   },
   "outputs": [
    {
     "data": {
      "text/html": [
       "<div>\n",
       "<style scoped>\n",
       "    .dataframe tbody tr th:only-of-type {\n",
       "        vertical-align: middle;\n",
       "    }\n",
       "\n",
       "    .dataframe tbody tr th {\n",
       "        vertical-align: top;\n",
       "    }\n",
       "\n",
       "    .dataframe thead th {\n",
       "        text-align: right;\n",
       "    }\n",
       "</style>\n",
       "<table border=\"1\" class=\"dataframe\">\n",
       "  <thead>\n",
       "    <tr style=\"text-align: right;\">\n",
       "      <th></th>\n",
       "      <th>JHDUSRGDPBR</th>\n",
       "    </tr>\n",
       "    <tr>\n",
       "      <th>DATE</th>\n",
       "      <th></th>\n",
       "    </tr>\n",
       "  </thead>\n",
       "  <tbody>\n",
       "    <tr>\n",
       "      <th>2005Q1</th>\n",
       "      <td>0.0</td>\n",
       "    </tr>\n",
       "    <tr>\n",
       "      <th>2005Q2</th>\n",
       "      <td>0.0</td>\n",
       "    </tr>\n",
       "    <tr>\n",
       "      <th>2005Q3</th>\n",
       "      <td>0.0</td>\n",
       "    </tr>\n",
       "    <tr>\n",
       "      <th>2005Q4</th>\n",
       "      <td>0.0</td>\n",
       "    </tr>\n",
       "    <tr>\n",
       "      <th>2006Q1</th>\n",
       "      <td>0.0</td>\n",
       "    </tr>\n",
       "  </tbody>\n",
       "</table>\n",
       "</div>"
      ],
      "text/plain": [
       "        JHDUSRGDPBR\n",
       "DATE               \n",
       "2005Q1          0.0\n",
       "2005Q2          0.0\n",
       "2005Q3          0.0\n",
       "2005Q4          0.0\n",
       "2006Q1          0.0"
      ]
     },
     "execution_count": 30,
     "metadata": {
     },
     "output_type": "execute_result"
    }
   ],
   "source": [
    "recession = recession.to_period('Q')\n",
    "recession.head()"
   ]
  },
  {
   "cell_type": "markdown",
   "metadata": {
    "collapsed": false
   },
   "source": [
    "Note that the term structure data has multiple observations for a given quarter.  Suppose that we only want to use the first observation.  That is, at the start of a quarter, what does the term structure look like?  We can remove duplicate index values to get rid of the observations that do not correspond to the first observation for each quarter using `.duplicated()`."
   ]
  },
  {
   "cell_type": "code",
   "execution_count": 31,
   "metadata": {
    "collapsed": false
   },
   "outputs": [
    {
     "data": {
      "text/html": [
       "<div>\n",
       "<style scoped>\n",
       "    .dataframe tbody tr th:only-of-type {\n",
       "        vertical-align: middle;\n",
       "    }\n",
       "\n",
       "    .dataframe tbody tr th {\n",
       "        vertical-align: top;\n",
       "    }\n",
       "\n",
       "    .dataframe thead th {\n",
       "        text-align: right;\n",
       "    }\n",
       "</style>\n",
       "<table border=\"1\" class=\"dataframe\">\n",
       "  <thead>\n",
       "    <tr style=\"text-align: right;\">\n",
       "      <th></th>\n",
       "      <th>DGS1MO</th>\n",
       "      <th>DGS3MO</th>\n",
       "      <th>DGS6MO</th>\n",
       "      <th>DGS1</th>\n",
       "      <th>DGS2</th>\n",
       "      <th>DGS5</th>\n",
       "      <th>DGS7</th>\n",
       "      <th>DGS10</th>\n",
       "      <th>DGS30</th>\n",
       "      <th>DGS30 growth</th>\n",
       "      <th>Slope</th>\n",
       "    </tr>\n",
       "    <tr>\n",
       "      <th>DATE</th>\n",
       "      <th></th>\n",
       "      <th></th>\n",
       "      <th></th>\n",
       "      <th></th>\n",
       "      <th></th>\n",
       "      <th></th>\n",
       "      <th></th>\n",
       "      <th></th>\n",
       "      <th></th>\n",
       "      <th></th>\n",
       "      <th></th>\n",
       "    </tr>\n",
       "  </thead>\n",
       "  <tbody>\n",
       "    <tr>\n",
       "      <th>2005Q1</th>\n",
       "      <td>1.99</td>\n",
       "      <td>2.32</td>\n",
       "      <td>2.63</td>\n",
       "      <td>2.79</td>\n",
       "      <td>3.10</td>\n",
       "      <td>3.64</td>\n",
       "      <td>3.94</td>\n",
       "      <td>4.23</td>\n",
       "      <td>4.85</td>\n",
       "      <td>NaN</td>\n",
       "      <td>1.13</td>\n",
       "    </tr>\n",
       "    <tr>\n",
       "      <th>2005Q2</th>\n",
       "      <td>2.66</td>\n",
       "      <td>2.80</td>\n",
       "      <td>3.13</td>\n",
       "      <td>3.34</td>\n",
       "      <td>3.75</td>\n",
       "      <td>4.13</td>\n",
       "      <td>4.29</td>\n",
       "      <td>4.46</td>\n",
       "      <td>4.72</td>\n",
       "      <td>-0.008403</td>\n",
       "      <td>0.71</td>\n",
       "    </tr>\n",
       "    <tr>\n",
       "      <th>2005Q3</th>\n",
       "      <td>3.02</td>\n",
       "      <td>3.17</td>\n",
       "      <td>3.38</td>\n",
       "      <td>3.51</td>\n",
       "      <td>3.76</td>\n",
       "      <td>3.84</td>\n",
       "      <td>3.92</td>\n",
       "      <td>4.06</td>\n",
       "      <td>4.28</td>\n",
       "      <td>0.021480</td>\n",
       "      <td>0.30</td>\n",
       "    </tr>\n",
       "    <tr>\n",
       "      <th>2005Q4</th>\n",
       "      <td>3.22</td>\n",
       "      <td>3.61</td>\n",
       "      <td>4.02</td>\n",
       "      <td>4.09</td>\n",
       "      <td>4.21</td>\n",
       "      <td>4.25</td>\n",
       "      <td>4.31</td>\n",
       "      <td>4.39</td>\n",
       "      <td>4.58</td>\n",
       "      <td>0.011038</td>\n",
       "      <td>0.18</td>\n",
       "    </tr>\n",
       "    <tr>\n",
       "      <th>2006Q1</th>\n",
       "      <td>NaN</td>\n",
       "      <td>NaN</td>\n",
       "      <td>NaN</td>\n",
       "      <td>NaN</td>\n",
       "      <td>NaN</td>\n",
       "      <td>NaN</td>\n",
       "      <td>NaN</td>\n",
       "      <td>NaN</td>\n",
       "      <td>NaN</td>\n",
       "      <td>NaN</td>\n",
       "      <td>NaN</td>\n",
       "    </tr>\n",
       "  </tbody>\n",
       "</table>\n",
       "</div>"
      ],
      "text/plain": [
       "        DGS1MO  DGS3MO  DGS6MO  DGS1  DGS2  DGS5  DGS7  DGS10  DGS30  \\\n",
       "DATE                                                                   \n",
       "2005Q1    1.99    2.32    2.63  2.79  3.10  3.64  3.94   4.23   4.85   \n",
       "2005Q2    2.66    2.80    3.13  3.34  3.75  4.13  4.29   4.46   4.72   \n",
       "2005Q3    3.02    3.17    3.38  3.51  3.76  3.84  3.92   4.06   4.28   \n",
       "2005Q4    3.22    3.61    4.02  4.09  4.21  4.25  4.31   4.39   4.58   \n",
       "2006Q1     NaN     NaN     NaN   NaN   NaN   NaN   NaN    NaN    NaN   \n",
       "\n",
       "        DGS30 growth  Slope  \n",
       "DATE                         \n",
       "2005Q1           NaN   1.13  \n",
       "2005Q2     -0.008403   0.71  \n",
       "2005Q3      0.021480   0.30  \n",
       "2005Q4      0.011038   0.18  \n",
       "2006Q1           NaN    NaN  "
      ]
     },
     "execution_count": 31,
     "metadata": {
     },
     "output_type": "execute_result"
    }
   ],
   "source": [
    "tsq = tsq[~tsq.index.duplicated(keep='first')]\n",
    "tsq.head()"
   ]
  },
  {
   "cell_type": "markdown",
   "metadata": {
    "collapsed": false
   },
   "source": [
    "The observation at `'2006Q1'` is troubling.  Why is there missing data there?"
   ]
  },
  {
   "cell_type": "code",
   "execution_count": 32,
   "metadata": {
    "collapsed": false
   },
   "outputs": [
    {
     "data": {
      "text/html": [
       "<div>\n",
       "<style scoped>\n",
       "    .dataframe tbody tr th:only-of-type {\n",
       "        vertical-align: middle;\n",
       "    }\n",
       "\n",
       "    .dataframe tbody tr th {\n",
       "        vertical-align: top;\n",
       "    }\n",
       "\n",
       "    .dataframe thead th {\n",
       "        text-align: right;\n",
       "    }\n",
       "</style>\n",
       "<table border=\"1\" class=\"dataframe\">\n",
       "  <thead>\n",
       "    <tr style=\"text-align: right;\">\n",
       "      <th></th>\n",
       "      <th>DGS1MO</th>\n",
       "      <th>DGS3MO</th>\n",
       "      <th>DGS6MO</th>\n",
       "      <th>DGS1</th>\n",
       "      <th>DGS2</th>\n",
       "      <th>DGS5</th>\n",
       "      <th>DGS7</th>\n",
       "      <th>DGS10</th>\n",
       "      <th>DGS30</th>\n",
       "      <th>DGS30 growth</th>\n",
       "      <th>Slope</th>\n",
       "    </tr>\n",
       "    <tr>\n",
       "      <th>DATE</th>\n",
       "      <th></th>\n",
       "      <th></th>\n",
       "      <th></th>\n",
       "      <th></th>\n",
       "      <th></th>\n",
       "      <th></th>\n",
       "      <th></th>\n",
       "      <th></th>\n",
       "      <th></th>\n",
       "      <th></th>\n",
       "      <th></th>\n",
       "    </tr>\n",
       "  </thead>\n",
       "  <tbody>\n",
       "    <tr>\n",
       "      <th>2005-12-29</th>\n",
       "      <td>3.67</td>\n",
       "      <td>4.01</td>\n",
       "      <td>4.34</td>\n",
       "      <td>4.35</td>\n",
       "      <td>4.38</td>\n",
       "      <td>4.33</td>\n",
       "      <td>4.34</td>\n",
       "      <td>4.37</td>\n",
       "      <td>4.49</td>\n",
       "      <td>-0.004435</td>\n",
       "      <td>-0.01</td>\n",
       "    </tr>\n",
       "    <tr>\n",
       "      <th>2005-12-30</th>\n",
       "      <td>4.01</td>\n",
       "      <td>4.08</td>\n",
       "      <td>4.37</td>\n",
       "      <td>4.38</td>\n",
       "      <td>4.41</td>\n",
       "      <td>4.35</td>\n",
       "      <td>4.36</td>\n",
       "      <td>4.39</td>\n",
       "      <td>4.51</td>\n",
       "      <td>0.004454</td>\n",
       "      <td>-0.02</td>\n",
       "    </tr>\n",
       "    <tr>\n",
       "      <th>2006-01-02</th>\n",
       "      <td>NaN</td>\n",
       "      <td>NaN</td>\n",
       "      <td>NaN</td>\n",
       "      <td>NaN</td>\n",
       "      <td>NaN</td>\n",
       "      <td>NaN</td>\n",
       "      <td>NaN</td>\n",
       "      <td>NaN</td>\n",
       "      <td>NaN</td>\n",
       "      <td>NaN</td>\n",
       "      <td>NaN</td>\n",
       "    </tr>\n",
       "    <tr>\n",
       "      <th>2006-01-03</th>\n",
       "      <td>4.05</td>\n",
       "      <td>4.16</td>\n",
       "      <td>4.40</td>\n",
       "      <td>4.38</td>\n",
       "      <td>4.34</td>\n",
       "      <td>4.30</td>\n",
       "      <td>4.32</td>\n",
       "      <td>4.37</td>\n",
       "      <td>4.52</td>\n",
       "      <td>NaN</td>\n",
       "      <td>0.03</td>\n",
       "    </tr>\n",
       "  </tbody>\n",
       "</table>\n",
       "</div>"
      ],
      "text/plain": [
       "            DGS1MO  DGS3MO  DGS6MO  DGS1  DGS2  DGS5  DGS7  DGS10  DGS30  \\\n",
       "DATE                                                                       \n",
       "2005-12-29    3.67    4.01    4.34  4.35  4.38  4.33  4.34   4.37   4.49   \n",
       "2005-12-30    4.01    4.08    4.37  4.38  4.41  4.35  4.36   4.39   4.51   \n",
       "2006-01-02     NaN     NaN     NaN   NaN   NaN   NaN   NaN    NaN    NaN   \n",
       "2006-01-03    4.05    4.16    4.40  4.38  4.34  4.30  4.32   4.37   4.52   \n",
       "\n",
       "            DGS30 growth  Slope  \n",
       "DATE                             \n",
       "2005-12-29     -0.004435  -0.01  \n",
       "2005-12-30      0.004454  -0.02  \n",
       "2006-01-02           NaN    NaN  \n",
       "2006-01-03           NaN   0.03  "
      ]
     },
     "execution_count": 32,
     "metadata": {
     },
     "output_type": "execute_result"
    }
   ],
   "source": [
    "ts.loc['2005-12-29':'2006-01-03']"
   ]
  },
  {
   "cell_type": "markdown",
   "metadata": {
    "collapsed": false
   },
   "source": [
    "It's unclear why the first observation for the first quarter of 2006 is missing, but we don't want to lose that quarter of data simply because one date has missing data.  Let's fill in the data.  The method we'll use to do so is `'ffill'`, which stands for forward fill.  Pandas will take the most recent data (in this case `'2005-12-30'`) and use that to fill in the missing data (at `'2006-01-02'`)."
   ]
  },
  {
   "cell_type": "code",
   "execution_count": 33,
   "metadata": {
    "collapsed": false
   },
   "outputs": [
    {
     "data": {
      "text/html": [
       "<div>\n",
       "<style scoped>\n",
       "    .dataframe tbody tr th:only-of-type {\n",
       "        vertical-align: middle;\n",
       "    }\n",
       "\n",
       "    .dataframe tbody tr th {\n",
       "        vertical-align: top;\n",
       "    }\n",
       "\n",
       "    .dataframe thead th {\n",
       "        text-align: right;\n",
       "    }\n",
       "</style>\n",
       "<table border=\"1\" class=\"dataframe\">\n",
       "  <thead>\n",
       "    <tr style=\"text-align: right;\">\n",
       "      <th></th>\n",
       "      <th>DGS1MO</th>\n",
       "      <th>DGS3MO</th>\n",
       "      <th>DGS6MO</th>\n",
       "      <th>DGS1</th>\n",
       "      <th>DGS2</th>\n",
       "      <th>DGS5</th>\n",
       "      <th>DGS7</th>\n",
       "      <th>DGS10</th>\n",
       "      <th>DGS30</th>\n",
       "      <th>DGS30 growth</th>\n",
       "      <th>Slope</th>\n",
       "    </tr>\n",
       "    <tr>\n",
       "      <th>DATE</th>\n",
       "      <th></th>\n",
       "      <th></th>\n",
       "      <th></th>\n",
       "      <th></th>\n",
       "      <th></th>\n",
       "      <th></th>\n",
       "      <th></th>\n",
       "      <th></th>\n",
       "      <th></th>\n",
       "      <th></th>\n",
       "      <th></th>\n",
       "    </tr>\n",
       "  </thead>\n",
       "  <tbody>\n",
       "    <tr>\n",
       "      <th>2005-12-29</th>\n",
       "      <td>3.67</td>\n",
       "      <td>4.01</td>\n",
       "      <td>4.34</td>\n",
       "      <td>4.35</td>\n",
       "      <td>4.38</td>\n",
       "      <td>4.33</td>\n",
       "      <td>4.34</td>\n",
       "      <td>4.37</td>\n",
       "      <td>4.49</td>\n",
       "      <td>-0.004435</td>\n",
       "      <td>-0.01</td>\n",
       "    </tr>\n",
       "    <tr>\n",
       "      <th>2005-12-30</th>\n",
       "      <td>4.01</td>\n",
       "      <td>4.08</td>\n",
       "      <td>4.37</td>\n",
       "      <td>4.38</td>\n",
       "      <td>4.41</td>\n",
       "      <td>4.35</td>\n",
       "      <td>4.36</td>\n",
       "      <td>4.39</td>\n",
       "      <td>4.51</td>\n",
       "      <td>0.004454</td>\n",
       "      <td>-0.02</td>\n",
       "    </tr>\n",
       "    <tr>\n",
       "      <th>2006-01-02</th>\n",
       "      <td>4.01</td>\n",
       "      <td>4.08</td>\n",
       "      <td>4.37</td>\n",
       "      <td>4.38</td>\n",
       "      <td>4.41</td>\n",
       "      <td>4.35</td>\n",
       "      <td>4.36</td>\n",
       "      <td>4.39</td>\n",
       "      <td>4.51</td>\n",
       "      <td>0.004454</td>\n",
       "      <td>-0.02</td>\n",
       "    </tr>\n",
       "    <tr>\n",
       "      <th>2006-01-03</th>\n",
       "      <td>4.05</td>\n",
       "      <td>4.16</td>\n",
       "      <td>4.40</td>\n",
       "      <td>4.38</td>\n",
       "      <td>4.34</td>\n",
       "      <td>4.30</td>\n",
       "      <td>4.32</td>\n",
       "      <td>4.37</td>\n",
       "      <td>4.52</td>\n",
       "      <td>0.004454</td>\n",
       "      <td>0.03</td>\n",
       "    </tr>\n",
       "  </tbody>\n",
       "</table>\n",
       "</div>"
      ],
      "text/plain": [
       "            DGS1MO  DGS3MO  DGS6MO  DGS1  DGS2  DGS5  DGS7  DGS10  DGS30  \\\n",
       "DATE                                                                       \n",
       "2005-12-29    3.67    4.01    4.34  4.35  4.38  4.33  4.34   4.37   4.49   \n",
       "2005-12-30    4.01    4.08    4.37  4.38  4.41  4.35  4.36   4.39   4.51   \n",
       "2006-01-02    4.01    4.08    4.37  4.38  4.41  4.35  4.36   4.39   4.51   \n",
       "2006-01-03    4.05    4.16    4.40  4.38  4.34  4.30  4.32   4.37   4.52   \n",
       "\n",
       "            DGS30 growth  Slope  \n",
       "DATE                             \n",
       "2005-12-29     -0.004435  -0.01  \n",
       "2005-12-30      0.004454  -0.02  \n",
       "2006-01-02      0.004454  -0.02  \n",
       "2006-01-03      0.004454   0.03  "
      ]
     },
     "execution_count": 33,
     "metadata": {
     },
     "output_type": "execute_result"
    }
   ],
   "source": [
    "ts = ts.fillna(method='ffill')\n",
    "\n",
    "ts.loc['2005-12-29':'2006-01-03']"
   ]
  },
  {
   "cell_type": "markdown",
   "metadata": {
    "collapsed": false
   },
   "source": [
    "With that data problem fixed, we can go back to the quarterly data.  Let's re-make the quarterly information."
   ]
  },
  {
   "cell_type": "code",
   "execution_count": 34,
   "metadata": {
    "collapsed": false
   },
   "outputs": [
    {
     "data": {
      "text/html": [
       "<div>\n",
       "<style scoped>\n",
       "    .dataframe tbody tr th:only-of-type {\n",
       "        vertical-align: middle;\n",
       "    }\n",
       "\n",
       "    .dataframe tbody tr th {\n",
       "        vertical-align: top;\n",
       "    }\n",
       "\n",
       "    .dataframe thead th {\n",
       "        text-align: right;\n",
       "    }\n",
       "</style>\n",
       "<table border=\"1\" class=\"dataframe\">\n",
       "  <thead>\n",
       "    <tr style=\"text-align: right;\">\n",
       "      <th></th>\n",
       "      <th>DGS1MO</th>\n",
       "      <th>DGS3MO</th>\n",
       "      <th>DGS6MO</th>\n",
       "      <th>DGS1</th>\n",
       "      <th>DGS2</th>\n",
       "      <th>DGS5</th>\n",
       "      <th>DGS7</th>\n",
       "      <th>DGS10</th>\n",
       "      <th>DGS30</th>\n",
       "      <th>DGS30 growth</th>\n",
       "      <th>Slope</th>\n",
       "    </tr>\n",
       "    <tr>\n",
       "      <th>DATE</th>\n",
       "      <th></th>\n",
       "      <th></th>\n",
       "      <th></th>\n",
       "      <th></th>\n",
       "      <th></th>\n",
       "      <th></th>\n",
       "      <th></th>\n",
       "      <th></th>\n",
       "      <th></th>\n",
       "      <th></th>\n",
       "      <th></th>\n",
       "    </tr>\n",
       "  </thead>\n",
       "  <tbody>\n",
       "    <tr>\n",
       "      <th>2005Q1</th>\n",
       "      <td>1.99</td>\n",
       "      <td>2.32</td>\n",
       "      <td>2.63</td>\n",
       "      <td>2.79</td>\n",
       "      <td>3.10</td>\n",
       "      <td>3.64</td>\n",
       "      <td>3.94</td>\n",
       "      <td>4.23</td>\n",
       "      <td>4.85</td>\n",
       "      <td>NaN</td>\n",
       "      <td>1.13</td>\n",
       "    </tr>\n",
       "    <tr>\n",
       "      <th>2005Q2</th>\n",
       "      <td>2.66</td>\n",
       "      <td>2.80</td>\n",
       "      <td>3.13</td>\n",
       "      <td>3.34</td>\n",
       "      <td>3.75</td>\n",
       "      <td>4.13</td>\n",
       "      <td>4.29</td>\n",
       "      <td>4.46</td>\n",
       "      <td>4.72</td>\n",
       "      <td>-0.008403</td>\n",
       "      <td>0.71</td>\n",
       "    </tr>\n",
       "    <tr>\n",
       "      <th>2005Q3</th>\n",
       "      <td>3.02</td>\n",
       "      <td>3.17</td>\n",
       "      <td>3.38</td>\n",
       "      <td>3.51</td>\n",
       "      <td>3.76</td>\n",
       "      <td>3.84</td>\n",
       "      <td>3.92</td>\n",
       "      <td>4.06</td>\n",
       "      <td>4.28</td>\n",
       "      <td>0.021480</td>\n",
       "      <td>0.30</td>\n",
       "    </tr>\n",
       "    <tr>\n",
       "      <th>2005Q4</th>\n",
       "      <td>3.22</td>\n",
       "      <td>3.61</td>\n",
       "      <td>4.02</td>\n",
       "      <td>4.09</td>\n",
       "      <td>4.21</td>\n",
       "      <td>4.25</td>\n",
       "      <td>4.31</td>\n",
       "      <td>4.39</td>\n",
       "      <td>4.58</td>\n",
       "      <td>0.011038</td>\n",
       "      <td>0.18</td>\n",
       "    </tr>\n",
       "    <tr>\n",
       "      <th>2006Q1</th>\n",
       "      <td>4.01</td>\n",
       "      <td>4.08</td>\n",
       "      <td>4.37</td>\n",
       "      <td>4.38</td>\n",
       "      <td>4.41</td>\n",
       "      <td>4.35</td>\n",
       "      <td>4.36</td>\n",
       "      <td>4.39</td>\n",
       "      <td>4.51</td>\n",
       "      <td>0.004454</td>\n",
       "      <td>-0.02</td>\n",
       "    </tr>\n",
       "  </tbody>\n",
       "</table>\n",
       "</div>"
      ],
      "text/plain": [
       "        DGS1MO  DGS3MO  DGS6MO  DGS1  DGS2  DGS5  DGS7  DGS10  DGS30  \\\n",
       "DATE                                                                   \n",
       "2005Q1    1.99    2.32    2.63  2.79  3.10  3.64  3.94   4.23   4.85   \n",
       "2005Q2    2.66    2.80    3.13  3.34  3.75  4.13  4.29   4.46   4.72   \n",
       "2005Q3    3.02    3.17    3.38  3.51  3.76  3.84  3.92   4.06   4.28   \n",
       "2005Q4    3.22    3.61    4.02  4.09  4.21  4.25  4.31   4.39   4.58   \n",
       "2006Q1    4.01    4.08    4.37  4.38  4.41  4.35  4.36   4.39   4.51   \n",
       "\n",
       "        DGS30 growth  Slope  \n",
       "DATE                         \n",
       "2005Q1           NaN   1.13  \n",
       "2005Q2     -0.008403   0.71  \n",
       "2005Q3      0.021480   0.30  \n",
       "2005Q4      0.011038   0.18  \n",
       "2006Q1      0.004454  -0.02  "
      ]
     },
     "execution_count": 34,
     "metadata": {
     },
     "output_type": "execute_result"
    }
   ],
   "source": [
    "tsq = ts.to_period('Q')\n",
    "tsq = tsq[~tsq.index.duplicated(keep='first')]\n",
    "tsq.head()"
   ]
  },
  {
   "cell_type": "markdown",
   "metadata": {
    "collapsed": false
   },
   "source": [
    "Now we can merge the two quarterly DataFrames."
   ]
  },
  {
   "cell_type": "code",
   "execution_count": 36,
   "metadata": {
    "collapsed": false
   },
   "outputs": [
    {
     "data": {
      "text/html": [
       "<div>\n",
       "<style scoped>\n",
       "    .dataframe tbody tr th:only-of-type {\n",
       "        vertical-align: middle;\n",
       "    }\n",
       "\n",
       "    .dataframe tbody tr th {\n",
       "        vertical-align: top;\n",
       "    }\n",
       "\n",
       "    .dataframe thead th {\n",
       "        text-align: right;\n",
       "    }\n",
       "</style>\n",
       "<table border=\"1\" class=\"dataframe\">\n",
       "  <thead>\n",
       "    <tr style=\"text-align: right;\">\n",
       "      <th></th>\n",
       "      <th>DGS1MO</th>\n",
       "      <th>DGS3MO</th>\n",
       "      <th>DGS6MO</th>\n",
       "      <th>DGS1</th>\n",
       "      <th>DGS2</th>\n",
       "      <th>DGS5</th>\n",
       "      <th>DGS7</th>\n",
       "      <th>DGS10</th>\n",
       "      <th>DGS30</th>\n",
       "      <th>DGS30 growth</th>\n",
       "      <th>Slope</th>\n",
       "      <th>JHDUSRGDPBR</th>\n",
       "    </tr>\n",
       "    <tr>\n",
       "      <th>DATE</th>\n",
       "      <th></th>\n",
       "      <th></th>\n",
       "      <th></th>\n",
       "      <th></th>\n",
       "      <th></th>\n",
       "      <th></th>\n",
       "      <th></th>\n",
       "      <th></th>\n",
       "      <th></th>\n",
       "      <th></th>\n",
       "      <th></th>\n",
       "      <th></th>\n",
       "    </tr>\n",
       "  </thead>\n",
       "  <tbody>\n",
       "    <tr>\n",
       "      <th>2005Q1</th>\n",
       "      <td>1.99</td>\n",
       "      <td>2.32</td>\n",
       "      <td>2.63</td>\n",
       "      <td>2.79</td>\n",
       "      <td>3.10</td>\n",
       "      <td>3.64</td>\n",
       "      <td>3.94</td>\n",
       "      <td>4.23</td>\n",
       "      <td>4.85</td>\n",
       "      <td>NaN</td>\n",
       "      <td>1.13</td>\n",
       "      <td>0.0</td>\n",
       "    </tr>\n",
       "    <tr>\n",
       "      <th>2005Q2</th>\n",
       "      <td>2.66</td>\n",
       "      <td>2.80</td>\n",
       "      <td>3.13</td>\n",
       "      <td>3.34</td>\n",
       "      <td>3.75</td>\n",
       "      <td>4.13</td>\n",
       "      <td>4.29</td>\n",
       "      <td>4.46</td>\n",
       "      <td>4.72</td>\n",
       "      <td>-0.008403</td>\n",
       "      <td>0.71</td>\n",
       "      <td>0.0</td>\n",
       "    </tr>\n",
       "    <tr>\n",
       "      <th>2005Q3</th>\n",
       "      <td>3.02</td>\n",
       "      <td>3.17</td>\n",
       "      <td>3.38</td>\n",
       "      <td>3.51</td>\n",
       "      <td>3.76</td>\n",
       "      <td>3.84</td>\n",
       "      <td>3.92</td>\n",
       "      <td>4.06</td>\n",
       "      <td>4.28</td>\n",
       "      <td>0.021480</td>\n",
       "      <td>0.30</td>\n",
       "      <td>0.0</td>\n",
       "    </tr>\n",
       "    <tr>\n",
       "      <th>2005Q4</th>\n",
       "      <td>3.22</td>\n",
       "      <td>3.61</td>\n",
       "      <td>4.02</td>\n",
       "      <td>4.09</td>\n",
       "      <td>4.21</td>\n",
       "      <td>4.25</td>\n",
       "      <td>4.31</td>\n",
       "      <td>4.39</td>\n",
       "      <td>4.58</td>\n",
       "      <td>0.011038</td>\n",
       "      <td>0.18</td>\n",
       "      <td>0.0</td>\n",
       "    </tr>\n",
       "    <tr>\n",
       "      <th>2006Q1</th>\n",
       "      <td>4.01</td>\n",
       "      <td>4.08</td>\n",
       "      <td>4.37</td>\n",
       "      <td>4.38</td>\n",
       "      <td>4.41</td>\n",
       "      <td>4.35</td>\n",
       "      <td>4.36</td>\n",
       "      <td>4.39</td>\n",
       "      <td>4.51</td>\n",
       "      <td>0.004454</td>\n",
       "      <td>-0.02</td>\n",
       "      <td>0.0</td>\n",
       "    </tr>\n",
       "  </tbody>\n",
       "</table>\n",
       "</div>"
      ],
      "text/plain": [
       "        DGS1MO  DGS3MO  DGS6MO  DGS1  DGS2  DGS5  DGS7  DGS10  DGS30  \\\n",
       "DATE                                                                   \n",
       "2005Q1    1.99    2.32    2.63  2.79  3.10  3.64  3.94   4.23   4.85   \n",
       "2005Q2    2.66    2.80    3.13  3.34  3.75  4.13  4.29   4.46   4.72   \n",
       "2005Q3    3.02    3.17    3.38  3.51  3.76  3.84  3.92   4.06   4.28   \n",
       "2005Q4    3.22    3.61    4.02  4.09  4.21  4.25  4.31   4.39   4.58   \n",
       "2006Q1    4.01    4.08    4.37  4.38  4.41  4.35  4.36   4.39   4.51   \n",
       "\n",
       "        DGS30 growth  Slope  JHDUSRGDPBR  \n",
       "DATE                                      \n",
       "2005Q1           NaN   1.13          0.0  \n",
       "2005Q2     -0.008403   0.71          0.0  \n",
       "2005Q3      0.021480   0.30          0.0  \n",
       "2005Q4      0.011038   0.18          0.0  \n",
       "2006Q1      0.004454  -0.02          0.0  "
      ]
     },
     "execution_count": 36,
     "metadata": {
     },
     "output_type": "execute_result"
    }
   ],
   "source": [
    "ts_recession = tsq.merge(recession, on='DATE')\n",
    "ts_recession.head()"
   ]
  },
  {
   "cell_type": "markdown",
   "metadata": {
    "collapsed": false
   },
   "source": [
    "And finally, we can try to see if recessions are more likely when the slope is negative.  In order to say that yield curve inversions might predict recessions, we need to use data from before a recession begins.  For instance, does an inversion at quarter 3 of year $t$ imply that a recession is likely to begin at quarter 4 of year $t$?  We'll use `.shift()` to make a lagged copy of the `'Slope'` column."
   ]
  },
  {
   "cell_type": "code",
   "execution_count": 38,
   "metadata": {
    "collapsed": false
   },
   "outputs": [
    {
     "data": {
      "text/html": [
       "<div>\n",
       "<style scoped>\n",
       "    .dataframe tbody tr th:only-of-type {\n",
       "        vertical-align: middle;\n",
       "    }\n",
       "\n",
       "    .dataframe tbody tr th {\n",
       "        vertical-align: top;\n",
       "    }\n",
       "\n",
       "    .dataframe thead th {\n",
       "        text-align: right;\n",
       "    }\n",
       "</style>\n",
       "<table border=\"1\" class=\"dataframe\">\n",
       "  <thead>\n",
       "    <tr style=\"text-align: right;\">\n",
       "      <th></th>\n",
       "      <th>DGS1MO</th>\n",
       "      <th>DGS3MO</th>\n",
       "      <th>DGS6MO</th>\n",
       "      <th>DGS1</th>\n",
       "      <th>DGS2</th>\n",
       "      <th>DGS5</th>\n",
       "      <th>DGS7</th>\n",
       "      <th>DGS10</th>\n",
       "      <th>DGS30</th>\n",
       "      <th>DGS30 growth</th>\n",
       "      <th>Slope</th>\n",
       "      <th>JHDUSRGDPBR</th>\n",
       "      <th>Lagged Slope</th>\n",
       "    </tr>\n",
       "    <tr>\n",
       "      <th>DATE</th>\n",
       "      <th></th>\n",
       "      <th></th>\n",
       "      <th></th>\n",
       "      <th></th>\n",
       "      <th></th>\n",
       "      <th></th>\n",
       "      <th></th>\n",
       "      <th></th>\n",
       "      <th></th>\n",
       "      <th></th>\n",
       "      <th></th>\n",
       "      <th></th>\n",
       "      <th></th>\n",
       "    </tr>\n",
       "  </thead>\n",
       "  <tbody>\n",
       "    <tr>\n",
       "      <th>2005Q1</th>\n",
       "      <td>1.99</td>\n",
       "      <td>2.32</td>\n",
       "      <td>2.63</td>\n",
       "      <td>2.79</td>\n",
       "      <td>3.10</td>\n",
       "      <td>3.64</td>\n",
       "      <td>3.94</td>\n",
       "      <td>4.23</td>\n",
       "      <td>4.85</td>\n",
       "      <td>NaN</td>\n",
       "      <td>1.13</td>\n",
       "      <td>0.0</td>\n",
       "      <td>NaN</td>\n",
       "    </tr>\n",
       "    <tr>\n",
       "      <th>2005Q2</th>\n",
       "      <td>2.66</td>\n",
       "      <td>2.80</td>\n",
       "      <td>3.13</td>\n",
       "      <td>3.34</td>\n",
       "      <td>3.75</td>\n",
       "      <td>4.13</td>\n",
       "      <td>4.29</td>\n",
       "      <td>4.46</td>\n",
       "      <td>4.72</td>\n",
       "      <td>-0.008403</td>\n",
       "      <td>0.71</td>\n",
       "      <td>0.0</td>\n",
       "      <td>1.13</td>\n",
       "    </tr>\n",
       "    <tr>\n",
       "      <th>2005Q3</th>\n",
       "      <td>3.02</td>\n",
       "      <td>3.17</td>\n",
       "      <td>3.38</td>\n",
       "      <td>3.51</td>\n",
       "      <td>3.76</td>\n",
       "      <td>3.84</td>\n",
       "      <td>3.92</td>\n",
       "      <td>4.06</td>\n",
       "      <td>4.28</td>\n",
       "      <td>0.021480</td>\n",
       "      <td>0.30</td>\n",
       "      <td>0.0</td>\n",
       "      <td>0.71</td>\n",
       "    </tr>\n",
       "    <tr>\n",
       "      <th>2005Q4</th>\n",
       "      <td>3.22</td>\n",
       "      <td>3.61</td>\n",
       "      <td>4.02</td>\n",
       "      <td>4.09</td>\n",
       "      <td>4.21</td>\n",
       "      <td>4.25</td>\n",
       "      <td>4.31</td>\n",
       "      <td>4.39</td>\n",
       "      <td>4.58</td>\n",
       "      <td>0.011038</td>\n",
       "      <td>0.18</td>\n",
       "      <td>0.0</td>\n",
       "      <td>0.30</td>\n",
       "    </tr>\n",
       "    <tr>\n",
       "      <th>2006Q1</th>\n",
       "      <td>4.01</td>\n",
       "      <td>4.08</td>\n",
       "      <td>4.37</td>\n",
       "      <td>4.38</td>\n",
       "      <td>4.41</td>\n",
       "      <td>4.35</td>\n",
       "      <td>4.36</td>\n",
       "      <td>4.39</td>\n",
       "      <td>4.51</td>\n",
       "      <td>0.004454</td>\n",
       "      <td>-0.02</td>\n",
       "      <td>0.0</td>\n",
       "      <td>0.18</td>\n",
       "    </tr>\n",
       "  </tbody>\n",
       "</table>\n",
       "</div>"
      ],
      "text/plain": [
       "        DGS1MO  DGS3MO  DGS6MO  DGS1  DGS2  DGS5  DGS7  DGS10  DGS30  \\\n",
       "DATE                                                                   \n",
       "2005Q1    1.99    2.32    2.63  2.79  3.10  3.64  3.94   4.23   4.85   \n",
       "2005Q2    2.66    2.80    3.13  3.34  3.75  4.13  4.29   4.46   4.72   \n",
       "2005Q3    3.02    3.17    3.38  3.51  3.76  3.84  3.92   4.06   4.28   \n",
       "2005Q4    3.22    3.61    4.02  4.09  4.21  4.25  4.31   4.39   4.58   \n",
       "2006Q1    4.01    4.08    4.37  4.38  4.41  4.35  4.36   4.39   4.51   \n",
       "\n",
       "        DGS30 growth  Slope  JHDUSRGDPBR  Lagged Slope  \n",
       "DATE                                                    \n",
       "2005Q1           NaN   1.13          0.0           NaN  \n",
       "2005Q2     -0.008403   0.71          0.0          1.13  \n",
       "2005Q3      0.021480   0.30          0.0          0.71  \n",
       "2005Q4      0.011038   0.18          0.0          0.30  \n",
       "2006Q1      0.004454  -0.02          0.0          0.18  "
      ]
     },
     "execution_count": 38,
     "metadata": {
     },
     "output_type": "execute_result"
    }
   ],
   "source": [
    "ts_recession['Lagged Slope'] = ts_recession['Slope'].shift(1)\n",
    "ts_recession.head()"
   ]
  },
  {
   "cell_type": "markdown",
   "metadata": {
    "collapsed": false
   },
   "source": [
    "One last data-cleaning issue: `statsmodels` *hates* missing values.  It throws a fit and stops working when it sees them.  Notice that the first value of `'Lagged Slope'` is missing, because we can't observe a lag for the first data point.\n",
    "\n",
    "To get rid of it, we use `.dropna()` to find all observations where the data is not missing."
   ]
  },
  {
   "cell_type": "code",
   "execution_count": 39,
   "metadata": {
    "collapsed": false
   },
   "outputs": [
    {
     "data": {
      "text/html": [
       "<div>\n",
       "<style scoped>\n",
       "    .dataframe tbody tr th:only-of-type {\n",
       "        vertical-align: middle;\n",
       "    }\n",
       "\n",
       "    .dataframe tbody tr th {\n",
       "        vertical-align: top;\n",
       "    }\n",
       "\n",
       "    .dataframe thead th {\n",
       "        text-align: right;\n",
       "    }\n",
       "</style>\n",
       "<table border=\"1\" class=\"dataframe\">\n",
       "  <thead>\n",
       "    <tr style=\"text-align: right;\">\n",
       "      <th></th>\n",
       "      <th>DGS1MO</th>\n",
       "      <th>DGS3MO</th>\n",
       "      <th>DGS6MO</th>\n",
       "      <th>DGS1</th>\n",
       "      <th>DGS2</th>\n",
       "      <th>DGS5</th>\n",
       "      <th>DGS7</th>\n",
       "      <th>DGS10</th>\n",
       "      <th>DGS30</th>\n",
       "      <th>DGS30 growth</th>\n",
       "      <th>Slope</th>\n",
       "      <th>JHDUSRGDPBR</th>\n",
       "      <th>Lagged Slope</th>\n",
       "    </tr>\n",
       "    <tr>\n",
       "      <th>DATE</th>\n",
       "      <th></th>\n",
       "      <th></th>\n",
       "      <th></th>\n",
       "      <th></th>\n",
       "      <th></th>\n",
       "      <th></th>\n",
       "      <th></th>\n",
       "      <th></th>\n",
       "      <th></th>\n",
       "      <th></th>\n",
       "      <th></th>\n",
       "      <th></th>\n",
       "      <th></th>\n",
       "    </tr>\n",
       "  </thead>\n",
       "  <tbody>\n",
       "    <tr>\n",
       "      <th>2005Q2</th>\n",
       "      <td>2.66</td>\n",
       "      <td>2.80</td>\n",
       "      <td>3.13</td>\n",
       "      <td>3.34</td>\n",
       "      <td>3.75</td>\n",
       "      <td>4.13</td>\n",
       "      <td>4.29</td>\n",
       "      <td>4.46</td>\n",
       "      <td>4.72</td>\n",
       "      <td>-0.008403</td>\n",
       "      <td>0.71</td>\n",
       "      <td>0.0</td>\n",
       "      <td>1.13</td>\n",
       "    </tr>\n",
       "    <tr>\n",
       "      <th>2005Q3</th>\n",
       "      <td>3.02</td>\n",
       "      <td>3.17</td>\n",
       "      <td>3.38</td>\n",
       "      <td>3.51</td>\n",
       "      <td>3.76</td>\n",
       "      <td>3.84</td>\n",
       "      <td>3.92</td>\n",
       "      <td>4.06</td>\n",
       "      <td>4.28</td>\n",
       "      <td>0.021480</td>\n",
       "      <td>0.30</td>\n",
       "      <td>0.0</td>\n",
       "      <td>0.71</td>\n",
       "    </tr>\n",
       "    <tr>\n",
       "      <th>2005Q4</th>\n",
       "      <td>3.22</td>\n",
       "      <td>3.61</td>\n",
       "      <td>4.02</td>\n",
       "      <td>4.09</td>\n",
       "      <td>4.21</td>\n",
       "      <td>4.25</td>\n",
       "      <td>4.31</td>\n",
       "      <td>4.39</td>\n",
       "      <td>4.58</td>\n",
       "      <td>0.011038</td>\n",
       "      <td>0.18</td>\n",
       "      <td>0.0</td>\n",
       "      <td>0.30</td>\n",
       "    </tr>\n",
       "    <tr>\n",
       "      <th>2006Q1</th>\n",
       "      <td>4.01</td>\n",
       "      <td>4.08</td>\n",
       "      <td>4.37</td>\n",
       "      <td>4.38</td>\n",
       "      <td>4.41</td>\n",
       "      <td>4.35</td>\n",
       "      <td>4.36</td>\n",
       "      <td>4.39</td>\n",
       "      <td>4.51</td>\n",
       "      <td>0.004454</td>\n",
       "      <td>-0.02</td>\n",
       "      <td>0.0</td>\n",
       "      <td>0.18</td>\n",
       "    </tr>\n",
       "    <tr>\n",
       "      <th>2006Q2</th>\n",
       "      <td>4.66</td>\n",
       "      <td>4.67</td>\n",
       "      <td>4.86</td>\n",
       "      <td>4.86</td>\n",
       "      <td>4.86</td>\n",
       "      <td>4.85</td>\n",
       "      <td>4.86</td>\n",
       "      <td>4.88</td>\n",
       "      <td>4.90</td>\n",
       "      <td>0.000000</td>\n",
       "      <td>0.02</td>\n",
       "      <td>0.0</td>\n",
       "      <td>-0.02</td>\n",
       "    </tr>\n",
       "  </tbody>\n",
       "</table>\n",
       "</div>"
      ],
      "text/plain": [
       "        DGS1MO  DGS3MO  DGS6MO  DGS1  DGS2  DGS5  DGS7  DGS10  DGS30  \\\n",
       "DATE                                                                   \n",
       "2005Q2    2.66    2.80    3.13  3.34  3.75  4.13  4.29   4.46   4.72   \n",
       "2005Q3    3.02    3.17    3.38  3.51  3.76  3.84  3.92   4.06   4.28   \n",
       "2005Q4    3.22    3.61    4.02  4.09  4.21  4.25  4.31   4.39   4.58   \n",
       "2006Q1    4.01    4.08    4.37  4.38  4.41  4.35  4.36   4.39   4.51   \n",
       "2006Q2    4.66    4.67    4.86  4.86  4.86  4.85  4.86   4.88   4.90   \n",
       "\n",
       "        DGS30 growth  Slope  JHDUSRGDPBR  Lagged Slope  \n",
       "DATE                                                    \n",
       "2005Q2     -0.008403   0.71          0.0          1.13  \n",
       "2005Q3      0.021480   0.30          0.0          0.71  \n",
       "2005Q4      0.011038   0.18          0.0          0.30  \n",
       "2006Q1      0.004454  -0.02          0.0          0.18  \n",
       "2006Q2      0.000000   0.02          0.0         -0.02  "
      ]
     },
     "execution_count": 39,
     "metadata": {
     },
     "output_type": "execute_result"
    }
   ],
   "source": [
    "ts_recession = ts_recession.dropna()\n",
    "ts_recession.head()"
   ]
  },
  {
   "cell_type": "markdown",
   "metadata": {
    "collapsed": false
   },
   "source": [
    "Now, we can use `statsmodels` to run a logistic regression (since the y variable, `'JHDUSRGDPBR'` is only ever 0 or 1).\n",
    "\n",
    "One tricky element here is that the name for our $x$ variable is `'Lagged Slope'`.  Python will get confused by this; if we write `'JHDUSRGDPBR ~ Lagged Slope'` then Python will parse this as a function\n",
    "$$\n",
    "\\text{JHDUSRGDPBR} = \\beta_0 + \\beta_1\\text{Lagged} + \\beta_2\\text{Slope} + u\n",
    "$$\n",
    "which is not what we want.  To ensure that Python reads `'Lagged Slope'` as one column name, use the `Q()` function.  That is, refer to the variable as `Q(\"Lagged Slope\")`."
   ]
  },
  {
   "cell_type": "code",
   "execution_count": 42,
   "metadata": {
    "collapsed": false
   },
   "outputs": [
    {
     "name": "stdout",
     "output_type": "stream",
     "text": [
      "Optimization terminated successfully.\n",
      "         Current function value: 0.363198\n",
      "         Iterations 6\n",
      "                           Logit Regression Results                           \n",
      "==============================================================================\n",
      "Dep. Variable:            JHDUSRGDPBR   No. Observations:                   59\n",
      "Model:                          Logit   Df Residuals:                       57\n",
      "Method:                           MLE   Df Model:                            1\n",
      "Date:                Sun, 26 Sep 2021   Pseudo R-squ.:                0.002790\n",
      "Time:                        21:01:12   Log-Likelihood:                -21.429\n",
      "converged:                       True   LL-Null:                       -21.489\n",
      "Covariance Type:            nonrobust   LLR p-value:                    0.7291\n",
      "=====================================================================================\n",
      "                        coef    std err          z      P>|z|      [0.025      0.975]\n",
      "-------------------------------------------------------------------------------------\n",
      "Intercept            -1.8067      0.685     -2.637      0.008      -3.150      -0.464\n",
      "Q(\"Lagged Slope\")    -0.1601      0.464     -0.345      0.730      -1.069       0.749\n",
      "=====================================================================================\n"
     ]
    }
   ],
   "source": [
    "import statsmodels.formula.api as smf\n",
    "\n",
    "model = smf.logit('JHDUSRGDPBR ~ Q(\"Lagged Slope\")', data=ts_recession).fit()\n",
    "print(model.summary())"
   ]
  },
  {
   "cell_type": "markdown",
   "metadata": {
    "collapsed": false
   },
   "source": [
    "Negative $\\beta$ coefficients in a Logit model mean that the covariate (the right hand side variable) corresponding to that $\\beta$ coefficient are negatively predictive of the event.  The \"event\" is an instance of y=1.  So, what we see here is that a higher slope is negatively predictive of a recession.\n",
    "\n",
    "If you load a much longer dataset, you can see a similar pattern over time.\n",
    "\n",
    "The question is, why does this work?  What's the connection between the yield curve and recessions?\n",
    "\n",
    "Let's turn our attention to the *expectations hypothesis*, which is covered in earlier courses.  Define $y_t^{(i)}$ to be the one period interest rate at time $t$ for a Treasury security with $i$ periods to maturity.  We thus have\n",
    "$$\n",
    "\\Big(1+y_t^{(2)}\\Big)^2 = \\Big(1+y_t^{(1)}\\Big)\\text{E}_t\\Big[\\Big(1+y_{t+1}^{(1)}\\Big)\\Big]\n",
    "$$\n",
    "\n",
    "That is, the cumulative return for holding a two-year Treasury to maturity should be the same return as holding a one-year Treasury to maturity and then holding another (future) one-year Treasury to maturity after that.  At year $t$, we don't know what the one-year Treasury will be at in year $t+1$.  Thus, we say that the *expected* value of it is $\\text{E}_t\\Big[\\Big(1+y_{t+1}^{(1)}\\Big)\\Big]$, where $\\text{E}$ stands for expected value.\n",
    "\n",
    "Let's define the one-year forward rate as\n",
    "$$\n",
    "\\Big(1+f_{t}^{(1)}\\Big) = \\frac{\\Big(1+y_t^{(2)}\\Big)^2}{\\Big(1+y_t^{(1)}\\Big)}\n",
    "$$\n",
    "\n",
    "The value for $f_{t}^{(1)}$ is something that we can calculate given other data at time $t$.  The Expectations Hypothesis says that this value should be a good estimate for the expected future spot rate, i.e.:\n",
    "$$\n",
    "f_{t}^{(1)} = \\text{E}_t\\Big[1+y_{t+1}^{(1)}\\Big]\n",
    "$$\n",
    "\n",
    "Compute the forward rate below."
   ]
  },
  {
   "cell_type": "code",
   "execution_count": 43,
   "metadata": {
    "collapsed": false
   },
   "outputs": [
    {
     "data": {
      "text/html": [
       "<div>\n",
       "<style scoped>\n",
       "    .dataframe tbody tr th:only-of-type {\n",
       "        vertical-align: middle;\n",
       "    }\n",
       "\n",
       "    .dataframe tbody tr th {\n",
       "        vertical-align: top;\n",
       "    }\n",
       "\n",
       "    .dataframe thead th {\n",
       "        text-align: right;\n",
       "    }\n",
       "</style>\n",
       "<table border=\"1\" class=\"dataframe\">\n",
       "  <thead>\n",
       "    <tr style=\"text-align: right;\">\n",
       "      <th></th>\n",
       "      <th>DGS1MO</th>\n",
       "      <th>DGS3MO</th>\n",
       "      <th>DGS6MO</th>\n",
       "      <th>DGS1</th>\n",
       "      <th>DGS2</th>\n",
       "      <th>DGS5</th>\n",
       "      <th>DGS7</th>\n",
       "      <th>DGS10</th>\n",
       "      <th>DGS30</th>\n",
       "      <th>DGS30 growth</th>\n",
       "      <th>Slope</th>\n",
       "      <th>1Y Forward</th>\n",
       "    </tr>\n",
       "    <tr>\n",
       "      <th>DATE</th>\n",
       "      <th></th>\n",
       "      <th></th>\n",
       "      <th></th>\n",
       "      <th></th>\n",
       "      <th></th>\n",
       "      <th></th>\n",
       "      <th></th>\n",
       "      <th></th>\n",
       "      <th></th>\n",
       "      <th></th>\n",
       "      <th></th>\n",
       "      <th></th>\n",
       "    </tr>\n",
       "  </thead>\n",
       "  <tbody>\n",
       "    <tr>\n",
       "      <th>2005Q1</th>\n",
       "      <td>1.99</td>\n",
       "      <td>2.32</td>\n",
       "      <td>2.63</td>\n",
       "      <td>2.79</td>\n",
       "      <td>3.10</td>\n",
       "      <td>3.64</td>\n",
       "      <td>3.94</td>\n",
       "      <td>4.23</td>\n",
       "      <td>4.85</td>\n",
       "      <td>NaN</td>\n",
       "      <td>1.13</td>\n",
       "      <td>3.435356</td>\n",
       "    </tr>\n",
       "    <tr>\n",
       "      <th>2005Q2</th>\n",
       "      <td>2.66</td>\n",
       "      <td>2.80</td>\n",
       "      <td>3.13</td>\n",
       "      <td>3.34</td>\n",
       "      <td>3.75</td>\n",
       "      <td>4.13</td>\n",
       "      <td>4.29</td>\n",
       "      <td>4.46</td>\n",
       "      <td>4.72</td>\n",
       "      <td>-0.008403</td>\n",
       "      <td>0.71</td>\n",
       "      <td>4.198733</td>\n",
       "    </tr>\n",
       "    <tr>\n",
       "      <th>2005Q3</th>\n",
       "      <td>3.02</td>\n",
       "      <td>3.17</td>\n",
       "      <td>3.38</td>\n",
       "      <td>3.51</td>\n",
       "      <td>3.76</td>\n",
       "      <td>3.84</td>\n",
       "      <td>3.92</td>\n",
       "      <td>4.06</td>\n",
       "      <td>4.28</td>\n",
       "      <td>0.021480</td>\n",
       "      <td>0.30</td>\n",
       "      <td>4.023858</td>\n",
       "    </tr>\n",
       "    <tr>\n",
       "      <th>2005Q4</th>\n",
       "      <td>3.22</td>\n",
       "      <td>3.61</td>\n",
       "      <td>4.02</td>\n",
       "      <td>4.09</td>\n",
       "      <td>4.21</td>\n",
       "      <td>4.25</td>\n",
       "      <td>4.31</td>\n",
       "      <td>4.39</td>\n",
       "      <td>4.58</td>\n",
       "      <td>0.011038</td>\n",
       "      <td>0.18</td>\n",
       "      <td>4.332829</td>\n",
       "    </tr>\n",
       "    <tr>\n",
       "      <th>2006Q1</th>\n",
       "      <td>4.01</td>\n",
       "      <td>4.08</td>\n",
       "      <td>4.37</td>\n",
       "      <td>4.38</td>\n",
       "      <td>4.41</td>\n",
       "      <td>4.35</td>\n",
       "      <td>4.36</td>\n",
       "      <td>4.39</td>\n",
       "      <td>4.51</td>\n",
       "      <td>0.004454</td>\n",
       "      <td>-0.02</td>\n",
       "      <td>4.440167</td>\n",
       "    </tr>\n",
       "  </tbody>\n",
       "</table>\n",
       "</div>"
      ],
      "text/plain": [
       "        DGS1MO  DGS3MO  DGS6MO  DGS1  DGS2  DGS5  DGS7  DGS10  DGS30  \\\n",
       "DATE                                                                   \n",
       "2005Q1    1.99    2.32    2.63  2.79  3.10  3.64  3.94   4.23   4.85   \n",
       "2005Q2    2.66    2.80    3.13  3.34  3.75  4.13  4.29   4.46   4.72   \n",
       "2005Q3    3.02    3.17    3.38  3.51  3.76  3.84  3.92   4.06   4.28   \n",
       "2005Q4    3.22    3.61    4.02  4.09  4.21  4.25  4.31   4.39   4.58   \n",
       "2006Q1    4.01    4.08    4.37  4.38  4.41  4.35  4.36   4.39   4.51   \n",
       "\n",
       "        DGS30 growth  Slope  1Y Forward  \n",
       "DATE                                     \n",
       "2005Q1           NaN   1.13    3.435356  \n",
       "2005Q2     -0.008403   0.71    4.198733  \n",
       "2005Q3      0.021480   0.30    4.023858  \n",
       "2005Q4      0.011038   0.18    4.332829  \n",
       "2006Q1      0.004454  -0.02    4.440167  "
      ]
     },
     "execution_count": 43,
     "metadata": {
     },
     "output_type": "execute_result"
    }
   ],
   "source": [
    "tsq['1Y Forward'] = (1+tsq['DGS2'])**2/(1+tsq['DGS1']) - 1\n",
    "tsq.head()"
   ]
  },
  {
   "cell_type": "markdown",
   "metadata": {
    "collapsed": false
   },
   "source": [
    "Now, we shift the data ahead by 4 periods so we get a one year lag."
   ]
  },
  {
   "cell_type": "code",
   "execution_count": 44,
   "metadata": {
    "collapsed": false
   },
   "outputs": [
    {
     "data": {
      "text/html": [
       "<div>\n",
       "<style scoped>\n",
       "    .dataframe tbody tr th:only-of-type {\n",
       "        vertical-align: middle;\n",
       "    }\n",
       "\n",
       "    .dataframe tbody tr th {\n",
       "        vertical-align: top;\n",
       "    }\n",
       "\n",
       "    .dataframe thead th {\n",
       "        text-align: right;\n",
       "    }\n",
       "</style>\n",
       "<table border=\"1\" class=\"dataframe\">\n",
       "  <thead>\n",
       "    <tr style=\"text-align: right;\">\n",
       "      <th></th>\n",
       "      <th>DGS1MO</th>\n",
       "      <th>DGS3MO</th>\n",
       "      <th>DGS6MO</th>\n",
       "      <th>DGS1</th>\n",
       "      <th>DGS2</th>\n",
       "      <th>DGS5</th>\n",
       "      <th>DGS7</th>\n",
       "      <th>DGS10</th>\n",
       "      <th>DGS30</th>\n",
       "      <th>DGS30 growth</th>\n",
       "      <th>Slope</th>\n",
       "      <th>1Y Forward</th>\n",
       "      <th>Last Year 1Y Forward</th>\n",
       "    </tr>\n",
       "    <tr>\n",
       "      <th>DATE</th>\n",
       "      <th></th>\n",
       "      <th></th>\n",
       "      <th></th>\n",
       "      <th></th>\n",
       "      <th></th>\n",
       "      <th></th>\n",
       "      <th></th>\n",
       "      <th></th>\n",
       "      <th></th>\n",
       "      <th></th>\n",
       "      <th></th>\n",
       "      <th></th>\n",
       "      <th></th>\n",
       "    </tr>\n",
       "  </thead>\n",
       "  <tbody>\n",
       "    <tr>\n",
       "      <th>2005Q1</th>\n",
       "      <td>1.99</td>\n",
       "      <td>2.32</td>\n",
       "      <td>2.63</td>\n",
       "      <td>2.79</td>\n",
       "      <td>3.10</td>\n",
       "      <td>3.64</td>\n",
       "      <td>3.94</td>\n",
       "      <td>4.23</td>\n",
       "      <td>4.85</td>\n",
       "      <td>NaN</td>\n",
       "      <td>1.13</td>\n",
       "      <td>3.435356</td>\n",
       "      <td>NaN</td>\n",
       "    </tr>\n",
       "    <tr>\n",
       "      <th>2005Q2</th>\n",
       "      <td>2.66</td>\n",
       "      <td>2.80</td>\n",
       "      <td>3.13</td>\n",
       "      <td>3.34</td>\n",
       "      <td>3.75</td>\n",
       "      <td>4.13</td>\n",
       "      <td>4.29</td>\n",
       "      <td>4.46</td>\n",
       "      <td>4.72</td>\n",
       "      <td>-0.008403</td>\n",
       "      <td>0.71</td>\n",
       "      <td>4.198733</td>\n",
       "      <td>NaN</td>\n",
       "    </tr>\n",
       "    <tr>\n",
       "      <th>2005Q3</th>\n",
       "      <td>3.02</td>\n",
       "      <td>3.17</td>\n",
       "      <td>3.38</td>\n",
       "      <td>3.51</td>\n",
       "      <td>3.76</td>\n",
       "      <td>3.84</td>\n",
       "      <td>3.92</td>\n",
       "      <td>4.06</td>\n",
       "      <td>4.28</td>\n",
       "      <td>0.021480</td>\n",
       "      <td>0.30</td>\n",
       "      <td>4.023858</td>\n",
       "      <td>NaN</td>\n",
       "    </tr>\n",
       "    <tr>\n",
       "      <th>2005Q4</th>\n",
       "      <td>3.22</td>\n",
       "      <td>3.61</td>\n",
       "      <td>4.02</td>\n",
       "      <td>4.09</td>\n",
       "      <td>4.21</td>\n",
       "      <td>4.25</td>\n",
       "      <td>4.31</td>\n",
       "      <td>4.39</td>\n",
       "      <td>4.58</td>\n",
       "      <td>0.011038</td>\n",
       "      <td>0.18</td>\n",
       "      <td>4.332829</td>\n",
       "      <td>NaN</td>\n",
       "    </tr>\n",
       "    <tr>\n",
       "      <th>2006Q1</th>\n",
       "      <td>4.01</td>\n",
       "      <td>4.08</td>\n",
       "      <td>4.37</td>\n",
       "      <td>4.38</td>\n",
       "      <td>4.41</td>\n",
       "      <td>4.35</td>\n",
       "      <td>4.36</td>\n",
       "      <td>4.39</td>\n",
       "      <td>4.51</td>\n",
       "      <td>0.004454</td>\n",
       "      <td>-0.02</td>\n",
       "      <td>4.440167</td>\n",
       "      <td>3.435356</td>\n",
       "    </tr>\n",
       "  </tbody>\n",
       "</table>\n",
       "</div>"
      ],
      "text/plain": [
       "        DGS1MO  DGS3MO  DGS6MO  DGS1  DGS2  DGS5  DGS7  DGS10  DGS30  \\\n",
       "DATE                                                                   \n",
       "2005Q1    1.99    2.32    2.63  2.79  3.10  3.64  3.94   4.23   4.85   \n",
       "2005Q2    2.66    2.80    3.13  3.34  3.75  4.13  4.29   4.46   4.72   \n",
       "2005Q3    3.02    3.17    3.38  3.51  3.76  3.84  3.92   4.06   4.28   \n",
       "2005Q4    3.22    3.61    4.02  4.09  4.21  4.25  4.31   4.39   4.58   \n",
       "2006Q1    4.01    4.08    4.37  4.38  4.41  4.35  4.36   4.39   4.51   \n",
       "\n",
       "        DGS30 growth  Slope  1Y Forward  Last Year 1Y Forward  \n",
       "DATE                                                           \n",
       "2005Q1           NaN   1.13    3.435356                   NaN  \n",
       "2005Q2     -0.008403   0.71    4.198733                   NaN  \n",
       "2005Q3      0.021480   0.30    4.023858                   NaN  \n",
       "2005Q4      0.011038   0.18    4.332829                   NaN  \n",
       "2006Q1      0.004454  -0.02    4.440167              3.435356  "
      ]
     },
     "execution_count": 44,
     "metadata": {
     },
     "output_type": "execute_result"
    }
   ],
   "source": [
    "tsq['Last Year 1Y Forward'] = tsq['1Y Forward'].shift(4)\n",
    "tsq.head()"
   ]
  },
  {
   "cell_type": "markdown",
   "metadata": {
    "collapsed": false
   },
   "source": [
    "The Expectations Hypothesis says that this one year old forward rate should be the same, on average, as what the spot rate is.  We can test this with linear regression."
   ]
  },
  {
   "cell_type": "code",
   "execution_count": 45,
   "metadata": {
    "collapsed": false
   },
   "outputs": [
    {
     "name": "stdout",
     "output_type": "stream",
     "text": [
      "                            OLS Regression Results                            \n",
      "==============================================================================\n",
      "Dep. Variable:                   DGS1   R-squared:                       0.686\n",
      "Model:                            OLS   Adj. R-squared:                  0.680\n",
      "Method:                 Least Squares   F-statistic:                     118.1\n",
      "Date:                Sun, 26 Sep 2021   Prob (F-statistic):           3.34e-15\n",
      "Time:                        21:07:09   Log-Likelihood:                -73.610\n",
      "No. Observations:                  56   AIC:                             151.2\n",
      "Df Residuals:                      54   BIC:                             155.3\n",
      "Df Model:                           1                                         \n",
      "Covariance Type:            nonrobust                                         \n",
      "=============================================================================================\n",
      "                                coef    std err          t      P>|t|      [0.025      0.975]\n",
      "---------------------------------------------------------------------------------------------\n",
      "Intercept                    -0.4118      0.207     -1.985      0.052      -0.828       0.004\n",
      "Q(\"Last Year 1Y Forward\")     0.9291      0.086     10.865      0.000       0.758       1.101\n",
      "==============================================================================\n",
      "Omnibus:                        0.288   Durbin-Watson:                   0.273\n",
      "Prob(Omnibus):                  0.866   Jarque-Bera (JB):                0.464\n",
      "Skew:                          -0.118   Prob(JB):                        0.793\n",
      "Kurtosis:                       2.622   Cond. No.                         4.58\n",
      "==============================================================================\n",
      "\n",
      "Notes:\n",
      "[1] Standard Errors assume that the covariance matrix of the errors is correctly specified.\n"
     ]
    }
   ],
   "source": [
    "tsq2 = tsq.dropna().copy()\n",
    "\n",
    "eh = smf.ols('DGS1 ~ Q(\"Last Year 1Y Forward\")', data=tsq2).fit()\n",
    "\n",
    "print(eh.summary())"
   ]
  },
  {
   "cell_type": "markdown",
   "metadata": {
    "collapsed": false
   },
   "source": [
    "The $\\beta$ coefficient is close to 1, which is expected given the predicted relationship.\n",
    "\n",
    "What can the Expectations Hypothesis tell us?  Well, if there is a yield curve inversion, it's because the market is expecting interest rates to be lower in the future than they are today.  Why would the market expect that?  Well, during recessions, the Fed will lower rates to stimulate growth.  Thus, it's pretty natural, when you think about it, to expect an inversion to occur before a recession.  All it means is that bond traders are, on average, expecting a recession to occur.  A more pertinent question is *why* bond traders see a recession coming.  We'd need more data to answer that question."
   ]
  }
 ],
 "metadata": {
  "kernelspec": {
   "display_name": "Python 3 (system-wide)",
   "language": "python",
   "metadata": {
    "cocalc": {
     "description": "Python 3 programming language",
     "priority": 100,
     "url": "https://www.python.org/"
    }
   },
   "name": "python3",
   "resource_dir": "/ext/jupyter/kernels/python3"
  },
  "language_info": {
   "codemirror_mode": {
    "name": "ipython",
    "version": 3
   },
   "file_extension": ".py",
   "mimetype": "text/x-python",
   "name": "python",
   "nbconvert_exporter": "python",
   "pygments_lexer": "ipython3",
   "version": "3.8.10"
  }
 },
 "nbformat": 4,
 "nbformat_minor": 4
}