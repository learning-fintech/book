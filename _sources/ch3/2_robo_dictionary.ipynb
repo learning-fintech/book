{
 "cells": [
  {
   "cell_type": "markdown",
   "metadata": {
    "collapsed": false
   },
   "source": [
    "## Dictionaries and the Robo-Advisor\n",
    "\n",
    "One helpful trick with dictionaries is to use them to store data with names.\n",
    "\n",
    "Consider the robo-advisor tool below."
   ]
  },
  {
   "cell_type": "code",
   "execution_count": 1,
   "metadata": {
    "collapsed": false
   },
   "outputs": [
   ],
   "source": [
    "def get_age():\n",
    "    need_age = True\n",
    "    while need_age:\n",
    "        age = input('What is your age?  Enter it as a numberic argument (e.g. \"50\", not \"fifty\")\\n')\n",
    "        try:\n",
    "            age = int(age) # this will break (raise an exception) if age is not numeric\n",
    "            need_age = False\n",
    "        except Exception as e:\n",
    "            print('Please try entering your age again')\n",
    "    return age\n",
    "\n",
    "def get_risk_preference():\n",
    "    need_preference = True\n",
    "    while need_preference:\n",
    "        response = input(\"On a scale of 1-5, how much do you dislike risk?  1=not bothered by risk, 5=extremely worried about risk.\\n\")\n",
    "        try:\n",
    "            response = int(response) # this will break if response is not 1-5\n",
    "            need_preference = False\n",
    "        except Exception as e:\n",
    "            print('Please try entering your preference again')\n",
    "    return response\n",
    "\n",
    "def get_allocation():\n",
    "    \n",
    "    age = get_age()\n",
    "    \n",
    "    # apply rule of 100\n",
    "    equity_weight = 100-int(age)\n",
    "    \n",
    "    # get user's risk preference\n",
    "    preference = get_risk_preference()\n",
    "    \n",
    "    # shift the allocation according to the user's preference\n",
    "    if preference == 1:\n",
    "        equity_weight += 10\n",
    "    elif preference == 2:\n",
    "        equity_weight += 5\n",
    "    elif preference == 4:\n",
    "        equity_weight -= 5\n",
    "    elif preference == 5:\n",
    "        equity_weight -= 10\n",
    "        \n",
    "    # correct weights to stick within 0-100\n",
    "    equity_weight = min(equity_weight, 100)\n",
    "    equity_weight = max(equity_weight, 0)\n",
    "    \n",
    "    debt_weight = 100-equity_weight\n",
    "    \n",
    "    print('I would recommend', equity_weight, 'percent stocks and ', debt_weight, 'percent bonds')\n",
    "    \n",
    "    return [equity_weight, debt_weight]"
   ]
  },
  {
   "cell_type": "code",
   "execution_count": 2,
   "metadata": {
    "collapsed": false
   },
   "outputs": [
    {
     "name": "stdout",
     "output_type": "stream",
     "text": [
      "What is your age?  Enter it as a numberic argument (e.g. \"50\", not \"fifty\")\n",
      "31\n",
      "On a scale of 1-5, how much do you dislike risk?  1=not bothered by risk, 5=extremely worried about risk.\n",
      "5\n",
      "I would recommend 59 percent stocks and  41 percent bonds\n"
     ]
    },
    {
     "data": {
      "text/plain": [
       "[59, 41]"
      ]
     },
     "execution_count": 2,
     "metadata": {
     },
     "output_type": "execute_result"
    }
   ],
   "source": [
    "get_allocation()"
   ]
  },
  {
   "cell_type": "markdown",
   "metadata": {
    "collapsed": false
   },
   "source": [
    "The block of code where where shift the equity_weight variable is a bit tedious to look at.\n",
    "\n",
    "A more convenient way to store that information is via a dictionary like so:"
   ]
  },
  {
   "cell_type": "code",
   "execution_count": 3,
   "metadata": {
    "collapsed": false
   },
   "outputs": [
   ],
   "source": [
    "def get_allocation():\n",
    "    \n",
    "    age = get_age()\n",
    "    \n",
    "    # apply rule of 100\n",
    "    equity_weight = 100-int(age)\n",
    "    \n",
    "    # get user's risk preference\n",
    "    preference = get_risk_preference()\n",
    "    \n",
    "    # shift the allocation according to the user's preference\n",
    "    shift = {1: 10, 2: 5, 3: 0, 4: -5, 5: -10}\n",
    "    equity_weight += shift[preference]\n",
    "        \n",
    "    # correct weights to stick within 0-100\n",
    "    equity_weight = min(equity_weight, 100)\n",
    "    equity_weight = max(equity_weight, 0)\n",
    "    \n",
    "    debt_weight = 100-equity_weight\n",
    "    \n",
    "    print('I would recommend', equity_weight, 'percent stocks and ', debt_weight, 'percent bonds')\n",
    "    \n",
    "    return [equity_weight, debt_weight]"
   ]
  },
  {
   "cell_type": "code",
   "execution_count": 4,
   "metadata": {
    "collapsed": false
   },
   "outputs": [
    {
     "name": "stdout",
     "output_type": "stream",
     "text": [
      "What is your age?  Enter it as a numberic argument (e.g. \"50\", not \"fifty\")\n",
      "31\n",
      "On a scale of 1-5, how much do you dislike risk?  1=not bothered by risk, 5=extremely worried about risk.\n",
      "5\n",
      "I would recommend 59 percent stocks and  41 percent bonds\n"
     ]
    },
    {
     "data": {
      "text/plain": [
       "[59, 41]"
      ]
     },
     "execution_count": 4,
     "metadata": {
     },
     "output_type": "execute_result"
    }
   ],
   "source": [
    "get_allocation()"
   ]
  },
  {
   "cell_type": "markdown",
   "metadata": {
    "collapsed": false
   },
   "source": [
    "So, why does this work?  Well, recall that we asked the user to state their risk preference.  This risk preference was given as an integer between 1 and 5.  So, we can think of the integers 1-5 as \"names\" for preferences.  That is, a person who is a 1 is very risk-tolerant/risk-loving.  A person who is a 5 is very risk-averse.\n",
    "\n",
    "Each of these five types of people has a \"shift\" to the rule of thumb equity weight.  For instance, a very risk-averse person receives a shift of -10 to their recommended equity weight.\n",
    "\n",
    "The dictionary:"
   ]
  },
  {
   "cell_type": "code",
   "execution_count": 7,
   "metadata": {
    "collapsed": false
   },
   "outputs": [
    {
     "name": "stdout",
     "output_type": "stream",
     "text": [
      "{1: 10, 2: 5, 3: 0, 4: -5, 5: -10}\n"
     ]
    }
   ],
   "source": [
    "shift = {\n",
    "    1: 10,\n",
    "    2: 5,\n",
    "    3: 0,\n",
    "    4: -5,\n",
    "    5: -10\n",
    "}\n",
    "\n",
    "print(shift)"
   ]
  },
  {
   "cell_type": "markdown",
   "metadata": {
    "collapsed": false
   },
   "source": [
    "records the person type as the *key* and the corresponding shift-value as the *value* in the dictionary.\n",
    "\n",
    "Any person can then be referenced by their risk preference and their corresponding shift value is returned."
   ]
  },
  {
   "cell_type": "code",
   "execution_count": 8,
   "metadata": {
    "collapsed": false
   },
   "outputs": [
    {
     "data": {
      "text/plain": [
       "-10"
      ]
     },
     "execution_count": 8,
     "metadata": {
     },
     "output_type": "execute_result"
    }
   ],
   "source": [
    "shift[5]"
   ]
  },
  {
   "cell_type": "code",
   "execution_count": 9,
   "metadata": {
    "collapsed": false
   },
   "outputs": [
    {
     "data": {
      "text/plain": [
       "0"
      ]
     },
     "execution_count": 9,
     "metadata": {
     },
     "output_type": "execute_result"
    }
   ],
   "source": [
    "shift[3]"
   ]
  },
  {
   "cell_type": "markdown",
   "metadata": {
    "collapsed": false
   },
   "source": [
    "Dictionaries are frequently used in this manner.  That is, a programmer specifies a dictionary with a set of key-value pairs, and then later uses the dictionary by providing a key to receive the corresponding value.\n",
    "\n",
    "Let's consider another example of a dictionary in action."
   ]
  },
  {
   "cell_type": "code",
   "execution_count": 10,
   "metadata": {
    "collapsed": false
   },
   "outputs": [
   ],
   "source": [
    "sectors = {\n",
    "    'Materials': 'ASIX',\n",
    "    'Communications': 'T',\n",
    "    'Cyclical': 'FLWS',\n",
    "    'Energy': 'BATL',\n",
    "    'Financial': 'TROW',\n",
    "    'Healthcare': 'ABBV',\n",
    "    'Industries': 'MMM',\n",
    "    'Technology': 'BOX',\n",
    "    'Utilities': 'CPK'\n",
    "}"
   ]
  },
  {
   "cell_type": "markdown",
   "metadata": {
    "collapsed": false
   },
   "source": [
    "This dictionary uses sector names as keys and stock tickers as values.\n",
    "\n",
    "Suppose the robo-advisor asks a user what sector they are interested in learning more about.  For now, we don't have enough tools in our toolkit to provide the user with a detailed response (though we will shortly!).  Instead, let's give the robot a bit of personality."
   ]
  },
  {
   "cell_type": "code",
   "execution_count": 15,
   "metadata": {
    "collapsed": false
   },
   "outputs": [
   ],
   "source": [
    "def fave_sector():\n",
    "    need_fave = True\n",
    "    \n",
    "    while need_fave:\n",
    "        fave = input('''What is your favorite sector?\\n\n",
    "        \\t Materials\\n\n",
    "        \\t Communications\\n\n",
    "        \\t Energy\\n\n",
    "        \\t Financial\\n\n",
    "        \\t Healthcare\\n\n",
    "        \\t Industrials\\n\n",
    "        \\t Technology\\n\n",
    "        \\t Utilities\\n''')\n",
    "        if fave in sectors.keys():\n",
    "            need_fave = False\n",
    "            \n",
    "    print(\"That's cool,\", sectors[fave],\"is my favorite stock\")"
   ]
  },
  {
   "cell_type": "code",
   "execution_count": 16,
   "metadata": {
    "collapsed": false
   },
   "outputs": [
    {
     "name": "stdout",
     "output_type": "stream",
     "text": [
      "What is your favorite sector?\n",
      "\n",
      "        \t Materials\n",
      "\n",
      "        \t Communications\n",
      "\n",
      "        \t Energy\n",
      "\n",
      "        \t Financial\n",
      "\n",
      "        \t Healthcare\n",
      "\n",
      "        \t Industries\n",
      "\n",
      "        \t Technology\n",
      "\n",
      "        \t Utilities\n",
      "Industries\n",
      "That's cool, MMM is my favorite stock\n"
     ]
    }
   ],
   "source": [
    "fave_sector()"
   ]
  }
 ],
 "metadata": {
  "kernelspec": {
   "display_name": "Python 3 (system-wide)",
   "language": "python",
   "metadata": {
    "cocalc": {
     "description": "Python 3 programming language",
     "priority": 100,
     "url": "https://www.python.org/"
    }
   },
   "name": "python3",
   "resource_dir": "/ext/jupyter/kernels/python3"
  },
  "language_info": {
   "codemirror_mode": {
    "name": "ipython",
    "version": 3
   },
   "file_extension": ".py",
   "mimetype": "text/x-python",
   "name": "python",
   "nbconvert_exporter": "python",
   "pygments_lexer": "ipython3",
   "version": "3.9.1"
  }
 },
 "nbformat": 4,
 "nbformat_minor": 4
}