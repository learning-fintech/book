{
 "cells": [
  {
   "cell_type": "markdown",
   "metadata": {
    "collapsed": false
   },
   "source": [
    "### Dates\n",
    "\n",
    "If you see the string `'2013-02-14'`, your brain automatically reads this as \"February 14, 2013\".  Python doesn't have a brain.  If we want Python to translate a string that represents a date into something that it can recognize as a date, we need give it some specific instructions.\n",
    "\n",
    "What does it mean for a variable to be recognized as a date in Python?  Well, consider the date `'2013-01-31'`.  People with brains know that if we increment the date by one, the following date is `'2013-02-01'`.  Brainless Python doesn't understand something like `'2013-01-31'+1`.\n",
    "\n",
    "Just like a `pandas` *DataFrame* special variable type is the most useful way to store data in Python, the best way to work with dates is using the `datetime` module's *datetime* special variable type.  The `datetime` module's *datetime* variable has built-in features that enable Python to do things like add on a day (e.g. add a day to $1/31/2013$ to get $2/1/2013$).\n",
    "\n",
    "**Remember**: our goal is not to make things easy today, our goal is to be smart enough to make things easy for the rest of our lives!\n",
    "\n",
    "Begin by importing the `datetime` module"
   ]
  },
  {
   "cell_type": "code",
   "execution_count": 1,
   "metadata": {
    "collapsed": false
   },
   "outputs": [
   ],
   "source": [
    "import datetime"
   ]
  },
  {
   "cell_type": "markdown",
   "metadata": {
    "collapsed": false
   },
   "source": [
    "The `date` column in our `pandas` DataFrame is not a `datetime` variable.  We will create a new column, `dt`, that is.\n",
    "\n",
    "The `datetime` module has a function `datetime.datetime.strptime()` that takes a date and converts it into a special `datetime` variable.  Similarly the function `datetime.datetime.timedelta(days=1)` is how we could add $1$ day to our date."
   ]
  },
  {
   "cell_type": "code",
   "execution_count": 2,
   "metadata": {
    "collapsed": false
   },
   "outputs": [
    {
     "name": "stdout",
     "output_type": "stream",
     "text": [
      "20110131\n",
      "2011-01-31 00:00:00\n",
      "20110132\n",
      "2011-02-01 00:00:00\n"
     ]
    }
   ],
   "source": [
    "x = 20110131\n",
    "x_dt = datetime.datetime.strptime( str(x), '%Y%m%d' )\n",
    "print(x)\n",
    "print(x_dt)\n",
    "print(x+1)\n",
    "print(x_dt + datetime.timedelta(days=1))"
   ]
  },
  {
   "cell_type": "markdown",
   "metadata": {
    "collapsed": false
   },
   "source": [
    "Let's break down what happens in `x_dt = datetime.datetime.strptime(str(x), '%Y%m%d')`\n",
    "\n",
    "* `x_dt =` : define a new variable `x_dt` equal to...\n",
    "* `datetime.datetime.strptime()` : the `datetime` function capable of converting integer or string dates into `datetime` variables\n",
    "* `str(x)` : we happened to define x as an *integer*, so `str()` is the function we use to convert it to a *string*\n",
    "  * Remember, *integers* are variables where we can ask Python to do `x/2` and it understands what to do\n",
    "  * In contrast, a string like `y = 'dog'` does not have mathematical properties, and Python will freak out if you ask it to do `y/2`\n",
    "  * It just so happens that the `strptime()` function expects *string* arguments and not *integers*\n",
    "* `'%Y%m%d'` : this is how we tell the `strptime()` function what the string date is formatted like -- lookup the codes [here](http://strftime.org/)\n",
    "  * '20110131' is of type '%Y%m%d'\n",
    "  * '11Jan31' is of type '%y%b%d'\n",
    "  * '31January2011' is of type '%d%B%Y'\n",
    "  \n",
    "To add a new column to `data`, all we need to do is put `data['dt'] = ` and then tell Python what this column should be equal to.  For example:"
   ]
  },
  {
   "cell_type": "code",
   "execution_count": 3,
   "metadata": {
    "collapsed": false
   },
   "outputs": [
    {
     "data": {
      "text/html": [
       "<div>\n",
       "<style scoped>\n",
       "    .dataframe tbody tr th:only-of-type {\n",
       "        vertical-align: middle;\n",
       "    }\n",
       "\n",
       "    .dataframe tbody tr th {\n",
       "        vertical-align: top;\n",
       "    }\n",
       "\n",
       "    .dataframe thead th {\n",
       "        text-align: right;\n",
       "    }\n",
       "</style>\n",
       "<table border=\"1\" class=\"dataframe\">\n",
       "  <thead>\n",
       "    <tr style=\"text-align: right;\">\n",
       "      <th></th>\n",
       "      <th>date</th>\n",
       "      <th>open</th>\n",
       "      <th>high</th>\n",
       "      <th>low</th>\n",
       "      <th>close</th>\n",
       "      <th>volume</th>\n",
       "      <th>Name</th>\n",
       "      <th>ret</th>\n",
       "      <th>Mkt</th>\n",
       "      <th>SMB</th>\n",
       "      <th>HML</th>\n",
       "      <th>RMW</th>\n",
       "      <th>CMA</th>\n",
       "      <th>RF</th>\n",
       "      <th>dt</th>\n",
       "    </tr>\n",
       "  </thead>\n",
       "  <tbody>\n",
       "    <tr>\n",
       "      <th>0</th>\n",
       "      <td>2013-02-08</td>\n",
       "      <td>45.07</td>\n",
       "      <td>45.35</td>\n",
       "      <td>45.00</td>\n",
       "      <td>45.08</td>\n",
       "      <td>1824755</td>\n",
       "      <td>A</td>\n",
       "      <td>NaN</td>\n",
       "      <td>0.58</td>\n",
       "      <td>0.03</td>\n",
       "      <td>-0.21</td>\n",
       "      <td>0.12</td>\n",
       "      <td>-0.45</td>\n",
       "      <td>0.0</td>\n",
       "      <td>1</td>\n",
       "    </tr>\n",
       "    <tr>\n",
       "      <th>1</th>\n",
       "      <td>2013-02-11</td>\n",
       "      <td>45.17</td>\n",
       "      <td>45.18</td>\n",
       "      <td>44.45</td>\n",
       "      <td>44.60</td>\n",
       "      <td>2915405</td>\n",
       "      <td>A</td>\n",
       "      <td>-0.010648</td>\n",
       "      <td>-0.08</td>\n",
       "      <td>-0.03</td>\n",
       "      <td>0.39</td>\n",
       "      <td>-0.18</td>\n",
       "      <td>0.28</td>\n",
       "      <td>0.0</td>\n",
       "      <td>1</td>\n",
       "    </tr>\n",
       "    <tr>\n",
       "      <th>2</th>\n",
       "      <td>2013-02-12</td>\n",
       "      <td>44.81</td>\n",
       "      <td>44.95</td>\n",
       "      <td>44.50</td>\n",
       "      <td>44.62</td>\n",
       "      <td>2373731</td>\n",
       "      <td>A</td>\n",
       "      <td>0.000448</td>\n",
       "      <td>0.16</td>\n",
       "      <td>0.26</td>\n",
       "      <td>0.71</td>\n",
       "      <td>-0.54</td>\n",
       "      <td>0.45</td>\n",
       "      <td>0.0</td>\n",
       "      <td>1</td>\n",
       "    </tr>\n",
       "    <tr>\n",
       "      <th>3</th>\n",
       "      <td>2013-02-13</td>\n",
       "      <td>44.81</td>\n",
       "      <td>45.24</td>\n",
       "      <td>44.68</td>\n",
       "      <td>44.75</td>\n",
       "      <td>2052338</td>\n",
       "      <td>A</td>\n",
       "      <td>0.002913</td>\n",
       "      <td>0.14</td>\n",
       "      <td>0.08</td>\n",
       "      <td>-0.01</td>\n",
       "      <td>-0.01</td>\n",
       "      <td>-0.04</td>\n",
       "      <td>0.0</td>\n",
       "      <td>1</td>\n",
       "    </tr>\n",
       "    <tr>\n",
       "      <th>4</th>\n",
       "      <td>2013-02-14</td>\n",
       "      <td>44.72</td>\n",
       "      <td>44.78</td>\n",
       "      <td>44.36</td>\n",
       "      <td>44.58</td>\n",
       "      <td>3826245</td>\n",
       "      <td>A</td>\n",
       "      <td>-0.003799</td>\n",
       "      <td>0.11</td>\n",
       "      <td>0.32</td>\n",
       "      <td>0.12</td>\n",
       "      <td>-0.30</td>\n",
       "      <td>-0.21</td>\n",
       "      <td>0.0</td>\n",
       "      <td>1</td>\n",
       "    </tr>\n",
       "  </tbody>\n",
       "</table>\n",
       "</div>"
      ],
      "text/plain": [
       "         date   open   high    low  close   volume Name       ret   Mkt   SMB  \\\n",
       "0  2013-02-08  45.07  45.35  45.00  45.08  1824755    A       NaN  0.58  0.03   \n",
       "1  2013-02-11  45.17  45.18  44.45  44.60  2915405    A -0.010648 -0.08 -0.03   \n",
       "2  2013-02-12  44.81  44.95  44.50  44.62  2373731    A  0.000448  0.16  0.26   \n",
       "3  2013-02-13  44.81  45.24  44.68  44.75  2052338    A  0.002913  0.14  0.08   \n",
       "4  2013-02-14  44.72  44.78  44.36  44.58  3826245    A -0.003799  0.11  0.32   \n",
       "\n",
       "    HML   RMW   CMA   RF  dt  \n",
       "0 -0.21  0.12 -0.45  0.0   1  \n",
       "1  0.39 -0.18  0.28  0.0   1  \n",
       "2  0.71 -0.54  0.45  0.0   1  \n",
       "3 -0.01 -0.01 -0.04  0.0   1  \n",
       "4  0.12 -0.30 -0.21  0.0   1  "
      ]
     },
     "execution_count": 3,
     "metadata": {
     },
     "output_type": "execute_result"
    }
   ],
   "source": [
    "import pandas as pd\n",
    "data = pd.read_csv('https://raw.githubusercontent.com/learning-fintech/data/master/stocks/all_stocks_5yr.csv.gz')\n",
    "\n",
    "data['dt'] = 1\n",
    "data.head()"
   ]
  },
  {
   "cell_type": "markdown",
   "metadata": {
    "collapsed": false
   },
   "source": [
    "`data['dt'] = 1` creates a new column `dt` equal to all 1s.\n",
    "\n",
    "We want to take the column `date` and use the `strptime()` function to make a column `dt`\n",
    "\n",
    "Fortunately, `pandas` has a function `to_datetime()` that works like the `strptime()` function but it can convert and entire column all at once"
   ]
  },
  {
   "cell_type": "code",
   "execution_count": 4,
   "metadata": {
    "collapsed": false
   },
   "outputs": [
    {
     "data": {
      "text/html": [
       "<div>\n",
       "<style scoped>\n",
       "    .dataframe tbody tr th:only-of-type {\n",
       "        vertical-align: middle;\n",
       "    }\n",
       "\n",
       "    .dataframe tbody tr th {\n",
       "        vertical-align: top;\n",
       "    }\n",
       "\n",
       "    .dataframe thead th {\n",
       "        text-align: right;\n",
       "    }\n",
       "</style>\n",
       "<table border=\"1\" class=\"dataframe\">\n",
       "  <thead>\n",
       "    <tr style=\"text-align: right;\">\n",
       "      <th></th>\n",
       "      <th>date</th>\n",
       "      <th>open</th>\n",
       "      <th>high</th>\n",
       "      <th>low</th>\n",
       "      <th>close</th>\n",
       "      <th>volume</th>\n",
       "      <th>Name</th>\n",
       "      <th>ret</th>\n",
       "      <th>Mkt</th>\n",
       "      <th>SMB</th>\n",
       "      <th>HML</th>\n",
       "      <th>RMW</th>\n",
       "      <th>CMA</th>\n",
       "      <th>RF</th>\n",
       "      <th>dt</th>\n",
       "    </tr>\n",
       "  </thead>\n",
       "  <tbody>\n",
       "    <tr>\n",
       "      <th>0</th>\n",
       "      <td>2013-02-08</td>\n",
       "      <td>45.07</td>\n",
       "      <td>45.35</td>\n",
       "      <td>45.00</td>\n",
       "      <td>45.08</td>\n",
       "      <td>1824755</td>\n",
       "      <td>A</td>\n",
       "      <td>NaN</td>\n",
       "      <td>0.58</td>\n",
       "      <td>0.03</td>\n",
       "      <td>-0.21</td>\n",
       "      <td>0.12</td>\n",
       "      <td>-0.45</td>\n",
       "      <td>0.0</td>\n",
       "      <td>2013-02-08</td>\n",
       "    </tr>\n",
       "    <tr>\n",
       "      <th>1</th>\n",
       "      <td>2013-02-11</td>\n",
       "      <td>45.17</td>\n",
       "      <td>45.18</td>\n",
       "      <td>44.45</td>\n",
       "      <td>44.60</td>\n",
       "      <td>2915405</td>\n",
       "      <td>A</td>\n",
       "      <td>-0.010648</td>\n",
       "      <td>-0.08</td>\n",
       "      <td>-0.03</td>\n",
       "      <td>0.39</td>\n",
       "      <td>-0.18</td>\n",
       "      <td>0.28</td>\n",
       "      <td>0.0</td>\n",
       "      <td>2013-02-11</td>\n",
       "    </tr>\n",
       "    <tr>\n",
       "      <th>2</th>\n",
       "      <td>2013-02-12</td>\n",
       "      <td>44.81</td>\n",
       "      <td>44.95</td>\n",
       "      <td>44.50</td>\n",
       "      <td>44.62</td>\n",
       "      <td>2373731</td>\n",
       "      <td>A</td>\n",
       "      <td>0.000448</td>\n",
       "      <td>0.16</td>\n",
       "      <td>0.26</td>\n",
       "      <td>0.71</td>\n",
       "      <td>-0.54</td>\n",
       "      <td>0.45</td>\n",
       "      <td>0.0</td>\n",
       "      <td>2013-02-12</td>\n",
       "    </tr>\n",
       "    <tr>\n",
       "      <th>3</th>\n",
       "      <td>2013-02-13</td>\n",
       "      <td>44.81</td>\n",
       "      <td>45.24</td>\n",
       "      <td>44.68</td>\n",
       "      <td>44.75</td>\n",
       "      <td>2052338</td>\n",
       "      <td>A</td>\n",
       "      <td>0.002913</td>\n",
       "      <td>0.14</td>\n",
       "      <td>0.08</td>\n",
       "      <td>-0.01</td>\n",
       "      <td>-0.01</td>\n",
       "      <td>-0.04</td>\n",
       "      <td>0.0</td>\n",
       "      <td>2013-02-13</td>\n",
       "    </tr>\n",
       "    <tr>\n",
       "      <th>4</th>\n",
       "      <td>2013-02-14</td>\n",
       "      <td>44.72</td>\n",
       "      <td>44.78</td>\n",
       "      <td>44.36</td>\n",
       "      <td>44.58</td>\n",
       "      <td>3826245</td>\n",
       "      <td>A</td>\n",
       "      <td>-0.003799</td>\n",
       "      <td>0.11</td>\n",
       "      <td>0.32</td>\n",
       "      <td>0.12</td>\n",
       "      <td>-0.30</td>\n",
       "      <td>-0.21</td>\n",
       "      <td>0.0</td>\n",
       "      <td>2013-02-14</td>\n",
       "    </tr>\n",
       "  </tbody>\n",
       "</table>\n",
       "</div>"
      ],
      "text/plain": [
       "         date   open   high    low  close   volume Name       ret   Mkt   SMB  \\\n",
       "0  2013-02-08  45.07  45.35  45.00  45.08  1824755    A       NaN  0.58  0.03   \n",
       "1  2013-02-11  45.17  45.18  44.45  44.60  2915405    A -0.010648 -0.08 -0.03   \n",
       "2  2013-02-12  44.81  44.95  44.50  44.62  2373731    A  0.000448  0.16  0.26   \n",
       "3  2013-02-13  44.81  45.24  44.68  44.75  2052338    A  0.002913  0.14  0.08   \n",
       "4  2013-02-14  44.72  44.78  44.36  44.58  3826245    A -0.003799  0.11  0.32   \n",
       "\n",
       "    HML   RMW   CMA   RF         dt  \n",
       "0 -0.21  0.12 -0.45  0.0 2013-02-08  \n",
       "1  0.39 -0.18  0.28  0.0 2013-02-11  \n",
       "2  0.71 -0.54  0.45  0.0 2013-02-12  \n",
       "3 -0.01 -0.01 -0.04  0.0 2013-02-13  \n",
       "4  0.12 -0.30 -0.21  0.0 2013-02-14  "
      ]
     },
     "execution_count": 4,
     "metadata": {
     },
     "output_type": "execute_result"
    }
   ],
   "source": [
    "data['dt'] = pd.to_datetime(data['date'], format='%Y-%m-%d')\n",
    "data.head()"
   ]
  },
  {
   "cell_type": "markdown",
   "metadata": {
    "collapsed": false
   },
   "source": [
    "To the human eye, the columns `date` and `dt` look identical.  That's because `datetime` dates still print out nicely as formatted strings.\n",
    "\n",
    "We can use the `.dtypes` function that is built-in to `pandas` DataFrame objects to confirm that `dt` is indeed a `datetime` variable."
   ]
  },
  {
   "cell_type": "code",
   "execution_count": 5,
   "metadata": {
    "collapsed": false
   },
   "outputs": [
    {
     "data": {
      "text/plain": [
       "date              object\n",
       "open             float64\n",
       "high             float64\n",
       "low              float64\n",
       "close            float64\n",
       "volume             int64\n",
       "Name              object\n",
       "ret              float64\n",
       "Mkt              float64\n",
       "SMB              float64\n",
       "HML              float64\n",
       "RMW              float64\n",
       "CMA              float64\n",
       "RF               float64\n",
       "dt        datetime64[ns]\n",
       "dtype: object"
      ]
     },
     "execution_count": 5,
     "metadata": {
     },
     "output_type": "execute_result"
    }
   ],
   "source": [
    "data.dtypes"
   ]
  },
  {
   "cell_type": "markdown",
   "metadata": {
    "collapsed": false
   },
   "source": [
    "String columns will be reported as `object` types in pandas."
   ]
  }
 ],
 "metadata": {
  "kernelspec": {
   "display_name": "Python 3 (system-wide)",
   "language": "python",
   "metadata": {
    "cocalc": {
     "description": "Python 3 programming language",
     "priority": 100,
     "url": "https://www.python.org/"
    }
   },
   "name": "python3",
   "resource_dir": "/ext/jupyter/kernels/python3"
  },
  "language_info": {
   "codemirror_mode": {
    "name": "ipython",
    "version": 3
   },
   "file_extension": ".py",
   "mimetype": "text/x-python",
   "name": "python",
   "nbconvert_exporter": "python",
   "pygments_lexer": "ipython3",
   "version": "3.9.1"
  }
 },
 "nbformat": 4,
 "nbformat_minor": 4
}