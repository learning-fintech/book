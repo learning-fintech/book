{
 "cells": [
  {
   "cell_type": "markdown",
   "metadata": {
    "collapsed": false
   },
   "source": [
    "### Selecting Pieces of DataFrames\n",
    "\n",
    "As stated above, a very common use case with DataFrames is to select a row or subset of rows that satisfy a propery, as we did with `data[data['date'] == '2013-02-14'`.\n",
    "\n",
    "There are two other ways to refer to a piece of a DataFrame.\n",
    "\n",
    "**Option 1**: refer to rows and columns by their *numbering*\n",
    "\n",
    "For example, `data.iloc[0]` gives you the 0th row:"
   ]
  },
  {
   "cell_type": "code",
   "execution_count": 1,
   "metadata": {
    "collapsed": false
   },
   "outputs": [
    {
     "data": {
      "text/plain": [
       "date      2013-02-08\n",
       "open           45.07\n",
       "high           45.35\n",
       "low             45.0\n",
       "close          45.08\n",
       "volume       1824755\n",
       "Name               A\n",
       "ret              NaN\n",
       "Mkt             0.58\n",
       "SMB             0.03\n",
       "HML            -0.21\n",
       "RMW             0.12\n",
       "CMA            -0.45\n",
       "RF               0.0\n",
       "Name: 0, dtype: object"
      ]
     },
     "execution_count": 1,
     "metadata": {
     },
     "output_type": "execute_result"
    }
   ],
   "source": [
    "import pandas as pd\n",
    "data = pd.read_csv('https://raw.githubusercontent.com/learning-fintech/data/master/stocks/all_stocks_5yr.csv.gz')\n",
    "\n",
    "data.iloc[0]"
   ]
  },
  {
   "cell_type": "markdown",
   "metadata": {
    "collapsed": false
   },
   "source": [
    "And likewise `data.iloc[0:2]` gives you rows 0 and 1."
   ]
  },
  {
   "cell_type": "code",
   "execution_count": 2,
   "metadata": {
    "collapsed": false
   },
   "outputs": [
    {
     "data": {
      "text/html": [
       "<div>\n",
       "<style scoped>\n",
       "    .dataframe tbody tr th:only-of-type {\n",
       "        vertical-align: middle;\n",
       "    }\n",
       "\n",
       "    .dataframe tbody tr th {\n",
       "        vertical-align: top;\n",
       "    }\n",
       "\n",
       "    .dataframe thead th {\n",
       "        text-align: right;\n",
       "    }\n",
       "</style>\n",
       "<table border=\"1\" class=\"dataframe\">\n",
       "  <thead>\n",
       "    <tr style=\"text-align: right;\">\n",
       "      <th></th>\n",
       "      <th>date</th>\n",
       "      <th>open</th>\n",
       "      <th>high</th>\n",
       "      <th>low</th>\n",
       "      <th>close</th>\n",
       "      <th>volume</th>\n",
       "      <th>Name</th>\n",
       "      <th>ret</th>\n",
       "      <th>Mkt</th>\n",
       "      <th>SMB</th>\n",
       "      <th>HML</th>\n",
       "      <th>RMW</th>\n",
       "      <th>CMA</th>\n",
       "      <th>RF</th>\n",
       "    </tr>\n",
       "  </thead>\n",
       "  <tbody>\n",
       "    <tr>\n",
       "      <th>0</th>\n",
       "      <td>2013-02-08</td>\n",
       "      <td>45.07</td>\n",
       "      <td>45.35</td>\n",
       "      <td>45.00</td>\n",
       "      <td>45.08</td>\n",
       "      <td>1824755</td>\n",
       "      <td>A</td>\n",
       "      <td>NaN</td>\n",
       "      <td>0.58</td>\n",
       "      <td>0.03</td>\n",
       "      <td>-0.21</td>\n",
       "      <td>0.12</td>\n",
       "      <td>-0.45</td>\n",
       "      <td>0.0</td>\n",
       "    </tr>\n",
       "    <tr>\n",
       "      <th>1</th>\n",
       "      <td>2013-02-11</td>\n",
       "      <td>45.17</td>\n",
       "      <td>45.18</td>\n",
       "      <td>44.45</td>\n",
       "      <td>44.60</td>\n",
       "      <td>2915405</td>\n",
       "      <td>A</td>\n",
       "      <td>-0.010648</td>\n",
       "      <td>-0.08</td>\n",
       "      <td>-0.03</td>\n",
       "      <td>0.39</td>\n",
       "      <td>-0.18</td>\n",
       "      <td>0.28</td>\n",
       "      <td>0.0</td>\n",
       "    </tr>\n",
       "  </tbody>\n",
       "</table>\n",
       "</div>"
      ],
      "text/plain": [
       "         date   open   high    low  close   volume Name       ret   Mkt   SMB  \\\n",
       "0  2013-02-08  45.07  45.35  45.00  45.08  1824755    A       NaN  0.58  0.03   \n",
       "1  2013-02-11  45.17  45.18  44.45  44.60  2915405    A -0.010648 -0.08 -0.03   \n",
       "\n",
       "    HML   RMW   CMA   RF  \n",
       "0 -0.21  0.12 -0.45  0.0  \n",
       "1  0.39 -0.18  0.28  0.0  "
      ]
     },
     "execution_count": 2,
     "metadata": {
     },
     "output_type": "execute_result"
    }
   ],
   "source": [
    "data.iloc[0:2]"
   ]
  },
  {
   "cell_type": "markdown",
   "metadata": {
    "collapsed": false
   },
   "source": [
    "Here we see an example of a quirk like what we experienced with `range(k,n)` earlier.  Recall that `range(k,n)` will give you the numbers: k, k+1, k+2, ..., n-1.  For example `range(0,2)` gives you: 0, 1 (but not 2!).  Likewise, if we want to refer to a range of numbers within a list, set of rows in a dataframe, etc. we can use the `k:n` to get elements k through n-1.  For example, suppose that we have a shopping list:\n",
    "```\n",
    "shopping_list = ['apples', 'bananas', 'peas']\n",
    "```\n",
    "and, since everybody hates peas, we want to exclude that from our list:\n",
    "```\n",
    "shopping_list[0:2]\n",
    "```\n",
    "would select only the fruits.\n",
    "\n",
    "To get refer to *column* indicies rather than row numbers, we need to use the fact that DataFrames have a *[row,column]* organization to them.  So if you want to get row 0, column 2, you would type"
   ]
  },
  {
   "cell_type": "code",
   "execution_count": 3,
   "metadata": {
    "collapsed": false
   },
   "outputs": [
    {
     "data": {
      "text/plain": [
       "0    1824755\n",
       "1    2915405\n",
       "Name: volume, dtype: int64"
      ]
     },
     "execution_count": 3,
     "metadata": {
     },
     "output_type": "execute_result"
    }
   ],
   "source": [
    "data.iloc[0:2,5]"
   ]
  },
  {
   "cell_type": "markdown",
   "metadata": {
    "collapsed": false
   },
   "source": [
    "Note that if we want to select *every* column of row 0, using the command\n",
    "```\n",
    "data.iloc[0]\n",
    "```\n",
    "works because Python understand that the 0 refers to the row number, and by default it assumes that you would want all the columns.  If instead you want to select *every* row of column 0, we need to do\n",
    "```\n",
    "data.iloc[:,0]\n",
    "```\n",
    "Here, in the row-specification, the statement `:` is a shortcut for saying \"all the rows\".  That is, if instead of writing `k:n` you instead just write `:`, Python understands this to mean that `k` should be 0 and `n` should be the biggest possible number that would make sense (i.e. the number of rows).\n",
    "\n",
    "**Option 2**: refer to rows and columns by their *names*\n",
    "\n",
    "Return once again to the first snapshot of this data:"
   ]
  },
  {
   "cell_type": "code",
   "execution_count": 4,
   "metadata": {
    "collapsed": false
   },
   "outputs": [
    {
     "data": {
      "text/html": [
       "<div>\n",
       "<style scoped>\n",
       "    .dataframe tbody tr th:only-of-type {\n",
       "        vertical-align: middle;\n",
       "    }\n",
       "\n",
       "    .dataframe tbody tr th {\n",
       "        vertical-align: top;\n",
       "    }\n",
       "\n",
       "    .dataframe thead th {\n",
       "        text-align: right;\n",
       "    }\n",
       "</style>\n",
       "<table border=\"1\" class=\"dataframe\">\n",
       "  <thead>\n",
       "    <tr style=\"text-align: right;\">\n",
       "      <th></th>\n",
       "      <th>date</th>\n",
       "      <th>open</th>\n",
       "      <th>high</th>\n",
       "      <th>low</th>\n",
       "      <th>close</th>\n",
       "      <th>volume</th>\n",
       "      <th>Name</th>\n",
       "      <th>ret</th>\n",
       "      <th>Mkt</th>\n",
       "      <th>SMB</th>\n",
       "      <th>HML</th>\n",
       "      <th>RMW</th>\n",
       "      <th>CMA</th>\n",
       "      <th>RF</th>\n",
       "    </tr>\n",
       "  </thead>\n",
       "  <tbody>\n",
       "    <tr>\n",
       "      <th>0</th>\n",
       "      <td>2013-02-08</td>\n",
       "      <td>45.07</td>\n",
       "      <td>45.35</td>\n",
       "      <td>45.00</td>\n",
       "      <td>45.08</td>\n",
       "      <td>1824755</td>\n",
       "      <td>A</td>\n",
       "      <td>NaN</td>\n",
       "      <td>0.58</td>\n",
       "      <td>0.03</td>\n",
       "      <td>-0.21</td>\n",
       "      <td>0.12</td>\n",
       "      <td>-0.45</td>\n",
       "      <td>0.0</td>\n",
       "    </tr>\n",
       "    <tr>\n",
       "      <th>1</th>\n",
       "      <td>2013-02-11</td>\n",
       "      <td>45.17</td>\n",
       "      <td>45.18</td>\n",
       "      <td>44.45</td>\n",
       "      <td>44.60</td>\n",
       "      <td>2915405</td>\n",
       "      <td>A</td>\n",
       "      <td>-0.010648</td>\n",
       "      <td>-0.08</td>\n",
       "      <td>-0.03</td>\n",
       "      <td>0.39</td>\n",
       "      <td>-0.18</td>\n",
       "      <td>0.28</td>\n",
       "      <td>0.0</td>\n",
       "    </tr>\n",
       "    <tr>\n",
       "      <th>2</th>\n",
       "      <td>2013-02-12</td>\n",
       "      <td>44.81</td>\n",
       "      <td>44.95</td>\n",
       "      <td>44.50</td>\n",
       "      <td>44.62</td>\n",
       "      <td>2373731</td>\n",
       "      <td>A</td>\n",
       "      <td>0.000448</td>\n",
       "      <td>0.16</td>\n",
       "      <td>0.26</td>\n",
       "      <td>0.71</td>\n",
       "      <td>-0.54</td>\n",
       "      <td>0.45</td>\n",
       "      <td>0.0</td>\n",
       "    </tr>\n",
       "    <tr>\n",
       "      <th>3</th>\n",
       "      <td>2013-02-13</td>\n",
       "      <td>44.81</td>\n",
       "      <td>45.24</td>\n",
       "      <td>44.68</td>\n",
       "      <td>44.75</td>\n",
       "      <td>2052338</td>\n",
       "      <td>A</td>\n",
       "      <td>0.002913</td>\n",
       "      <td>0.14</td>\n",
       "      <td>0.08</td>\n",
       "      <td>-0.01</td>\n",
       "      <td>-0.01</td>\n",
       "      <td>-0.04</td>\n",
       "      <td>0.0</td>\n",
       "    </tr>\n",
       "    <tr>\n",
       "      <th>4</th>\n",
       "      <td>2013-02-14</td>\n",
       "      <td>44.72</td>\n",
       "      <td>44.78</td>\n",
       "      <td>44.36</td>\n",
       "      <td>44.58</td>\n",
       "      <td>3826245</td>\n",
       "      <td>A</td>\n",
       "      <td>-0.003799</td>\n",
       "      <td>0.11</td>\n",
       "      <td>0.32</td>\n",
       "      <td>0.12</td>\n",
       "      <td>-0.30</td>\n",
       "      <td>-0.21</td>\n",
       "      <td>0.0</td>\n",
       "    </tr>\n",
       "  </tbody>\n",
       "</table>\n",
       "</div>"
      ],
      "text/plain": [
       "         date   open   high    low  close   volume Name       ret   Mkt   SMB  \\\n",
       "0  2013-02-08  45.07  45.35  45.00  45.08  1824755    A       NaN  0.58  0.03   \n",
       "1  2013-02-11  45.17  45.18  44.45  44.60  2915405    A -0.010648 -0.08 -0.03   \n",
       "2  2013-02-12  44.81  44.95  44.50  44.62  2373731    A  0.000448  0.16  0.26   \n",
       "3  2013-02-13  44.81  45.24  44.68  44.75  2052338    A  0.002913  0.14  0.08   \n",
       "4  2013-02-14  44.72  44.78  44.36  44.58  3826245    A -0.003799  0.11  0.32   \n",
       "\n",
       "    HML   RMW   CMA   RF  \n",
       "0 -0.21  0.12 -0.45  0.0  \n",
       "1  0.39 -0.18  0.28  0.0  \n",
       "2  0.71 -0.54  0.45  0.0  \n",
       "3 -0.01 -0.01 -0.04  0.0  \n",
       "4  0.12 -0.30 -0.21  0.0  "
      ]
     },
     "execution_count": 4,
     "metadata": {
     },
     "output_type": "execute_result"
    }
   ],
   "source": [
    "data.head()"
   ]
  },
  {
   "cell_type": "markdown",
   "metadata": {
    "collapsed": false
   },
   "source": [
    "and observe that the columns have names: `date`, `open`, `high`, `low`, `close`, `volume`, and `Name`.  Note that these names are case sensitive so that the last column can be accessed by typing `ret['Name']` but not `ret['name']`.  This dataset that we loaded does not have row names, so by default Pandas will give each row a name equal to its row numer: 0, 1, 2, etc.\n",
    "\n",
    "Whereas `ret.iloc[:,0]` gave you all the data in column 0, we could instead get all the data from column `date` with `ret.loc[:,'date']`.  The shortcut for this, since it is the usual way we slice data, is to type `ret['date']`.\n",
    "\n",
    "The first date in the dataset can be accesed with row name `0` and column name `date` by typing:"
   ]
  },
  {
   "cell_type": "code",
   "execution_count": 5,
   "metadata": {
    "collapsed": false
   },
   "outputs": [
    {
     "data": {
      "text/plain": [
       "1824755"
      ]
     },
     "execution_count": 5,
     "metadata": {
     },
     "output_type": "execute_result"
    }
   ],
   "source": [
    "data.loc[0, 'volume']"
   ]
  }
 ],
 "metadata": {
  "kernelspec": {
   "display_name": "Python 3 (system-wide)",
   "language": "python",
   "metadata": {
    "cocalc": {
     "description": "Python 3 programming language",
     "priority": 100,
     "url": "https://www.python.org/"
    }
   },
   "name": "python3",
   "resource_dir": "/ext/jupyter/kernels/python3"
  },
  "language_info": {
   "codemirror_mode": {
    "name": "ipython",
    "version": 3
   },
   "file_extension": ".py",
   "mimetype": "text/x-python",
   "name": "python",
   "nbconvert_exporter": "python",
   "pygments_lexer": "ipython3",
   "version": "3.9.1"
  }
 },
 "nbformat": 4,
 "nbformat_minor": 4
}