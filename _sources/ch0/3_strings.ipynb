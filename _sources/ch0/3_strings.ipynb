{
 "cells": [
  {
   "cell_type": "markdown",
   "id": "8b8bff94",
   "metadata": {},
   "source": [
    "## Strings\n",
    "\n",
    "Strings are a simple but powerful tool for storing non-numerical information.\n",
    "\n",
    "String variables store textual data.  To tell Python that we want to treat some text as a string, we use either single quotations `'` or double quotations `\"`.  Either format is a valid approach."
   ]
  },
  {
   "cell_type": "code",
   "execution_count": 1,
   "id": "6ca2c8a3",
   "metadata": {},
   "outputs": [],
   "source": [
    "fruit = 'banana'"
   ]
  },
  {
   "cell_type": "code",
   "execution_count": 2,
   "id": "8dcc94f0",
   "metadata": {},
   "outputs": [],
   "source": [
    "vegetable = \"carrot\""
   ]
  },
  {
   "cell_type": "markdown",
   "id": "c3daeeae",
   "metadata": {},
   "source": [
    "Use of single or double quotes can make nested quotations easier.  For instance, what if you want to use an apostrophe inside a string variable?  Consider the apostrophe in:\n",
    "> This isn't an interesting sentence.\n",
    "\n",
    "In that case, be sure to use double quotes to mark your string."
   ]
  },
  {
   "cell_type": "code",
   "execution_count": 3,
   "id": "42e749ba",
   "metadata": {},
   "outputs": [],
   "source": [
    "sent = \"This isn't an interesting sentence.\" # this code will work"
   ]
  },
  {
   "cell_type": "code",
   "execution_count": 4,
   "id": "0ff3d877",
   "metadata": {},
   "outputs": [
    {
     "ename": "SyntaxError",
     "evalue": "invalid syntax (<ipython-input-4-fcbf08c4a876>, line 1)",
     "output_type": "error",
     "traceback": [
      "\u001b[1;36m  File \u001b[1;32m\"<ipython-input-4-fcbf08c4a876>\"\u001b[1;36m, line \u001b[1;32m1\u001b[0m\n\u001b[1;33m    sent = 'This isn't an interesting sentence. # this has problems\u001b[0m\n\u001b[1;37m                     ^\u001b[0m\n\u001b[1;31mSyntaxError\u001b[0m\u001b[1;31m:\u001b[0m invalid syntax\n"
     ]
    }
   ],
   "source": [
    "sent = 'This isn't an interesting sentence. # this has problems"
   ]
  },
  {
   "cell_type": "markdown",
   "id": "7c0a0cd6",
   "metadata": {},
   "source": [
    "Because Python won't be able to differentiate between the `'` character being used as an apostrophe and the `'` character being used to signify a single quote, the easiest way to enter the above example into Python is to use double quotes for the string.\n",
    "\n",
    "\n",
    "Similarly, use single quotes to mark the string if you want to include double quotes inside the string.  Consider the example:\n",
    "> Bob said, \"Yes, that is a boring sentence.\"\n",
    "\n",
    "In this case, the easiest way to do things is to enter this as a string in Python is to use single quotes."
   ]
  },
  {
   "cell_type": "code",
   "execution_count": 6,
   "id": "69bb19f8",
   "metadata": {},
   "outputs": [],
   "source": [
    "quote = 'Bob said, \"Yes, that is a boring sentence.\"'"
   ]
  },
  {
   "cell_type": "markdown",
   "id": "95cb8863",
   "metadata": {},
   "source": [
    "### Escape Characters\n",
    "\n",
    "The trickiest problem with quotations is something like the following example:\n",
    "> Bob said, \"Yes, that's a boring sentence.\"\n",
    "\n",
    "Note that the textual data we want to include here has both double quotes and a single quote inside the data.  To enter this text into Python as a string variable, we need to use an **escape character**.\n",
    "\n",
    "Escape characters are special commands inside of a string variable that tell Python that the data is something special.  Without an escape character inside a string, Python interprets every character literally.  For instance, the literal interpretation of `n` is that it represents the letter \"n\".  The literal interpretation of `'` is that it represents a single quote.  We can \"escape\" from this literal interpretation of a character by prefacing that character with `\\`.  The `\\` symbol tells Python to treat the information following the `\\` specially.  In the example here, `\\'` will tell Python that the `'` character is to be treated as part of the data, rather than a potential end for a single quoted string."
   ]
  },
  {
   "cell_type": "code",
   "execution_count": 7,
   "id": "d98538d2",
   "metadata": {},
   "outputs": [
    {
     "name": "stdout",
     "output_type": "stream",
     "text": [
      "Bob said, \"Yes, that's a boring sentence.\"\n"
     ]
    }
   ],
   "source": [
    "quote = 'Bob said, \"Yes, that\\'s a boring sentence.\"'\n",
    "print(quote)"
   ]
  },
  {
   "cell_type": "markdown",
   "id": "2e2f4376",
   "metadata": {},
   "source": [
    "There are only a handful of escape characters to remember.  The rest can be Googled if you need them.  The escape characters worth remembering are:\n",
    "- `\\'`: tells Python to treat `'` as a single quote (apostrophe) inside the string data\n",
    "- `\\\"`: tells Python to treat `\"` as a double quote inside the string data\n",
    "- '\\n' : tells Python to enter a line break.\n",
    "- '\\t' : tells Python to enter a tab."
   ]
  },
  {
   "cell_type": "code",
   "execution_count": 9,
   "id": "a7a33221",
   "metadata": {},
   "outputs": [
    {
     "name": "stdout",
     "output_type": "stream",
     "text": [
      "Line one of text.\n",
      "Line two of text\n"
     ]
    }
   ],
   "source": [
    "print('Line one of text.\\nLine two of text')"
   ]
  },
  {
   "cell_type": "code",
   "execution_count": 10,
   "id": "887e9b51",
   "metadata": {},
   "outputs": [
    {
     "name": "stdout",
     "output_type": "stream",
     "text": [
      "\tThis is an indented sentenece.\n"
     ]
    }
   ],
   "source": [
    "print('\\tThis is an indented sentenece.')"
   ]
  },
  {
   "cell_type": "markdown",
   "id": "8de86b54",
   "metadata": {},
   "source": [
    "<span style=\"color:red\">**Concept check**:</span>  Set the variable, `v`, below equal to a string such that the second line evaluates to (aka prints out) the following:\n",
    "```\n",
    "That isn't a smart investment.\n",
    "You should but Dogecoin instead.\n",
    "    (just kidding)\n",
    "```"
   ]
  },
  {
   "cell_type": "code",
   "execution_count": null,
   "id": "00a4f8ac",
   "metadata": {},
   "outputs": [],
   "source": [
    "# complete concept check here\n",
    "v =\n",
    "print(v)"
   ]
  },
  {
   "cell_type": "markdown",
   "id": "ba8238d8",
   "metadata": {},
   "source": [
    "### Characters\n",
    "\n",
    "A string is a collection of characters.  The string `'cat'` is comprised of the individual characters `'c'`, `'a'`, and `'t'`.  The string `'my\\ncat'` is made up of the characters `'m'`, `'y'`, `'\\n'`, `'c'`, `'a'`, `'t'`.  Note that the third character in this latter example is an escape character `'\\n`' rather than an alphanumeric character (the letters `'a'`-`'z'` or numbers `'0'`-`'9'`) or a symbol (e.g. `'!'`, `'@'`, or `'#'`).\n",
    "\n",
    "Becuase strings are comprised of characters, it is helpful to know how to access individual characters of those strings.  We will work with the examples `'AAPL Stock'` and `'F Stock'` for a moment.  These two strings are items that we may come accross in a written document.  Suppose that we need to extract the ticker names from these strings.  For instance, if these strings are items that we've extracted from a news article or a tweet, then finding the ticker names helps us determine what the subject of the article/tweet is.\n",
    "\n",
    "The first character of a string is the $0^{th}$ character in the string.  This is a quirk of Python, along with a number of many other programming languages.  Python begins counting at zero, rather than at one.  Hence, the first character is character $0$, the second character is character number $1$, etc.  We can select character number $n$ with square brackets that follow immediately after the string name."
   ]
  },
  {
   "cell_type": "code",
   "execution_count": 11,
   "id": "ab4b26b6",
   "metadata": {},
   "outputs": [
    {
     "name": "stdout",
     "output_type": "stream",
     "text": [
      "c\n"
     ]
    }
   ],
   "source": [
    "string = 'cat'\n",
    "print(string[0])"
   ]
  },
  {
   "cell_type": "code",
   "execution_count": 12,
   "id": "83653572",
   "metadata": {},
   "outputs": [
    {
     "name": "stdout",
     "output_type": "stream",
     "text": [
      "a\n"
     ]
    }
   ],
   "source": [
    "print(string[1])"
   ]
  },
  {
   "cell_type": "markdown",
   "id": "0384d26a",
   "metadata": {},
   "source": [
    "Along with selecting a single character with its position in the string, we can choose a subset of characters with a set of sequential numbers.  Such numbers are listed with a starting point and ending point.  For instance, if we want the numbers $1$, $2$, $3$, then we would indicate the starting point of $1$ and the ending point of $4$.  Yes, $4$, *not* $3$.  The ending point is the number *after* the last number to be included.\n",
    "\n",
    "Consequently, `0:2` would select characters number $0$ and $1$ because the starting point is $0$ and the ending point is $1$."
   ]
  },
  {
   "cell_type": "code",
   "execution_count": 15,
   "id": "aa8466ad",
   "metadata": {},
   "outputs": [
    {
     "name": "stdout",
     "output_type": "stream",
     "text": [
      "ca\n"
     ]
    }
   ],
   "source": [
    "print(string[0:2])"
   ]
  },
  {
   "cell_type": "markdown",
   "id": "ab9d849b",
   "metadata": {},
   "source": [
    "Similarly, `1:3` selects characters number $1$ and $2$ because the starting point is $1$ and the ending point is $3$."
   ]
  },
  {
   "cell_type": "code",
   "execution_count": 16,
   "id": "b0b7f486",
   "metadata": {},
   "outputs": [
    {
     "name": "stdout",
     "output_type": "stream",
     "text": [
      "at\n"
     ]
    }
   ],
   "source": [
    "print(string[1:3])"
   ]
  },
  {
   "cell_type": "markdown",
   "id": "8449345f",
   "metadata": {},
   "source": [
    "The ability to select a substring from a string is powerful, as we will see when applied to our example strings `'AAPL Stock'` and `'F Stock'`.\n",
    "\n",
    "### Searching Strings\n",
    "\n",
    "To find a particular character in a string, we can use the `.find()` function.\n",
    "\n",
    "For example, `'cat'.find('a')` takes the string `'cat'` and applies the function `.find()` to it.  We specify the character `'a'` inside the function (inside the parentheses) to indicate that we are searching for the character `'a'`.  This command in Python will return the number $1$ because the character `'a'` first appears in the string `'cat'` at position $1$."
   ]
  },
  {
   "cell_type": "code",
   "execution_count": 17,
   "id": "e78e566d",
   "metadata": {},
   "outputs": [
    {
     "data": {
      "text/plain": [
       "1"
      ]
     },
     "execution_count": 17,
     "metadata": {},
     "output_type": "execute_result"
    }
   ],
   "source": [
    "'cat'.find('a')"
   ]
  },
  {
   "cell_type": "markdown",
   "id": "13af0acc",
   "metadata": {},
   "source": [
    "Note that `.find()` will give us only the position of the first instance of a desired character.  Suppose that we want to find the position of the character `'o'` in the string `'google'`.  The command `'google.find('o')` will return the number $1$.  It will never give us back the number $2$, even though the character `'o'` also appears in that position in the string `'google'`."
   ]
  },
  {
   "cell_type": "code",
   "execution_count": 18,
   "id": "8768808c",
   "metadata": {},
   "outputs": [
    {
     "data": {
      "text/plain": [
       "1"
      ]
     },
     "execution_count": 18,
     "metadata": {},
     "output_type": "execute_result"
    }
   ],
   "source": [
    "'google'.find('o')"
   ]
  },
  {
   "cell_type": "code",
   "execution_count": 19,
   "id": "906021cc",
   "metadata": {},
   "outputs": [
    {
     "data": {
      "text/plain": [
       "2"
      ]
     },
     "execution_count": 19,
     "metadata": {},
     "output_type": "execute_result"
    }
   ],
   "source": [
    "'This is a sentence'.find('is')"
   ]
  },
  {
   "cell_type": "markdown",
   "id": "640ff995",
   "metadata": {},
   "source": [
    "If a given character is *not* found in a string, the `.find()` function will return `-1`."
   ]
  },
  {
   "cell_type": "code",
   "execution_count": 20,
   "id": "3ec2132b",
   "metadata": {},
   "outputs": [
    {
     "data": {
      "text/plain": [
       "-1"
      ]
     },
     "execution_count": 20,
     "metadata": {},
     "output_type": "execute_result"
    }
   ],
   "source": [
    "'google'.find('a')"
   ]
  },
  {
   "cell_type": "markdown",
   "id": "c7a0373f",
   "metadata": {},
   "source": [
    "<span style=\"color:red\">**Concept check**:</span>  Find the position of the ticker `NVDA` in the following string."
   ]
  },
  {
   "cell_type": "code",
   "execution_count": null,
   "id": "c6f37faa",
   "metadata": {},
   "outputs": [],
   "source": [
    "# complete concept check here\n",
    "string = 'Analysts expect earnings for NVDA to rise over the next four quarters.'\n"
   ]
  },
  {
   "cell_type": "markdown",
   "id": "d269d17b",
   "metadata": {},
   "source": [
    "### String Concatenation\n",
    "\n",
    "The way to combine (also known as *concatenating*) two or more strings is to use the `+` character.  Just like `+` combines integers and/or floating point numbers, `+` combines strings."
   ]
  },
  {
   "cell_type": "code",
   "execution_count": 21,
   "id": "4db2b8fe",
   "metadata": {},
   "outputs": [
    {
     "data": {
      "text/plain": [
       "'AppleInc.'"
      ]
     },
     "execution_count": 21,
     "metadata": {},
     "output_type": "execute_result"
    }
   ],
   "source": [
    "word1 = 'Apple'\n",
    "word2 = 'Inc.'\n",
    "word1 + word2"
   ]
  },
  {
   "cell_type": "markdown",
   "id": "f4f796f1",
   "metadata": {},
   "source": [
    "Notice that `+` does not join together strings with spaces between them.  There are very reasonable applications in which no spacing should occur between strings, and so Python will not assume that you'd like to have spaces between strings.\n",
    "\n",
    "In the above example, we can safely say that the combined string would look more reasonable with a space between the two words.  To achive this, simply include a `' '` string as a middle string in what becomes a concatenation of three strings."
   ]
  },
  {
   "cell_type": "code",
   "execution_count": 22,
   "id": "30cd8669",
   "metadata": {},
   "outputs": [
    {
     "data": {
      "text/plain": [
       "'Apple Inc.'"
      ]
     },
     "execution_count": 22,
     "metadata": {},
     "output_type": "execute_result"
    }
   ],
   "source": [
    "word1 + ' ' + word2"
   ]
  },
  {
   "cell_type": "markdown",
   "id": "434a65de",
   "metadata": {},
   "source": [
    "Note that tricky issues arrive if we use `+` in circumstances that include both strings and numbers.  Obviously, one can't add strings and numbers together in any sort of algebraic interpretation of the word \"add\".  Importantly, however, is that Python won't assume that, in the presence of both strings and numbers, a `+` character should be interpreted as concatenation.  To clarify these last two sentences, let's attempt two different lines of code.\n",
    "\n",
    "First, enter a number plus a string."
   ]
  },
  {
   "cell_type": "code",
   "execution_count": 24,
   "id": "2d7c6ddc",
   "metadata": {},
   "outputs": [
    {
     "ename": "TypeError",
     "evalue": "unsupported operand type(s) for +: 'int' and 'str'",
     "output_type": "error",
     "traceback": [
      "\u001b[1;31m---------------------------------------------------------------------------\u001b[0m",
      "\u001b[1;31mTypeError\u001b[0m                                 Traceback (most recent call last)",
      "\u001b[1;32m<ipython-input-24-5043558bd679>\u001b[0m in \u001b[0;36m<module>\u001b[1;34m\u001b[0m\n\u001b[1;32m----> 1\u001b[1;33m \u001b[1;36m8\u001b[0m \u001b[1;33m+\u001b[0m \u001b[1;34m'1'\u001b[0m\u001b[1;33m\u001b[0m\u001b[1;33m\u001b[0m\u001b[0m\n\u001b[0m",
      "\u001b[1;31mTypeError\u001b[0m: unsupported operand type(s) for +: 'int' and 'str'"
     ]
    }
   ],
   "source": [
    "8 + '1'"
   ]
  },
  {
   "cell_type": "markdown",
   "id": "69e705d9",
   "metadata": {},
   "source": [
    "Python prints out an error.  The message, in a nutshell, informs us that we can't use `+` in the presence of an `int` and a `str` variable type.\n",
    "\n",
    "Second, try things the other way around.  Enter a string plus a number."
   ]
  },
  {
   "cell_type": "code",
   "execution_count": 25,
   "id": "b584863b",
   "metadata": {},
   "outputs": [
    {
     "ename": "TypeError",
     "evalue": "can only concatenate str (not \"int\") to str",
     "output_type": "error",
     "traceback": [
      "\u001b[1;31m---------------------------------------------------------------------------\u001b[0m",
      "\u001b[1;31mTypeError\u001b[0m                                 Traceback (most recent call last)",
      "\u001b[1;32m<ipython-input-25-73173934f639>\u001b[0m in \u001b[0;36m<module>\u001b[1;34m\u001b[0m\n\u001b[1;32m----> 1\u001b[1;33m \u001b[1;34m'1'\u001b[0m \u001b[1;33m+\u001b[0m \u001b[1;36m8\u001b[0m\u001b[1;33m\u001b[0m\u001b[1;33m\u001b[0m\u001b[0m\n\u001b[0m",
      "\u001b[1;31mTypeError\u001b[0m: can only concatenate str (not \"int\") to str"
     ]
    }
   ],
   "source": [
    "'1' + 8"
   ]
  },
  {
   "cell_type": "markdown",
   "id": "9c776e4d",
   "metadata": {},
   "source": [
    "Again, Python prints out an error.  This time the message is different.  It warns us that Python can only concatenate `str` variables with other `str` variables (and not `int` variables.\n",
    "\n",
    "Why do the messages differ?  In the first case, Python sees a number (integer) first.  It then assumes that the `+` character must be addition, and gets confused and raises an error when, after the `+` character, it encounters a string.  In the second case, Python sees a string first.  It then assumes that the `+` character is meant to signify concatenation, and thus becomes confused and raises and error when it sees an integer.\n",
    "\n",
    "The solution to the problem of combining strings and numbers together is called *type conversion*, and it will be discussed later in this chapter."
   ]
  }
 ],
 "metadata": {
  "kernelspec": {
   "display_name": "Python 3",
   "language": "python",
   "name": "python3"
  },
  "language_info": {
   "codemirror_mode": {
    "name": "ipython",
    "version": 3
   },
   "file_extension": ".py",
   "mimetype": "text/x-python",
   "name": "python",
   "nbconvert_exporter": "python",
   "pygments_lexer": "ipython3",
   "version": "3.8.2"
  }
 },
 "nbformat": 4,
 "nbformat_minor": 5
}
