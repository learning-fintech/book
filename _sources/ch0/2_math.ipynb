{
 "cells": [
  {
   "cell_type": "markdown",
   "id": "da41b79c",
   "metadata": {},
   "source": [
    "## Math with Variables\n",
    "\n",
    "Amongst the above variable types, integer and floating point numbers are a nice place to start because there are a number of straight forward operations that can be applied to these variables.  For instance, as shown above, we can add numbers together with `+`.  Subtraction, multiplication, and division work in similar ways:\n",
    "\n",
    "Operation | Operator | Example | Result\n",
    "- | - | - | -\n",
    "Addition | `+` | `2+3` | `5`\n",
    "Subtraction | `-` | `5-3` | `2`\n",
    "Multiplication | `*` | `2*3` | `6`\n",
    "Division | `/` | `6/3` | `2`\n",
    "\n",
    "Beyond these four basic arithmatic operations, there are two extra operations to know:\n",
    "\n",
    "Operation | Operator | Example | Result\n",
    "- | - | - | -\n",
    "Exponentiation | `**` | `3**2` | `9`\n",
    "Modulus | `%` | `4%3` | `1`\n",
    "\n",
    "The former, exponentiation, is key to many financial applications (e.g. time value of money).  Do not mistake `**` and `^`!  While `^` may look more familiar as an exponentiation symbol, it has an entirely different meaning in Python.\n",
    "\n",
    "These arithmatic operators perform basic tasks with stored data.  For instance, if we have variables corresponding to debt and equity, we can calculate leverage."
   ]
  },
  {
   "cell_type": "code",
   "execution_count": 1,
   "id": "f252c3d2",
   "metadata": {},
   "outputs": [
    {
     "name": "stdout",
     "output_type": "stream",
     "text": [
      "0.2\n"
     ]
    }
   ],
   "source": [
    "debt = 20\n",
    "equity = 80\n",
    "\n",
    "leverage = (debt) / (debt+equity)\n",
    "print(leverage)"
   ]
  },
  {
   "cell_type": "markdown",
   "id": "9f2609cd",
   "metadata": {},
   "source": [
    "Similarly, if we needed to know the holding period return of an investment of $\\$500$ that earns $2\\%$ per year for $3$ years, we could use these Python operators to find that out."
   ]
  },
  {
   "cell_type": "code",
   "execution_count": 2,
   "id": "10f1b9e3",
   "metadata": {},
   "outputs": [
    {
     "data": {
      "text/plain": [
       "0.06120800000000015"
      ]
     },
     "execution_count": 2,
     "metadata": {},
     "output_type": "execute_result"
    }
   ],
   "source": [
    "500 * (1+.02)**3  / 500 - 1"
   ]
  },
  {
   "cell_type": "markdown",
   "id": "71f8a01e",
   "metadata": {},
   "source": [
    "One important thing to note is that we can only nest operations inside of parentheses.  In textbooks, you may see mathematical formulas that make use of *curly* brackets, $\\{$ and $\\}$, or *square* brackets, $[$ and $]$.  For example $x = \\big[\\big(\\frac{1}{3}\\big)^2 + 5\\big]^{1/2}$ makes use of square brackets.  In Python, square and curly brackets have special meanings and can't be used to nest mathematical expressions.  The example equation given here is translated into Python as:"
   ]
  },
  {
   "cell_type": "code",
   "execution_count": 3,
   "id": "9f7b981d",
   "metadata": {},
   "outputs": [
    {
     "data": {
      "text/plain": [
       "2.260776661041756"
      ]
     },
     "execution_count": 3,
     "metadata": {},
     "output_type": "execute_result"
    }
   ],
   "source": [
    "((1/3)**2 + 5)**(1/2)"
   ]
  },
  {
   "cell_type": "markdown",
   "id": "5398c07e",
   "metadata": {},
   "source": [
    "<span style=\"color:red\">**Concept check**:</span>  Suppose that you anticipate a payment of $\\$100$ two years from now.  The annual discount rate is $5\\%$.  Calculate the present value of this payment."
   ]
  },
  {
   "cell_type": "code",
   "execution_count": null,
   "id": "4059f1cb",
   "metadata": {},
   "outputs": [],
   "source": [
    "# complete concept check here"
   ]
  },
  {
   "cell_type": "markdown",
   "id": "ad5a614c",
   "metadata": {},
   "source": [
    "### Tests of (In)Equality\n",
    "\n",
    "We can compare the relative value of two number variables (either integers or floating points or a combination of the two types).\n",
    "\n",
    "For example, define two variables, `debt_longterm` and `debt_shortterm`, that store information about a company's long term and short term debt, respectively."
   ]
  },
  {
   "cell_type": "code",
   "execution_count": 4,
   "id": "2d664554",
   "metadata": {},
   "outputs": [],
   "source": [
    "debt_longterm = 1000\n",
    "debt_shortterm = 2000"
   ]
  },
  {
   "cell_type": "markdown",
   "id": "4904c2d5",
   "metadata": {},
   "source": [
    "We can check for whether long term debt exceeds short term debt with the `>` character.  This test returns a *Boolean* value (True or False)."
   ]
  },
  {
   "cell_type": "code",
   "execution_count": 5,
   "id": "2ca1f0c3",
   "metadata": {},
   "outputs": [
    {
     "data": {
      "text/plain": [
       "False"
      ]
     },
     "execution_count": 5,
     "metadata": {},
     "output_type": "execute_result"
    }
   ],
   "source": [
    "debt_longterm > debt_shortterm"
   ]
  },
  {
   "cell_type": "markdown",
   "id": "45e12a5a",
   "metadata": {},
   "source": [
    "As you might expect, we can also use `<` and `=` characters for other tests.  For instance:"
   ]
  },
  {
   "cell_type": "code",
   "execution_count": 6,
   "id": "4c62778f",
   "metadata": {},
   "outputs": [
    {
     "data": {
      "text/plain": [
       "True"
      ]
     },
     "execution_count": 6,
     "metadata": {},
     "output_type": "execute_result"
    }
   ],
   "source": [
    "debt_longterm <= debt_shortterm"
   ]
  },
  {
   "cell_type": "markdown",
   "id": "c5e827fb",
   "metadata": {},
   "source": [
    "We have to be careful with tests of equality, however.  Remember, we used `=` to tell Python what information a variable should store.  For example, `x=7` tells Python that the variable `x` should store the number seven.  Thus, if we want to test for whether the information stored in `x` equals seven, we type\n",
    "```Python3\n",
    "x == 7\n",
    "```\n",
    "with a double `==` to denote that we're testing for equality."
   ]
  },
  {
   "cell_type": "code",
   "execution_count": 7,
   "id": "55c4dc55",
   "metadata": {},
   "outputs": [
    {
     "data": {
      "text/plain": [
       "True"
      ]
     },
     "execution_count": 7,
     "metadata": {},
     "output_type": "execute_result"
    }
   ],
   "source": [
    "x = 8\n",
    "y = 8\n",
    "x == y"
   ]
  },
  {
   "cell_type": "markdown",
   "id": "94aedb64",
   "metadata": {},
   "source": [
    "Related to the `<`, `>`, and `=` characters is the word `in`.  In Python, the word `in` has a special meaning, so you can't define a variable with the name `in`.  The word `in` is used to check for whether a value appears in a list.  Use of the word `in`, like the `>` or other tests of (in)equality, results in Python returning a Boolean value.\n",
    "\n",
    "As an example, define `tic` to be one stock ticker of interest and `tickers` to be a list of stock tickers."
   ]
  },
  {
   "cell_type": "code",
   "execution_count": 8,
   "id": "de70e144",
   "metadata": {},
   "outputs": [],
   "source": [
    "tic = 'AAPL'\n",
    "tickers = ['AAPL','MSFT','AMD','NVDA','INTC']"
   ]
  },
  {
   "cell_type": "markdown",
   "id": "d82721bc",
   "metadata": {},
   "source": [
    "We can check for whether the value stored in `tic` appears in the list of items held in `tickers` by using the word `in`."
   ]
  },
  {
   "cell_type": "code",
   "execution_count": 9,
   "id": "99b8cfc4",
   "metadata": {},
   "outputs": [
    {
     "data": {
      "text/plain": [
       "True"
      ]
     },
     "execution_count": 9,
     "metadata": {},
     "output_type": "execute_result"
    }
   ],
   "source": [
    "tic in tickers"
   ]
  },
  {
   "cell_type": "markdown",
   "id": "ce5582bb",
   "metadata": {},
   "source": [
    "<span style=\"color:red\">**Concept check**:</span>  A project is anticipated to pay out $\\$50$ thousand next year and $\\$75$ thousand the year after, after which time the project will terminate.  The project will cost $\\$100$ thousand now to initiate.  The discount rate is $5\\%$.  In one line of code, estimate the NPV of the project.  In a second line of code, test whether this value is greater than zero so that the printout from executing the code block is the statement `True` or `False`."
   ]
  },
  {
   "cell_type": "code",
   "execution_count": null,
   "id": "c19a9bbc",
   "metadata": {},
   "outputs": [],
   "source": [
    "# complete concept check here"
   ]
  },
  {
   "cell_type": "markdown",
   "id": "e7d5a8e3",
   "metadata": {},
   "source": [
    "### Conditionals\n",
    "\n",
    "Conditionals specify that a certain bit of code should run *conditional* on a statement being true or false.\n",
    "\n",
    "Like user-written functions, the block of code that runs conditionally is indented.\n",
    "\n",
    "In the example below, we define information about a firm's current assets and current liabilities.  Then we calculate the current ratio to see if the firm has enough current assets to cover its current liabilities.  The code incorporates a rule of thumb and tells the user that a current ratio above $1.5$ is okay, a current ratio below $1.5$ but above $1$ is risky, and a current ratio below $1$ is dangerous."
   ]
  },
  {
   "cell_type": "code",
   "execution_count": 10,
   "id": "714da056",
   "metadata": {},
   "outputs": [
    {
     "name": "stdout",
     "output_type": "stream",
     "text": [
      "1.6666666666666667\n",
      "Firm is okay!\n"
     ]
    }
   ],
   "source": [
    "current_assets = 100\n",
    "current_liabilities = 60\n",
    "current_ratio = current_assets / current_liabilities\n",
    "\n",
    "print(current_ratio)\n",
    "if current_ratio > 1.5:\n",
    "    print('Firm is okay!')\n",
    "elif current_ratio <= 1.5 and current_ratio > 1:\n",
    "    print('Firm looks risky')\n",
    "else:\n",
    "    print('Danger!  Firm needs some cash')"
   ]
  }
 ],
 "metadata": {
  "kernelspec": {
   "display_name": "Python 3",
   "language": "python",
   "name": "python3"
  },
  "language_info": {
   "codemirror_mode": {
    "name": "ipython",
    "version": 3
   },
   "file_extension": ".py",
   "mimetype": "text/x-python",
   "name": "python",
   "nbconvert_exporter": "python",
   "pygments_lexer": "ipython3",
   "version": "3.8.2"
  }
 },
 "nbformat": 4,
 "nbformat_minor": 5
}
