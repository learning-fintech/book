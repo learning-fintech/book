{
 "cells": [
  {
   "cell_type": "markdown",
   "id": "bdf5c189",
   "metadata": {},
   "source": [
    "## Robo-Advising\n",
    "\n",
    "As a capstone to chapter 0, let us build a function that serves as a robo-adivsor for a user's investment portfolio.\n",
    "\n",
    "There are two new ingredients to add to make a simplified robo-advisor work: *type-conversion* and *input*.\n",
    "\n",
    "We won't build a complete robo-advisor just yet, but we can make some progress towards building one using the material from this chapter.\n",
    "\n",
    "### Type Conversions\n",
    "\n",
    "Two basic data types within Python are integers and strings."
   ]
  },
  {
   "cell_type": "code",
   "execution_count": 10,
   "id": "bec01e27",
   "metadata": {},
   "outputs": [],
   "source": [
    "my_int = 1\n",
    "my_str = '1'"
   ]
  },
  {
   "cell_type": "markdown",
   "id": "7ef062c2",
   "metadata": {},
   "source": [
    "The *type* of a variable can be checked with the `type()` function."
   ]
  },
  {
   "cell_type": "code",
   "execution_count": 11,
   "id": "095075cd",
   "metadata": {},
   "outputs": [
    {
     "name": "stdout",
     "output_type": "stream",
     "text": [
      "<class 'int'>\n",
      "<class 'str'>\n"
     ]
    }
   ],
   "source": [
    "print( type(my_int) )\n",
    "print( type(my_str) )"
   ]
  },
  {
   "cell_type": "markdown",
   "id": "00607532",
   "metadata": {},
   "source": [
    "Variable typing can be important to keep track of.  Note that $1$ and `'1'` do not count as the same thing in Python."
   ]
  },
  {
   "cell_type": "code",
   "execution_count": 12,
   "id": "8a6ad46a",
   "metadata": {},
   "outputs": [
    {
     "data": {
      "text/plain": [
       "False"
      ]
     },
     "execution_count": 12,
     "metadata": {},
     "output_type": "execute_result"
    }
   ],
   "source": [
    "'1' == 1"
   ]
  },
  {
   "cell_type": "markdown",
   "id": "463ff161",
   "metadata": {},
   "source": [
    "This matters in the event that you have a *string* number that you want to use as an integer (or floating point) number.  Suppose you need to add the number 8 to your string number."
   ]
  },
  {
   "cell_type": "code",
   "execution_count": 17,
   "id": "9f85d659",
   "metadata": {},
   "outputs": [
    {
     "ename": "TypeError",
     "evalue": "unsupported operand type(s) for +: 'int' and 'str'",
     "output_type": "error",
     "traceback": [
      "\u001b[1;31m---------------------------------------------------------------------------\u001b[0m",
      "\u001b[1;31mTypeError\u001b[0m                                 Traceback (most recent call last)",
      "\u001b[1;32m<ipython-input-17-bc89c6d67d5b>\u001b[0m in \u001b[0;36m<module>\u001b[1;34m\u001b[0m\n\u001b[1;32m----> 1\u001b[1;33m \u001b[1;36m8\u001b[0m\u001b[1;33m+\u001b[0m\u001b[1;34m'1'\u001b[0m\u001b[1;33m\u001b[0m\u001b[1;33m\u001b[0m\u001b[0m\n\u001b[0m",
      "\u001b[1;31mTypeError\u001b[0m: unsupported operand type(s) for +: 'int' and 'str'"
     ]
    }
   ],
   "source": [
    "8+'1'"
   ]
  },
  {
   "cell_type": "markdown",
   "id": "b28169c7",
   "metadata": {},
   "source": [
    "Strings containing integers can be converted into integers with the `int()` function."
   ]
  },
  {
   "cell_type": "code",
   "execution_count": 18,
   "id": "6789e360",
   "metadata": {},
   "outputs": [
    {
     "data": {
      "text/plain": [
       "9"
      ]
     },
     "execution_count": 18,
     "metadata": {},
     "output_type": "execute_result"
    }
   ],
   "source": [
    "int('1') + 8"
   ]
  },
  {
   "cell_type": "markdown",
   "id": "90f27827",
   "metadata": {},
   "source": [
    "Likewise strings containing decimal numbers can be converted into floating point numbers with the `float()` function."
   ]
  },
  {
   "cell_type": "code",
   "execution_count": 19,
   "id": "4d80c9b7",
   "metadata": {},
   "outputs": [
    {
     "data": {
      "text/plain": [
       "9.23"
      ]
     },
     "execution_count": 19,
     "metadata": {},
     "output_type": "execute_result"
    }
   ],
   "source": [
    "float('1.23') + 8"
   ]
  },
  {
   "cell_type": "markdown",
   "id": "b6c1e696",
   "metadata": {},
   "source": [
    "Moreover, integers or floating point numbers can be converted to strings with the `str()` function."
   ]
  },
  {
   "cell_type": "code",
   "execution_count": 20,
   "id": "f7fdbc35",
   "metadata": {},
   "outputs": [
    {
     "data": {
      "text/plain": [
       "str"
      ]
     },
     "execution_count": 20,
     "metadata": {},
     "output_type": "execute_result"
    }
   ],
   "source": [
    "type(str(1.23))"
   ]
  },
  {
   "cell_type": "markdown",
   "id": "8e251cb2",
   "metadata": {},
   "source": [
    "Translating variables from one type to another will only be successul when the data in the variable can be reasonably converted.  One could not do `int('banana')` because there is no way to convert the string `'banana'` into integer data. "
   ]
  },
  {
   "cell_type": "markdown",
   "id": "3ded0045",
   "metadata": {},
   "source": [
    "### Input\n",
    "\n",
    "The other new ingredient needed to get a basic form of robo-adivising to work is the `input()` function.  Our goal is to build a tool that asks a user a series of questions such that the tool can then recommend an investment strategy based on those questions.  The `input()` function is the ingredient we'll need to ask for user input into the tool.\n",
    "\n",
    "Consider the example:"
   ]
  },
  {
   "cell_type": "code",
   "execution_count": 42,
   "id": "e30ec9bc",
   "metadata": {},
   "outputs": [
    {
     "name": "stdout",
     "output_type": "stream",
     "text": [
      "What is your favorite color?\n",
      "purple\n",
      "User entered the response: purple\n"
     ]
    }
   ],
   "source": [
    "color = input('What is your favorite color?\\n')\n",
    "print('User entered the response:', color)"
   ]
  },
  {
   "cell_type": "markdown",
   "id": "e330b8a9",
   "metadata": {},
   "source": [
    "The `input()` function prints out a string, given as the argument to the function.  The `input()` function waits for a response and then returns that response.  We store the returned value in a variable named `color`.  The second line of the code above simply prints out the response to verify that the `input()` function worked correctly.\n",
    "\n",
    "Responses to the `input()` function are always strings."
   ]
  },
  {
   "cell_type": "code",
   "execution_count": 8,
   "id": "c46ec5db",
   "metadata": {},
   "outputs": [
    {
     "name": "stdout",
     "output_type": "stream",
     "text": [
      "<class 'str'>\n"
     ]
    }
   ],
   "source": [
    "print(type(color))"
   ]
  },
  {
   "cell_type": "markdown",
   "id": "be49f51b",
   "metadata": {},
   "source": [
    "This means that if we want to use the response as something else, like an integer, we need to convert the data.\n",
    "\n",
    "Let's move to another example to really see the `input()` function in action.  This time, we'll ask for the user's age and print a response that is *conditional* on the user's age."
   ]
  },
  {
   "cell_type": "code",
   "execution_count": 43,
   "id": "d174517b",
   "metadata": {},
   "outputs": [
    {
     "name": "stdout",
     "output_type": "stream",
     "text": [
      "What is your age?\n",
      "31\n",
      "Equity allocation percent: 69\n"
     ]
    }
   ],
   "source": [
    "age = input('What is your age?\\n')\n",
    "print('Equity allocation percent:', 100-int(age))"
   ]
  },
  {
   "cell_type": "markdown",
   "id": "c210281d",
   "metadata": {},
   "source": [
    "The output above represents the *rule of 100*.  One frequently proposed piece of investment advice is for younger people to invest more in stocks (which generally grow more in value than bonds, but are riskier) and for older people to invest more in bonds (which are less risky and thus potentially safer to live off of in retirement).  The rule of 100 is a trick for thinking about how much of a person's portfolio should be in stocks: 100 minus your age is approximately the percentage of your wealth that should be in stocks.  Or so the rule goes, at least.  These notes are certainly not intended to serve as investment advice; the rule of 100 is just a convenient way to show up the utility of the `input()` function.\n",
    "\n",
    "As another example of a conditional response, let's ask the user how much risk they're willing to take on."
   ]
  },
  {
   "cell_type": "code",
   "execution_count": 44,
   "id": "960dda48",
   "metadata": {},
   "outputs": [],
   "source": [
    "def check_attitude():\n",
    "    attitude = input('How much risk are you willing to take on?\\n')\n",
    "\n",
    "    if attitude == 'not much':\n",
    "        print(\"Okay, we'll invest mostly in bonds.\")\n",
    "    elif attitude == 'a lot':\n",
    "        print(\"Okey, we'll invest mostly in equities.\")\n",
    "    else:\n",
    "        print(\"I'm just a stupid robot, I can't understand you.\")"
   ]
  },
  {
   "cell_type": "markdown",
   "id": "c2e51275",
   "metadata": {},
   "source": [
    "The goal, of course, is to get a sense of how much risk the user is willing to take on.  The robo-adivsor can allocate the user's money into riskier investments (potentially earning higher returns) if the user is willing to bear the risk of those investment."
   ]
  },
  {
   "cell_type": "code",
   "execution_count": 45,
   "id": "a3d86030",
   "metadata": {},
   "outputs": [
    {
     "name": "stdout",
     "output_type": "stream",
     "text": [
      "How much risk are you willing to take on?\n",
      "a lot\n",
      "Okey, we'll invest mostly in equities.\n"
     ]
    }
   ],
   "source": [
    "check_attitude()"
   ]
  },
  {
   "cell_type": "markdown",
   "id": "bec5ff8d",
   "metadata": {},
   "source": [
    "Of course, the problem here is that the input question, as stated above, is very open-ended.  A user could in all likelihood enter a response that is not expected."
   ]
  },
  {
   "cell_type": "code",
   "execution_count": 46,
   "id": "05c1f37f",
   "metadata": {},
   "outputs": [
    {
     "name": "stdout",
     "output_type": "stream",
     "text": [
      "How much risk are you willing to take on?\n",
      "maybe a medium amount\n",
      "I'm just a stupid robot, I can't understand you.\n"
     ]
    }
   ],
   "source": [
    "check_attitude()"
   ]
  },
  {
   "cell_type": "markdown",
   "id": "361c6e24",
   "metadata": {},
   "source": [
    "Computers are getting better at open-ended questions.  The rise of artificial intelligence, and in particular a topic called *natural language understanding*, is helping with that.\n",
    "\n",
    "For our use case, we will give the user a bit more guidance with the response we want."
   ]
  },
  {
   "cell_type": "code",
   "execution_count": 47,
   "id": "fc5049af",
   "metadata": {},
   "outputs": [],
   "source": [
    "def get_risk_preference():\n",
    "    response = input(\"On a scale of 1-5, how much do you dislike risk?  1=not bothered by risk, 5=extremely worried about risk.\\n\")\n",
    "    \n",
    "    if response not in ['1', '2', '3', '4', '5']:\n",
    "        print('Sorry, response must be 1, 2, 3, 4, or 5')\n",
    "        print('I will guess that you meant to put 3')\n",
    "        return 3\n",
    "    \n",
    "    return int(response)"
   ]
  },
  {
   "cell_type": "code",
   "execution_count": 48,
   "id": "ae045a85",
   "metadata": {},
   "outputs": [
    {
     "name": "stdout",
     "output_type": "stream",
     "text": [
      "On a scale of 1-5, how much do you dislike risk?  1=not bothered by risk, 5=extremely worried about risk.\n",
      "4\n"
     ]
    },
    {
     "data": {
      "text/plain": [
       "4"
      ]
     },
     "execution_count": 48,
     "metadata": {},
     "output_type": "execute_result"
    }
   ],
   "source": [
    "get_risk_preference()"
   ]
  },
  {
   "cell_type": "markdown",
   "id": "90a2c0ec",
   "metadata": {},
   "source": [
    "With these ideas, we can begin to form the start of a robo-advisor.\n",
    "\n",
    "First, apply the rule of 100 to get a baseline for how the debt-equity mix should be allocated.  Second, shift the allocation more towards stocks if the user is more okay with risk and shift the allocation more towards bonds if the user hates risk."
   ]
  },
  {
   "cell_type": "code",
   "execution_count": 51,
   "id": "11462da8",
   "metadata": {},
   "outputs": [],
   "source": [
    "def get_allocation():\n",
    "    \n",
    "    # get user's age\n",
    "    age = input('What is your age?  Enter it as a numberic argument (e.g. \"50\", not \"fifty\")\\n')\n",
    "    \n",
    "    # apply rule of 100\n",
    "    equity_weight = 100-int(age)\n",
    "    \n",
    "    # get user's risk preference\n",
    "    preference = get_risk_preference()\n",
    "    \n",
    "    # shift the allocation according to the user's preference\n",
    "    if preference == 1:\n",
    "        equity_weight += 10\n",
    "    elif preference == 2:\n",
    "        equity_weight += 5\n",
    "    elif preference == 4:\n",
    "        equity_weight -= 5\n",
    "    elif preference == 5:\n",
    "        equity_weight -= 10\n",
    "        \n",
    "    # correct weights to stick within 0-100\n",
    "    equity_weight = min(equity_weight, 100)\n",
    "    equity_weight = max(equity_weight, 0)\n",
    "    \n",
    "    debt_weight = 100-equity_weight\n",
    "    \n",
    "    print('I would recommend', equity_weight, 'percent stocks and ', debt_weight, 'percent bonds')\n",
    "    \n",
    "    return [equity_weight, debt_weight]"
   ]
  },
  {
   "cell_type": "code",
   "execution_count": 52,
   "id": "1c07b4a5",
   "metadata": {},
   "outputs": [
    {
     "name": "stdout",
     "output_type": "stream",
     "text": [
      "What is your age?  Enter it as a numberic argument (e.g. \"50\", not \"fifty\")\n",
      "31\n",
      "On a scale of 1-5, how much do you dislike risk?  1=not bothered by risk, 5=extremely worried about risk.\n",
      "5\n",
      "I would recommend 59 percent stocks and  41 percent bonds\n"
     ]
    },
    {
     "data": {
      "text/plain": [
       "[59, 41]"
      ]
     },
     "execution_count": 52,
     "metadata": {},
     "output_type": "execute_result"
    }
   ],
   "source": [
    "get_allocation()"
   ]
  }
 ],
 "metadata": {
  "kernelspec": {
   "display_name": "Python 3",
   "language": "python",
   "name": "python3"
  },
  "language_info": {
   "codemirror_mode": {
    "name": "ipython",
    "version": 3
   },
   "file_extension": ".py",
   "mimetype": "text/x-python",
   "name": "python",
   "nbconvert_exporter": "python",
   "pygments_lexer": "ipython3",
   "version": "3.8.2"
  }
 },
 "nbformat": 4,
 "nbformat_minor": 5
}
