{
 "cells": [
  {
   "cell_type": "markdown",
   "id": "32068d91",
   "metadata": {},
   "source": [
    "# Chapter 0\n",
    "\n",
    "This chapter reviews the basic ingredients for writing Python programs.  The concepts presented in this chapter, such as using `if/else` logic to execute portions of code conditionally, are universal to any language (though the syntax may differ!).  Because Python is a fairly easy and readable language, it is the language of choice for this book."
   ]
  },
  {
   "cell_type": "markdown",
   "id": "81327145",
   "metadata": {},
   "source": [
    "## Variables and Data\n",
    "\n",
    "Variables store information.  All modeling and analytics requires data.  Once the data is input into Python, we can use statistical techniques to extract actionable information from the raw data.\n",
    "\n",
    "### Inputting and Printing Data\n",
    "\n",
    "Below, variable `a` is defined to store the number 5.  Next, variable `b` is defined to store 5 (the value of `a`) plus 2, which is 7.  The sum of `a` and `b` is confirmed on line three of the following code cell.  If we run the cell, Python prints out `7`."
   ]
  },
  {
   "cell_type": "code",
   "execution_count": 1,
   "id": "51f2b48b",
   "metadata": {},
   "outputs": [
    {
     "data": {
      "text/plain": [
       "7"
      ]
     },
     "execution_count": 1,
     "metadata": {},
     "output_type": "execute_result"
    }
   ],
   "source": [
    "a = 5\n",
    "b = a + 2\n",
    "b"
   ]
  },
  {
   "cell_type": "markdown",
   "id": "8d6cfaca",
   "metadata": {},
   "source": [
    "By default, the last line of the cell will print out information to the user.  For example, to see the value of `a`, we could simply type:"
   ]
  },
  {
   "cell_type": "code",
   "execution_count": 2,
   "id": "73783889",
   "metadata": {},
   "outputs": [
    {
     "data": {
      "text/plain": [
       "5"
      ]
     },
     "execution_count": 2,
     "metadata": {},
     "output_type": "execute_result"
    }
   ],
   "source": [
    "a"
   ]
  },
  {
   "cell_type": "markdown",
   "id": "4d948785",
   "metadata": {},
   "source": [
    "This approach is fairly limited.  If we want to see both the value of `a` and the value of `b`, the following will not achieve our goal:"
   ]
  },
  {
   "cell_type": "code",
   "execution_count": 3,
   "id": "c5eaef3d",
   "metadata": {},
   "outputs": [
    {
     "data": {
      "text/plain": [
       "7"
      ]
     },
     "execution_count": 3,
     "metadata": {},
     "output_type": "execute_result"
    }
   ],
   "source": [
    "a\n",
    "b"
   ]
  },
  {
   "cell_type": "markdown",
   "id": "540e048b",
   "metadata": {},
   "source": [
    "Remember, only the *last* line of code will print out.  In order to print multiple pieces of information, we use the `print()` function.  A *function* in Python is something that we will discuss in greater detail later on in this section.  For now, note that `print(a)` will print the value of `a` and `print(b)` will print the value of `b`."
   ]
  },
  {
   "cell_type": "code",
   "execution_count": 4,
   "id": "c11293a9",
   "metadata": {},
   "outputs": [
    {
     "name": "stdout",
     "output_type": "stream",
     "text": [
      "5\n",
      "7\n"
     ]
    }
   ],
   "source": [
    "print(a)\n",
    "print(b)"
   ]
  },
  {
   "cell_type": "markdown",
   "id": "8ccc013b",
   "metadata": {},
   "source": [
    "Printing is simple, but remarkably important.  We will be feeding Python information to process (e.g. a firm's financial statements, a consumer's credit history, a set of stock returns, etc.).  Printing is useful to (1) verify that the information is correct in Python and (2) see the result of our data manipulation.  For instance, suppose that we feed Python a portfolio of individual stock returns.  After instructing Python on how to do some statistical analysis, we will be able to calculate the portfolio's Sharpe ratio.  That information needs to be printed out back to us, the user, in order to know whether the portfolio does well (in a risk-return sense).\n",
    "\n",
    "Note that the last line of your code cell will always print out, even if it is redundant."
   ]
  },
  {
   "cell_type": "code",
   "execution_count": 5,
   "id": "f23817a0",
   "metadata": {},
   "outputs": [
    {
     "name": "stdout",
     "output_type": "stream",
     "text": [
      "7\n"
     ]
    },
    {
     "data": {
      "text/plain": [
       "7"
      ]
     },
     "execution_count": 5,
     "metadata": {},
     "output_type": "execute_result"
    }
   ],
   "source": [
    "print(b)\n",
    "b"
   ]
  },
  {
   "cell_type": "markdown",
   "id": "64e04d3c",
   "metadata": {},
   "source": [
    "That last line of code will not print out anything, however, if there is nothing that warrants printing.  This statement will make a little bit more sense later on once we talk about functions in more detail.  For now, observe that if we define a variable (e.g. `c = 8`) then nothing will print out."
   ]
  },
  {
   "cell_type": "code",
   "execution_count": 6,
   "id": "3988b764",
   "metadata": {},
   "outputs": [],
   "source": [
    "c = 8"
   ]
  },
  {
   "cell_type": "markdown",
   "id": "8f0265c0",
   "metadata": {},
   "source": [
    "<span style=\"color:red\">**Concept check**:</span>  In the following code cell, perform four tasks (each task should be done on a new line of code).  First, define a variable `net_income` to be equal to `10`.  Second, define a variable `total_assets` equal to `30`.  Third, define a variable `roa` equal to `net_income` divided by `total_assets`.  Fourth, print out the value of `roa`.  **Hint:** division in Python is done with the `/` character, so if we set `x` equal to $1$ divided by $3$ we would type `x = 1/3`."
   ]
  },
  {
   "cell_type": "code",
   "execution_count": 1,
   "id": "4cdea37a",
   "metadata": {},
   "outputs": [],
   "source": [
    "# complete concept check here"
   ]
  },
  {
   "cell_type": "markdown",
   "id": "41566edd",
   "metadata": {},
   "source": [
    "### Naming Variables and Adding Comments\n",
    "\n",
    "Variable names must start with a letter, and can contain letters, numbers, and underscores.  In general, variables should be named in a descriptive manner.  For example, if you have information about a firm's cost of capital, storing that information in a variable named `x` is a horrible idea.\n",
    "\n",
    "You should always strive to make your code *readable*.  What this means is that it should be relatively easy to open up code that your wrote earlier and know what it does.  Adding inteligent variable names helps tremendously.  Consider the following example:\n",
    "```\n",
    "a = b / (c+b) * e + c / (c+b) * f * (1-g)\n",
    "```\n",
    "\n",
    "Can you tell what the above line of code does?  If you live and breathe finance formulas, the pattern of the equation above *may* be familiar.  We can all agree, however, that the mystery is much easier to solve if we simply give the variables more meaningful names:\n",
    "```\n",
    "wacc = equity / (debt+equity) * cost_of_equity + debt / (debt+equity) * cost_of_debt * (1 - tax_rate)\n",
    "```\n",
    "\n",
    "One method of making long variable names readable is, as shown above, to space out words via underscores.\n",
    "\n",
    "That is, if you have a variable that contains a firm's cost of capital as its information, it is better to name this something like `cost_of_capital` or `costOfCapital` rather than a non-descriptive name like `a` or `b`.\n",
    "\n",
    "Note that you can use `#` to add comments to your code.\n",
    "\n",
    "Python will ignore everything on a line following a `#` symbol."
   ]
  },
  {
   "cell_type": "code",
   "execution_count": 8,
   "id": "0c5a4965",
   "metadata": {},
   "outputs": [],
   "source": [
    "accountsreceiveable = 10"
   ]
  },
  {
   "cell_type": "markdown",
   "id": "2b696fda",
   "metadata": {},
   "source": [
    "Even for short(ish) phrases like \"accounts receiveable\", squishing all of the characters together into one long word renders the variable name difficult to read.  The underscore naming method would use:"
   ]
  },
  {
   "cell_type": "code",
   "execution_count": 9,
   "id": "a6988af5",
   "metadata": {},
   "outputs": [],
   "source": [
    "accounts_receiveable = 10"
   ]
  },
  {
   "cell_type": "markdown",
   "id": "109ce16b",
   "metadata": {},
   "source": [
    "which is much easier to read.  Others prefer the \"camel hump\" method:"
   ]
  },
  {
   "cell_type": "code",
   "execution_count": 10,
   "id": "50481d36",
   "metadata": {},
   "outputs": [],
   "source": [
    "accountsReceiveable = 10"
   ]
  },
  {
   "cell_type": "markdown",
   "id": "6391894e",
   "metadata": {},
   "source": [
    "and whether you use underscores or camel humps is down to personal preference.  Using neither underscores nor humps, however, violates rules of good programming.\n",
    "\n",
    "Let's return to example formula\n",
    "```\n",
    "wacc = equity / (debt+equity) * cost_of_equity + debt / (debt+equity) * cost_of_debt * (1 - tax_rate)\n",
    "```\n",
    "\n",
    "Besides good variable naming, we can make the code more readable by including *comments*.  Comments are notes that programmers leave inside code.  These notes are not read by Python when Python goes through to run the code that's been written.  The following code cell will not run successfully."
   ]
  },
  {
   "cell_type": "code",
   "execution_count": 12,
   "id": "8117edb7",
   "metadata": {},
   "outputs": [
    {
     "ename": "SyntaxError",
     "evalue": "invalid syntax (<ipython-input-12-a8368e710330>, line 1)",
     "output_type": "error",
     "traceback": [
      "\u001b[1;36m  File \u001b[1;32m\"<ipython-input-12-a8368e710330>\"\u001b[1;36m, line \u001b[1;32m1\u001b[0m\n\u001b[1;33m    define c equal a plus b\u001b[0m\n\u001b[1;37m           ^\u001b[0m\n\u001b[1;31mSyntaxError\u001b[0m\u001b[1;31m:\u001b[0m invalid syntax\n"
     ]
    }
   ],
   "source": [
    "define c equal a plus b\n",
    "c = a + b"
   ]
  },
  {
   "cell_type": "markdown",
   "id": "cabe9ec2",
   "metadata": {},
   "source": [
    "The code fails because the statement\n",
    "```\n",
    "define c to equal a plus b\n",
    "```\n",
    "is something that Python thinks is code.  To transform the note into a comment so that Python ignores it, we use the `#` character.  Python ignores the `#` character and everything that follows it.  Use this to take notes about what's happening in the code."
   ]
  },
  {
   "cell_type": "code",
   "execution_count": 13,
   "id": "dbcf75cc",
   "metadata": {},
   "outputs": [],
   "source": [
    "# define c to equal a plus b\n",
    "c = a+b"
   ]
  },
  {
   "cell_type": "markdown",
   "id": "1c8f1c47",
   "metadata": {},
   "source": [
    "Using comments, the \"nicest\" version of the example formula is\n",
    "```\n",
    "# compute the weighted average cost of capital\n",
    "wacc = equity / (debt+equity) * cost_of_equity + debt / (debt+equity) * cost_of_debt * (1 - tax_rate)\n",
    "```\n",
    "\n",
    "Note that comments can appear on the same line as some Python code.  When this happens, Python stops reading the line of code at the `#` character."
   ]
  },
  {
   "cell_type": "code",
   "execution_count": 14,
   "id": "d40142ac",
   "metadata": {},
   "outputs": [],
   "source": [
    "c = a + b # let c equal a plus b"
   ]
  },
  {
   "cell_type": "markdown",
   "id": "d29d573b",
   "metadata": {},
   "source": [
    "<span style=\"color:red\">**Concept check**:</span>  In the following code cell, perform 6 tasks (each task should be its own line of code).  First, enter a comment that reads \"apply the Gordon growth model\".  Second, define a variable `d` equal to `5` and add a comment at the end of the line that says \"dividend\".  Third, define a variable `r` equal to `0.1` and add a comment at the end of the line that says \"discount rate\".  Fourth, define a variable `g` equal to `0.02` and add a comment at the end of the line that says \"dividend growth rate\".   Fifth, define a variable `v` equal to `d / (r-g)`.  Sixth, print out the value of `v`."
   ]
  },
  {
   "cell_type": "code",
   "execution_count": 2,
   "id": "f4db8e07",
   "metadata": {},
   "outputs": [],
   "source": [
    "# complete concept check here"
   ]
  },
  {
   "cell_type": "markdown",
   "id": "22230758",
   "metadata": {},
   "source": [
    "### Basic Variable Types\n",
    "\n",
    "There are a handful of basic variable types."
   ]
  },
  {
   "cell_type": "code",
   "execution_count": 15,
   "id": "85c0fa7c",
   "metadata": {},
   "outputs": [],
   "source": [
    "a = 5        # a is an integer (there is no decimal point)\n",
    "b = 1.5      # floating point number (in general, don't worry about integer vs. floating point)\n",
    "c = False    # c is a Boolean\n",
    "d = 'banana' # d is a string"
   ]
  },
  {
   "cell_type": "markdown",
   "id": "8aa26d9f",
   "metadata": {},
   "source": [
    "We won't worry too much about the distinction between integers and floating points.  To us, both are just numbers.\n",
    "\n",
    "*Boolean* variable types, named after George Boole, are either equal to `True` or `False` (note the capital `T` and `F`).  We will see some examples of Boolean values later on in this section.\n",
    "\n",
    "Strings store characters (e.g. single values like `'c'` or `'%'`) and words (combinations of characters like `'cat'` or `'dog'`).  The characters/words in strings are encased in either single quotes like `'cat'` or double quotes like `\"dog\"`.  In Python, whether you use single quotes or double quotes usually doesn't matter.\n",
    "\n",
    "<span style=\"color:red\">**Concept check**:</span>  In the following code cell, complete each comment to indicate the likely variable type of a given piece of information.  The first line is completed for you, as an example."
   ]
  },
  {
   "cell_type": "code",
   "execution_count": 16,
   "id": "95f22235",
   "metadata": {},
   "outputs": [],
   "source": [
    "# shares outstanding: integer\n",
    "# cost of equity capital:\n",
    "# leverage ratio:\n",
    "# stock ticker symbol:\n",
    "# number of options awarded to the CEO:\n",
    "# amount of assets under management:\n",
    "# name of the company's largest shareholder:\n",
    "# number of stocks in the portfolio:"
   ]
  },
  {
   "cell_type": "markdown",
   "id": "f95980b6",
   "metadata": {},
   "source": [
    "Programming is useful because variables can store *lots* of information (more than just a single number or word!)."
   ]
  },
  {
   "cell_type": "code",
   "execution_count": 17,
   "id": "d6a859d2",
   "metadata": {},
   "outputs": [],
   "source": [
    "e = [1,2,3]  # e is a list\n",
    "f = {'word 1':'definition 1', 'word 2':'definition 2'} # f is a dictionary"
   ]
  },
  {
   "cell_type": "markdown",
   "id": "7b4d3dbc",
   "metadata": {},
   "source": [
    "Above, variable `e` stores information about multiple numbers.  Lists can store lots of things, not just numbers.  For example, the list `fang = ['FB', 'AMZN', 'NFLX', 'GOOG']` stores a list of string variables, where each string corresponds to one of the ticker symbols for the FANG stocks.\n",
    "\n",
    "Above, variable `f` stores information about words and their meanings.  Like lists, dictionaries can store lots of things.  For example `FB = {'3/23/20':148.10, '3/24/20':160.98, '3/25/20':156.21, '3/26/20':163.34, '3/27/20':156.79}` records daily stock price information for Facebook, Inc. for the week of March 23, 2020.  Dictionary variables hold *keys* (e.g. a word to look up) and *values* (e.g. the definition of the word).  Here, the key is a string that records the date, and the value is a floating point number that corresponds to the stock price.\n",
    "\n",
    "We'll return to lists and dictionaries later, including a discussion of how to modify/update data inside the list/dictionary, as well as instructions for accessing single items within a list/dictionary.  For now, we'll work with variables that hold single pieces of information for the sake of simplicity.  But note that variables can store lots of data simultaneously, and that's what makes programming truly useful for financial practioners.\n"
   ]
  },
  {
   "cell_type": "markdown",
   "id": "da41b79c",
   "metadata": {},
   "source": [
    "## Math with Variables\n",
    "\n",
    "Amongst the above variable types, integer and floating point numbers are a nice place to start because there are a number of straight forward operations that can be applied to these variables.  For instance, as shown above, we can add numbers together with `+`.  Subtraction, multiplication, and division work in similar ways:\n",
    "\n",
    "Operation | Operator | Example | Result\n",
    "- | - | - | -\n",
    "Addition | `+` | `2+3` | `5`\n",
    "Subtraction | `-` | `5-3` | `2`\n",
    "Multiplication | `*` | `2*3` | `6`\n",
    "Division | `/` | `6/3` | `2`\n",
    "\n",
    "Beyond these four basic arithmatic operations, there are two extra operations to know:\n",
    "\n",
    "Operation | Operator | Example | Result\n",
    "- | - | - | -\n",
    "Exponentiation | `**` | `3**2` | `9`\n",
    "Modulus | `%` | `4%3` | `1`\n",
    "\n",
    "The former, exponentiation, is key to many financial applications (e.g. time value of money).  Do not mistake `**` and `^`!  While `^` may look more familiar as an exponentiation symbol, it has an entirely different meaning in Python.\n",
    "\n",
    "These arithmatic operators perform basic tasks with stored data.  For instance, if we have variables corresponding to debt and equity, we can calculate leverage."
   ]
  },
  {
   "cell_type": "code",
   "execution_count": 1,
   "id": "f252c3d2",
   "metadata": {},
   "outputs": [
    {
     "name": "stdout",
     "output_type": "stream",
     "text": [
      "0.2\n"
     ]
    }
   ],
   "source": [
    "debt = 20\n",
    "equity = 80\n",
    "\n",
    "leverage = (debt) / (debt+equity)\n",
    "print(leverage)"
   ]
  },
  {
   "cell_type": "markdown",
   "id": "9f2609cd",
   "metadata": {},
   "source": [
    "Similarly, if we needed to know the holding period return of an investment of $\\$500$ that earns $2\\%$ per year for $3$ years, we could use these Python operators to find that out."
   ]
  },
  {
   "cell_type": "code",
   "execution_count": 2,
   "id": "10f1b9e3",
   "metadata": {},
   "outputs": [
    {
     "data": {
      "text/plain": [
       "0.06120800000000015"
      ]
     },
     "execution_count": 2,
     "metadata": {},
     "output_type": "execute_result"
    }
   ],
   "source": [
    "500 * (1+.02)**3  / 500 - 1"
   ]
  },
  {
   "cell_type": "markdown",
   "id": "71f8a01e",
   "metadata": {},
   "source": [
    "One important thing to note is that we can only nest operations inside of parentheses.  In textbooks, you may see mathematical formulas that make use of *curly* brackets, $\\{$ and $\\}$, or *square* brackets, $[$ and $]$.  For example $x = \\big[\\big(\\frac{1}{3}\\big)^2 + 5\\big]^{1/2}$ makes use of square brackets.  In Python, square and curly brackets have special meanings and can't be used to nest mathematical expressions.  The example equation given here is translated into Python as:"
   ]
  },
  {
   "cell_type": "code",
   "execution_count": 3,
   "id": "9f7b981d",
   "metadata": {},
   "outputs": [
    {
     "data": {
      "text/plain": [
       "2.260776661041756"
      ]
     },
     "execution_count": 3,
     "metadata": {},
     "output_type": "execute_result"
    }
   ],
   "source": [
    "((1/3)**2 + 5)**(1/2)"
   ]
  },
  {
   "cell_type": "markdown",
   "id": "5398c07e",
   "metadata": {},
   "source": [
    "<span style=\"color:red\">**Concept check**:</span>  Suppose that you anticipate a payment of $\\$100$ two years from now.  The annual discount rate is $5\\%$.  Calculate the present value of this payment."
   ]
  },
  {
   "cell_type": "code",
   "execution_count": null,
   "id": "4059f1cb",
   "metadata": {},
   "outputs": [],
   "source": [
    "# complete concept check here"
   ]
  },
  {
   "cell_type": "markdown",
   "id": "ad5a614c",
   "metadata": {},
   "source": [
    "### Tests of (In)Equality\n",
    "\n",
    "We can compare the relative value of two number variables (either integers or floating points or a combination of the two types).\n",
    "\n",
    "For example, define two variables, `debt_longterm` and `debt_shortterm`, that store information about a company's long term and short term debt, respectively."
   ]
  },
  {
   "cell_type": "code",
   "execution_count": 4,
   "id": "2d664554",
   "metadata": {},
   "outputs": [],
   "source": [
    "debt_longterm = 1000\n",
    "debt_shortterm = 2000"
   ]
  },
  {
   "cell_type": "markdown",
   "id": "4904c2d5",
   "metadata": {},
   "source": [
    "We can check for whether long term debt exceeds short term debt with the `>` character.  This test returns a *Boolean* value (True or False)."
   ]
  },
  {
   "cell_type": "code",
   "execution_count": 5,
   "id": "2ca1f0c3",
   "metadata": {},
   "outputs": [
    {
     "data": {
      "text/plain": [
       "False"
      ]
     },
     "execution_count": 5,
     "metadata": {},
     "output_type": "execute_result"
    }
   ],
   "source": [
    "debt_longterm > debt_shortterm"
   ]
  },
  {
   "cell_type": "markdown",
   "id": "45e12a5a",
   "metadata": {},
   "source": [
    "As you might expect, we can also use `<` and `=` characters for other tests.  For instance:"
   ]
  },
  {
   "cell_type": "code",
   "execution_count": 6,
   "id": "4c62778f",
   "metadata": {},
   "outputs": [
    {
     "data": {
      "text/plain": [
       "True"
      ]
     },
     "execution_count": 6,
     "metadata": {},
     "output_type": "execute_result"
    }
   ],
   "source": [
    "debt_longterm <= debt_shortterm"
   ]
  },
  {
   "cell_type": "markdown",
   "id": "c5e827fb",
   "metadata": {},
   "source": [
    "We have to be careful with tests of equality, however.  Remember, we used `=` to tell Python what information a variable should store.  For example, `x=7` tells Python that the variable `x` should store the number seven.  Thus, if we want to test for whether the information stored in `x` equals seven, we type\n",
    "```Python3\n",
    "x == 7\n",
    "```\n",
    "with a double `==` to denote that we're testing for equality."
   ]
  },
  {
   "cell_type": "code",
   "execution_count": 7,
   "id": "55c4dc55",
   "metadata": {},
   "outputs": [
    {
     "data": {
      "text/plain": [
       "True"
      ]
     },
     "execution_count": 7,
     "metadata": {},
     "output_type": "execute_result"
    }
   ],
   "source": [
    "x = 8\n",
    "y = 8\n",
    "x == y"
   ]
  },
  {
   "cell_type": "markdown",
   "id": "94aedb64",
   "metadata": {},
   "source": [
    "Related to the `<`, `>`, and `=` characters is the word `in`.  In Python, the word `in` has a special meaning, so you can't define a variable with the name `in`.  The word `in` is used to check for whether a value appears in a list.  Use of the word `in`, like the `>` or other tests of (in)equality, results in Python returning a Boolean value.\n",
    "\n",
    "As an example, define `tic` to be one stock ticker of interest and `tickers` to be a list of stock tickers."
   ]
  },
  {
   "cell_type": "code",
   "execution_count": 8,
   "id": "de70e144",
   "metadata": {},
   "outputs": [],
   "source": [
    "tic = 'AAPL'\n",
    "tickers = ['AAPL','MSFT','AMD','NVDA','INTC']"
   ]
  },
  {
   "cell_type": "markdown",
   "id": "d82721bc",
   "metadata": {},
   "source": [
    "We can check for whether the value stored in `tic` appears in the list of items held in `tickers` by using the word `in`."
   ]
  },
  {
   "cell_type": "code",
   "execution_count": 9,
   "id": "99b8cfc4",
   "metadata": {},
   "outputs": [
    {
     "data": {
      "text/plain": [
       "True"
      ]
     },
     "execution_count": 9,
     "metadata": {},
     "output_type": "execute_result"
    }
   ],
   "source": [
    "tic in tickers"
   ]
  },
  {
   "cell_type": "markdown",
   "id": "ce5582bb",
   "metadata": {},
   "source": [
    "<span style=\"color:red\">**Concept check**:</span>  A project is anticipated to pay out $\\$50$ thousand next year and $\\$75$ thousand the year after, after which time the project will terminate.  The project will cost $\\$100$ thousand now to initiate.  The discount rate is $5\\%$.  In one line of code, estimate the NPV of the project.  In a second line of code, test whether this value is greater than zero so that the printout from executing the code block is the statement `True` or `False`."
   ]
  },
  {
   "cell_type": "code",
   "execution_count": null,
   "id": "c19a9bbc",
   "metadata": {},
   "outputs": [],
   "source": [
    "# complete concept check here"
   ]
  },
  {
   "cell_type": "markdown",
   "id": "e7d5a8e3",
   "metadata": {},
   "source": [
    "### Conditionals\n",
    "\n",
    "Conditionals specify that a certain bit of code should run *conditional* on a statement being true or false.\n",
    "\n",
    "Like user-written functions, the block of code that runs conditionally is indented.\n",
    "\n",
    "In the example below, we define information about a firm's current assets and current liabilities.  Then we calculate the current ratio to see if the firm has enough current assets to cover its current liabilities.  The code incorporates a rule of thumb and tells the user that a current ratio above $1.5$ is okay, a current ratio below $1.5$ but above $1$ is risky, and a current ratio below $1$ is dangerous."
   ]
  },
  {
   "cell_type": "code",
   "execution_count": 10,
   "id": "714da056",
   "metadata": {},
   "outputs": [
    {
     "name": "stdout",
     "output_type": "stream",
     "text": [
      "1.6666666666666667\n",
      "Firm is okay!\n"
     ]
    }
   ],
   "source": [
    "current_assets = 100\n",
    "current_liabilities = 60\n",
    "current_ratio = current_assets / current_liabilities\n",
    "\n",
    "print(current_ratio)\n",
    "if current_ratio > 1.5:\n",
    "    print('Firm is okay!')\n",
    "elif current_ratio <= 1.5 and current_ratio > 1:\n",
    "    print('Firm looks risky')\n",
    "else:\n",
    "    print('Danger!  Firm needs some cash')"
   ]
  },
  {
   "cell_type": "markdown",
   "id": "8b8bff94",
   "metadata": {},
   "source": [
    "## Strings\n",
    "\n",
    "Strings are a simple but powerful tool for storing non-numerical information.\n",
    "\n",
    "String variables store textual data.  To tell Python that we want to treat some text as a string, we use either single quotations `'` or double quotations `\"`.  Either format is a valid approach."
   ]
  },
  {
   "cell_type": "code",
   "execution_count": 1,
   "id": "6ca2c8a3",
   "metadata": {},
   "outputs": [],
   "source": [
    "fruit = 'banana'"
   ]
  },
  {
   "cell_type": "code",
   "execution_count": 2,
   "id": "8dcc94f0",
   "metadata": {},
   "outputs": [],
   "source": [
    "vegetable = \"carrot\""
   ]
  },
  {
   "cell_type": "markdown",
   "id": "c3daeeae",
   "metadata": {},
   "source": [
    "Use of single or double quotes can make nested quotations easier.  For instance, what if you want to use an apostrophe inside a string variable?  Consider the apostrophe in:\n",
    "> This isn't an interesting sentence.\n",
    "\n",
    "In that case, be sure to use double quotes to mark your string."
   ]
  },
  {
   "cell_type": "code",
   "execution_count": 3,
   "id": "42e749ba",
   "metadata": {},
   "outputs": [],
   "source": [
    "sent = \"This isn't an interesting sentence.\" # this code will work"
   ]
  },
  {
   "cell_type": "code",
   "execution_count": 4,
   "id": "0ff3d877",
   "metadata": {},
   "outputs": [
    {
     "ename": "SyntaxError",
     "evalue": "invalid syntax (<ipython-input-4-fcbf08c4a876>, line 1)",
     "output_type": "error",
     "traceback": [
      "\u001b[1;36m  File \u001b[1;32m\"<ipython-input-4-fcbf08c4a876>\"\u001b[1;36m, line \u001b[1;32m1\u001b[0m\n\u001b[1;33m    sent = 'This isn't an interesting sentence. # this has problems\u001b[0m\n\u001b[1;37m                     ^\u001b[0m\n\u001b[1;31mSyntaxError\u001b[0m\u001b[1;31m:\u001b[0m invalid syntax\n"
     ]
    }
   ],
   "source": [
    "sent = 'This isn't an interesting sentence. # this has problems"
   ]
  },
  {
   "cell_type": "markdown",
   "id": "7c0a0cd6",
   "metadata": {},
   "source": [
    "Because Python won't be able to differentiate between the `'` character being used as an apostrophe and the `'` character being used to signify a single quote, the easiest way to enter the above example into Python is to use double quotes for the string.\n",
    "\n",
    "\n",
    "Similarly, use single quotes to mark the string if you want to include double quotes inside the string.  Consider the example:\n",
    "> Bob said, \"Yes, that is a boring sentence.\"\n",
    "\n",
    "In this case, the easiest way to do things is to enter this as a string in Python is to use single quotes."
   ]
  },
  {
   "cell_type": "code",
   "execution_count": 6,
   "id": "69bb19f8",
   "metadata": {},
   "outputs": [],
   "source": [
    "quote = 'Bob said, \"Yes, that is a boring sentence.\"'"
   ]
  },
  {
   "cell_type": "markdown",
   "id": "95cb8863",
   "metadata": {},
   "source": [
    "### Escape Characters\n",
    "\n",
    "The trickiest problem with quotations is something like the following example:\n",
    "> Bob said, \"Yes, that's a boring sentence.\"\n",
    "\n",
    "Note that the textual data we want to include here has both double quotes and a single quote inside the data.  To enter this text into Python as a string variable, we need to use an **escape character**.\n",
    "\n",
    "Escape characters are special commands inside of a string variable that tell Python that the data is something special.  Without an escape character inside a string, Python interprets every character literally.  For instance, the literal interpretation of `n` is that it represents the letter \"n\".  The literal interpretation of `'` is that it represents a single quote.  We can \"escape\" from this literal interpretation of a character by prefacing that character with `\\`.  The `\\` symbol tells Python to treat the information following the `\\` specially.  In the example here, `\\'` will tell Python that the `'` character is to be treated as part of the data, rather than a potential end for a single quoted string."
   ]
  },
  {
   "cell_type": "code",
   "execution_count": 7,
   "id": "d98538d2",
   "metadata": {},
   "outputs": [
    {
     "name": "stdout",
     "output_type": "stream",
     "text": [
      "Bob said, \"Yes, that's a boring sentence.\"\n"
     ]
    }
   ],
   "source": [
    "quote = 'Bob said, \"Yes, that\\'s a boring sentence.\"'\n",
    "print(quote)"
   ]
  },
  {
   "cell_type": "markdown",
   "id": "2e2f4376",
   "metadata": {},
   "source": [
    "There are only a handful of escape characters to remember.  The rest can be Googled if you need them.  The escape characters worth remembering are:\n",
    "- `\\'`: tells Python to treat `'` as a single quote (apostrophe) inside the string data\n",
    "- `\\\"`: tells Python to treat `\"` as a double quote inside the string data\n",
    "- '\\n' : tells Python to enter a line break.\n",
    "- '\\t' : tells Python to enter a tab."
   ]
  },
  {
   "cell_type": "code",
   "execution_count": 9,
   "id": "a7a33221",
   "metadata": {},
   "outputs": [
    {
     "name": "stdout",
     "output_type": "stream",
     "text": [
      "Line one of text.\n",
      "Line two of text\n"
     ]
    }
   ],
   "source": [
    "print('Line one of text.\\nLine two of text')"
   ]
  },
  {
   "cell_type": "code",
   "execution_count": 10,
   "id": "887e9b51",
   "metadata": {},
   "outputs": [
    {
     "name": "stdout",
     "output_type": "stream",
     "text": [
      "\tThis is an indented sentenece.\n"
     ]
    }
   ],
   "source": [
    "print('\\tThis is an indented sentenece.')"
   ]
  },
  {
   "cell_type": "markdown",
   "id": "8de86b54",
   "metadata": {},
   "source": [
    "<span style=\"color:red\">**Concept check**:</span>  Set the variable, `v`, below equal to a string such that the second line evaluates to (aka prints out) the following:\n",
    "```\n",
    "That isn't a smart investment.\n",
    "You should but Dogecoin instead.\n",
    "    (just kidding)\n",
    "```"
   ]
  },
  {
   "cell_type": "code",
   "execution_count": null,
   "id": "00a4f8ac",
   "metadata": {},
   "outputs": [],
   "source": [
    "# complete concept check here\n",
    "v =\n",
    "print(v)"
   ]
  },
  {
   "cell_type": "markdown",
   "id": "ba8238d8",
   "metadata": {},
   "source": [
    "### Characters\n",
    "\n",
    "A string is a collection of characters.  The string `'cat'` is comprised of the individual characters `'c'`, `'a'`, and `'t'`.  The string `'my\\ncat'` is made up of the characters `'m'`, `'y'`, `'\\n'`, `'c'`, `'a'`, `'t'`.  Note that the third character in this latter example is an escape character `'\\n`' rather than an alphanumeric character (the letters `'a'`-`'z'` or numbers `'0'`-`'9'`) or a symbol (e.g. `'!'`, `'@'`, or `'#'`).\n",
    "\n",
    "Becuase strings are comprised of characters, it is helpful to know how to access individual characters of those strings.  We will work with the examples `'AAPL Stock'` and `'F Stock'` for a moment.  These two strings are items that we may come accross in a written document.  Suppose that we need to extract the ticker names from these strings.  For instance, if these strings are items that we've extracted from a news article or a tweet, then finding the ticker names helps us determine what the subject of the article/tweet is.\n",
    "\n",
    "The first character of a string is the $0^{th}$ character in the string.  This is a quirk of Python, along with a number of many other programming languages.  Python begins counting at zero, rather than at one.  Hence, the first character is character $0$, the second character is character number $1$, etc.  We can select character number $n$ with square brackets that follow immediately after the string name."
   ]
  },
  {
   "cell_type": "code",
   "execution_count": 11,
   "id": "ab4b26b6",
   "metadata": {},
   "outputs": [
    {
     "name": "stdout",
     "output_type": "stream",
     "text": [
      "c\n"
     ]
    }
   ],
   "source": [
    "string = 'cat'\n",
    "print(string[0])"
   ]
  },
  {
   "cell_type": "code",
   "execution_count": 12,
   "id": "83653572",
   "metadata": {},
   "outputs": [
    {
     "name": "stdout",
     "output_type": "stream",
     "text": [
      "a\n"
     ]
    }
   ],
   "source": [
    "print(string[1])"
   ]
  },
  {
   "cell_type": "markdown",
   "id": "0384d26a",
   "metadata": {},
   "source": [
    "Along with selecting a single character with its position in the string, we can choose a subset of characters with a set of sequential numbers.  Such numbers are listed with a starting point and ending point.  For instance, if we want the numbers $1$, $2$, $3$, then we would indicate the starting point of $1$ and the ending point of $4$.  Yes, $4$, *not* $3$.  The ending point is the number *after* the last number to be included.\n",
    "\n",
    "Consequently, `0:2` would select characters number $0$ and $1$ because the starting point is $0$ and the ending point is $1$."
   ]
  },
  {
   "cell_type": "code",
   "execution_count": 15,
   "id": "aa8466ad",
   "metadata": {},
   "outputs": [
    {
     "name": "stdout",
     "output_type": "stream",
     "text": [
      "ca\n"
     ]
    }
   ],
   "source": [
    "print(string[0:2])"
   ]
  },
  {
   "cell_type": "markdown",
   "id": "ab9d849b",
   "metadata": {},
   "source": [
    "Similarly, `1:3` selects characters number $1$ and $2$ because the starting point is $1$ and the ending point is $3$."
   ]
  },
  {
   "cell_type": "code",
   "execution_count": 16,
   "id": "b0b7f486",
   "metadata": {},
   "outputs": [
    {
     "name": "stdout",
     "output_type": "stream",
     "text": [
      "at\n"
     ]
    }
   ],
   "source": [
    "print(string[1:3])"
   ]
  },
  {
   "cell_type": "markdown",
   "id": "8449345f",
   "metadata": {},
   "source": [
    "The ability to select a substring from a string is powerful, as we will see when applied to our example strings `'AAPL Stock'` and `'F Stock'`.\n",
    "\n",
    "### Searching Strings\n",
    "\n",
    "To find a particular character in a string, we can use the `.find()` function.\n",
    "\n",
    "For example, `'cat'.find('a')` takes the string `'cat'` and applies the function `.find()` to it.  We specify the character `'a'` inside the function (inside the parentheses) to indicate that we are searching for the character `'a'`.  This command in Python will return the number $1$ because the character `'a'` first appears in the string `'cat'` at position $1$."
   ]
  },
  {
   "cell_type": "code",
   "execution_count": 17,
   "id": "e78e566d",
   "metadata": {},
   "outputs": [
    {
     "data": {
      "text/plain": [
       "1"
      ]
     },
     "execution_count": 17,
     "metadata": {},
     "output_type": "execute_result"
    }
   ],
   "source": [
    "'cat'.find('a')"
   ]
  },
  {
   "cell_type": "markdown",
   "id": "13af0acc",
   "metadata": {},
   "source": [
    "Note that `.find()` will give us only the position of the first instance of a desired character.  Suppose that we want to find the position of the character `'o'` in the string `'google'`.  The command `'google.find('o')` will return the number $1$.  It will never give us back the number $2$, even though the character `'o'` also appears in that position in the string `'google'`."
   ]
  },
  {
   "cell_type": "code",
   "execution_count": 18,
   "id": "8768808c",
   "metadata": {},
   "outputs": [
    {
     "data": {
      "text/plain": [
       "1"
      ]
     },
     "execution_count": 18,
     "metadata": {},
     "output_type": "execute_result"
    }
   ],
   "source": [
    "'google'.find('o')"
   ]
  },
  {
   "cell_type": "code",
   "execution_count": 19,
   "id": "906021cc",
   "metadata": {},
   "outputs": [
    {
     "data": {
      "text/plain": [
       "2"
      ]
     },
     "execution_count": 19,
     "metadata": {},
     "output_type": "execute_result"
    }
   ],
   "source": [
    "'This is a sentence'.find('is')"
   ]
  },
  {
   "cell_type": "markdown",
   "id": "640ff995",
   "metadata": {},
   "source": [
    "If a given character is *not* found in a string, the `.find()` function will return `-1`."
   ]
  },
  {
   "cell_type": "code",
   "execution_count": 20,
   "id": "3ec2132b",
   "metadata": {},
   "outputs": [
    {
     "data": {
      "text/plain": [
       "-1"
      ]
     },
     "execution_count": 20,
     "metadata": {},
     "output_type": "execute_result"
    }
   ],
   "source": [
    "'google'.find('a')"
   ]
  },
  {
   "cell_type": "markdown",
   "id": "c7a0373f",
   "metadata": {},
   "source": [
    "<span style=\"color:red\">**Concept check**:</span>  Find the position of the ticker `NVDA` in the following string."
   ]
  },
  {
   "cell_type": "code",
   "execution_count": null,
   "id": "c6f37faa",
   "metadata": {},
   "outputs": [],
   "source": [
    "# complete concept check here\n",
    "string = 'Analysts expect earnings for NVDA to rise over the next four quarters.'\n"
   ]
  },
  {
   "cell_type": "markdown",
   "id": "d269d17b",
   "metadata": {},
   "source": [
    "### String Concatenation\n",
    "\n",
    "The way to combine (also known as *concatenating*) two or more strings is to use the `+` character.  Just like `+` combines integers and/or floating point numbers, `+` combines strings."
   ]
  },
  {
   "cell_type": "code",
   "execution_count": 21,
   "id": "4db2b8fe",
   "metadata": {},
   "outputs": [
    {
     "data": {
      "text/plain": [
       "'AppleInc.'"
      ]
     },
     "execution_count": 21,
     "metadata": {},
     "output_type": "execute_result"
    }
   ],
   "source": [
    "word1 = 'Apple'\n",
    "word2 = 'Inc.'\n",
    "word1 + word2"
   ]
  },
  {
   "cell_type": "markdown",
   "id": "f4f796f1",
   "metadata": {},
   "source": [
    "Notice that `+` does not join together strings with spaces between them.  There are very reasonable applications in which no spacing should occur between strings, and so Python will not assume that you'd like to have spaces between strings.\n",
    "\n",
    "In the above example, we can safely say that the combined string would look more reasonable with a space between the two words.  To achive this, simply include a `' '` string as a middle string in what becomes a concatenation of three strings."
   ]
  },
  {
   "cell_type": "code",
   "execution_count": 22,
   "id": "30cd8669",
   "metadata": {},
   "outputs": [
    {
     "data": {
      "text/plain": [
       "'Apple Inc.'"
      ]
     },
     "execution_count": 22,
     "metadata": {},
     "output_type": "execute_result"
    }
   ],
   "source": [
    "word1 + ' ' + word2"
   ]
  },
  {
   "cell_type": "markdown",
   "id": "434a65de",
   "metadata": {},
   "source": [
    "Note that tricky issues arrive if we use `+` in circumstances that include both strings and numbers.  Obviously, one can't add strings and numbers together in any sort of algebraic interpretation of the word \"add\".  Importantly, however, is that Python won't assume that, in the presence of both strings and numbers, a `+` character should be interpreted as concatenation.  To clarify these last two sentences, let's attempt two different lines of code.\n",
    "\n",
    "First, enter a number plus a string."
   ]
  },
  {
   "cell_type": "code",
   "execution_count": 24,
   "id": "2d7c6ddc",
   "metadata": {},
   "outputs": [
    {
     "ename": "TypeError",
     "evalue": "unsupported operand type(s) for +: 'int' and 'str'",
     "output_type": "error",
     "traceback": [
      "\u001b[1;31m---------------------------------------------------------------------------\u001b[0m",
      "\u001b[1;31mTypeError\u001b[0m                                 Traceback (most recent call last)",
      "\u001b[1;32m<ipython-input-24-5043558bd679>\u001b[0m in \u001b[0;36m<module>\u001b[1;34m\u001b[0m\n\u001b[1;32m----> 1\u001b[1;33m \u001b[1;36m8\u001b[0m \u001b[1;33m+\u001b[0m \u001b[1;34m'1'\u001b[0m\u001b[1;33m\u001b[0m\u001b[1;33m\u001b[0m\u001b[0m\n\u001b[0m",
      "\u001b[1;31mTypeError\u001b[0m: unsupported operand type(s) for +: 'int' and 'str'"
     ]
    }
   ],
   "source": [
    "8 + '1'"
   ]
  },
  {
   "cell_type": "markdown",
   "id": "69e705d9",
   "metadata": {},
   "source": [
    "Python prints out an error.  The message, in a nutshell, informs us that we can't use `+` in the presence of an `int` and a `str` variable type.\n",
    "\n",
    "Second, try things the other way around.  Enter a string plus a number."
   ]
  },
  {
   "cell_type": "code",
   "execution_count": 25,
   "id": "b584863b",
   "metadata": {},
   "outputs": [
    {
     "ename": "TypeError",
     "evalue": "can only concatenate str (not \"int\") to str",
     "output_type": "error",
     "traceback": [
      "\u001b[1;31m---------------------------------------------------------------------------\u001b[0m",
      "\u001b[1;31mTypeError\u001b[0m                                 Traceback (most recent call last)",
      "\u001b[1;32m<ipython-input-25-73173934f639>\u001b[0m in \u001b[0;36m<module>\u001b[1;34m\u001b[0m\n\u001b[1;32m----> 1\u001b[1;33m \u001b[1;34m'1'\u001b[0m \u001b[1;33m+\u001b[0m \u001b[1;36m8\u001b[0m\u001b[1;33m\u001b[0m\u001b[1;33m\u001b[0m\u001b[0m\n\u001b[0m",
      "\u001b[1;31mTypeError\u001b[0m: can only concatenate str (not \"int\") to str"
     ]
    }
   ],
   "source": [
    "'1' + 8"
   ]
  },
  {
   "cell_type": "markdown",
   "id": "9c776e4d",
   "metadata": {},
   "source": [
    "Again, Python prints out an error.  This time the message is different.  It warns us that Python can only concatenate `str` variables with other `str` variables (and not `int` variables.\n",
    "\n",
    "Why do the messages differ?  In the first case, Python sees a number (integer) first.  It then assumes that the `+` character must be addition, and gets confused and raises an error when, after the `+` character, it encounters a string.  In the second case, Python sees a string first.  It then assumes that the `+` character is meant to signify concatenation, and thus becomes confused and raises and error when it sees an integer.\n",
    "\n",
    "The solution to the problem of combining strings and numbers together is called *type conversion*, and it will be discussed later in this chapter."
   ]
  },
  {
   "cell_type": "markdown",
   "id": "ac4ebf2d",
   "metadata": {},
   "source": [
    "## Functions\n",
    "\n",
    "Variables are one of the two fundamental components of any programming language.  Now that we know what variables are (they things that store data) and how to work with them, we can introduce the the other fundamental component of programming: functions.\n",
    "\n",
    "Functions give us the ability to write some code that we reference over and over again without having to retype things.  Ultimately, programming is about making your life easier!  We work hard (say, for one semester of our lives) learning how to give a computer instructions (using Python) and then, for the rest of our lives, everything else is easier and more convenient because we can instruct a computer to do lots of the heavy lifting for us.  <u>In financial terms, we spend a little time now for a bunch of time saved later, and thus the net present value of learning to program is positive.</u>\n",
    "\n",
    "Functions have three parts:\n",
    "1. Function defintion (name the function and determine what *inputs* we need, if any)\n",
    "2. Operations (execute some code)\n",
    "3. Return statement (define what want we want to get back from the function)\n",
    "\n",
    "As an example, let's compute the weighted average cost of capital, defined as\n",
    "\n",
    "$$\n",
    "r_{\\text{WACC}} = \\frac{E}{V}\\times r_E + \\frac{D}{V}\\times r_D\\times (1-\\tau_C).\n",
    "$$\n",
    "\n",
    "That is, the weighted average cost of capital for a firm is the proportion of equity in the firm times the equity cost of capital plus the proportion of debt in the firm times the debt cost of capital.  We adjust the latter for the tax shield of debt using the corporate tax rate $\\tau_C$.\n",
    "\n",
    "**Part 1: definition**\n",
    "\n",
    "A function defintion begins with the keyword `def` followed by the function name and then a colon.\n",
    "\n",
    "Functions can use information passed to it via input arguments (inputs are named in the parentheses, which appear before the colon).\n",
    "\n",
    "```python3\n",
    "def wacc(E, D, rE, rD, tC):\n",
    "```\n",
    "\n",
    "Note that in this function definition, we expect `E` and `D` as inputs.  We do not require `V` to be an input to the function, since `V` is easily calculated as `V = E + D`.  This calculation is included in part 2.\n",
    "\n",
    "**Part 2: operations**\n",
    "\n",
    "Functions run the code written inside of the function (operations) when the function is *called*.  A function call occurs when a programmer ''uses'' the function, and we'll see an example of this shortly.\n",
    "\n",
    "<u>NOTE</u>: indentation keeps track of whether code is ''inside'' a function\n",
    "\n",
    "```python3\n",
    "def wacc(E, D, rE, rD, tC):\n",
    "    V = E + D\n",
    "    cost_of_capital = E / V * rE + D / V * rD * (1 - tC)\n",
    "```\n",
    "\n",
    "**Part 3: return value**\n",
    "\n",
    "Functions can be many, many lines of code.\n",
    "\n",
    "The last line, starting with the keyword `return` specifies what value comes back when you run the function.\n",
    "\n",
    "```python3\n",
    "def wacc(E, D, rE, rD, tC):\n",
    "    V = E + D\n",
    "    cost_of_capital = E / V * rE + D / V * rD * (1 - tC)\n",
    "    return cost_of_capital\n",
    "```\n",
    "\n",
    "When a function is created, Python becomes ''aware'' of the function, but nothing else happens at that time."
   ]
  },
  {
   "cell_type": "code",
   "execution_count": 1,
   "id": "3808ec2e",
   "metadata": {},
   "outputs": [],
   "source": [
    "def wacc(E, D, rE, rD, tC):\n",
    "    V = E + D\n",
    "    cost_of_capital = E / V * rE + D / V * rD * (1-tC)\n",
    "    return cost_of_capital"
   ]
  },
  {
   "cell_type": "markdown",
   "id": "2f474c36",
   "metadata": {},
   "source": [
    "For functions to be used, they need to be *called*.  For example:"
   ]
  },
  {
   "cell_type": "code",
   "execution_count": 2,
   "id": "b49d2210",
   "metadata": {},
   "outputs": [
    {
     "data": {
      "text/plain": [
       "0.06753846153846155"
      ]
     },
     "execution_count": 2,
     "metadata": {},
     "output_type": "execute_result"
    }
   ],
   "source": [
    "wacc(100,30,.08,.04,.35)"
   ]
  },
  {
   "cell_type": "markdown",
   "id": "3709eae9",
   "metadata": {},
   "source": [
    "tells Python to compute the weighted average cost of capital for a firm with an equity value of $100$, a debt value of $30$, an equity cost of capital of $8\\%$, a debt cost of capital of $4\\%$, and a tax rate of $35\\%$.  The returned value of `0.0675` tells us that the firm's WACC is $6.75\\%$.\n",
    "\n",
    "In the above example, Python *assumes* the first number ($100$) should be given to the input variable `E`, it *assumes* that the second number ($30$) should be given to the input variable `D`, etc.  This is bad practice!  It's much better to use the input variable names:"
   ]
  },
  {
   "cell_type": "code",
   "execution_count": 3,
   "id": "93139d89",
   "metadata": {},
   "outputs": [
    {
     "data": {
      "text/plain": [
       "0.06753846153846155"
      ]
     },
     "execution_count": 3,
     "metadata": {},
     "output_type": "execute_result"
    }
   ],
   "source": [
    "wacc(E=100,D=30,rE=.08,rD=.04,tC=.35)"
   ]
  },
  {
   "cell_type": "markdown",
   "id": "7be5109a",
   "metadata": {},
   "source": [
    "because then the ordering of how you enter the inputs doesn't matter."
   ]
  },
  {
   "cell_type": "code",
   "execution_count": 4,
   "id": "a94b6715",
   "metadata": {},
   "outputs": [
    {
     "data": {
      "text/plain": [
       "0.06753846153846155"
      ]
     },
     "execution_count": 4,
     "metadata": {},
     "output_type": "execute_result"
    }
   ],
   "source": [
    "wacc(rE=.08,rD=.04,tC=.35,E=100,D=30)"
   ]
  },
  {
   "cell_type": "markdown",
   "id": "18fc57bf",
   "metadata": {},
   "source": [
    "This is useful to keep in mind because, realistically, you won't remember the default ordering of inputs (the order of input variables in the `def` line of the function definition).\n",
    "\n",
    "The `return` line is important because variables that live inside a function are stuck inside that function.\n",
    "\n",
    "E.g. the below will throw an error because `cost_of_capital` is only *accessible* inside the function `wacc`."
   ]
  },
  {
   "cell_type": "code",
   "execution_count": 5,
   "id": "882fdd91",
   "metadata": {},
   "outputs": [
    {
     "ename": "NameError",
     "evalue": "name 'cost_of_capital' is not defined",
     "output_type": "error",
     "traceback": [
      "\u001b[1;31m---------------------------------------------------------------------------\u001b[0m",
      "\u001b[1;31mNameError\u001b[0m                                 Traceback (most recent call last)",
      "\u001b[1;32m<ipython-input-5-967605eceae6>\u001b[0m in \u001b[0;36m<module>\u001b[1;34m\u001b[0m\n\u001b[1;32m----> 1\u001b[1;33m \u001b[0mcost_of_capital\u001b[0m\u001b[1;33m\u001b[0m\u001b[1;33m\u001b[0m\u001b[0m\n\u001b[0m",
      "\u001b[1;31mNameError\u001b[0m: name 'cost_of_capital' is not defined"
     ]
    }
   ],
   "source": [
    "cost_of_capital"
   ]
  },
  {
   "cell_type": "markdown",
   "id": "f93bef90",
   "metadata": {},
   "source": [
    "In order to get the value `cost_of_capital` back from the function, we specify that this value should be *returned* from the function.  If desired, we can instruct the function to return multiple items to us.  For instance, the `wacc()` function defined above returns only the cost of capital.  If we want to return the total firm value, `V`, along with the cost of capital, we can easily modify the function to do so."
   ]
  },
  {
   "cell_type": "code",
   "execution_count": 6,
   "id": "ca46cebe",
   "metadata": {},
   "outputs": [],
   "source": [
    "def more_wacc(E, D, rE, rD, tC):\n",
    "    V = E + D\n",
    "    cost_of_capital = E / V * rE + D / V * rD * (1-tC)\n",
    "    return cost_of_capital, V"
   ]
  },
  {
   "cell_type": "code",
   "execution_count": 7,
   "id": "99ecac03",
   "metadata": {},
   "outputs": [
    {
     "data": {
      "text/plain": [
       "(0.06753846153846155, 130)"
      ]
     },
     "execution_count": 7,
     "metadata": {},
     "output_type": "execute_result"
    }
   ],
   "source": [
    "more_wacc(E=100,D=30,rE=.08,rD=.04,tC=.35)"
   ]
  },
  {
   "cell_type": "markdown",
   "id": "3747d8d4",
   "metadata": {},
   "source": [
    "By default, Python is printing out the returned item(s) from the function.  This happens because, if Python is not told to save the returned item(s) anywhere, Python simply prints it out.  We can instead save the returned item(s) to a variable."
   ]
  },
  {
   "cell_type": "code",
   "execution_count": 8,
   "id": "d90256b6",
   "metadata": {},
   "outputs": [],
   "source": [
    "r_W = wacc(E=100,D=30,rE=.08,rD=.04,tC=.35)"
   ]
  },
  {
   "cell_type": "markdown",
   "id": "71b84b12",
   "metadata": {},
   "source": [
    "This will preserve the returned item for later use.  For instance, suppose that we calculate the cost of capital and then estimate the present value of a series of three dividend payments (one today, one in a year from now, and one in two years from now).  For simplicity, let's assume each divident payment is \\$5."
   ]
  },
  {
   "cell_type": "code",
   "execution_count": 9,
   "id": "288b93d2",
   "metadata": {},
   "outputs": [
    {
     "data": {
      "text/plain": [
       "14.071028677403966"
      ]
     },
     "execution_count": 9,
     "metadata": {},
     "output_type": "execute_result"
    }
   ],
   "source": [
    "5 + 5/(1+r_W) + 5/(1+r_W)**2"
   ]
  },
  {
   "cell_type": "markdown",
   "id": "4e3d1f99",
   "metadata": {},
   "source": [
    "If multiple items are returned from a function and we save the returned items to a variable, that variable will be a list."
   ]
  },
  {
   "cell_type": "code",
   "execution_count": 10,
   "id": "5882333b",
   "metadata": {},
   "outputs": [
    {
     "name": "stdout",
     "output_type": "stream",
     "text": [
      "(0.06753846153846155, 130)\n"
     ]
    }
   ],
   "source": [
    "x = more_wacc(E=100,D=30,rE=.08,rD=.04,tC=.35)\n",
    "print(x)"
   ]
  },
  {
   "cell_type": "code",
   "execution_count": 11,
   "id": "e1229c0d",
   "metadata": {},
   "outputs": [
    {
     "data": {
      "text/plain": [
       "0.06753846153846155"
      ]
     },
     "execution_count": 11,
     "metadata": {},
     "output_type": "execute_result"
    }
   ],
   "source": [
    "x[0]"
   ]
  },
  {
   "cell_type": "markdown",
   "id": "da08603a",
   "metadata": {},
   "source": [
    "<span style=\"color:red\">**Concept check**:</span>  Use the `more_wacc()` function to calculate WACC under the following parameter values:\n",
    "- E=200\n",
    "- D=80\n",
    "- rE=.09\n",
    "- rD=0.8\n",
    "- tC=.4"
   ]
  },
  {
   "cell_type": "code",
   "execution_count": null,
   "id": "67fafc3d",
   "metadata": {},
   "outputs": [],
   "source": [
    "# complete concept check here"
   ]
  },
  {
   "cell_type": "markdown",
   "id": "fda0260a",
   "metadata": {},
   "source": [
    "### Plan Ahead\n",
    "\n",
    "Functions have the potential to create immense utility for the end user.  A very well constructed function can save you hours (if not days or weeks) of time down the road.  However, to be useful, the function needs to be planned carefully.  If the function is written well, then you can use it conveniently in the future without worrying about the details.  However, if the function is written poorly, it could end up creating a huge headache for you when you try to use it later.\n",
    "\n",
    "Keeping to the `wacc()` example, let's consider some simple improvements to the function.\n",
    "\n",
    "Imagine that we plan to use this `wacc()` function to value companies, using data on companies that will be obtained in some other piece of code.  Thus, we collect all the requisite components to calculating a weighted average cost of capital, as well as information about the current free cash flow and an expected growth rate to the free cash flow.  For simplicity, assume that free cash flow growth and the risk free rate of capital are constant.  In this scenario, we can apply the Gordon growth formula to value the company.\n",
    "\n",
    "$$\n",
    "V = \\frac{FCF}{r_{WACC}-g}\n",
    "$$"
   ]
  },
  {
   "cell_type": "code",
   "execution_count": 18,
   "id": "f1d2f3be",
   "metadata": {},
   "outputs": [
    {
     "data": {
      "text/plain": [
       "34.75935828877005"
      ]
     },
     "execution_count": 18,
     "metadata": {},
     "output_type": "execute_result"
    }
   ],
   "source": [
    "2/(wacc(E=100,D=30,rE=.08,rD=.04,tC=.35) - 0.01) # $2M in FCF, growing at 1%/year"
   ]
  },
  {
   "cell_type": "markdown",
   "id": "9a0a8c72",
   "metadata": {},
   "source": [
    "A limitation of the `wacc()` function is that it assumes all inputs are sensible.  Suppose an innocent typo places a negative sign in front of the value for `rE`.  In this case, form value can end up a negative number!"
   ]
  },
  {
   "cell_type": "code",
   "execution_count": 19,
   "id": "8e7d774d",
   "metadata": {},
   "outputs": [
    {
     "data": {
      "text/plain": [
       "-30.516431924882625"
      ]
     },
     "execution_count": 19,
     "metadata": {},
     "output_type": "execute_result"
    }
   ],
   "source": [
    "2/(wacc(E=100,D=30,rE=-.08,rD=.04,tC=.35) - 0.01)"
   ]
  },
  {
   "cell_type": "markdown",
   "id": "4d7e5f6e",
   "metadata": {},
   "source": [
    "One can look at this and see that there is a problem; firm value cannot be negative.  A scarier example is one in which the accidental negative shows up in front of the value for `rD`.  This latter case is worse because it's not as obvious that there is an issue (firm value is still calculated to be positive)."
   ]
  },
  {
   "cell_type": "code",
   "execution_count": 20,
   "id": "b638ad33",
   "metadata": {},
   "outputs": [
    {
     "data": {
      "text/plain": [
       "43.91891891891892"
      ]
     },
     "execution_count": 20,
     "metadata": {},
     "output_type": "execute_result"
    }
   ],
   "source": [
    "2/(wacc(E=100,D=30,rE=.08,rD=-.04,tC=.35) - 0.01)"
   ]
  },
  {
   "cell_type": "markdown",
   "id": "ff31684c",
   "metadata": {},
   "source": [
    "These sorts of small problems can create huge issues for you or your company.  In this working example, the typo over-values the firm by:"
   ]
  },
  {
   "cell_type": "code",
   "execution_count": 23,
   "id": "997038c6",
   "metadata": {},
   "outputs": [
    {
     "data": {
      "text/plain": [
       "0.2635135135135136"
      ]
     },
     "execution_count": 23,
     "metadata": {},
     "output_type": "execute_result"
    }
   ],
   "source": [
    "value_wrong = 2/(wacc(E=100,D=30,rE=.08,rD=-.04,tC=.35) - 0.01)\n",
    "value_right = 2/(wacc(E=100,D=30,rE=.08,rD=.04,tC=.35) - 0.01)\n",
    "value_wrong / value_right - 1"
   ]
  },
  {
   "cell_type": "markdown",
   "id": "d0018888",
   "metadata": {},
   "source": [
    "Therefore, when we write the `wacc()` function, we should take care to watch out for anticipable errors and deal with them.\n",
    "\n",
    "One option is to simply print out a warning message if the function detects something fishy."
   ]
  },
  {
   "cell_type": "code",
   "execution_count": 26,
   "id": "34c16e2b",
   "metadata": {},
   "outputs": [
    {
     "name": "stdout",
     "output_type": "stream",
     "text": [
      "Warning! rD is not positive\n"
     ]
    },
    {
     "data": {
      "text/plain": [
       "43.91891891891892"
      ]
     },
     "execution_count": 26,
     "metadata": {},
     "output_type": "execute_result"
    }
   ],
   "source": [
    "def better_wacc(E, D, rE, rD, tC):\n",
    "    \n",
    "    if rE <= 0:\n",
    "        print('rE is not positive')\n",
    "    if rD <= 0:\n",
    "        print('rD is not positive')\n",
    "    if tC <= 0:\n",
    "        print('tC is not positive')\n",
    "    \n",
    "    V = E + D\n",
    "    cost_of_capital = E / V * rE + D / V * rD * (1-tC)\n",
    "    return cost_of_capital\n",
    "\n",
    "2/(better_wacc(E=100,D=30,rE=.08,rD=-.04,tC=.35) - 0.01)"
   ]
  },
  {
   "cell_type": "markdown",
   "id": "52f4f643",
   "metadata": {},
   "source": [
    "This at least generates a warning message, but warnings can only go so far.  There is a very real possibility that someone using this function may not notice the warning message and consequently carry on with their analysis despite having an erroneously calculated firm value.\n",
    "\n",
    "If you are certain something is absolutely not an acceptable input, stop it!  Do not let the function continue operating on bad data.  The way to do this is with an **Exception**."
   ]
  },
  {
   "cell_type": "code",
   "execution_count": 27,
   "id": "55eed891",
   "metadata": {},
   "outputs": [
    {
     "ename": "Exception",
     "evalue": "Warning! rD is not positive",
     "output_type": "error",
     "traceback": [
      "\u001b[1;31m---------------------------------------------------------------------------\u001b[0m",
      "\u001b[1;31mException\u001b[0m                                 Traceback (most recent call last)",
      "\u001b[1;32m<ipython-input-27-256c67bfb8c0>\u001b[0m in \u001b[0;36m<module>\u001b[1;34m\u001b[0m\n\u001b[0;32m     12\u001b[0m     \u001b[1;32mreturn\u001b[0m \u001b[0mcost_of_capital\u001b[0m\u001b[1;33m\u001b[0m\u001b[1;33m\u001b[0m\u001b[0m\n\u001b[0;32m     13\u001b[0m \u001b[1;33m\u001b[0m\u001b[0m\n\u001b[1;32m---> 14\u001b[1;33m \u001b[1;36m2\u001b[0m\u001b[1;33m/\u001b[0m\u001b[1;33m(\u001b[0m\u001b[0mbetter_wacc\u001b[0m\u001b[1;33m(\u001b[0m\u001b[0mE\u001b[0m\u001b[1;33m=\u001b[0m\u001b[1;36m100\u001b[0m\u001b[1;33m,\u001b[0m\u001b[0mD\u001b[0m\u001b[1;33m=\u001b[0m\u001b[1;36m30\u001b[0m\u001b[1;33m,\u001b[0m\u001b[0mrE\u001b[0m\u001b[1;33m=\u001b[0m\u001b[1;36m.08\u001b[0m\u001b[1;33m,\u001b[0m\u001b[0mrD\u001b[0m\u001b[1;33m=\u001b[0m\u001b[1;33m-\u001b[0m\u001b[1;36m.04\u001b[0m\u001b[1;33m,\u001b[0m\u001b[0mtC\u001b[0m\u001b[1;33m=\u001b[0m\u001b[1;36m.35\u001b[0m\u001b[1;33m)\u001b[0m \u001b[1;33m-\u001b[0m \u001b[1;36m0.01\u001b[0m\u001b[1;33m)\u001b[0m\u001b[1;33m\u001b[0m\u001b[1;33m\u001b[0m\u001b[0m\n\u001b[0m",
      "\u001b[1;32m<ipython-input-27-256c67bfb8c0>\u001b[0m in \u001b[0;36mbetter_wacc\u001b[1;34m(E, D, rE, rD, tC)\u001b[0m\n\u001b[0;32m      4\u001b[0m         \u001b[1;32mraise\u001b[0m \u001b[0mException\u001b[0m\u001b[1;33m(\u001b[0m\u001b[1;34m'Warning! rE is not positive'\u001b[0m\u001b[1;33m)\u001b[0m\u001b[1;33m\u001b[0m\u001b[1;33m\u001b[0m\u001b[0m\n\u001b[0;32m      5\u001b[0m     \u001b[1;32mif\u001b[0m \u001b[0mrD\u001b[0m \u001b[1;33m<=\u001b[0m \u001b[1;36m0\u001b[0m\u001b[1;33m:\u001b[0m\u001b[1;33m\u001b[0m\u001b[1;33m\u001b[0m\u001b[0m\n\u001b[1;32m----> 6\u001b[1;33m         \u001b[1;32mraise\u001b[0m \u001b[0mException\u001b[0m\u001b[1;33m(\u001b[0m\u001b[1;34m'Warning! rD is not positive'\u001b[0m\u001b[1;33m)\u001b[0m\u001b[1;33m\u001b[0m\u001b[1;33m\u001b[0m\u001b[0m\n\u001b[0m\u001b[0;32m      7\u001b[0m     \u001b[1;32mif\u001b[0m \u001b[0mtC\u001b[0m \u001b[1;33m<=\u001b[0m \u001b[1;36m0\u001b[0m\u001b[1;33m:\u001b[0m\u001b[1;33m\u001b[0m\u001b[1;33m\u001b[0m\u001b[0m\n\u001b[0;32m      8\u001b[0m         \u001b[1;32mraise\u001b[0m \u001b[0mException\u001b[0m\u001b[1;33m(\u001b[0m\u001b[1;34m'Warning! tC is not positive'\u001b[0m\u001b[1;33m)\u001b[0m\u001b[1;33m\u001b[0m\u001b[1;33m\u001b[0m\u001b[0m\n",
      "\u001b[1;31mException\u001b[0m: Warning! rD is not positive"
     ]
    }
   ],
   "source": [
    "def better_wacc(E, D, rE, rD, tC):\n",
    "    \n",
    "    if rE <= 0:\n",
    "        raise Exception('rE is not positive')\n",
    "    if rD <= 0:\n",
    "        raise Exception('rD is not positive')\n",
    "    if tC <= 0:\n",
    "        raise Exception('tC is not positive')\n",
    "    \n",
    "    V = E + D\n",
    "    cost_of_capital = E / V * rE + D / V * rD * (1-tC)\n",
    "    return cost_of_capital\n",
    "\n",
    "2/(better_wacc(E=100,D=30,rE=.08,rD=-.04,tC=.35) - 0.01)"
   ]
  },
  {
   "cell_type": "markdown",
   "id": "b2ae4f24",
   "metadata": {},
   "source": [
    "Exception messages spit out lots of text, so they can be somewhat intimidating to approach at first.  Python will print out a *traceback* of what code ran that ultimately resulted in an error.  The easiest way to get a quick picture of what happened is to follow the `--->` symbols, reading from top to bottom.  The first such symbol indicates that line 14 was called.  The second such symbol tells us that line 6 was called.  The actual error message is the final line of the printout.  From this brief inspection, we can figure out what went wrong.  Notice that line 6 can only be called if line 5 is true.  Hence, the root of our problem is that line 5 is true, indicating that `rD` is entered as a negative number.\n",
    "\n",
    "The `if` statements added to `better_wacc()` cause the funcion to \"break\" (raise an error message and stop the code from continuing) under certain scenarios.  To see that the code completely terminantes when an exception is raised, try the following."
   ]
  },
  {
   "cell_type": "code",
   "execution_count": 28,
   "id": "c3c53459",
   "metadata": {},
   "outputs": [
    {
     "ename": "Exception",
     "evalue": "Warning! rD is not positive",
     "output_type": "error",
     "traceback": [
      "\u001b[1;31m---------------------------------------------------------------------------\u001b[0m",
      "\u001b[1;31mException\u001b[0m                                 Traceback (most recent call last)",
      "\u001b[1;32m<ipython-input-28-a502cbe6c27d>\u001b[0m in \u001b[0;36m<module>\u001b[1;34m\u001b[0m\n\u001b[1;32m----> 1\u001b[1;33m \u001b[0mprint\u001b[0m\u001b[1;33m(\u001b[0m \u001b[1;36m2\u001b[0m\u001b[1;33m/\u001b[0m\u001b[1;33m(\u001b[0m\u001b[0mbetter_wacc\u001b[0m\u001b[1;33m(\u001b[0m\u001b[0mE\u001b[0m\u001b[1;33m=\u001b[0m\u001b[1;36m100\u001b[0m\u001b[1;33m,\u001b[0m\u001b[0mD\u001b[0m\u001b[1;33m=\u001b[0m\u001b[1;36m30\u001b[0m\u001b[1;33m,\u001b[0m\u001b[0mrE\u001b[0m\u001b[1;33m=\u001b[0m\u001b[1;36m.08\u001b[0m\u001b[1;33m,\u001b[0m\u001b[0mrD\u001b[0m\u001b[1;33m=\u001b[0m\u001b[1;33m-\u001b[0m\u001b[1;36m.04\u001b[0m\u001b[1;33m,\u001b[0m\u001b[0mtC\u001b[0m\u001b[1;33m=\u001b[0m\u001b[1;36m.35\u001b[0m\u001b[1;33m)\u001b[0m \u001b[1;33m-\u001b[0m \u001b[1;36m0.01\u001b[0m\u001b[1;33m)\u001b[0m \u001b[1;33m)\u001b[0m\u001b[1;33m\u001b[0m\u001b[1;33m\u001b[0m\u001b[0m\n\u001b[0m\u001b[0;32m      2\u001b[0m \u001b[0mprint\u001b[0m\u001b[1;33m(\u001b[0m\u001b[1;34m'firm value is now calculated'\u001b[0m\u001b[1;33m)\u001b[0m\u001b[1;33m\u001b[0m\u001b[1;33m\u001b[0m\u001b[0m\n",
      "\u001b[1;32m<ipython-input-27-256c67bfb8c0>\u001b[0m in \u001b[0;36mbetter_wacc\u001b[1;34m(E, D, rE, rD, tC)\u001b[0m\n\u001b[0;32m      4\u001b[0m         \u001b[1;32mraise\u001b[0m \u001b[0mException\u001b[0m\u001b[1;33m(\u001b[0m\u001b[1;34m'Warning! rE is not positive'\u001b[0m\u001b[1;33m)\u001b[0m\u001b[1;33m\u001b[0m\u001b[1;33m\u001b[0m\u001b[0m\n\u001b[0;32m      5\u001b[0m     \u001b[1;32mif\u001b[0m \u001b[0mrD\u001b[0m \u001b[1;33m<=\u001b[0m \u001b[1;36m0\u001b[0m\u001b[1;33m:\u001b[0m\u001b[1;33m\u001b[0m\u001b[1;33m\u001b[0m\u001b[0m\n\u001b[1;32m----> 6\u001b[1;33m         \u001b[1;32mraise\u001b[0m \u001b[0mException\u001b[0m\u001b[1;33m(\u001b[0m\u001b[1;34m'Warning! rD is not positive'\u001b[0m\u001b[1;33m)\u001b[0m\u001b[1;33m\u001b[0m\u001b[1;33m\u001b[0m\u001b[0m\n\u001b[0m\u001b[0;32m      7\u001b[0m     \u001b[1;32mif\u001b[0m \u001b[0mtC\u001b[0m \u001b[1;33m<=\u001b[0m \u001b[1;36m0\u001b[0m\u001b[1;33m:\u001b[0m\u001b[1;33m\u001b[0m\u001b[1;33m\u001b[0m\u001b[0m\n\u001b[0;32m      8\u001b[0m         \u001b[1;32mraise\u001b[0m \u001b[0mException\u001b[0m\u001b[1;33m(\u001b[0m\u001b[1;34m'Warning! tC is not positive'\u001b[0m\u001b[1;33m)\u001b[0m\u001b[1;33m\u001b[0m\u001b[1;33m\u001b[0m\u001b[0m\n",
      "\u001b[1;31mException\u001b[0m: Warning! rD is not positive"
     ]
    }
   ],
   "source": [
    "print( 2/(better_wacc(E=100,D=30,rE=.08,rD=-.04,tC=.35) - 0.01) )\n",
    "print('firm value is now calculated')"
   ]
  },
  {
   "cell_type": "markdown",
   "id": "d4ef2922",
   "metadata": {},
   "source": [
    "Note that the second print statement is not executed.  Python halts all operations when an exception occurs."
   ]
  },
  {
   "cell_type": "markdown",
   "id": "0af4d274",
   "metadata": {},
   "source": [
    "Do not insert exceptions to your functions unnecessarily.  Only rely on financial principles to make these judgements.  It is obvious, for example, that costs of capital should not be negative.  Moreover, the second Modigliani and Miller proposition tells us that `rE` should always be at least as high as `rD`, so we could raise an exception if `rE <= rD`.  However, there is no strict rule, either by regulation or by principles of finance, that debt value cannot exceed equity value.  For some smaller firms, it may very well be that leverage exceeds 50%.  However, if you write the `better_wacc()` function and anticipate that it will only be used on large, S\\&P 500 companies, it may make sense to check whether `E > D`.  In this case, raising an exception would not be appropriate.  However, since we would generally expect that equity value should exceed debt value, it may make sense to print a warning message for the user."
   ]
  },
  {
   "cell_type": "code",
   "execution_count": 40,
   "id": "fdc5f9af",
   "metadata": {},
   "outputs": [],
   "source": [
    "def better_wacc(E, D, rE, rD, tC):\n",
    "    \n",
    "    if rE <= 0:\n",
    "        raise Exception('rE is not positive')\n",
    "    if rD <= 0:\n",
    "        raise Exception('rD is not positive')\n",
    "    if tC < 0:\n",
    "        raise Exception('tC is negative')\n",
    "    if rE <= rD:\n",
    "        raise Exception('rE <= rD, M&M prop2 violated')\n",
    "    if D > E:\n",
    "        print('Warning, debt value exceeds equity value.  Did you accidentally flip these values?')\n",
    "    \n",
    "    V = E + D\n",
    "    cost_of_capital = E / V * rE + D / V * rD * (1-tC)\n",
    "    return cost_of_capital"
   ]
  },
  {
   "cell_type": "markdown",
   "id": "52a9211b",
   "metadata": {},
   "source": [
    "<span style=\"color:red\">**Concept check**:</span>  Use the `better_wacc()` function to estimate WACC given the following parameter values.\n",
    "- E = 10\n",
    "- D = 100\n",
    "- rE = .15\n",
    "- rD = .05\n",
    "- tC = .35\n",
    "\n",
    "By the way, does the gap between `rE` and `rD` make senese to you?  Hint: think about the levels of `E` and `D`."
   ]
  },
  {
   "cell_type": "code",
   "execution_count": null,
   "id": "4d3fa489",
   "metadata": {},
   "outputs": [],
   "source": [
    "# complete concept check here"
   ]
  },
  {
   "cell_type": "markdown",
   "id": "bd6a7b09",
   "metadata": {},
   "source": [
    "### Combine Multiple Functions for Maximal Efficiency\n",
    "\n",
    "Functions should handle small, specific tasks.  Do not write one large function that does an entirely specialized task that you will rarely need to perform.  Remember, the goal of functions is to create shortcuts for us to instruct Python to perform a repetitive task, rather than re-writing those instructions each time we need a task to be performed.\n",
    "\n",
    "You will find that one convenient use of functions is to combine them in a manner like what is shown below.  We already have the `better_wacc()` function defined, which calculates a firm's weighted average cost of capital.  As alluded to above, a firm's cost of equity is a function of its leverage ratio.  So let's create a function called `cost_of_equity()` that will determine a firm's cost of equity capital.  Recall that Modigliani and Miller proposition 2 states:\n",
    "$$\n",
    "r_E = r_A + (r_A-r_D)*(1-t_C)*(D/E)\n",
    "$$\n",
    "where $r_A$ is the *unlevered* cost of capital (equal to the cost of equity capital for a firm with no leverage).\n",
    "\n",
    "Let us then define another function, `firm_value()` that calculates the value of a firm.  Inside the `firm_value()` function, we will call both the `better_wacc()` function and the `cost_of_equity()` function."
   ]
  },
  {
   "cell_type": "code",
   "execution_count": 35,
   "id": "22327ab5",
   "metadata": {},
   "outputs": [
    {
     "data": {
      "text/plain": [
       "55.61497326203209"
      ]
     },
     "execution_count": 35,
     "metadata": {},
     "output_type": "execute_result"
    }
   ],
   "source": [
    "def cost_of_equity(E, D, rA, rD, tC):\n",
    "    return rA + (rA-rD)*(1-tC)*(D/E)\n",
    "\n",
    "def firm_value(E, D, rA, rD, tC, FCF, g):\n",
    "    \n",
    "    rE = cost_of_equity(E=E, D=D, rA=rA, rD=rD, tC=tC)\n",
    "    rW = better_wacc(E, D, rE, rD, tC)\n",
    "    \n",
    "    if rW < g:\n",
    "        raise Exception('rW must be greater than g, but g=', g, 'and rW=', rW)\n",
    "    \n",
    "    return FCF / (rW - g)\n",
    "\n",
    "firm_value(E=100, D=30, rA=.05, rD=.04, tC=.35, FCF=2, g=.01)"
   ]
  },
  {
   "cell_type": "markdown",
   "id": "02790cef",
   "metadata": {},
   "source": [
    "What happens if the firm had a different debt level?"
   ]
  },
  {
   "cell_type": "code",
   "execution_count": 36,
   "id": "d5df1eba",
   "metadata": {},
   "outputs": [
    {
     "data": {
      "text/plain": [
       "57.77777777777777"
      ]
     },
     "execution_count": 36,
     "metadata": {},
     "output_type": "execute_result"
    }
   ],
   "source": [
    "firm_value(E=90, D=40, rA=.05, rD=.04, tC=.35, FCF=2, g=.01)"
   ]
  },
  {
   "cell_type": "markdown",
   "id": "c0fa1127",
   "metadata": {},
   "source": [
    "Debt is valuable because of the tax shield.  You can see that this is the cause for the change in firm value by setting `tC` to zero and re-computing both values above."
   ]
  },
  {
   "cell_type": "code",
   "execution_count": 41,
   "id": "ddf7601b",
   "metadata": {},
   "outputs": [
    {
     "name": "stdout",
     "output_type": "stream",
     "text": [
      "50.0\n",
      "50.0\n"
     ]
    }
   ],
   "source": [
    "print( firm_value(E=100, D=30, rA=.05, rD=.04, tC=0, FCF=2, g=.01) )\n",
    "print( firm_value(E=90, D=40, rA=.05, rD=.04, tC=0, FCF=2, g=.01) )"
   ]
  },
  {
   "cell_type": "markdown",
   "id": "dddebff5",
   "metadata": {},
   "source": [
    "<span style=\"color:red\">**Concept check**:</span>  Estimate the cost of equity for a firm under two different scenarios.\n",
    "1. E=90, D=10, rA=.05, rD=.04, tC=.2\n",
    "2. E=10, D=90, rA=.05, rD=.04, tC=.2"
   ]
  },
  {
   "cell_type": "code",
   "execution_count": null,
   "id": "ea25beac",
   "metadata": {},
   "outputs": [],
   "source": [
    "# complete concept check here"
   ]
  },
  {
   "cell_type": "markdown",
   "id": "local-intent",
   "metadata": {},
   "source": [
    "## Loops and Lists\n",
    "\n",
    "### `for` Loops and Lifetime Savings\n",
    "\n",
    "Because Python is quick and easy (once you have a handle of it), it serves as a useful tool for playing out ideas.  For example, suppose that we want to visualize a savings decision:\n",
    "\n",
    "> Once you begin contributing to a savings account, assume that you put away $x$ dollars per year and expect an annual return of $r$.  How much money will you have saved in $55$ years?\n",
    "\n",
    "Begin by defining the *variables* you need"
   ]
  },
  {
   "cell_type": "code",
   "execution_count": 1,
   "id": "consistent-monthly",
   "metadata": {},
   "outputs": [],
   "source": [
    "x = 5000\n",
    "r = 0.06"
   ]
  },
  {
   "cell_type": "markdown",
   "id": "collaborative-pillow",
   "metadata": {},
   "source": [
    "Now, *compound* the returns you get over the next $55$ years.  Imagine that today is year 0.  At the end of year 0, you'll have saved $x \\times (1+r)$.  Then, after another, you're year zero savings grow by another $(1+r)$, and your year one savings (since you put away $x$ more each year), also grows by $(1+r)$.  The following table helps visualize the idea:\n",
    "\n",
    "Time | Value of Money Saved at Year 0 | Value of Money Saved at Year 1 | Value of Money Saved at Year 2 | Value of Money Saved at Year 3\n",
    "- | - | - | - | -\n",
    "0 | $x$ | . | . | .\n",
    "1 | $x(1+r)$ | $x$ | . | .\n",
    "2 | $x(1+r)^2$ | $x(1+r)$ | $x$ | .\n",
    "3 | $x(1+r)^3$ | $x(1+r)^2$ | $x(1+r)$ | $x$\n",
    "\n",
    "Add up the values across each column to get the total savings at the *beginning* of a given year.  This sum is reported in the following table:\n",
    "\n",
    "<table width=\"100%\">\n",
    "    <tr>\n",
    "        <th width=\"20%\">\n",
    "            Time\n",
    "        </th>\n",
    "        <th width=\"40%\">\n",
    "            Total Savings (beginning of year)\n",
    "        </th>\n",
    "        <th width=\"40%\">\n",
    "            Total Savings (algebraically re-arranged)\n",
    "        </th>\n",
    "    </tr>\n",
    "    <tr>\n",
    "        <td>\n",
    "            $0$\n",
    "        </td>\n",
    "        <td>\n",
    "            $x$\n",
    "        </td>\n",
    "        <td>\n",
    "            $x$\n",
    "        </td>\n",
    "    </tr>\n",
    "    <tr>\n",
    "        <td>\n",
    "            $1$\n",
    "        </td>\n",
    "        <td>\n",
    "            <span style=\"color:blue\">$x(1+r)+x$</span>\n",
    "        </td>\n",
    "        <td>\n",
    "            $x(1+r)+x$\n",
    "        </td>\n",
    "    </tr>\n",
    "    <tr>\n",
    "        <td>\n",
    "            $2$\n",
    "        </td>\n",
    "        <td>\n",
    "            <span style=\"color:red\">$x(1+r)^2+x(1+r)+x$</span>\n",
    "        </td>\n",
    "        <td>\n",
    "            $\\Big[$<span style=\"color:blue\">$x(1+r)+x$</span>$\\Big](1+r)+x$\n",
    "        </td>\n",
    "    </tr>\n",
    "    <tr>\n",
    "        <td>\n",
    "            $3$\n",
    "        </td>\n",
    "        <td>\n",
    "            $x(1+r)^3+x(1+r)^2+x(1+r)+x$\n",
    "        </td>\n",
    "        <td>\n",
    "            $\\Big[$<span style=\"color:red\">$x(1+r)^2+x(1+r)+x$</span>$\\Big](1+r)+x$\n",
    "        </td>\n",
    "    </tr>\n",
    "</table>\n",
    "\n",
    "Comparing values across columns two and three of the above table, a convenient pattern emerges.  For instance, the value in year 2, column three equals $x$ plus $(1+r)$ times the value in year 1, column two.\n",
    "\n",
    "If we want to calculate the value of your savings acount at the beginning of year $55$, we need to tell Python to compound returns for $55$ years.  The really awful way to do this is to tell Python to calculate $x(1+r)^{55}+x(1+r)^{54}+x(1+r)^{53}+...+x(1+r)^2+x(1+r)+x$.  The programmer's way to do this is to use the pattern we pointed out in the above table, and make use of a *for loop* that operates over a range of years.\n",
    "\n",
    "If we wanted to loop over years $0$ through $3$, we could tell Python to use a `for` loop to iterate over a list of the numbers $0$ through $3$.  A `for` loop has four components to it:\n",
    "- the word `for` : tells Python to execute a `for` loop\n",
    "- a variable name : this serves as a *loop index*.  You'll see in a moment what this index does.  A common name used here is the letter `i`\n",
    "- the word `in` : tells Python that the loop index will be contained within ''something''.\n",
    "- a list : this is the ''something'' that we loop over.  Every item in the list gets used once."
   ]
  },
  {
   "cell_type": "code",
   "execution_count": 2,
   "id": "patient-milton",
   "metadata": {},
   "outputs": [
    {
     "name": "stdout",
     "output_type": "stream",
     "text": [
      "0\n",
      "1\n",
      "2\n",
      "3\n"
     ]
    }
   ],
   "source": [
    "for i in [0, 1, 2, 3]:\n",
    "    print(i)"
   ]
  },
  {
   "cell_type": "markdown",
   "id": "crazy-martin",
   "metadata": {},
   "source": [
    "What a `for` loop does is tells Python to loop over the list specified (in this case, the list of numbers $0$ through $4$).  For each item in that list, Python sets the loop index variable (in this case, we defined the index variable to be named `i`) equal to that value of the list and then executes every step within the for loop (all of the indented lines of code underneath the line `for`.  Here, our for loop only specifies one action: print out the value of the loop index.\n",
    "\n",
    "In our motivating example, we want Python to work over a long range of years.  In this case, years $0$ through $55$.\n",
    "This would be tedious to type out explicitly into `[0, 1, 2, ..., 54, 55]`.  Python has a trick for this, but there's one caveat to keep in mind.  As children, we learn to start counting with the number $1$.  Python, like most programming languages, starts counting with the number $0$.  Thus, the built-in function `range()` uses this starts-at-zero convention."
   ]
  },
  {
   "cell_type": "code",
   "execution_count": 3,
   "id": "african-rotation",
   "metadata": {},
   "outputs": [
    {
     "name": "stdout",
     "output_type": "stream",
     "text": [
      "0\n",
      "1\n",
      "2\n",
      "3\n",
      "4\n"
     ]
    }
   ],
   "source": [
    "for t in range(5):\n",
    "    print(t)"
   ]
  },
  {
   "cell_type": "markdown",
   "id": "mature-citizenship",
   "metadata": {},
   "source": [
    "As demonstrated above, `range(5)` tells Python that the loop should iterate over numbers $0$ through $4$.  Generally, we use `range(n)` to obtain numbers $0$ through $n-1$ (*not* $0$ through $n$).  Thus, we get $n$ numbers out of `range(n)`.  If we want to iterate up through year $55$, we would therefore use the statement `range(56)`.\n",
    "\n",
    "To calculate the value of your savings after $55$ years, we simply have to type out:"
   ]
  },
  {
   "cell_type": "code",
   "execution_count": 4,
   "id": "precious-massachusetts",
   "metadata": {},
   "outputs": [
    {
     "name": "stdout",
     "output_type": "stream",
     "text": [
      "2094111.7408149564\n"
     ]
    }
   ],
   "source": [
    "savings = 0 # initially, 0 dollars in savings account\n",
    "for i in range(56):\n",
    "    savings = savings*(1+r) + x # each year, pre-existings savings grows by (1+r) and an additional x is added\n",
    "print(savings)"
   ]
  },
  {
   "cell_type": "markdown",
   "id": "fewer-travel",
   "metadata": {},
   "source": [
    "<span style=\"color:red\">**Concept check**:</span>  Edit the following code so that the value for `my_savings` is printed out at years `10`, `20`, and `30`.  Hint: check for whether `i` is `in [10, 20, 30]`."
   ]
  },
  {
   "cell_type": "code",
   "execution_count": null,
   "id": "mechanical-vegetation",
   "metadata": {},
   "outputs": [],
   "source": [
    "# complete concept check here\n",
    "my_savings = 0\n",
    "for i in range(35):\n",
    "    my_savings = my_savings*(1+r) + x\n",
    "    # edit the code here!\n",
    "    \n",
    "print(savings) # this will print the savings after 35 years, we want to see savings at year 10, 20, 30 as well"
   ]
  },
  {
   "cell_type": "markdown",
   "id": "paperback-falls",
   "metadata": {},
   "source": [
    "For loops allow us to quickly visualize an idea.  For example, let's return to the valuation problem from earlier in the chapter."
   ]
  },
  {
   "cell_type": "code",
   "execution_count": 3,
   "id": "pretty-practitioner",
   "metadata": {},
   "outputs": [],
   "source": [
    "def better_wacc(E, D, rE, rD, tC):\n",
    "    \n",
    "    if rE <= 0:\n",
    "        raise Exception('rE is not positive')\n",
    "    if rD <= 0:\n",
    "        raise Exception('rD is not positive')\n",
    "    if tC <= 0:\n",
    "        raise Exception('tC is not positive')\n",
    "    \n",
    "    V = E + D\n",
    "    cost_of_capital = E / V * rE + D / V * rD * (1-tC)\n",
    "    return cost_of_capital\n",
    "\n",
    "def cost_of_equity(E, D, rA, rD, tC):\n",
    "    return rA + (rA-rD)*(1-tC)*(D/E)\n",
    "\n",
    "def firm_value(E, D, rA, rD, tC, FCF, g):\n",
    "    \n",
    "    rE = cost_of_equity(E=E, D=D, rA=rA, rD=rD, tC=tC)\n",
    "    rW = better_wacc(E, D, rE, rD, tC)\n",
    "    \n",
    "    if rW < g:\n",
    "        raise Exception('rW must be greater than g, but g=', g, 'and rW=', rW)\n",
    "    \n",
    "    return FCF / (rW - g)"
   ]
  },
  {
   "cell_type": "markdown",
   "id": "offensive-general",
   "metadata": {},
   "source": [
    "Earlier, we saw that the value of the firm changed as its leverage ratio changed.  A more complete, easier to see representation of this idea is to loop over many different debt-equity mixes and check what happens to firm value.\n",
    "\n",
    "Before jumping on the firm value example, let's clarify the usages of `range()`.  There are three possible ways to call the `range()` function:\n",
    "1. `range(n)`: gives numbers $0$ to $n$, i.e. [0, 1, ..., n]\n",
    "2. `range(k,n)`: gives numbers $k$ to $n$, i.e. [k, k+1, ..., n]\n",
    "3. `range(k,n,b)`: gives numbers $k$ to $n$, incrementing by $b$\n",
    "\n",
    "It's perhaps easiest to understand the use cases with a few examples."
   ]
  },
  {
   "cell_type": "code",
   "execution_count": 6,
   "id": "institutional-matter",
   "metadata": {},
   "outputs": [
    {
     "name": "stdout",
     "output_type": "stream",
     "text": [
      "0\n",
      "1\n",
      "2\n",
      "3\n",
      "4\n",
      "5\n",
      "6\n"
     ]
    }
   ],
   "source": [
    "for i in range(7):\n",
    "    print(i)"
   ]
  },
  {
   "cell_type": "code",
   "execution_count": 7,
   "id": "resistant-device",
   "metadata": {},
   "outputs": [
    {
     "name": "stdout",
     "output_type": "stream",
     "text": [
      "2\n",
      "3\n",
      "4\n",
      "5\n",
      "6\n"
     ]
    }
   ],
   "source": [
    "for i in range(2,7):\n",
    "    print(i)"
   ]
  },
  {
   "cell_type": "code",
   "execution_count": 8,
   "id": "italian-arrow",
   "metadata": {},
   "outputs": [
    {
     "name": "stdout",
     "output_type": "stream",
     "text": [
      "2\n",
      "5\n"
     ]
    }
   ],
   "source": [
    "for i in range(2,7,3):\n",
    "    print(i)"
   ]
  },
  {
   "cell_type": "markdown",
   "id": "distinguished-plastic",
   "metadata": {},
   "source": [
    "In the earlier example estimating firm value, the level of debt and equity of the firm added up to be 100.  Let's stick to the example numbers used earlier, and consider different debt-equity mixes that add to 100.  We could iterate over possible debt levels of 0 to 90 with either a call to `range(91)` or `range(0,91)`, but that would call the `firm_value()` function 91 times!  That many calculated firm values would be hard to read.  To make things easier on ourselves, let's try debt values of 0, 10, 20, ..., 90.  We can do this with the three-input version of the `range()` function call."
   ]
  },
  {
   "cell_type": "code",
   "execution_count": 9,
   "id": "australian-overall",
   "metadata": {},
   "outputs": [
    {
     "name": "stdout",
     "output_type": "stream",
     "text": [
      "0 50.0\n",
      "10 52.287581699346404\n",
      "20 54.7945205479452\n",
      "30 57.55395683453237\n",
      "40 60.6060606060606\n",
      "50 64.0\n",
      "60 67.79661016949152\n",
      "70 72.07207207207207\n",
      "80 76.92307692307692\n",
      "90 82.4742268041237\n"
     ]
    }
   ],
   "source": [
    "for D in range(0, 100, 10):\n",
    "    v = firm_value(E=100-D, D=D, rA=.05, rD=.04, tC=.35, FCF=2, g=.01)\n",
    "    print(D, v)"
   ]
  },
  {
   "cell_type": "markdown",
   "id": "brown-price",
   "metadata": {},
   "source": [
    "Think carefully about why `range(0,100,10)` gives values [0, 10, 20, ..., 80, 90] and not values [0, 10, 20, ..., 90, 100]."
   ]
  },
  {
   "cell_type": "markdown",
   "id": "coordinated-refrigerator",
   "metadata": {},
   "source": [
    "### Lists\n",
    "\n",
    "A Python `list` holds a list of items in an ordered way.  For example, a list of favorite things might include\n",
    "```python3\n",
    "favorite_things1 = ['raindrops on roses', 'whiskers on kittens', 'bright copper kettles', 'warm woolen mittens']\n",
    "```\n",
    "for Julie Andrews.\n",
    "\n",
    "When we say lists are ordered, it's because we can enter `favorite_things1[0]` and get back `'raindrops on roses'` as Julie Andrew's first favorite thing.  Remember, Python starts counting at zero!"
   ]
  },
  {
   "cell_type": "markdown",
   "id": "charitable-mortgage",
   "metadata": {},
   "source": [
    "Lists can hold whatever you want.  It could be strings (as shown above), numbers, or even other variables.  Consider a list of daily stock returns\n",
    "```python3\n",
    "daily_stock_returns = [0.03, 0.01, -0.02, 0.01, -0.01]\n",
    "```\n",
    "Let's input this into the following code block for use throughout this section."
   ]
  },
  {
   "cell_type": "code",
   "execution_count": 5,
   "id": "rapid-terrorist",
   "metadata": {},
   "outputs": [],
   "source": [
    "daily_stock_returns = [0.03, 0.01, -0.02, 0.01, -0.01]"
   ]
  },
  {
   "cell_type": "markdown",
   "id": "fourth-destruction",
   "metadata": {},
   "source": [
    "If we want the stock return for day 0, we simply type"
   ]
  },
  {
   "cell_type": "code",
   "execution_count": 6,
   "id": "completed-bangkok",
   "metadata": {},
   "outputs": [
    {
     "data": {
      "text/plain": [
       "0.03"
      ]
     },
     "execution_count": 6,
     "metadata": {},
     "output_type": "execute_result"
    }
   ],
   "source": [
    "daily_stock_returns[0]"
   ]
  },
  {
   "cell_type": "markdown",
   "id": "mineral-disco",
   "metadata": {},
   "source": [
    "and Python gives us back the value.  Now suppose that the five daily stock returns corresponded to a week of stock return data.  How do we convert this data into a weekly return?\n",
    "\n",
    "$$\n",
    "\\text{weekly return} = (-1) + \\Pi_{t=1}^5 (1 + \\text{daily return}_t)\n",
    "$$\n",
    "\n",
    "In case the $\\Pi$ symbol is unfamiliar, it means multiply.  Just like $\\sum_{i=1}^3 x_i$ means $x_1 + x_2 + x_3$, the statement $\\Pi_{i=1}^3 x_i$ means $x_1 * x_2 * x_3$.\n",
    "\n",
    "The simple way to do this is"
   ]
  },
  {
   "cell_type": "code",
   "execution_count": 7,
   "id": "occupied-presentation",
   "metadata": {},
   "outputs": [
    {
     "data": {
      "text/plain": [
       "0.019392050600000044"
      ]
     },
     "execution_count": 7,
     "metadata": {},
     "output_type": "execute_result"
    }
   ],
   "source": [
    "(-1) + (1+daily_stock_returns[0]) * (1+daily_stock_returns[1]) * (1+daily_stock_returns[2]) * (1+daily_stock_returns[3]) * (1+daily_stock_returns[4])"
   ]
  },
  {
   "cell_type": "markdown",
   "id": "vocational-continent",
   "metadata": {},
   "source": [
    "That looks annoying to type out, doesn't it?  Now imagine calculating an annual return from 252 days of daily trading data.  This would be prohbitively tedious.\n",
    "\n",
    "Luckily, we're learning how to program, which means we can take advantage of useful things like `for` loops to make our lives easier."
   ]
  },
  {
   "cell_type": "code",
   "execution_count": 8,
   "id": "distributed-migration",
   "metadata": {},
   "outputs": [
    {
     "name": "stdout",
     "output_type": "stream",
     "text": [
      "0.019392050600000044\n"
     ]
    }
   ],
   "source": [
    "weekly_return = 1\n",
    "for i in range(0,5):\n",
    "    weekly_return = weekly_return*(1+daily_stock_returns[i])\n",
    "weekly_return -= 1\n",
    "print(weekly_return)"
   ]
  },
  {
   "cell_type": "markdown",
   "id": "hawaiian-temple",
   "metadata": {},
   "source": [
    "Stop to think for a moment about why we set `weekly_return` equal to $1$ before beginning the `for` loop.\n",
    "\n",
    "Most, if not all, variable types in Python have special functions that exist for those variable types.  For example, string variables contain text, and so these variables have `.upper()` and `.lower()` functions that can be used with them."
   ]
  },
  {
   "cell_type": "code",
   "execution_count": 9,
   "id": "virtual-flight",
   "metadata": {},
   "outputs": [
    {
     "name": "stdout",
     "output_type": "stream",
     "text": [
      "FINANCE DATA SCIENCE\n"
     ]
    }
   ],
   "source": [
    "my_str = 'Finance Data Science'\n",
    "print(my_str.upper())"
   ]
  },
  {
   "cell_type": "code",
   "execution_count": 10,
   "id": "guided-volleyball",
   "metadata": {},
   "outputs": [
    {
     "name": "stdout",
     "output_type": "stream",
     "text": [
      "finance data science\n"
     ]
    }
   ],
   "source": [
    "print(my_str.lower())"
   ]
  },
  {
   "cell_type": "markdown",
   "id": "characteristic-credits",
   "metadata": {},
   "source": [
    "For list variables, two important functions are `.append()` and `.pop()`.  These functions add and remove data from the list, respectively."
   ]
  },
  {
   "cell_type": "code",
   "execution_count": 11,
   "id": "progressive-methodology",
   "metadata": {},
   "outputs": [
    {
     "name": "stdout",
     "output_type": "stream",
     "text": [
      "[1, 2, 3, 4]\n"
     ]
    }
   ],
   "source": [
    "my_list = [1, 2, 3]\n",
    "my_list.append(4)\n",
    "print(my_list)"
   ]
  },
  {
   "cell_type": "markdown",
   "id": "processed-turtle",
   "metadata": {},
   "source": [
    "The `.append()` function takes as an argument the data that you want to append to a list, and then adds that data to the end of an existing list.  Note that, as with `.upper()` or `.lower()` for strings, here the function starts with a `.` and follows the variable name.  This is different than using a function like `print()` or, from earlier in this chapter, `wacc()`.  The difference exists because `.append()` is a function defined specifically for the list variable type."
   ]
  },
  {
   "cell_type": "code",
   "execution_count": 12,
   "id": "increased-recipe",
   "metadata": {},
   "outputs": [
    {
     "name": "stdout",
     "output_type": "stream",
     "text": [
      "[1, 2]\n"
     ]
    }
   ],
   "source": [
    "my_list = [1, 2, 3]\n",
    "my_list.pop()\n",
    "print(my_list)"
   ]
  },
  {
   "cell_type": "markdown",
   "id": "recreational-coordinate",
   "metadata": {},
   "source": [
    "`.pop()` removes data from a list, and you don't necessarily need to say *what* data gets deleted.  By default, if you do not supply an argument to `.pop()` then Python will delete the last item from the list.  To specify an element to delete, select it based on that element's position in the list."
   ]
  },
  {
   "cell_type": "code",
   "execution_count": 13,
   "id": "mental-gathering",
   "metadata": {},
   "outputs": [
    {
     "name": "stdout",
     "output_type": "stream",
     "text": [
      "[2, 3]\n"
     ]
    }
   ],
   "source": [
    "my_list = [1, 2, 3]\n",
    "my_list.pop(0)\n",
    "print(my_list)"
   ]
  },
  {
   "cell_type": "markdown",
   "id": "unlimited-duncan",
   "metadata": {},
   "source": [
    "In Python, `for` loops operate on lists of information.  For example, the command `for i in range(5)` tells Python to operate on the list of numbers from $0$ to $4$.  Likewise, `for i in ['cat', 'dog', 'bird']` tells Python to operate on the list of strings 'cat', 'dog', and 'bird'.  Notice, therfore, that the list of items we loop over does not have to use numbers!  Let's see what happens when we loop over these strings."
   ]
  },
  {
   "cell_type": "code",
   "execution_count": 10,
   "id": "running-lincoln",
   "metadata": {},
   "outputs": [
    {
     "name": "stdout",
     "output_type": "stream",
     "text": [
      "cat\n",
      "dog\n",
      "bird\n"
     ]
    }
   ],
   "source": [
    "for i in ['cat', 'dog', 'bird']:\n",
    "    print(i)"
   ]
  },
  {
   "cell_type": "markdown",
   "id": "silver-sacramento",
   "metadata": {},
   "source": [
    "The value for `i` in the above `for` loop is set to be each of these strings in turn."
   ]
  },
  {
   "cell_type": "markdown",
   "id": "federal-frederick",
   "metadata": {},
   "source": [
    "For each element in the given list, Python applies certain commands to that item.  These commands are the lines of code that appear within a `for` loop (the indented section of code that follows the `for` statement.\n",
    "\n",
    "When the `for` loop operation is only a single line long, there is a special shortcut that we can use.  This shortcut is called **list comprehension**.  Consider the task of subtracting the risk free rate from the list of daily returns in order to compute an excess return.  For simplicity, assume the risk free rate is constant and equal to $0.01$.  One way of achieving this is with the following `for` loop."
   ]
  },
  {
   "cell_type": "code",
   "execution_count": 14,
   "id": "supreme-alias",
   "metadata": {},
   "outputs": [
    {
     "name": "stdout",
     "output_type": "stream",
     "text": [
      "[0.019999999999999997, 0.0, -0.03, 0.0, -0.02]\n"
     ]
    }
   ],
   "source": [
    "excess_returns = []\n",
    "for i in range(5):\n",
    "    excess_returns.append( daily_stock_returns[i] - 0.01 )\n",
    "print(excess_returns)"
   ]
  },
  {
   "cell_type": "markdown",
   "id": "aboriginal-laugh",
   "metadata": {},
   "source": [
    "Before showing off list comprehension, let's stop and think about one potential issue with the above code.  In the `for` loop above, we explicity refer to the number $5$ when defining the range of the loop.  That's a bad idea.  What if we add more stock return data to our list, and then re-run the above code?  In that scenario, the `for` loop won't execute as intended, since it will still only calculate excess returns for the first five days.\n",
    "\n",
    "A better way to loop over a list is to use the `len()` function ('len' stands for 'length', but Python is nice and only expects us to type out three characters instead of six).  The function `len()` can calculate the length of a list."
   ]
  },
  {
   "cell_type": "code",
   "execution_count": 15,
   "id": "buried-network",
   "metadata": {},
   "outputs": [
    {
     "data": {
      "text/plain": [
       "5"
      ]
     },
     "execution_count": 15,
     "metadata": {},
     "output_type": "execute_result"
    }
   ],
   "source": [
    "len(daily_stock_returns)"
   ]
  },
  {
   "cell_type": "markdown",
   "id": "guided-drunk",
   "metadata": {},
   "source": [
    "Hence, we improve upon our `for` loop above by removing the explicit reference to the number $5$."
   ]
  },
  {
   "cell_type": "code",
   "execution_count": 16,
   "id": "super-character",
   "metadata": {},
   "outputs": [
    {
     "name": "stdout",
     "output_type": "stream",
     "text": [
      "[0.019999999999999997, 0.0, -0.03, 0.0, -0.02]\n"
     ]
    }
   ],
   "source": [
    "excess_returns = []\n",
    "for i in range( len(daily_stock_returns) ):\n",
    "    excess_returns.append( daily_stock_returns[i] - 0.01 )\n",
    "print(excess_returns)"
   ]
  },
  {
   "cell_type": "markdown",
   "id": "detailed-damage",
   "metadata": {},
   "source": [
    "Now, the above code will work as expected, regardless of how many items are in the `daily_stock_returns` list.\n",
    "\n",
    "An alternative to using `len()` and referencing list elements by their index position (i.e. doing `daily_stock_returns[i]`) is to simply tell Python that we want to loop over `daily_stock_returns`.  Thus, rather than telling Python we want to loop over `range(5)` or over `range( len(daily_stock_returns) )`, we can simply tell Python to loop over `daily_stock_returns` directly."
   ]
  },
  {
   "cell_type": "code",
   "execution_count": 17,
   "id": "future-representation",
   "metadata": {},
   "outputs": [
    {
     "name": "stdout",
     "output_type": "stream",
     "text": [
      "0.03\n",
      "0.01\n",
      "-0.02\n",
      "0.01\n",
      "-0.01\n"
     ]
    }
   ],
   "source": [
    "for i in daily_stock_returns:\n",
    "    print(i)"
   ]
  },
  {
   "cell_type": "markdown",
   "id": "unexpected-island",
   "metadata": {},
   "source": [
    "Thus, an alternative improvement to the `for` loop is to do the following."
   ]
  },
  {
   "cell_type": "code",
   "execution_count": 18,
   "id": "mighty-appointment",
   "metadata": {},
   "outputs": [
    {
     "name": "stdout",
     "output_type": "stream",
     "text": [
      "[0.019999999999999997, 0.0, -0.03, 0.0, -0.02]\n"
     ]
    }
   ],
   "source": [
    "excess_returns = []\n",
    "for i in daily_stock_returns:\n",
    "    excess_returns.append( i - .01 )\n",
    "print(excess_returns)"
   ]
  },
  {
   "cell_type": "markdown",
   "id": "satisfactory-trauma",
   "metadata": {},
   "source": [
    "If you don't need to use the list index position inside the `for` loop (as is the case here), it's better to loop over the list directly, rather than a list of numbers coresponding to the index positions.  The reason is that this form of the `for` loop is the cleanest.  It requires the least amount of typing, and it is the easiest to read."
   ]
  },
  {
   "cell_type": "markdown",
   "id": "excessive-fifteen",
   "metadata": {},
   "source": [
    "Now that we've seen that we can loop over a list directly (rather than looping over index positions for the list), we can explain list comprehension.  List comprehension takes a simple `for` loop (with one line of code inside the loop) and converts the loop into a neater, shorter piece of code.  Consider the following example."
   ]
  },
  {
   "cell_type": "code",
   "execution_count": 11,
   "id": "convinced-correction",
   "metadata": {},
   "outputs": [
    {
     "data": {
      "text/plain": [
       "[0, 1, 2]"
      ]
     },
     "execution_count": 11,
     "metadata": {},
     "output_type": "execute_result"
    }
   ],
   "source": [
    "[i for i in range(3)]"
   ]
  },
  {
   "cell_type": "markdown",
   "id": "prospective-event",
   "metadata": {},
   "source": [
    "The statment is wrapped up in square brackets, indicating a `list` variable.  Within these square brackets, we tell Python to add to this list the value `i`, where we define `i` as any element in `range(3)`.\n",
    "\n",
    "Likewise, if we allow `i` to be any element in `daily_stock_returns`:"
   ]
  },
  {
   "cell_type": "code",
   "execution_count": 19,
   "id": "identified-degree",
   "metadata": {},
   "outputs": [
    {
     "data": {
      "text/plain": [
       "[0.03, 0.01, -0.02, 0.01, -0.01]"
      ]
     },
     "execution_count": 19,
     "metadata": {},
     "output_type": "execute_result"
    }
   ],
   "source": [
    "[i for i in daily_stock_returns]"
   ]
  },
  {
   "cell_type": "markdown",
   "id": "sharp-taiwan",
   "metadata": {},
   "source": [
    "Rather than store just the value `i`, we could store some function of it.  So, returning to the earlier example using `range(3)`"
   ]
  },
  {
   "cell_type": "code",
   "execution_count": 12,
   "id": "suitable-mailman",
   "metadata": {},
   "outputs": [
    {
     "data": {
      "text/plain": [
       "[0, 1, 4]"
      ]
     },
     "execution_count": 12,
     "metadata": {},
     "output_type": "execute_result"
    }
   ],
   "source": [
    "[i**2 for i in range(3)]"
   ]
  },
  {
   "cell_type": "markdown",
   "id": "regional-inspection",
   "metadata": {},
   "source": [
    "the square of each value for `i` is included in a list."
   ]
  },
  {
   "cell_type": "markdown",
   "id": "valuable-smooth",
   "metadata": {},
   "source": [
    "In the case of daily stock returns, we can substract the risk free rate to get the excess return."
   ]
  },
  {
   "cell_type": "code",
   "execution_count": 20,
   "id": "accomplished-boston",
   "metadata": {},
   "outputs": [
    {
     "data": {
      "text/plain": [
       "[0.019999999999999997, 0.0, -0.03, 0.0, -0.02]"
      ]
     },
     "execution_count": 20,
     "metadata": {},
     "output_type": "execute_result"
    }
   ],
   "source": [
    "[i - .01 for i in daily_stock_returns]"
   ]
  },
  {
   "cell_type": "markdown",
   "id": "forward-catholic",
   "metadata": {},
   "source": [
    "Hence, the easiest way to compute excess returns is with the simple, one-line statement:"
   ]
  },
  {
   "cell_type": "code",
   "execution_count": 21,
   "id": "absent-silence",
   "metadata": {},
   "outputs": [
    {
     "name": "stdout",
     "output_type": "stream",
     "text": [
      "[0.019999999999999997, 0.0, -0.03, 0.0, -0.02]\n"
     ]
    }
   ],
   "source": [
    "excess_returns = [i - .01 for i in daily_stock_returns]\n",
    "print(excess_returns)"
   ]
  },
  {
   "cell_type": "markdown",
   "id": "traditional-isaac",
   "metadata": {},
   "source": [
    "Because list comprehension is just a shortcut to writting out a simple `for` loop, a person could use Python perfectly fine without knowing how to use list comprehension.  However, it's a popular shortcut, so we highlight it here because it will be used throught this text."
   ]
  },
  {
   "cell_type": "markdown",
   "id": "prerequisite-prompt",
   "metadata": {},
   "source": [
    "<span style=\"color:red\">**Concept check**:</span>  Using list comprehension, iterate over `range(2,11,2)` and obtain the list of values `[1, 2, 3, 4, 5]` by dividing each item in the range by `2`."
   ]
  },
  {
   "cell_type": "code",
   "execution_count": null,
   "id": "lesser-understanding",
   "metadata": {},
   "outputs": [],
   "source": [
    "# complete concept check here"
   ]
  },
  {
   "cell_type": "markdown",
   "id": "visible-candle",
   "metadata": {},
   "source": [
    "### `for` Loops and Delayed Savings\n",
    "\n",
    "Consider a slightly modified version of the lifetime savings problem provided above.\n",
    "\n",
    "> Once you begin contributing to a savings account, assume that you put away $x$ dollars per year and expect an annual return of $r$.  How valuable is it to start saving now as opposed to $10$ years from now?\n",
    "\n",
    "Again, begin by defining some values for $x$ and $r$."
   ]
  },
  {
   "cell_type": "code",
   "execution_count": 22,
   "id": "persistent-carpet",
   "metadata": {},
   "outputs": [],
   "source": [
    "x = 5000\n",
    "r = 0.06"
   ]
  },
  {
   "cell_type": "markdown",
   "id": "alert-allah",
   "metadata": {},
   "source": [
    "Next, define two list variables.  These will store the value of savings accounts over time.  In the previous example, we updated the value for the savings account each year.  Here, we record the value of the account at each point in time.  This is useful because we can then plot the data and explore this delayed savings problem more carefully."
   ]
  },
  {
   "cell_type": "code",
   "execution_count": 23,
   "id": "unlimited-xerox",
   "metadata": {},
   "outputs": [],
   "source": [
    "save_now = [x]    # value of saving account when savings starts immediately\n",
    "save_later = [0]  # value of saving account when savings starts 10 years from now"
   ]
  },
  {
   "cell_type": "markdown",
   "id": "preceding-station",
   "metadata": {},
   "source": [
    "These list variables store one value each (the value $x$ and the value $0$), which corresponds to the value of the savings account at the beginning of year $0$.  Under the \"save-now\" plan, $x$ is put away immediately.  Under the \"save-later\" plan, $x$ is not put away until year 10.\n",
    "\n",
    "Now, what we want to do is think about what happens each year.  In the first scenario (begin saving immediately), the savings account grows by `(1+r)` each year, plus an additional `x` that gets added in.  In the second scenario, the savings account only begins growing after year 10, and contributions only begin in year 10.  Before that, nothing happens.\n",
    "\n",
    "Using `if`/`else` logic, a `for` loop, and the `.append()` function for lists, we can evaluate these two savings plans.\n",
    "\n",
    "We'll begin with the \"save-now\" savings plan, since this is similar to the problem from the beginning of the chapter.  A difference implemented here is that we call the `.append()` function to add values to the `save_now` list."
   ]
  },
  {
   "cell_type": "code",
   "execution_count": 24,
   "id": "celtic-builder",
   "metadata": {},
   "outputs": [],
   "source": [
    "for i in range(1,56): # loop over i from 1 to 55\n",
    "    account_value_last_year = save_now[i-1] # e.g. for i = 1 (year 1), loop up account value at i = 0 (year 0)\n",
    "    account_value_next_year = account_value_last_year * (1+r) + x\n",
    "    save_now.append( account_value_next_year )"
   ]
  },
  {
   "cell_type": "markdown",
   "id": "alone-xerox",
   "metadata": {},
   "source": [
    "At the beginning of the chapter, we defined a variable `savings`, and updated that variable's value each loop iteration.  Here, the list variable `save_now` keeps track of *each* of the savings account values (that is, the value of the account at year 0, at year 1, ..., at year 55).  This is useful for plotting a figure, which we'll do at the end of the chapter.\n",
    "\n",
    "Next, we modify the above `for` loop to work on the \"save-later\" plan.  The important distinction here is that, for the first ten years (list index values $0-9$, since Python starts counting at $0$), no money is put in to the savings account.  Thus, we set the first ten values of the `save_later` list equal to $0$."
   ]
  },
  {
   "cell_type": "code",
   "execution_count": 25,
   "id": "vietnamese-stylus",
   "metadata": {},
   "outputs": [],
   "source": [
    "for i in range(1,56):\n",
    "    if i > 9:\n",
    "        save_later.append( save_later[i-1]*(1+r) + x )\n",
    "    else:\n",
    "        save_later.append( 0 )"
   ]
  },
  {
   "cell_type": "markdown",
   "id": "latest-cooperative",
   "metadata": {},
   "source": [
    "Plotting will be covered in greater detail in a later chapter, so don't worry about understanding the meaning of the following code block.  The important takeaway is what's presented in the figure it creates."
   ]
  },
  {
   "cell_type": "code",
   "execution_count": 26,
   "id": "distributed-cloud",
   "metadata": {},
   "outputs": [
    {
     "data": {
      "image/png": "[encoded data removed]",
      "text/plain": [
       "<Figure size 432x288 with 1 Axes>"
      ]
     },
     "execution_count": 26,
     "metadata": {
      "image/png": {
       "height": 258,
       "width": 372
      },
      "needs_background": "light"
     },
     "output_type": "execute_result"
    }
   ],
   "source": [
    "%matplotlib inline\n",
    "\n",
    "import matplotlib\n",
    "import numpy as np\n",
    "import matplotlib.pyplot as plt\n",
    "\n",
    "plt.plot(range(0,56), save_now, color='b', label='Now')\n",
    "plt.plot(range(0,56), save_later, color='r', label='Later', linestyle='--')\n",
    "plt.legend()\n",
    "plt.show()"
   ]
  },
  {
   "cell_type": "markdown",
   "id": "bdf5c189",
   "metadata": {},
   "source": [
    "## Robo-Advising\n",
    "\n",
    "As a capstone to chapter 0, let us build a function that serves as a robo-adivsor for a user's investment portfolio.\n",
    "\n",
    "There are two new ingredients to add to make a simplified robo-advisor work: *type-conversion* and *input*.\n",
    "\n",
    "We won't build a complete robo-advisor just yet, but we can make some progress towards building one using the material from this chapter.\n",
    "\n",
    "### Type Conversions\n",
    "\n",
    "Two basic data types within Python are integers and strings."
   ]
  },
  {
   "cell_type": "code",
   "execution_count": 10,
   "id": "bec01e27",
   "metadata": {},
   "outputs": [],
   "source": [
    "my_int = 1\n",
    "my_str = '1'"
   ]
  },
  {
   "cell_type": "markdown",
   "id": "7ef062c2",
   "metadata": {},
   "source": [
    "The *type* of a variable can be checked with the `type()` function."
   ]
  },
  {
   "cell_type": "code",
   "execution_count": 11,
   "id": "095075cd",
   "metadata": {},
   "outputs": [
    {
     "name": "stdout",
     "output_type": "stream",
     "text": [
      "<class 'int'>\n",
      "<class 'str'>\n"
     ]
    }
   ],
   "source": [
    "print( type(my_int) )\n",
    "print( type(my_str) )"
   ]
  },
  {
   "cell_type": "markdown",
   "id": "00607532",
   "metadata": {},
   "source": [
    "Variable typing can be important to keep track of.  Note that $1$ and `'1'` do not count as the same thing in Python."
   ]
  },
  {
   "cell_type": "code",
   "execution_count": 12,
   "id": "8a6ad46a",
   "metadata": {},
   "outputs": [
    {
     "data": {
      "text/plain": [
       "False"
      ]
     },
     "execution_count": 12,
     "metadata": {},
     "output_type": "execute_result"
    }
   ],
   "source": [
    "'1' == 1"
   ]
  },
  {
   "cell_type": "markdown",
   "id": "463ff161",
   "metadata": {},
   "source": [
    "This matters in the event that you have a *string* number that you want to use as an integer (or floating point) number.  Suppose you need to add the number 8 to your string number."
   ]
  },
  {
   "cell_type": "code",
   "execution_count": 17,
   "id": "9f85d659",
   "metadata": {},
   "outputs": [
    {
     "ename": "TypeError",
     "evalue": "unsupported operand type(s) for +: 'int' and 'str'",
     "output_type": "error",
     "traceback": [
      "\u001b[1;31m---------------------------------------------------------------------------\u001b[0m",
      "\u001b[1;31mTypeError\u001b[0m                                 Traceback (most recent call last)",
      "\u001b[1;32m<ipython-input-17-bc89c6d67d5b>\u001b[0m in \u001b[0;36m<module>\u001b[1;34m\u001b[0m\n\u001b[1;32m----> 1\u001b[1;33m \u001b[1;36m8\u001b[0m\u001b[1;33m+\u001b[0m\u001b[1;34m'1'\u001b[0m\u001b[1;33m\u001b[0m\u001b[1;33m\u001b[0m\u001b[0m\n\u001b[0m",
      "\u001b[1;31mTypeError\u001b[0m: unsupported operand type(s) for +: 'int' and 'str'"
     ]
    }
   ],
   "source": [
    "8+'1'"
   ]
  },
  {
   "cell_type": "markdown",
   "id": "b28169c7",
   "metadata": {},
   "source": [
    "Strings containing integers can be converted into integers with the `int()` function."
   ]
  },
  {
   "cell_type": "code",
   "execution_count": 18,
   "id": "6789e360",
   "metadata": {},
   "outputs": [
    {
     "data": {
      "text/plain": [
       "9"
      ]
     },
     "execution_count": 18,
     "metadata": {},
     "output_type": "execute_result"
    }
   ],
   "source": [
    "int('1') + 8"
   ]
  },
  {
   "cell_type": "markdown",
   "id": "90f27827",
   "metadata": {},
   "source": [
    "Likewise strings containing decimal numbers can be converted into floating point numbers with the `float()` function."
   ]
  },
  {
   "cell_type": "code",
   "execution_count": 19,
   "id": "4d80c9b7",
   "metadata": {},
   "outputs": [
    {
     "data": {
      "text/plain": [
       "9.23"
      ]
     },
     "execution_count": 19,
     "metadata": {},
     "output_type": "execute_result"
    }
   ],
   "source": [
    "float('1.23') + 8"
   ]
  },
  {
   "cell_type": "markdown",
   "id": "b6c1e696",
   "metadata": {},
   "source": [
    "Moreover, integers or floating point numbers can be converted to strings with the `str()` function."
   ]
  },
  {
   "cell_type": "code",
   "execution_count": 20,
   "id": "f7fdbc35",
   "metadata": {},
   "outputs": [
    {
     "data": {
      "text/plain": [
       "str"
      ]
     },
     "execution_count": 20,
     "metadata": {},
     "output_type": "execute_result"
    }
   ],
   "source": [
    "type(str(1.23))"
   ]
  },
  {
   "cell_type": "markdown",
   "id": "8e251cb2",
   "metadata": {},
   "source": [
    "Translating variables from one type to another will only be successul when the data in the variable can be reasonably converted.  One could not do `int('banana')` because there is no way to convert the string `'banana'` into integer data. "
   ]
  },
  {
   "cell_type": "markdown",
   "id": "3ded0045",
   "metadata": {},
   "source": [
    "### Input\n",
    "\n",
    "The other new ingredient needed to get a basic form of robo-adivising to work is the `input()` function.  Our goal is to build a tool that asks a user a series of questions such that the tool can then recommend an investment strategy based on those questions.  The `input()` function is the ingredient we'll need to ask for user input into the tool.\n",
    "\n",
    "Consider the example:"
   ]
  },
  {
   "cell_type": "code",
   "execution_count": 42,
   "id": "e30ec9bc",
   "metadata": {},
   "outputs": [
    {
     "name": "stdout",
     "output_type": "stream",
     "text": [
      "What is your favorite color?\n",
      "purple\n",
      "User entered the response: purple\n"
     ]
    }
   ],
   "source": [
    "color = input('What is your favorite color?\\n')\n",
    "print('User entered the response:', color)"
   ]
  },
  {
   "cell_type": "markdown",
   "id": "e330b8a9",
   "metadata": {},
   "source": [
    "The `input()` function prints out a string, given as the argument to the function.  The `input()` function waits for a response and then returns that response.  We store the returned value in a variable named `color`.  The second line of the code above simply prints out the response to verify that the `input()` function worked correctly.\n",
    "\n",
    "Responses to the `input()` function are always strings."
   ]
  },
  {
   "cell_type": "code",
   "execution_count": 8,
   "id": "c46ec5db",
   "metadata": {},
   "outputs": [
    {
     "name": "stdout",
     "output_type": "stream",
     "text": [
      "<class 'str'>\n"
     ]
    }
   ],
   "source": [
    "print(type(color))"
   ]
  },
  {
   "cell_type": "markdown",
   "id": "be49f51b",
   "metadata": {},
   "source": [
    "This means that if we want to use the response as something else, like an integer, we need to convert the data.\n",
    "\n",
    "Let's move to another example to really see the `input()` function in action.  This time, we'll ask for the user's age and print a response that is *conditional* on the user's age."
   ]
  },
  {
   "cell_type": "code",
   "execution_count": 43,
   "id": "d174517b",
   "metadata": {},
   "outputs": [
    {
     "name": "stdout",
     "output_type": "stream",
     "text": [
      "What is your age?\n",
      "31\n",
      "Equity allocation percent: 69\n"
     ]
    }
   ],
   "source": [
    "age = input('What is your age?\\n')\n",
    "print('Equity allocation percent:', 100-int(age))"
   ]
  },
  {
   "cell_type": "markdown",
   "id": "c210281d",
   "metadata": {},
   "source": [
    "The output above represents the *rule of 100*.  One frequently proposed piece of investment advice is for younger people to invest more in stocks (which generally grow more in value than bonds, but are riskier) and for older people to invest more in bonds (which are less risky and thus potentially safer to live off of in retirement).  The rule of 100 is a trick for thinking about how much of a person's portfolio should be in stocks: 100 minus your age is approximately the percentage of your wealth that should be in stocks.  Or so the rule goes, at least.  These notes are certainly not intended to serve as investment advice; the rule of 100 is just a convenient way to show up the utility of the `input()` function.\n",
    "\n",
    "As another example of a conditional response, let's ask the user how much risk they're willing to take on."
   ]
  },
  {
   "cell_type": "code",
   "execution_count": 44,
   "id": "960dda48",
   "metadata": {},
   "outputs": [],
   "source": [
    "def check_attitude():\n",
    "    attitude = input('How much risk are you willing to take on?\\n')\n",
    "\n",
    "    if attitude == 'not much':\n",
    "        print(\"Okay, we'll invest mostly in bonds.\")\n",
    "    elif attitude == 'a lot':\n",
    "        print(\"Okey, we'll invest mostly in equities.\")\n",
    "    else:\n",
    "        print(\"I'm just a stupid robot, I can't understand you.\")"
   ]
  },
  {
   "cell_type": "markdown",
   "id": "c2e51275",
   "metadata": {},
   "source": [
    "The goal, of course, is to get a sense of how much risk the user is willing to take on.  The robo-adivsor can allocate the user's money into riskier investments (potentially earning higher returns) if the user is willing to bear the risk of those investment."
   ]
  },
  {
   "cell_type": "code",
   "execution_count": 45,
   "id": "a3d86030",
   "metadata": {},
   "outputs": [
    {
     "name": "stdout",
     "output_type": "stream",
     "text": [
      "How much risk are you willing to take on?\n",
      "a lot\n",
      "Okey, we'll invest mostly in equities.\n"
     ]
    }
   ],
   "source": [
    "check_attitude()"
   ]
  },
  {
   "cell_type": "markdown",
   "id": "bec5ff8d",
   "metadata": {},
   "source": [
    "Of course, the problem here is that the input question, as stated above, is very open-ended.  A user could in all likelihood enter a response that is not expected."
   ]
  },
  {
   "cell_type": "code",
   "execution_count": 46,
   "id": "05c1f37f",
   "metadata": {},
   "outputs": [
    {
     "name": "stdout",
     "output_type": "stream",
     "text": [
      "How much risk are you willing to take on?\n",
      "maybe a medium amount\n",
      "I'm just a stupid robot, I can't understand you.\n"
     ]
    }
   ],
   "source": [
    "check_attitude()"
   ]
  },
  {
   "cell_type": "markdown",
   "id": "361c6e24",
   "metadata": {},
   "source": [
    "Computers are getting better at open-ended questions.  The rise of artificial intelligence, and in particular a topic called *natural language understanding*, is helping with that.\n",
    "\n",
    "For our use case, we will give the user a bit more guidance with the response we want."
   ]
  },
  {
   "cell_type": "code",
   "execution_count": 47,
   "id": "fc5049af",
   "metadata": {},
   "outputs": [],
   "source": [
    "def get_risk_preference():\n",
    "    response = input(\"On a scale of 1-5, how much do you dislike risk?  1=not bothered by risk, 5=extremely worried about risk.\\n\")\n",
    "    \n",
    "    if response not in ['1', '2', '3', '4', '5']:\n",
    "        print('Sorry, response must be 1, 2, 3, 4, or 5')\n",
    "        print('I will guess that you meant to put 3')\n",
    "        return 3\n",
    "    \n",
    "    return int(response)"
   ]
  },
  {
   "cell_type": "code",
   "execution_count": 48,
   "id": "ae045a85",
   "metadata": {},
   "outputs": [
    {
     "name": "stdout",
     "output_type": "stream",
     "text": [
      "On a scale of 1-5, how much do you dislike risk?  1=not bothered by risk, 5=extremely worried about risk.\n",
      "4\n"
     ]
    },
    {
     "data": {
      "text/plain": [
       "4"
      ]
     },
     "execution_count": 48,
     "metadata": {},
     "output_type": "execute_result"
    }
   ],
   "source": [
    "get_risk_preference()"
   ]
  },
  {
   "cell_type": "markdown",
   "id": "90a2c0ec",
   "metadata": {},
   "source": [
    "With these ideas, we can begin to form the start of a robo-advisor.\n",
    "\n",
    "First, apply the rule of 100 to get a baseline for how the debt-equity mix should be allocated.  Second, shift the allocation more towards stocks if the user is more okay with risk and shift the allocation more towards bonds if the user hates risk."
   ]
  },
  {
   "cell_type": "code",
   "execution_count": 51,
   "id": "11462da8",
   "metadata": {},
   "outputs": [],
   "source": [
    "def get_allocation():\n",
    "    \n",
    "    # get user's age\n",
    "    age = input('What is your age?  Enter it as a numberic argument (e.g. \"50\", not \"fifty\")\\n')\n",
    "    \n",
    "    # apply rule of 100\n",
    "    equity_weight = 100-int(age)\n",
    "    \n",
    "    # get user's risk preference\n",
    "    preference = get_risk_preference()\n",
    "    \n",
    "    # shift the allocation according to the user's preference\n",
    "    if preference == 1:\n",
    "        equity_weight += 10\n",
    "    elif preference == 2:\n",
    "        equity_weight += 5\n",
    "    elif preference == 4:\n",
    "        equity_weight -= 5\n",
    "    elif preference == 5:\n",
    "        equity_weight -= 10\n",
    "        \n",
    "    # correct weights to stick within 0-100\n",
    "    equity_weight = min(equity_weight, 100)\n",
    "    equity_weight = max(equity_weight, 0)\n",
    "    \n",
    "    debt_weight = 100-equity_weight\n",
    "    \n",
    "    print('I would recommend', equity_weight, 'percent stocks and ', debt_weight, 'percent bonds')\n",
    "    \n",
    "    return [equity_weight, debt_weight]"
   ]
  },
  {
   "cell_type": "code",
   "execution_count": 52,
   "id": "1c07b4a5",
   "metadata": {},
   "outputs": [
    {
     "name": "stdout",
     "output_type": "stream",
     "text": [
      "What is your age?  Enter it as a numberic argument (e.g. \"50\", not \"fifty\")\n",
      "31\n",
      "On a scale of 1-5, how much do you dislike risk?  1=not bothered by risk, 5=extremely worried about risk.\n",
      "5\n",
      "I would recommend 59 percent stocks and  41 percent bonds\n"
     ]
    },
    {
     "data": {
      "text/plain": [
       "[59, 41]"
      ]
     },
     "execution_count": 52,
     "metadata": {},
     "output_type": "execute_result"
    }
   ],
   "source": [
    "get_allocation()"
   ]
  },
  {
   "cell_type": "markdown",
   "id": "accredited-greenhouse",
   "metadata": {
    "collapsed": true
   },
   "source": [
    "## Homework Assignment\n",
    "\n",
    "\n",
    "### Project Valuation: NPV vs. IRR\n",
    "\n",
    "In finance, we value a stream of future cash flows by discounting these to the present period.  For example, suppose a division manager at a firm wishes to determine whether a new investment project is worth purusing.  How should the manager make this decision?  One method to do this is with net present value (NPV).  Another is with internal rate of return (IRR).  You should have heard of both of these before, and will probably remember that NPV is the preferred approach.  As your first Python exercise, you'll get to prove to/remind yourself why one should *not* use IRR.\n",
    "\n",
    "For your convenience, both the NPV and IRR decision rules are reviewed here.\n",
    "\n",
    "**Net Present Value**\n",
    "\n",
    "A project with cash outflow at time $0$, future cash flows $C_1, C_2, ...$, and discount rate $r$ is undertaken if:\n",
    "\n",
    "$$\n",
    "-C_0 + \\sum_{t=1}^T \\frac{CF_t}{(1+r)^t} > 0\n",
    "$$\n",
    "\n",
    "where $T$ is the number of years that the project lasts.\n",
    "\n",
    "**Internal Rate of Return**\n",
    " \n",
    "A project with cash outflow at time $0$, future cash flows $C_1, C_2, ...$, and required rate of return $h$ is undertaken if:\n",
    "\n",
    "$$\n",
    "r > h\n",
    "$$\n",
    "\n",
    "where $r$ solves\n",
    "\n",
    "$$\n",
    "-C_0 + \\sum_{t=1}^T \\frac{CF_t}{(1+r)^t} = 0.\n",
    "$$\n",
    "\n",
    "We usually refer to $h$ as the hurdle rate.\n",
    "\n",
    "**Homework Format**\n",
    "\n",
    "When homework assignments are presented as Jupyter notebooks (as is the case here), you will be expected to edit some of the Python code to complete a problem.  Not all of the code requires editing.  The parts of the Python code that need to be completed by you are marked in comments blocks.\n",
    "\n",
    "For example, suppose that you are asked to complete the following function:\n",
    "```python\n",
    "def leverage_ratio(D,E):\n",
    "    ### start code here (~ 1 line)\n",
    "    ratio = \n",
    "    ### end code here\n",
    "    return ratio\n",
    "```\n",
    "\n",
    "That is, you are asked to complete the function named `leverage_ratio()` so that when a user provides values for `D` and `E` to the function, the function returns the leverage ratio based on these values.  The code that you are expected to modify is nested within the lines `### start code here` and `### end code here`.  Do not change any code outside of these blocks.  The correct answer to this hypothetical problem would, of course, be:\n",
    "```python\n",
    "def leverage_ratio(D,E):\n",
    "    ### start code here (~ 1 line)\n",
    "    ratio = D / (D+E)\n",
    "    ### end code here\n",
    "    return ratio\n",
    "```"
   ]
  },
  {
   "cell_type": "markdown",
   "id": "helpful-repair",
   "metadata": {},
   "source": [
    "**Tutorial: NPV and IRR with Numpy**\n",
    "\n",
    "For your homework, you will calculate the NPV and IRR of various possible scenarios.  The exceptionally popular *numpy* module includes functions that make calculating NPV and IRR simple.\n",
    "\n",
    "Begin by running the following block of code to import the numpy module."
   ]
  },
  {
   "cell_type": "code",
   "execution_count": 1,
   "id": "passive-belly",
   "metadata": {},
   "outputs": [],
   "source": [
    "import numpy as np\n",
    "import warnings\n",
    "warnings.filterwarnings(\"ignore\", category=DeprecationWarning) # ignore this"
   ]
  },
  {
   "cell_type": "markdown",
   "id": "green-worst",
   "metadata": {},
   "source": [
    "For a project that requires a cash outlay of $\\$100$ today, and cash inflows of $\\$23$ for the next five years, the npv of the project is calculated in Python by:\n",
    "```\n",
    "np.npv(rate=0.05,values=[-100,23,23,23,23,23])\n",
    "```\n",
    "assuming a discount rate of $5\\%$.  To calculate the IRR of the project, we run:\n",
    "```\n",
    "np.irr(values=[-100,23,23,23,23,23])\n",
    "```\n",
    "The following block of code runs and prints these two calculations."
   ]
  },
  {
   "cell_type": "code",
   "execution_count": 2,
   "id": "usual-stereo",
   "metadata": {},
   "outputs": [
    {
     "name": "stdout",
     "output_type": "stream",
     "text": [
      "-0.42203657549117324 0.04847191052053912\n"
     ]
    }
   ],
   "source": [
    "project_npv = np.npv(rate=0.05,values=[-100,23,23,23,23,23])\n",
    "project_irr = np.irr(values=[-100,23,23,23,23,23])\n",
    "print(project_npv,project_irr)"
   ]
  },
  {
   "cell_type": "markdown",
   "id": "studied-division",
   "metadata": {},
   "source": [
    "You should notice that the NPV of the stream of cash flows is negative, suggesting that this isn't a project that you'd want to take on.  Note too that the IRR is less than the discount rate, which is another sign that this is a bad project.  In the following exercises, you'll see that NPV and IRR can give you inconsistent implications about project quality."
   ]
  },
  {
   "cell_type": "markdown",
   "id": "developmental-greece",
   "metadata": {},
   "source": [
    "**Question 1 -- Delayed Investment**\n",
    "\n",
    "Suppose that have just retired as the CEO of a successful company.  A major publisher has offered you a book deal. The publisher will pay you $\\$1$ million upfront if you agree to write a book about your experiences. You estimate that it will take three years to write the book. The time you spend writing will cause you to give up speaking engagements amounting to $\\$500,000$ per year. You estimate your opportunity cost to be $10\\%$.\n",
    "\n",
    "Calculate the NPV of the deal."
   ]
  },
  {
   "cell_type": "code",
   "execution_count": null,
   "id": "prostate-generation",
   "metadata": {},
   "outputs": [],
   "source": [
    "### start code here (~ 1 line)\n",
    "\n",
    "### end code here"
   ]
  },
  {
   "cell_type": "markdown",
   "id": "color-thomas",
   "metadata": {},
   "source": [
    "The expected output is (check your code if the prinout does not match this number):\n",
    "```\n",
    "-243425.99549211108\n",
    "```\n",
    "\n",
    "Next, calculate the IRR of the deal."
   ]
  },
  {
   "cell_type": "code",
   "execution_count": null,
   "id": "official-steel",
   "metadata": {},
   "outputs": [],
   "source": [
    "### start code here (~ 1 line)\n",
    "\n",
    "### end code here"
   ]
  },
  {
   "cell_type": "markdown",
   "id": "patent-society",
   "metadata": {},
   "source": [
    "The expected output is:\n",
    "```python\n",
    "0.23375192852825855\n",
    "```"
   ]
  },
  {
   "cell_type": "markdown",
   "id": "lightweight-reaction",
   "metadata": {},
   "source": [
    "**Question 2 -- Multiple IRRs**\n",
    "\n",
    "Suppose that instead of receiving $\\$1$ million up front, the publisher offers $\\$550,000$ advance and $\\$1$ million in four years when the book is published.\n",
    "\n",
    "Calculate the NPV of the deal."
   ]
  },
  {
   "cell_type": "code",
   "execution_count": null,
   "id": "ceramic-skating",
   "metadata": {},
   "outputs": [],
   "source": [
    "### start code here (~ 1 line)\n",
    "\n",
    "### end code here"
   ]
  },
  {
   "cell_type": "markdown",
   "id": "average-douglas",
   "metadata": {},
   "source": [
    "Now calculate the IRR of the deal."
   ]
  },
  {
   "cell_type": "code",
   "execution_count": null,
   "id": "waiting-broadcast",
   "metadata": {},
   "outputs": [],
   "source": [
    "### start code here (~ 1 line)\n",
    "\n",
    "### end code here"
   ]
  },
  {
   "cell_type": "markdown",
   "id": "handy-delhi",
   "metadata": {},
   "source": [
    "You should find that the NPV is negative, but the IRR is positive.  To see what's going wrong here, recall tha the IRR is the discount rate that sets the cash flow stream to zero net present value.  In the `np.irr()` call above, Python returned an IRR to you.  But it's not the only possible IRR for this problem!  Mathematically, certain cash flow streams can have *multiple* IRRs that would set the cash flow stream to zero net present value.  To see this happen, plot the NPV for this cash flow stream over a range of possible discount rates (you'll find two that set the NPV to zero, one was the answer that `np.irr()` gave you above).  For this problem, you should include discount rates over the range $[0.01,0.51]$.\n",
    "\n",
    "Hint: to loop over rates between $[0.01,0.51]$, one can use the `np.arange()` function with a third argument:\n",
    "```\n",
    "for r in np.arange(0.01,0.53,0.02):\n",
    "    ... # things inside the for loop happen here\n",
    "```\n",
    "and $r$ will take values $[0.01,0.03,0.05,...,.0.49,0.051]$. The third argument controls the *step size*, which is how much the loop increments each time (the default is to go up by $1$).  The function `range()` which we used in class cannot use decimal numbers."
   ]
  },
  {
   "cell_type": "code",
   "execution_count": null,
   "id": "vietnamese-genre",
   "metadata": {},
   "outputs": [],
   "source": [
    "# leave these four lines as is, they are needed to get the plot function working\n",
    "%matplotlib inline\n",
    "import matplotlib\n",
    "import numpy as np\n",
    "import matplotlib.pyplot as plt\n",
    "\n",
    "# define any empty lists you need here\n",
    "### start code here (~ 2 lines)\n",
    "rate_list =\n",
    "npv_list =\n",
    "### end code here\n",
    "\n",
    "# loop over rates from 0.01 to 0.51, incrementing by 0.02 each time\n",
    "### start code here (~ 3 lines)\n",
    "for\n",
    "    # inside the loop, calculate the NPV.  Update any lists that may need updating\n",
    "    npv_list.append(  )\n",
    "    rate_list.append(  )\n",
    "    \n",
    "### end code here\n",
    "\n",
    "# plot the NPV for each rate you considered here\n",
    "plt.plot(rate_list, npv_list)\n",
    "plt.show()"
   ]
  },
  {
   "cell_type": "markdown",
   "id": "surprised-thumb",
   "metadata": {},
   "source": [
    "You should observe a U-shaped curve that appears to cross the line somewhere below 0.1 as well as somewhere above 0.3.  These are two valid IRRs for the question."
   ]
  }
 ],
 "metadata": {
  "kernelspec": {
   "display_name": "Python 3",
   "language": "python",
   "name": "python3"
  },
  "language_info": {
   "codemirror_mode": {
    "name": "ipython",
    "version": 3
   },
   "file_extension": ".py",
   "mimetype": "text/x-python",
   "name": "python",
   "nbconvert_exporter": "python",
   "pygments_lexer": "ipython3",
   "version": "3.8.2"
  }
 },
 "nbformat": 4,
 "nbformat_minor": 5
}
