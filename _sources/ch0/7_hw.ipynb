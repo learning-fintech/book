{
 "cells": [
  {
   "cell_type": "markdown",
   "metadata": {
    "collapsed": true
   },
   "source": [
    "## Homework Assignment\n",
    "\n",
    "\n",
    "### Project Valuation: NPV vs. IRR\n",
    "\n",
    "In finance, we value a stream of future cash flows by discounting these to the present period.  For example, suppose a division manager at a firm wishes to determine whether a new investment project is worth purusing.  How should the manager make this decision?  One method to do this is with net present value (NPV).  Another is with internal rate of return (IRR).  You should have heard of both of these before, and will probably remember that NPV is the preferred approach.  As your first Python exercise, you'll get to prove to/remind yourself why one should *not* use IRR.\n",
    "\n",
    "For your convenience, both the NPV and IRR decision rules are reviewed here.\n",
    "\n",
    "**Net Present Value**\n",
    "\n",
    "A project with cash outflow at time $0$, future cash flows $C_1, C_2, ...$, and discount rate $r$ is undertaken if:\n",
    "\n",
    "$$\n",
    "-C_0 + \\sum_{t=1}^T \\frac{CF_t}{(1+r)^t} > 0\n",
    "$$\n",
    "\n",
    "where $T$ is the number of years that the project lasts.\n",
    "\n",
    "**Internal Rate of Return**\n",
    " \n",
    "A project with cash outflow at time $0$, future cash flows $C_1, C_2, ...$, and required rate of return $h$ is undertaken if:\n",
    "\n",
    "$$\n",
    "r > h\n",
    "$$\n",
    "\n",
    "where $r$ solves\n",
    "\n",
    "$$\n",
    "-C_0 + \\sum_{t=1}^T \\frac{CF_t}{(1+r)^t} = 0.\n",
    "$$\n",
    "\n",
    "We usually refer to $h$ as the hurdle rate.\n",
    "\n",
    "**Homework Format**\n",
    "\n",
    "When homework assignments are presented as Jupyter notebooks (as is the case here), you will be expected to edit some of the Python code to complete a problem.  Not all of the code requires editing.  The parts of the Python code that need to be completed by you are marked in comments blocks.\n",
    "\n",
    "For example, suppose that you are asked to complete the following function:\n",
    "```python\n",
    "def leverage_ratio(D,E):\n",
    "    ### start code here (~ 1 line)\n",
    "    ratio = \n",
    "    ### end code here\n",
    "    return ratio\n",
    "```\n",
    "\n",
    "That is, you are asked to complete the function named `leverage_ratio()` so that when a user provides values for `D` and `E` to the function, the function returns the leverage ratio based on these values.  The code that you are expected to modify is nested within the lines `### start code here` and `### end code here`.  Do not change any code outside of these blocks.  The correct answer to this hypothetical problem would, of course, be:\n",
    "```python\n",
    "def leverage_ratio(D,E):\n",
    "    ### start code here (~ 1 line)\n",
    "    ratio = D / (D+E)\n",
    "    ### end code here\n",
    "    return ratio\n",
    "```"
   ]
  },
  {
   "cell_type": "markdown",
   "metadata": {},
   "source": [
    "**Tutorial: NPV and IRR with Numpy**\n",
    "\n",
    "For your homework, you will calculate the NPV and IRR of various possible scenarios.  The exceptionally popular *numpy* module includes functions that make calculating NPV and IRR simple.\n",
    "\n",
    "Begin by running the following block of code to import the numpy module."
   ]
  },
  {
   "cell_type": "code",
   "execution_count": 1,
   "metadata": {},
   "outputs": [],
   "source": [
    "import numpy as np\n",
    "import warnings\n",
    "warnings.filterwarnings(\"ignore\", category=DeprecationWarning) # ignore this"
   ]
  },
  {
   "cell_type": "markdown",
   "metadata": {},
   "source": [
    "For a project that requires a cash outlay of $\\$100$ today, and cash inflows of $\\$23$ for the next five years, the npv of the project is calculated in Python by:\n",
    "```\n",
    "np.npv(rate=0.05,values=[-100,23,23,23,23,23])\n",
    "```\n",
    "assuming a discount rate of $5\\%$.  To calculate the IRR of the project, we run:\n",
    "```\n",
    "np.irr(values=[-100,23,23,23,23,23])\n",
    "```\n",
    "The following block of code runs and prints these two calculations."
   ]
  },
  {
   "cell_type": "code",
   "execution_count": 2,
   "metadata": {},
   "outputs": [
    {
     "name": "stdout",
     "output_type": "stream",
     "text": [
      "-0.42203657549117324 0.04847191052053912\n"
     ]
    }
   ],
   "source": [
    "project_npv = np.npv(rate=0.05,values=[-100,23,23,23,23,23])\n",
    "project_irr = np.irr(values=[-100,23,23,23,23,23])\n",
    "print(project_npv,project_irr)"
   ]
  },
  {
   "cell_type": "markdown",
   "metadata": {},
   "source": [
    "You should notice that the NPV of the stream of cash flows is negative, suggesting that this isn't a project that you'd want to take on.  Note too that the IRR is less than the discount rate, which is another sign that this is a bad project.  In the following exercises, you'll see that NPV and IRR can give you inconsistent implications about project quality."
   ]
  },
  {
   "cell_type": "markdown",
   "metadata": {},
   "source": [
    "**Question 1 -- Delayed Investment**\n",
    "\n",
    "Suppose that have just retired as the CEO of a successful company.  A major publisher has offered you a book deal. The publisher will pay you $\\$1$ million upfront if you agree to write a book about your experiences. You estimate that it will take three years to write the book. The time you spend writing will cause you to give up speaking engagements amounting to $\\$500,000$ per year. You estimate your opportunity cost to be $10\\%$.\n",
    "\n",
    "Calculate the NPV of the deal."
   ]
  },
  {
   "cell_type": "code",
   "execution_count": null,
   "metadata": {},
   "outputs": [],
   "source": [
    "### start code here (~ 1 line)\n",
    "\n",
    "### end code here"
   ]
  },
  {
   "cell_type": "markdown",
   "metadata": {},
   "source": [
    "The expected output is (check your code if the prinout does not match this number):\n",
    "```\n",
    "-243425.99549211108\n",
    "```\n",
    "\n",
    "Next, calculate the IRR of the deal."
   ]
  },
  {
   "cell_type": "code",
   "execution_count": null,
   "metadata": {},
   "outputs": [],
   "source": [
    "### start code here (~ 1 line)\n",
    "\n",
    "### end code here"
   ]
  },
  {
   "cell_type": "markdown",
   "metadata": {},
   "source": [
    "The expected output is:\n",
    "```python\n",
    "0.23375192852825855\n",
    "```"
   ]
  },
  {
   "cell_type": "markdown",
   "metadata": {},
   "source": [
    "**Question 2 -- Multiple IRRs**\n",
    "\n",
    "Suppose that instead of receiving $\\$1$ million up front, the publisher offers $\\$550,000$ advance and $\\$1$ million in four years when the book is published.\n",
    "\n",
    "Calculate the NPV of the deal."
   ]
  },
  {
   "cell_type": "code",
   "execution_count": null,
   "metadata": {},
   "outputs": [],
   "source": [
    "### start code here (~ 1 line)\n",
    "\n",
    "### end code here"
   ]
  },
  {
   "cell_type": "markdown",
   "metadata": {},
   "source": [
    "Now calculate the IRR of the deal."
   ]
  },
  {
   "cell_type": "code",
   "execution_count": null,
   "metadata": {},
   "outputs": [],
   "source": [
    "### start code here (~ 1 line)\n",
    "\n",
    "### end code here"
   ]
  },
  {
   "cell_type": "markdown",
   "metadata": {},
   "source": [
    "You should find that the NPV is negative, but the IRR is positive.  To see what's going wrong here, recall tha the IRR is the discount rate that sets the cash flow stream to zero net present value.  In the `np.irr()` call above, Python returned an IRR to you.  But it's not the only possible IRR for this problem!  Mathematically, certain cash flow streams can have *multiple* IRRs that would set the cash flow stream to zero net present value.  To see this happen, plot the NPV for this cash flow stream over a range of possible discount rates (you'll find two that set the NPV to zero, one was the answer that `np.irr()` gave you above).  For this problem, you should include discount rates over the range $[0.01,0.51]$.\n",
    "\n",
    "Hint: to loop over rates between $[0.01,0.51]$, one can use the `np.arange()` function with a third argument:\n",
    "```\n",
    "for r in np.arange(0.01,0.53,0.02):\n",
    "    ... # things inside the for loop happen here\n",
    "```\n",
    "and $r$ will take values $[0.01,0.03,0.05,...,.0.49,0.051]$. The third argument controls the *step size*, which is how much the loop increments each time (the default is to go up by $1$).  The function `range()` which we used in class cannot use decimal numbers."
   ]
  },
  {
   "cell_type": "code",
   "execution_count": null,
   "metadata": {},
   "outputs": [],
   "source": [
    "# leave these four lines as is, they are needed to get the plot function working\n",
    "%matplotlib inline\n",
    "import matplotlib\n",
    "import numpy as np\n",
    "import matplotlib.pyplot as plt\n",
    "\n",
    "# define any empty lists you need here\n",
    "### start code here (~ 2 lines)\n",
    "rate_list =\n",
    "npv_list =\n",
    "### end code here\n",
    "\n",
    "# loop over rates from 0.01 to 0.51, incrementing by 0.02 each time\n",
    "### start code here (~ 3 lines)\n",
    "for\n",
    "    # inside the loop, calculate the NPV.  Update any lists that may need updating\n",
    "    npv_list.append(  )\n",
    "    rate_list.append(  )\n",
    "    \n",
    "### end code here\n",
    "\n",
    "# plot the NPV for each rate you considered here\n",
    "plt.plot(rate_list, npv_list)\n",
    "plt.show()"
   ]
  },
  {
   "cell_type": "markdown",
   "metadata": {},
   "source": [
    "You should observe a U-shaped curve that appears to cross the line somewhere below 0.1 as well as somewhere above 0.3.  These are two valid IRRs for the question."
   ]
  }
 ],
 "metadata": {
  "kernelspec": {
   "display_name": "Python 3",
   "language": "python",
   "name": "python3"
  },
  "language_info": {
   "codemirror_mode": {
    "name": "ipython",
    "version": 3
   },
   "file_extension": ".py",
   "mimetype": "text/x-python",
   "name": "python",
   "nbconvert_exporter": "python",
   "pygments_lexer": "ipython3",
   "version": "3.8.2"
  }
 },
 "nbformat": 4,
 "nbformat_minor": 4
}
