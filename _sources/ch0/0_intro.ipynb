{
 "cells": [
  {
   "cell_type": "markdown",
   "id": "32068d91",
   "metadata": {},
   "source": [
    "# Intro\n",
    "\n",
    "This chapter reviews the basic ingredients for writing Python programs.  The concepts presented in this chapter, such as using `if/else` logic to execute portions of code conditionally, are universal to any language (though the syntax may differ!).  Because Python is a fairly easy and readable language, it is the language of choice for this book."
   ]
  }
 ],
 "metadata": {
  "kernelspec": {
   "display_name": "Python 3",
   "language": "python",
   "name": "python3"
  },
  "language_info": {
   "codemirror_mode": {
    "name": "ipython",
    "version": 3
   },
   "file_extension": ".py",
   "mimetype": "text/x-python",
   "name": "python",
   "nbconvert_exporter": "python",
   "pygments_lexer": "ipython3",
   "version": "3.8.2"
  }
 },
 "nbformat": 4,
 "nbformat_minor": 5
}
