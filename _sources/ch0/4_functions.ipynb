{
 "cells": [
  {
   "cell_type": "markdown",
   "id": "ac4ebf2d",
   "metadata": {},
   "source": [
    "## Functions\n",
    "\n",
    "Variables are one of the two fundamental components of any programming language.  Now that we know what variables are (they things that store data) and how to work with them, we can introduce the the other fundamental component of programming: functions.\n",
    "\n",
    "Functions give us the ability to write some code that we reference over and over again without having to retype things.  Ultimately, programming is about making your life easier!  We work hard (say, for one semester of our lives) learning how to give a computer instructions (using Python) and then, for the rest of our lives, everything else is easier and more convenient because we can instruct a computer to do lots of the heavy lifting for us.  <u>In financial terms, we spend a little time now for a bunch of time saved later, and thus the net present value of learning to program is positive.</u>\n",
    "\n",
    "Functions have three parts:\n",
    "1. Function defintion (name the function and determine what *inputs* we need, if any)\n",
    "2. Operations (execute some code)\n",
    "3. Return statement (define what want we want to get back from the function)\n",
    "\n",
    "As an example, let's compute the weighted average cost of capital, defined as\n",
    "\n",
    "$$\n",
    "r_{\\text{WACC}} = \\frac{E}{V}\\times r_E + \\frac{D}{V}\\times r_D\\times (1-\\tau_C).\n",
    "$$\n",
    "\n",
    "That is, the weighted average cost of capital for a firm is the proportion of equity in the firm times the equity cost of capital plus the proportion of debt in the firm times the debt cost of capital.  We adjust the latter for the tax shield of debt using the corporate tax rate $\\tau_C$.\n",
    "\n",
    "**Part 1: definition**\n",
    "\n",
    "A function defintion begins with the keyword `def` followed by the function name and then a colon.\n",
    "\n",
    "Functions can use information passed to it via input arguments (inputs are named in the parentheses, which appear before the colon).\n",
    "\n",
    "```python3\n",
    "def wacc(E, D, rE, rD, tC):\n",
    "```\n",
    "\n",
    "Note that in this function definition, we expect `E` and `D` as inputs.  We do not require `V` to be an input to the function, since `V` is easily calculated as `V = E + D`.  This calculation is included in part 2.\n",
    "\n",
    "**Part 2: operations**\n",
    "\n",
    "Functions run the code written inside of the function (operations) when the function is *called*.  A function call occurs when a programmer ''uses'' the function, and we'll see an example of this shortly.\n",
    "\n",
    "<u>NOTE</u>: indentation keeps track of whether code is ''inside'' a function\n",
    "\n",
    "```python3\n",
    "def wacc(E, D, rE, rD, tC):\n",
    "    V = E + D\n",
    "    cost_of_capital = E / V * rE + D / V * rD * (1 - tC)\n",
    "```\n",
    "\n",
    "**Part 3: return value**\n",
    "\n",
    "Functions can be many, many lines of code.\n",
    "\n",
    "The last line, starting with the keyword `return` specifies what value comes back when you run the function.\n",
    "\n",
    "```python3\n",
    "def wacc(E, D, rE, rD, tC):\n",
    "    V = E + D\n",
    "    cost_of_capital = E / V * rE + D / V * rD * (1 - tC)\n",
    "    return cost_of_capital\n",
    "```\n",
    "\n",
    "When a function is created, Python becomes ''aware'' of the function, but nothing else happens at that time."
   ]
  },
  {
   "cell_type": "code",
   "execution_count": 1,
   "id": "3808ec2e",
   "metadata": {},
   "outputs": [],
   "source": [
    "def wacc(E, D, rE, rD, tC):\n",
    "    V = E + D\n",
    "    cost_of_capital = E / V * rE + D / V * rD * (1-tC)\n",
    "    return cost_of_capital"
   ]
  },
  {
   "cell_type": "markdown",
   "id": "2f474c36",
   "metadata": {},
   "source": [
    "For functions to be used, they need to be *called*.  For example:"
   ]
  },
  {
   "cell_type": "code",
   "execution_count": 2,
   "id": "b49d2210",
   "metadata": {},
   "outputs": [
    {
     "data": {
      "text/plain": [
       "0.06753846153846155"
      ]
     },
     "execution_count": 2,
     "metadata": {},
     "output_type": "execute_result"
    }
   ],
   "source": [
    "wacc(100,30,.08,.04,.35)"
   ]
  },
  {
   "cell_type": "markdown",
   "id": "3709eae9",
   "metadata": {},
   "source": [
    "tells Python to compute the weighted average cost of capital for a firm with an equity value of $100$, a debt value of $30$, an equity cost of capital of $8\\%$, a debt cost of capital of $4\\%$, and a tax rate of $35\\%$.  The returned value of `0.0675` tells us that the firm's WACC is $6.75\\%$.\n",
    "\n",
    "In the above example, Python *assumes* the first number ($100$) should be given to the input variable `E`, it *assumes* that the second number ($30$) should be given to the input variable `D`, etc.  This is bad practice!  It's much better to use the input variable names:"
   ]
  },
  {
   "cell_type": "code",
   "execution_count": 3,
   "id": "93139d89",
   "metadata": {},
   "outputs": [
    {
     "data": {
      "text/plain": [
       "0.06753846153846155"
      ]
     },
     "execution_count": 3,
     "metadata": {},
     "output_type": "execute_result"
    }
   ],
   "source": [
    "wacc(E=100,D=30,rE=.08,rD=.04,tC=.35)"
   ]
  },
  {
   "cell_type": "markdown",
   "id": "7be5109a",
   "metadata": {},
   "source": [
    "because then the ordering of how you enter the inputs doesn't matter."
   ]
  },
  {
   "cell_type": "code",
   "execution_count": 4,
   "id": "a94b6715",
   "metadata": {},
   "outputs": [
    {
     "data": {
      "text/plain": [
       "0.06753846153846155"
      ]
     },
     "execution_count": 4,
     "metadata": {},
     "output_type": "execute_result"
    }
   ],
   "source": [
    "wacc(rE=.08,rD=.04,tC=.35,E=100,D=30)"
   ]
  },
  {
   "cell_type": "markdown",
   "id": "18fc57bf",
   "metadata": {},
   "source": [
    "This is useful to keep in mind because, realistically, you won't remember the default ordering of inputs (the order of input variables in the `def` line of the function definition).\n",
    "\n",
    "The `return` line is important because variables that live inside a function are stuck inside that function.\n",
    "\n",
    "E.g. the below will throw an error because `cost_of_capital` is only *accessible* inside the function `wacc`."
   ]
  },
  {
   "cell_type": "code",
   "execution_count": 5,
   "id": "882fdd91",
   "metadata": {},
   "outputs": [
    {
     "ename": "NameError",
     "evalue": "name 'cost_of_capital' is not defined",
     "output_type": "error",
     "traceback": [
      "\u001b[1;31m---------------------------------------------------------------------------\u001b[0m",
      "\u001b[1;31mNameError\u001b[0m                                 Traceback (most recent call last)",
      "\u001b[1;32m<ipython-input-5-967605eceae6>\u001b[0m in \u001b[0;36m<module>\u001b[1;34m\u001b[0m\n\u001b[1;32m----> 1\u001b[1;33m \u001b[0mcost_of_capital\u001b[0m\u001b[1;33m\u001b[0m\u001b[1;33m\u001b[0m\u001b[0m\n\u001b[0m",
      "\u001b[1;31mNameError\u001b[0m: name 'cost_of_capital' is not defined"
     ]
    }
   ],
   "source": [
    "cost_of_capital"
   ]
  },
  {
   "cell_type": "markdown",
   "id": "f93bef90",
   "metadata": {},
   "source": [
    "In order to get the value `cost_of_capital` back from the function, we specify that this value should be *returned* from the function.  If desired, we can instruct the function to return multiple items to us.  For instance, the `wacc()` function defined above returns only the cost of capital.  If we want to return the total firm value, `V`, along with the cost of capital, we can easily modify the function to do so."
   ]
  },
  {
   "cell_type": "code",
   "execution_count": 6,
   "id": "ca46cebe",
   "metadata": {},
   "outputs": [],
   "source": [
    "def more_wacc(E, D, rE, rD, tC):\n",
    "    V = E + D\n",
    "    cost_of_capital = E / V * rE + D / V * rD * (1-tC)\n",
    "    return cost_of_capital, V"
   ]
  },
  {
   "cell_type": "code",
   "execution_count": 7,
   "id": "99ecac03",
   "metadata": {},
   "outputs": [
    {
     "data": {
      "text/plain": [
       "(0.06753846153846155, 130)"
      ]
     },
     "execution_count": 7,
     "metadata": {},
     "output_type": "execute_result"
    }
   ],
   "source": [
    "more_wacc(E=100,D=30,rE=.08,rD=.04,tC=.35)"
   ]
  },
  {
   "cell_type": "markdown",
   "id": "3747d8d4",
   "metadata": {},
   "source": [
    "By default, Python is printing out the returned item(s) from the function.  This happens because, if Python is not told to save the returned item(s) anywhere, Python simply prints it out.  We can instead save the returned item(s) to a variable."
   ]
  },
  {
   "cell_type": "code",
   "execution_count": 8,
   "id": "d90256b6",
   "metadata": {},
   "outputs": [],
   "source": [
    "r_W = wacc(E=100,D=30,rE=.08,rD=.04,tC=.35)"
   ]
  },
  {
   "cell_type": "markdown",
   "id": "71b84b12",
   "metadata": {},
   "source": [
    "This will preserve the returned item for later use.  For instance, suppose that we calculate the cost of capital and then estimate the present value of a series of three dividend payments (one today, one in a year from now, and one in two years from now).  For simplicity, let's assume each divident payment is \\$5."
   ]
  },
  {
   "cell_type": "code",
   "execution_count": 9,
   "id": "288b93d2",
   "metadata": {},
   "outputs": [
    {
     "data": {
      "text/plain": [
       "14.071028677403966"
      ]
     },
     "execution_count": 9,
     "metadata": {},
     "output_type": "execute_result"
    }
   ],
   "source": [
    "5 + 5/(1+r_W) + 5/(1+r_W)**2"
   ]
  },
  {
   "cell_type": "markdown",
   "id": "4e3d1f99",
   "metadata": {},
   "source": [
    "If multiple items are returned from a function and we save the returned items to a variable, that variable will be a list."
   ]
  },
  {
   "cell_type": "code",
   "execution_count": 10,
   "id": "5882333b",
   "metadata": {},
   "outputs": [
    {
     "name": "stdout",
     "output_type": "stream",
     "text": [
      "(0.06753846153846155, 130)\n"
     ]
    }
   ],
   "source": [
    "x = more_wacc(E=100,D=30,rE=.08,rD=.04,tC=.35)\n",
    "print(x)"
   ]
  },
  {
   "cell_type": "code",
   "execution_count": 11,
   "id": "e1229c0d",
   "metadata": {},
   "outputs": [
    {
     "data": {
      "text/plain": [
       "0.06753846153846155"
      ]
     },
     "execution_count": 11,
     "metadata": {},
     "output_type": "execute_result"
    }
   ],
   "source": [
    "x[0]"
   ]
  },
  {
   "cell_type": "markdown",
   "id": "da08603a",
   "metadata": {},
   "source": [
    "<span style=\"color:red\">**Concept check**:</span>  Use the `more_wacc()` function to calculate WACC under the following parameter values:\n",
    "- E=200\n",
    "- D=80\n",
    "- rE=.09\n",
    "- rD=0.8\n",
    "- tC=.4"
   ]
  },
  {
   "cell_type": "code",
   "execution_count": null,
   "id": "67fafc3d",
   "metadata": {},
   "outputs": [],
   "source": [
    "# complete concept check here"
   ]
  },
  {
   "cell_type": "markdown",
   "id": "fda0260a",
   "metadata": {},
   "source": [
    "### Plan Ahead\n",
    "\n",
    "Functions have the potential to create immense utility for the end user.  A very well constructed function can save you hours (if not days or weeks) of time down the road.  However, to be useful, the function needs to be planned carefully.  If the function is written well, then you can use it conveniently in the future without worrying about the details.  However, if the function is written poorly, it could end up creating a huge headache for you when you try to use it later.\n",
    "\n",
    "Keeping to the `wacc()` example, let's consider some simple improvements to the function.\n",
    "\n",
    "Imagine that we plan to use this `wacc()` function to value companies, using data on companies that will be obtained in some other piece of code.  Thus, we collect all the requisite components to calculating a weighted average cost of capital, as well as information about the current free cash flow and an expected growth rate to the free cash flow.  For simplicity, assume that free cash flow growth and the risk free rate of capital are constant.  In this scenario, we can apply the Gordon growth formula to value the company.\n",
    "\n",
    "$$\n",
    "V = \\frac{FCF}{r_{WACC}-g}\n",
    "$$"
   ]
  },
  {
   "cell_type": "code",
   "execution_count": 18,
   "id": "f1d2f3be",
   "metadata": {},
   "outputs": [
    {
     "data": {
      "text/plain": [
       "34.75935828877005"
      ]
     },
     "execution_count": 18,
     "metadata": {},
     "output_type": "execute_result"
    }
   ],
   "source": [
    "2/(wacc(E=100,D=30,rE=.08,rD=.04,tC=.35) - 0.01) # $2M in FCF, growing at 1%/year"
   ]
  },
  {
   "cell_type": "markdown",
   "id": "9a0a8c72",
   "metadata": {},
   "source": [
    "A limitation of the `wacc()` function is that it assumes all inputs are sensible.  Suppose an innocent typo places a negative sign in front of the value for `rE`.  In this case, form value can end up a negative number!"
   ]
  },
  {
   "cell_type": "code",
   "execution_count": 19,
   "id": "8e7d774d",
   "metadata": {},
   "outputs": [
    {
     "data": {
      "text/plain": [
       "-30.516431924882625"
      ]
     },
     "execution_count": 19,
     "metadata": {},
     "output_type": "execute_result"
    }
   ],
   "source": [
    "2/(wacc(E=100,D=30,rE=-.08,rD=.04,tC=.35) - 0.01)"
   ]
  },
  {
   "cell_type": "markdown",
   "id": "4d7e5f6e",
   "metadata": {},
   "source": [
    "One can look at this and see that there is a problem; firm value cannot be negative.  A scarier example is one in which the accidental negative shows up in front of the value for `rD`.  This latter case is worse because it's not as obvious that there is an issue (firm value is still calculated to be positive)."
   ]
  },
  {
   "cell_type": "code",
   "execution_count": 20,
   "id": "b638ad33",
   "metadata": {},
   "outputs": [
    {
     "data": {
      "text/plain": [
       "43.91891891891892"
      ]
     },
     "execution_count": 20,
     "metadata": {},
     "output_type": "execute_result"
    }
   ],
   "source": [
    "2/(wacc(E=100,D=30,rE=.08,rD=-.04,tC=.35) - 0.01)"
   ]
  },
  {
   "cell_type": "markdown",
   "id": "ff31684c",
   "metadata": {},
   "source": [
    "These sorts of small problems can create huge issues for you or your company.  In this working example, the typo over-values the firm by:"
   ]
  },
  {
   "cell_type": "code",
   "execution_count": 23,
   "id": "997038c6",
   "metadata": {},
   "outputs": [
    {
     "data": {
      "text/plain": [
       "0.2635135135135136"
      ]
     },
     "execution_count": 23,
     "metadata": {},
     "output_type": "execute_result"
    }
   ],
   "source": [
    "value_wrong = 2/(wacc(E=100,D=30,rE=.08,rD=-.04,tC=.35) - 0.01)\n",
    "value_right = 2/(wacc(E=100,D=30,rE=.08,rD=.04,tC=.35) - 0.01)\n",
    "value_wrong / value_right - 1"
   ]
  },
  {
   "cell_type": "markdown",
   "id": "d0018888",
   "metadata": {},
   "source": [
    "Therefore, when we write the `wacc()` function, we should take care to watch out for anticipable errors and deal with them.\n",
    "\n",
    "One option is to simply print out a warning message if the function detects something fishy."
   ]
  },
  {
   "cell_type": "code",
   "execution_count": 26,
   "id": "34c16e2b",
   "metadata": {},
   "outputs": [
    {
     "name": "stdout",
     "output_type": "stream",
     "text": [
      "Warning! rD is not positive\n"
     ]
    },
    {
     "data": {
      "text/plain": [
       "43.91891891891892"
      ]
     },
     "execution_count": 26,
     "metadata": {},
     "output_type": "execute_result"
    }
   ],
   "source": [
    "def better_wacc(E, D, rE, rD, tC):\n",
    "    \n",
    "    if rE <= 0:\n",
    "        print('rE is not positive')\n",
    "    if rD <= 0:\n",
    "        print('rD is not positive')\n",
    "    if tC <= 0:\n",
    "        print('tC is not positive')\n",
    "    \n",
    "    V = E + D\n",
    "    cost_of_capital = E / V * rE + D / V * rD * (1-tC)\n",
    "    return cost_of_capital\n",
    "\n",
    "2/(better_wacc(E=100,D=30,rE=.08,rD=-.04,tC=.35) - 0.01)"
   ]
  },
  {
   "cell_type": "markdown",
   "id": "52f4f643",
   "metadata": {},
   "source": [
    "This at least generates a warning message, but warnings can only go so far.  There is a very real possibility that someone using this function may not notice the warning message and consequently carry on with their analysis despite having an erroneously calculated firm value.\n",
    "\n",
    "If you are certain something is absolutely not an acceptable input, stop it!  Do not let the function continue operating on bad data.  The way to do this is with an **Exception**."
   ]
  },
  {
   "cell_type": "code",
   "execution_count": 27,
   "id": "55eed891",
   "metadata": {},
   "outputs": [
    {
     "ename": "Exception",
     "evalue": "Warning! rD is not positive",
     "output_type": "error",
     "traceback": [
      "\u001b[1;31m---------------------------------------------------------------------------\u001b[0m",
      "\u001b[1;31mException\u001b[0m                                 Traceback (most recent call last)",
      "\u001b[1;32m<ipython-input-27-256c67bfb8c0>\u001b[0m in \u001b[0;36m<module>\u001b[1;34m\u001b[0m\n\u001b[0;32m     12\u001b[0m     \u001b[1;32mreturn\u001b[0m \u001b[0mcost_of_capital\u001b[0m\u001b[1;33m\u001b[0m\u001b[1;33m\u001b[0m\u001b[0m\n\u001b[0;32m     13\u001b[0m \u001b[1;33m\u001b[0m\u001b[0m\n\u001b[1;32m---> 14\u001b[1;33m \u001b[1;36m2\u001b[0m\u001b[1;33m/\u001b[0m\u001b[1;33m(\u001b[0m\u001b[0mbetter_wacc\u001b[0m\u001b[1;33m(\u001b[0m\u001b[0mE\u001b[0m\u001b[1;33m=\u001b[0m\u001b[1;36m100\u001b[0m\u001b[1;33m,\u001b[0m\u001b[0mD\u001b[0m\u001b[1;33m=\u001b[0m\u001b[1;36m30\u001b[0m\u001b[1;33m,\u001b[0m\u001b[0mrE\u001b[0m\u001b[1;33m=\u001b[0m\u001b[1;36m.08\u001b[0m\u001b[1;33m,\u001b[0m\u001b[0mrD\u001b[0m\u001b[1;33m=\u001b[0m\u001b[1;33m-\u001b[0m\u001b[1;36m.04\u001b[0m\u001b[1;33m,\u001b[0m\u001b[0mtC\u001b[0m\u001b[1;33m=\u001b[0m\u001b[1;36m.35\u001b[0m\u001b[1;33m)\u001b[0m \u001b[1;33m-\u001b[0m \u001b[1;36m0.01\u001b[0m\u001b[1;33m)\u001b[0m\u001b[1;33m\u001b[0m\u001b[1;33m\u001b[0m\u001b[0m\n\u001b[0m",
      "\u001b[1;32m<ipython-input-27-256c67bfb8c0>\u001b[0m in \u001b[0;36mbetter_wacc\u001b[1;34m(E, D, rE, rD, tC)\u001b[0m\n\u001b[0;32m      4\u001b[0m         \u001b[1;32mraise\u001b[0m \u001b[0mException\u001b[0m\u001b[1;33m(\u001b[0m\u001b[1;34m'Warning! rE is not positive'\u001b[0m\u001b[1;33m)\u001b[0m\u001b[1;33m\u001b[0m\u001b[1;33m\u001b[0m\u001b[0m\n\u001b[0;32m      5\u001b[0m     \u001b[1;32mif\u001b[0m \u001b[0mrD\u001b[0m \u001b[1;33m<=\u001b[0m \u001b[1;36m0\u001b[0m\u001b[1;33m:\u001b[0m\u001b[1;33m\u001b[0m\u001b[1;33m\u001b[0m\u001b[0m\n\u001b[1;32m----> 6\u001b[1;33m         \u001b[1;32mraise\u001b[0m \u001b[0mException\u001b[0m\u001b[1;33m(\u001b[0m\u001b[1;34m'Warning! rD is not positive'\u001b[0m\u001b[1;33m)\u001b[0m\u001b[1;33m\u001b[0m\u001b[1;33m\u001b[0m\u001b[0m\n\u001b[0m\u001b[0;32m      7\u001b[0m     \u001b[1;32mif\u001b[0m \u001b[0mtC\u001b[0m \u001b[1;33m<=\u001b[0m \u001b[1;36m0\u001b[0m\u001b[1;33m:\u001b[0m\u001b[1;33m\u001b[0m\u001b[1;33m\u001b[0m\u001b[0m\n\u001b[0;32m      8\u001b[0m         \u001b[1;32mraise\u001b[0m \u001b[0mException\u001b[0m\u001b[1;33m(\u001b[0m\u001b[1;34m'Warning! tC is not positive'\u001b[0m\u001b[1;33m)\u001b[0m\u001b[1;33m\u001b[0m\u001b[1;33m\u001b[0m\u001b[0m\n",
      "\u001b[1;31mException\u001b[0m: Warning! rD is not positive"
     ]
    }
   ],
   "source": [
    "def better_wacc(E, D, rE, rD, tC):\n",
    "    \n",
    "    if rE <= 0:\n",
    "        raise Exception('rE is not positive')\n",
    "    if rD <= 0:\n",
    "        raise Exception('rD is not positive')\n",
    "    if tC <= 0:\n",
    "        raise Exception('tC is not positive')\n",
    "    \n",
    "    V = E + D\n",
    "    cost_of_capital = E / V * rE + D / V * rD * (1-tC)\n",
    "    return cost_of_capital\n",
    "\n",
    "2/(better_wacc(E=100,D=30,rE=.08,rD=-.04,tC=.35) - 0.01)"
   ]
  },
  {
   "cell_type": "markdown",
   "id": "b2ae4f24",
   "metadata": {},
   "source": [
    "Exception messages spit out lots of text, so they can be somewhat intimidating to approach at first.  Python will print out a *traceback* of what code ran that ultimately resulted in an error.  The easiest way to get a quick picture of what happened is to follow the `--->` symbols, reading from top to bottom.  The first such symbol indicates that line 14 was called.  The second such symbol tells us that line 6 was called.  The actual error message is the final line of the printout.  From this brief inspection, we can figure out what went wrong.  Notice that line 6 can only be called if line 5 is true.  Hence, the root of our problem is that line 5 is true, indicating that `rD` is entered as a negative number.\n",
    "\n",
    "The `if` statements added to `better_wacc()` cause the funcion to \"break\" (raise an error message and stop the code from continuing) under certain scenarios.  To see that the code completely terminantes when an exception is raised, try the following."
   ]
  },
  {
   "cell_type": "code",
   "execution_count": 28,
   "id": "c3c53459",
   "metadata": {},
   "outputs": [
    {
     "ename": "Exception",
     "evalue": "Warning! rD is not positive",
     "output_type": "error",
     "traceback": [
      "\u001b[1;31m---------------------------------------------------------------------------\u001b[0m",
      "\u001b[1;31mException\u001b[0m                                 Traceback (most recent call last)",
      "\u001b[1;32m<ipython-input-28-a502cbe6c27d>\u001b[0m in \u001b[0;36m<module>\u001b[1;34m\u001b[0m\n\u001b[1;32m----> 1\u001b[1;33m \u001b[0mprint\u001b[0m\u001b[1;33m(\u001b[0m \u001b[1;36m2\u001b[0m\u001b[1;33m/\u001b[0m\u001b[1;33m(\u001b[0m\u001b[0mbetter_wacc\u001b[0m\u001b[1;33m(\u001b[0m\u001b[0mE\u001b[0m\u001b[1;33m=\u001b[0m\u001b[1;36m100\u001b[0m\u001b[1;33m,\u001b[0m\u001b[0mD\u001b[0m\u001b[1;33m=\u001b[0m\u001b[1;36m30\u001b[0m\u001b[1;33m,\u001b[0m\u001b[0mrE\u001b[0m\u001b[1;33m=\u001b[0m\u001b[1;36m.08\u001b[0m\u001b[1;33m,\u001b[0m\u001b[0mrD\u001b[0m\u001b[1;33m=\u001b[0m\u001b[1;33m-\u001b[0m\u001b[1;36m.04\u001b[0m\u001b[1;33m,\u001b[0m\u001b[0mtC\u001b[0m\u001b[1;33m=\u001b[0m\u001b[1;36m.35\u001b[0m\u001b[1;33m)\u001b[0m \u001b[1;33m-\u001b[0m \u001b[1;36m0.01\u001b[0m\u001b[1;33m)\u001b[0m \u001b[1;33m)\u001b[0m\u001b[1;33m\u001b[0m\u001b[1;33m\u001b[0m\u001b[0m\n\u001b[0m\u001b[0;32m      2\u001b[0m \u001b[0mprint\u001b[0m\u001b[1;33m(\u001b[0m\u001b[1;34m'firm value is now calculated'\u001b[0m\u001b[1;33m)\u001b[0m\u001b[1;33m\u001b[0m\u001b[1;33m\u001b[0m\u001b[0m\n",
      "\u001b[1;32m<ipython-input-27-256c67bfb8c0>\u001b[0m in \u001b[0;36mbetter_wacc\u001b[1;34m(E, D, rE, rD, tC)\u001b[0m\n\u001b[0;32m      4\u001b[0m         \u001b[1;32mraise\u001b[0m \u001b[0mException\u001b[0m\u001b[1;33m(\u001b[0m\u001b[1;34m'Warning! rE is not positive'\u001b[0m\u001b[1;33m)\u001b[0m\u001b[1;33m\u001b[0m\u001b[1;33m\u001b[0m\u001b[0m\n\u001b[0;32m      5\u001b[0m     \u001b[1;32mif\u001b[0m \u001b[0mrD\u001b[0m \u001b[1;33m<=\u001b[0m \u001b[1;36m0\u001b[0m\u001b[1;33m:\u001b[0m\u001b[1;33m\u001b[0m\u001b[1;33m\u001b[0m\u001b[0m\n\u001b[1;32m----> 6\u001b[1;33m         \u001b[1;32mraise\u001b[0m \u001b[0mException\u001b[0m\u001b[1;33m(\u001b[0m\u001b[1;34m'Warning! rD is not positive'\u001b[0m\u001b[1;33m)\u001b[0m\u001b[1;33m\u001b[0m\u001b[1;33m\u001b[0m\u001b[0m\n\u001b[0m\u001b[0;32m      7\u001b[0m     \u001b[1;32mif\u001b[0m \u001b[0mtC\u001b[0m \u001b[1;33m<=\u001b[0m \u001b[1;36m0\u001b[0m\u001b[1;33m:\u001b[0m\u001b[1;33m\u001b[0m\u001b[1;33m\u001b[0m\u001b[0m\n\u001b[0;32m      8\u001b[0m         \u001b[1;32mraise\u001b[0m \u001b[0mException\u001b[0m\u001b[1;33m(\u001b[0m\u001b[1;34m'Warning! tC is not positive'\u001b[0m\u001b[1;33m)\u001b[0m\u001b[1;33m\u001b[0m\u001b[1;33m\u001b[0m\u001b[0m\n",
      "\u001b[1;31mException\u001b[0m: Warning! rD is not positive"
     ]
    }
   ],
   "source": [
    "print( 2/(better_wacc(E=100,D=30,rE=.08,rD=-.04,tC=.35) - 0.01) )\n",
    "print('firm value is now calculated')"
   ]
  },
  {
   "cell_type": "markdown",
   "id": "d4ef2922",
   "metadata": {},
   "source": [
    "Note that the second print statement is not executed.  Python halts all operations when an exception occurs."
   ]
  },
  {
   "cell_type": "markdown",
   "id": "0af4d274",
   "metadata": {},
   "source": [
    "Do not insert exceptions to your functions unnecessarily.  Only rely on financial principles to make these judgements.  It is obvious, for example, that costs of capital should not be negative.  Moreover, the second Modigliani and Miller proposition tells us that `rE` should always be at least as high as `rD`, so we could raise an exception if `rE <= rD`.  However, there is no strict rule, either by regulation or by principles of finance, that debt value cannot exceed equity value.  For some smaller firms, it may very well be that leverage exceeds 50%.  However, if you write the `better_wacc()` function and anticipate that it will only be used on large, S\\&P 500 companies, it may make sense to check whether `E > D`.  In this case, raising an exception would not be appropriate.  However, since we would generally expect that equity value should exceed debt value, it may make sense to print a warning message for the user."
   ]
  },
  {
   "cell_type": "code",
   "execution_count": 40,
   "id": "fdc5f9af",
   "metadata": {},
   "outputs": [],
   "source": [
    "def better_wacc(E, D, rE, rD, tC):\n",
    "    \n",
    "    if rE <= 0:\n",
    "        raise Exception('rE is not positive')\n",
    "    if rD <= 0:\n",
    "        raise Exception('rD is not positive')\n",
    "    if tC < 0:\n",
    "        raise Exception('tC is negative')\n",
    "    if rE <= rD:\n",
    "        raise Exception('rE <= rD, M&M prop2 violated')\n",
    "    if D > E:\n",
    "        print('Warning, debt value exceeds equity value.  Did you accidentally flip these values?')\n",
    "    \n",
    "    V = E + D\n",
    "    cost_of_capital = E / V * rE + D / V * rD * (1-tC)\n",
    "    return cost_of_capital"
   ]
  },
  {
   "cell_type": "markdown",
   "id": "52a9211b",
   "metadata": {},
   "source": [
    "<span style=\"color:red\">**Concept check**:</span>  Use the `better_wacc()` function to estimate WACC given the following parameter values.\n",
    "- E = 10\n",
    "- D = 100\n",
    "- rE = .15\n",
    "- rD = .05\n",
    "- tC = .35\n",
    "\n",
    "By the way, does the gap between `rE` and `rD` make senese to you?  Hint: think about the levels of `E` and `D`."
   ]
  },
  {
   "cell_type": "code",
   "execution_count": null,
   "id": "4d3fa489",
   "metadata": {},
   "outputs": [],
   "source": [
    "# complete concept check here"
   ]
  },
  {
   "cell_type": "markdown",
   "id": "bd6a7b09",
   "metadata": {},
   "source": [
    "### Combine Multiple Functions for Maximal Efficiency\n",
    "\n",
    "Functions should handle small, specific tasks.  Do not write one large function that does an entirely specialized task that you will rarely need to perform.  Remember, the goal of functions is to create shortcuts for us to instruct Python to perform a repetitive task, rather than re-writing those instructions each time we need a task to be performed.\n",
    "\n",
    "You will find that one convenient use of functions is to combine them in a manner like what is shown below.  We already have the `better_wacc()` function defined, which calculates a firm's weighted average cost of capital.  As alluded to above, a firm's cost of equity is a function of its leverage ratio.  So let's create a function called `cost_of_equity()` that will determine a firm's cost of equity capital.  Recall that Modigliani and Miller proposition 2 states:\n",
    "$$\n",
    "r_E = r_A + (r_A-r_D)*(1-t_C)*(D/E)\n",
    "$$\n",
    "where $r_A$ is the *unlevered* cost of capital (equal to the cost of equity capital for a firm with no leverage).\n",
    "\n",
    "Let us then define another function, `firm_value()` that calculates the value of a firm.  Inside the `firm_value()` function, we will call both the `better_wacc()` function and the `cost_of_equity()` function."
   ]
  },
  {
   "cell_type": "code",
   "execution_count": 35,
   "id": "22327ab5",
   "metadata": {},
   "outputs": [
    {
     "data": {
      "text/plain": [
       "55.61497326203209"
      ]
     },
     "execution_count": 35,
     "metadata": {},
     "output_type": "execute_result"
    }
   ],
   "source": [
    "def cost_of_equity(E, D, rA, rD, tC):\n",
    "    return rA + (rA-rD)*(1-tC)*(D/E)\n",
    "\n",
    "def firm_value(E, D, rA, rD, tC, FCF, g):\n",
    "    \n",
    "    rE = cost_of_equity(E=E, D=D, rA=rA, rD=rD, tC=tC)\n",
    "    rW = better_wacc(E, D, rE, rD, tC)\n",
    "    \n",
    "    if rW < g:\n",
    "        raise Exception('rW must be greater than g, but g=', g, 'and rW=', rW)\n",
    "    \n",
    "    return FCF / (rW - g)\n",
    "\n",
    "firm_value(E=100, D=30, rA=.05, rD=.04, tC=.35, FCF=2, g=.01)"
   ]
  },
  {
   "cell_type": "markdown",
   "id": "02790cef",
   "metadata": {},
   "source": [
    "What happens if the firm had a different debt level?"
   ]
  },
  {
   "cell_type": "code",
   "execution_count": 36,
   "id": "d5df1eba",
   "metadata": {},
   "outputs": [
    {
     "data": {
      "text/plain": [
       "57.77777777777777"
      ]
     },
     "execution_count": 36,
     "metadata": {},
     "output_type": "execute_result"
    }
   ],
   "source": [
    "firm_value(E=90, D=40, rA=.05, rD=.04, tC=.35, FCF=2, g=.01)"
   ]
  },
  {
   "cell_type": "markdown",
   "id": "c0fa1127",
   "metadata": {},
   "source": [
    "Debt is valuable because of the tax shield.  You can see that this is the cause for the change in firm value by setting `tC` to zero and re-computing both values above."
   ]
  },
  {
   "cell_type": "code",
   "execution_count": 41,
   "id": "ddf7601b",
   "metadata": {},
   "outputs": [
    {
     "name": "stdout",
     "output_type": "stream",
     "text": [
      "50.0\n",
      "50.0\n"
     ]
    }
   ],
   "source": [
    "print( firm_value(E=100, D=30, rA=.05, rD=.04, tC=0, FCF=2, g=.01) )\n",
    "print( firm_value(E=90, D=40, rA=.05, rD=.04, tC=0, FCF=2, g=.01) )"
   ]
  },
  {
   "cell_type": "markdown",
   "id": "dddebff5",
   "metadata": {},
   "source": [
    "<span style=\"color:red\">**Concept check**:</span>  Estimate the cost of equity for a firm under two different scenarios.\n",
    "1. E=90, D=10, rA=.05, rD=.04, tC=.2\n",
    "2. E=10, D=90, rA=.05, rD=.04, tC=.2"
   ]
  },
  {
   "cell_type": "code",
   "execution_count": null,
   "id": "ea25beac",
   "metadata": {},
   "outputs": [],
   "source": [
    "# complete concept check here"
   ]
  }
 ],
 "metadata": {
  "kernelspec": {
   "display_name": "Python 3",
   "language": "python",
   "name": "python3"
  },
  "language_info": {
   "codemirror_mode": {
    "name": "ipython",
    "version": 3
   },
   "file_extension": ".py",
   "mimetype": "text/x-python",
   "name": "python",
   "nbconvert_exporter": "python",
   "pygments_lexer": "ipython3",
   "version": "3.8.2"
  }
 },
 "nbformat": 4,
 "nbformat_minor": 5
}
