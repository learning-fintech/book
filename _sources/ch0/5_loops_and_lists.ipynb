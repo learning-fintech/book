{
 "cells": [
  {
   "cell_type": "markdown",
   "metadata": {},
   "source": [
    "## Loops and Lists\n",
    "\n",
    "### `for` Loops and Lifetime Savings\n",
    "\n",
    "Because Python is quick and easy (once you have a handle of it), it serves as a useful tool for playing out ideas.  For example, suppose that we want to visualize a savings decision:\n",
    "\n",
    "> Once you begin contributing to a savings account, assume that you put away $x$ dollars per year and expect an annual return of $r$.  How much money will you have saved in $55$ years?\n",
    "\n",
    "Begin by defining the *variables* you need"
   ]
  },
  {
   "cell_type": "code",
   "execution_count": 1,
   "metadata": {},
   "outputs": [],
   "source": [
    "x = 5000\n",
    "r = 0.06"
   ]
  },
  {
   "cell_type": "markdown",
   "metadata": {},
   "source": [
    "Now, *compound* the returns you get over the next $55$ years.  Imagine that today is year 0.  At the end of year 0, you'll have saved $x \\times (1+r)$.  Then, after another, you're year zero savings grow by another $(1+r)$, and your year one savings (since you put away $x$ more each year), also grows by $(1+r)$.  The following table helps visualize the idea:\n",
    "\n",
    "Time | Value of Money Saved at Year 0 | Value of Money Saved at Year 1 | Value of Money Saved at Year 2 | Value of Money Saved at Year 3\n",
    "- | - | - | - | -\n",
    "0 | $x$ | . | . | .\n",
    "1 | $x(1+r)$ | $x$ | . | .\n",
    "2 | $x(1+r)^2$ | $x(1+r)$ | $x$ | .\n",
    "3 | $x(1+r)^3$ | $x(1+r)^2$ | $x(1+r)$ | $x$\n",
    "\n",
    "Add up the values across each column to get the total savings at the *beginning* of a given year.  This sum is reported in the following table:\n",
    "\n",
    "<table width=\"100%\">\n",
    "    <tr>\n",
    "        <th width=\"20%\">\n",
    "            Time\n",
    "        </th>\n",
    "        <th width=\"40%\">\n",
    "            Total Savings (beginning of year)\n",
    "        </th>\n",
    "        <th width=\"40%\">\n",
    "            Total Savings (algebraically re-arranged)\n",
    "        </th>\n",
    "    </tr>\n",
    "    <tr>\n",
    "        <td>\n",
    "            $0$\n",
    "        </td>\n",
    "        <td>\n",
    "            $x$\n",
    "        </td>\n",
    "        <td>\n",
    "            $x$\n",
    "        </td>\n",
    "    </tr>\n",
    "    <tr>\n",
    "        <td>\n",
    "            $1$\n",
    "        </td>\n",
    "        <td>\n",
    "            <span style=\"color:blue\">$x(1+r)+x$</span>\n",
    "        </td>\n",
    "        <td>\n",
    "            $x(1+r)+x$\n",
    "        </td>\n",
    "    </tr>\n",
    "    <tr>\n",
    "        <td>\n",
    "            $2$\n",
    "        </td>\n",
    "        <td>\n",
    "            <span style=\"color:red\">$x(1+r)^2+x(1+r)+x$</span>\n",
    "        </td>\n",
    "        <td>\n",
    "            $\\Big[$<span style=\"color:blue\">$x(1+r)+x$</span>$\\Big](1+r)+x$\n",
    "        </td>\n",
    "    </tr>\n",
    "    <tr>\n",
    "        <td>\n",
    "            $3$\n",
    "        </td>\n",
    "        <td>\n",
    "            $x(1+r)^3+x(1+r)^2+x(1+r)+x$\n",
    "        </td>\n",
    "        <td>\n",
    "            $\\Big[$<span style=\"color:red\">$x(1+r)^2+x(1+r)+x$</span>$\\Big](1+r)+x$\n",
    "        </td>\n",
    "    </tr>\n",
    "</table>\n",
    "\n",
    "Comparing values across columns two and three of the above table, a convenient pattern emerges.  For instance, the value in year 2, column three equals $x$ plus $(1+r)$ times the value in year 1, column two.\n",
    "\n",
    "If we want to calculate the value of your savings acount at the beginning of year $55$, we need to tell Python to compound returns for $55$ years.  The really awful way to do this is to tell Python to calculate $x(1+r)^{55}+x(1+r)^{54}+x(1+r)^{53}+...+x(1+r)^2+x(1+r)+x$.  The programmer's way to do this is to use the pattern we pointed out in the above table, and make use of a *for loop* that operates over a range of years.\n",
    "\n",
    "If we wanted to loop over years $0$ through $3$, we could tell Python to use a `for` loop to iterate over a list of the numbers $0$ through $3$.  A `for` loop has four components to it:\n",
    "- the word `for` : tells Python to execute a `for` loop\n",
    "- a variable name : this serves as a *loop index*.  You'll see in a moment what this index does.  A common name used here is the letter `i`\n",
    "- the word `in` : tells Python that the loop index will be contained within ''something''.\n",
    "- a list : this is the ''something'' that we loop over.  Every item in the list gets used once."
   ]
  },
  {
   "cell_type": "code",
   "execution_count": 2,
   "metadata": {},
   "outputs": [
    {
     "name": "stdout",
     "output_type": "stream",
     "text": [
      "0\n",
      "1\n",
      "2\n",
      "3\n"
     ]
    }
   ],
   "source": [
    "for i in [0, 1, 2, 3]:\n",
    "    print(i)"
   ]
  },
  {
   "cell_type": "markdown",
   "metadata": {},
   "source": [
    "What a `for` loop does is tells Python to loop over the list specified (in this case, the list of numbers $0$ through $4$).  For each item in that list, Python sets the loop index variable (in this case, we defined the index variable to be named `i`) equal to that value of the list and then executes every step within the for loop (all of the indented lines of code underneath the line `for`.  Here, our for loop only specifies one action: print out the value of the loop index.\n",
    "\n",
    "In our motivating example, we want Python to work over a long range of years.  In this case, years $0$ through $55$.\n",
    "This would be tedious to type out explicitly into `[0, 1, 2, ..., 54, 55]`.  Python has a trick for this, but there's one caveat to keep in mind.  As children, we learn to start counting with the number $1$.  Python, like most programming languages, starts counting with the number $0$.  Thus, the built-in function `range()` uses this starts-at-zero convention."
   ]
  },
  {
   "cell_type": "code",
   "execution_count": 3,
   "metadata": {},
   "outputs": [
    {
     "name": "stdout",
     "output_type": "stream",
     "text": [
      "0\n",
      "1\n",
      "2\n",
      "3\n",
      "4\n"
     ]
    }
   ],
   "source": [
    "for t in range(5):\n",
    "    print(t)"
   ]
  },
  {
   "cell_type": "markdown",
   "metadata": {},
   "source": [
    "As demonstrated above, `range(5)` tells Python that the loop should iterate over numbers $0$ through $4$.  Generally, we use `range(n)` to obtain numbers $0$ through $n-1$ (*not* $0$ through $n$).  Thus, we get $n$ numbers out of `range(n)`.  If we want to iterate up through year $55$, we would therefore use the statement `range(56)`.\n",
    "\n",
    "To calculate the value of your savings after $55$ years, we simply have to type out:"
   ]
  },
  {
   "cell_type": "code",
   "execution_count": 4,
   "metadata": {},
   "outputs": [
    {
     "name": "stdout",
     "output_type": "stream",
     "text": [
      "2094111.7408149564\n"
     ]
    }
   ],
   "source": [
    "savings = 0 # initially, 0 dollars in savings account\n",
    "for i in range(56):\n",
    "    savings = savings*(1+r) + x # each year, pre-existings savings grows by (1+r) and an additional x is added\n",
    "print(savings)"
   ]
  },
  {
   "cell_type": "markdown",
   "metadata": {},
   "source": [
    "<span style=\"color:red\">**Concept check**:</span>  Edit the following code so that the value for `my_savings` is printed out at years `10`, `20`, and `30`.  Hint: check for whether `i` is `in [10, 20, 30]`."
   ]
  },
  {
   "cell_type": "code",
   "execution_count": null,
   "metadata": {},
   "outputs": [],
   "source": [
    "# complete concept check here\n",
    "my_savings = 0\n",
    "for i in range(35):\n",
    "    my_savings = my_savings*(1+r) + x\n",
    "    # edit the code here!\n",
    "    \n",
    "print(savings) # this will print the savings after 35 years, we want to see savings at year 10, 20, 30 as well"
   ]
  },
  {
   "cell_type": "markdown",
   "metadata": {},
   "source": [
    "For loops allow us to quickly visualize an idea.  For example, let's return to the valuation problem from earlier in the chapter."
   ]
  },
  {
   "cell_type": "code",
   "execution_count": 3,
   "metadata": {},
   "outputs": [],
   "source": [
    "def better_wacc(E, D, rE, rD, tC):\n",
    "    \n",
    "    if rE <= 0:\n",
    "        raise Exception('rE is not positive')\n",
    "    if rD <= 0:\n",
    "        raise Exception('rD is not positive')\n",
    "    if tC <= 0:\n",
    "        raise Exception('tC is not positive')\n",
    "    \n",
    "    V = E + D\n",
    "    cost_of_capital = E / V * rE + D / V * rD * (1-tC)\n",
    "    return cost_of_capital\n",
    "\n",
    "def cost_of_equity(E, D, rA, rD, tC):\n",
    "    return rA + (rA-rD)*(1-tC)*(D/E)\n",
    "\n",
    "def firm_value(E, D, rA, rD, tC, FCF, g):\n",
    "    \n",
    "    rE = cost_of_equity(E=E, D=D, rA=rA, rD=rD, tC=tC)\n",
    "    rW = better_wacc(E, D, rE, rD, tC)\n",
    "    \n",
    "    if rW < g:\n",
    "        raise Exception('rW must be greater than g, but g=', g, 'and rW=', rW)\n",
    "    \n",
    "    return FCF / (rW - g)"
   ]
  },
  {
   "cell_type": "markdown",
   "metadata": {},
   "source": [
    "Earlier, we saw that the value of the firm changed as its leverage ratio changed.  A more complete, easier to see representation of this idea is to loop over many different debt-equity mixes and check what happens to firm value.\n",
    "\n",
    "Before jumping on the firm value example, let's clarify the usages of `range()`.  There are three possible ways to call the `range()` function:\n",
    "1. `range(n)`: gives numbers $0$ to $n$, i.e. [0, 1, ..., n]\n",
    "2. `range(k,n)`: gives numbers $k$ to $n$, i.e. [k, k+1, ..., n]\n",
    "3. `range(k,n,b)`: gives numbers $k$ to $n$, incrementing by $b$\n",
    "\n",
    "It's perhaps easiest to understand the use cases with a few examples."
   ]
  },
  {
   "cell_type": "code",
   "execution_count": 6,
   "metadata": {},
   "outputs": [
    {
     "name": "stdout",
     "output_type": "stream",
     "text": [
      "0\n",
      "1\n",
      "2\n",
      "3\n",
      "4\n",
      "5\n",
      "6\n"
     ]
    }
   ],
   "source": [
    "for i in range(7):\n",
    "    print(i)"
   ]
  },
  {
   "cell_type": "code",
   "execution_count": 7,
   "metadata": {},
   "outputs": [
    {
     "name": "stdout",
     "output_type": "stream",
     "text": [
      "2\n",
      "3\n",
      "4\n",
      "5\n",
      "6\n"
     ]
    }
   ],
   "source": [
    "for i in range(2,7):\n",
    "    print(i)"
   ]
  },
  {
   "cell_type": "code",
   "execution_count": 8,
   "metadata": {},
   "outputs": [
    {
     "name": "stdout",
     "output_type": "stream",
     "text": [
      "2\n",
      "5\n"
     ]
    }
   ],
   "source": [
    "for i in range(2,7,3):\n",
    "    print(i)"
   ]
  },
  {
   "cell_type": "markdown",
   "metadata": {},
   "source": [
    "In the earlier example estimating firm value, the level of debt and equity of the firm added up to be 100.  Let's stick to the example numbers used earlier, and consider different debt-equity mixes that add to 100.  We could iterate over possible debt levels of 0 to 90 with either a call to `range(91)` or `range(0,91)`, but that would call the `firm_value()` function 91 times!  That many calculated firm values would be hard to read.  To make things easier on ourselves, let's try debt values of 0, 10, 20, ..., 90.  We can do this with the three-input version of the `range()` function call."
   ]
  },
  {
   "cell_type": "code",
   "execution_count": 9,
   "metadata": {},
   "outputs": [
    {
     "name": "stdout",
     "output_type": "stream",
     "text": [
      "0 50.0\n",
      "10 52.287581699346404\n",
      "20 54.7945205479452\n",
      "30 57.55395683453237\n",
      "40 60.6060606060606\n",
      "50 64.0\n",
      "60 67.79661016949152\n",
      "70 72.07207207207207\n",
      "80 76.92307692307692\n",
      "90 82.4742268041237\n"
     ]
    }
   ],
   "source": [
    "for D in range(0, 100, 10):\n",
    "    v = firm_value(E=100-D, D=D, rA=.05, rD=.04, tC=.35, FCF=2, g=.01)\n",
    "    print(D, v)"
   ]
  },
  {
   "cell_type": "markdown",
   "metadata": {},
   "source": [
    "Think carefully about why `range(0,100,10)` gives values [0, 10, 20, ..., 80, 90] and not values [0, 10, 20, ..., 90, 100]."
   ]
  },
  {
   "cell_type": "markdown",
   "metadata": {},
   "source": [
    "### Lists\n",
    "\n",
    "A Python `list` holds a list of items in an ordered way.  For example, a list of favorite things might include\n",
    "```python3\n",
    "favorite_things1 = ['raindrops on roses', 'whiskers on kittens', 'bright copper kettles', 'warm woolen mittens']\n",
    "```\n",
    "for Julie Andrews.\n",
    "\n",
    "When we say lists are ordered, it's because we can enter `favorite_things1[0]` and get back `'raindrops on roses'` as Julie Andrew's first favorite thing.  Remember, Python starts counting at zero!"
   ]
  },
  {
   "cell_type": "markdown",
   "metadata": {},
   "source": [
    "Lists can hold whatever you want.  It could be strings (as shown above), numbers, or even other variables.  Consider a list of daily stock returns\n",
    "```python3\n",
    "daily_stock_returns = [0.03, 0.01, -0.02, 0.01, -0.01]\n",
    "```\n",
    "Let's input this into the following code block for use throughout this section."
   ]
  },
  {
   "cell_type": "code",
   "execution_count": 5,
   "metadata": {},
   "outputs": [],
   "source": [
    "daily_stock_returns = [0.03, 0.01, -0.02, 0.01, -0.01]"
   ]
  },
  {
   "cell_type": "markdown",
   "metadata": {},
   "source": [
    "If we want the stock return for day 0, we simply type"
   ]
  },
  {
   "cell_type": "code",
   "execution_count": 6,
   "metadata": {},
   "outputs": [
    {
     "data": {
      "text/plain": [
       "0.03"
      ]
     },
     "execution_count": 6,
     "metadata": {},
     "output_type": "execute_result"
    }
   ],
   "source": [
    "daily_stock_returns[0]"
   ]
  },
  {
   "cell_type": "markdown",
   "metadata": {},
   "source": [
    "and Python gives us back the value.  Now suppose that the five daily stock returns corresponded to a week of stock return data.  How do we convert this data into a weekly return?\n",
    "\n",
    "$$\n",
    "\\text{weekly return} = (-1) + \\Pi_{t=1}^5 (1 + \\text{daily return}_t)\n",
    "$$\n",
    "\n",
    "In case the $\\Pi$ symbol is unfamiliar, it means multiply.  Just like $\\sum_{i=1}^3 x_i$ means $x_1 + x_2 + x_3$, the statement $\\Pi_{i=1}^3 x_i$ means $x_1 * x_2 * x_3$.\n",
    "\n",
    "The simple way to do this is"
   ]
  },
  {
   "cell_type": "code",
   "execution_count": 7,
   "metadata": {},
   "outputs": [
    {
     "data": {
      "text/plain": [
       "0.019392050600000044"
      ]
     },
     "execution_count": 7,
     "metadata": {},
     "output_type": "execute_result"
    }
   ],
   "source": [
    "(-1) + (1+daily_stock_returns[0]) * (1+daily_stock_returns[1]) * (1+daily_stock_returns[2]) * (1+daily_stock_returns[3]) * (1+daily_stock_returns[4])"
   ]
  },
  {
   "cell_type": "markdown",
   "metadata": {},
   "source": [
    "That looks annoying to type out, doesn't it?  Now imagine calculating an annual return from 252 days of daily trading data.  This would be prohbitively tedious.\n",
    "\n",
    "Luckily, we're learning how to program, which means we can take advantage of useful things like `for` loops to make our lives easier."
   ]
  },
  {
   "cell_type": "code",
   "execution_count": 8,
   "metadata": {},
   "outputs": [
    {
     "name": "stdout",
     "output_type": "stream",
     "text": [
      "0.019392050600000044\n"
     ]
    }
   ],
   "source": [
    "weekly_return = 1\n",
    "for i in range(0,5):\n",
    "    weekly_return = weekly_return*(1+daily_stock_returns[i])\n",
    "weekly_return -= 1\n",
    "print(weekly_return)"
   ]
  },
  {
   "cell_type": "markdown",
   "metadata": {},
   "source": [
    "Stop to think for a moment about why we set `weekly_return` equal to $1$ before beginning the `for` loop.\n",
    "\n",
    "Most, if not all, variable types in Python have special functions that exist for those variable types.  For example, string variables contain text, and so these variables have `.upper()` and `.lower()` functions that can be used with them."
   ]
  },
  {
   "cell_type": "code",
   "execution_count": 9,
   "metadata": {},
   "outputs": [
    {
     "name": "stdout",
     "output_type": "stream",
     "text": [
      "FINANCE DATA SCIENCE\n"
     ]
    }
   ],
   "source": [
    "my_str = 'Finance Data Science'\n",
    "print(my_str.upper())"
   ]
  },
  {
   "cell_type": "code",
   "execution_count": 10,
   "metadata": {},
   "outputs": [
    {
     "name": "stdout",
     "output_type": "stream",
     "text": [
      "finance data science\n"
     ]
    }
   ],
   "source": [
    "print(my_str.lower())"
   ]
  },
  {
   "cell_type": "markdown",
   "metadata": {},
   "source": [
    "For list variables, two important functions are `.append()` and `.pop()`.  These functions add and remove data from the list, respectively."
   ]
  },
  {
   "cell_type": "code",
   "execution_count": 11,
   "metadata": {},
   "outputs": [
    {
     "name": "stdout",
     "output_type": "stream",
     "text": [
      "[1, 2, 3, 4]\n"
     ]
    }
   ],
   "source": [
    "my_list = [1, 2, 3]\n",
    "my_list.append(4)\n",
    "print(my_list)"
   ]
  },
  {
   "cell_type": "markdown",
   "metadata": {},
   "source": [
    "The `.append()` function takes as an argument the data that you want to append to a list, and then adds that data to the end of an existing list.  Note that, as with `.upper()` or `.lower()` for strings, here the function starts with a `.` and follows the variable name.  This is different than using a function like `print()` or, from earlier in this chapter, `wacc()`.  The difference exists because `.append()` is a function defined specifically for the list variable type."
   ]
  },
  {
   "cell_type": "code",
   "execution_count": 12,
   "metadata": {},
   "outputs": [
    {
     "name": "stdout",
     "output_type": "stream",
     "text": [
      "[1, 2]\n"
     ]
    }
   ],
   "source": [
    "my_list = [1, 2, 3]\n",
    "my_list.pop()\n",
    "print(my_list)"
   ]
  },
  {
   "cell_type": "markdown",
   "metadata": {},
   "source": [
    "`.pop()` removes data from a list, and you don't necessarily need to say *what* data gets deleted.  By default, if you do not supply an argument to `.pop()` then Python will delete the last item from the list.  To specify an element to delete, select it based on that element's position in the list."
   ]
  },
  {
   "cell_type": "code",
   "execution_count": 13,
   "metadata": {},
   "outputs": [
    {
     "name": "stdout",
     "output_type": "stream",
     "text": [
      "[2, 3]\n"
     ]
    }
   ],
   "source": [
    "my_list = [1, 2, 3]\n",
    "my_list.pop(0)\n",
    "print(my_list)"
   ]
  },
  {
   "cell_type": "markdown",
   "metadata": {},
   "source": [
    "In Python, `for` loops operate on lists of information.  For example, the command `for i in range(5)` tells Python to operate on the list of numbers from $0$ to $4$.  Likewise, `for i in ['cat', 'dog', 'bird']` tells Python to operate on the list of strings 'cat', 'dog', and 'bird'.  Notice, therfore, that the list of items we loop over does not have to use numbers!  Let's see what happens when we loop over these strings."
   ]
  },
  {
   "cell_type": "code",
   "execution_count": 10,
   "metadata": {},
   "outputs": [
    {
     "name": "stdout",
     "output_type": "stream",
     "text": [
      "cat\n",
      "dog\n",
      "bird\n"
     ]
    }
   ],
   "source": [
    "for i in ['cat', 'dog', 'bird']:\n",
    "    print(i)"
   ]
  },
  {
   "cell_type": "markdown",
   "metadata": {},
   "source": [
    "The value for `i` in the above `for` loop is set to be each of these strings in turn."
   ]
  },
  {
   "cell_type": "markdown",
   "metadata": {},
   "source": [
    "For each element in the given list, Python applies certain commands to that item.  These commands are the lines of code that appear within a `for` loop (the indented section of code that follows the `for` statement.\n",
    "\n",
    "When the `for` loop operation is only a single line long, there is a special shortcut that we can use.  This shortcut is called **list comprehension**.  Consider the task of subtracting the risk free rate from the list of daily returns in order to compute an excess return.  For simplicity, assume the risk free rate is constant and equal to $0.01$.  One way of achieving this is with the following `for` loop."
   ]
  },
  {
   "cell_type": "code",
   "execution_count": 14,
   "metadata": {},
   "outputs": [
    {
     "name": "stdout",
     "output_type": "stream",
     "text": [
      "[0.019999999999999997, 0.0, -0.03, 0.0, -0.02]\n"
     ]
    }
   ],
   "source": [
    "excess_returns = []\n",
    "for i in range(5):\n",
    "    excess_returns.append( daily_stock_returns[i] - 0.01 )\n",
    "print(excess_returns)"
   ]
  },
  {
   "cell_type": "markdown",
   "metadata": {},
   "source": [
    "Before showing off list comprehension, let's stop and think about one potential issue with the above code.  In the `for` loop above, we explicity refer to the number $5$ when defining the range of the loop.  That's a bad idea.  What if we add more stock return data to our list, and then re-run the above code?  In that scenario, the `for` loop won't execute as intended, since it will still only calculate excess returns for the first five days.\n",
    "\n",
    "A better way to loop over a list is to use the `len()` function ('len' stands for 'length', but Python is nice and only expects us to type out three characters instead of six).  The function `len()` can calculate the length of a list."
   ]
  },
  {
   "cell_type": "code",
   "execution_count": 15,
   "metadata": {},
   "outputs": [
    {
     "data": {
      "text/plain": [
       "5"
      ]
     },
     "execution_count": 15,
     "metadata": {},
     "output_type": "execute_result"
    }
   ],
   "source": [
    "len(daily_stock_returns)"
   ]
  },
  {
   "cell_type": "markdown",
   "metadata": {},
   "source": [
    "Hence, we improve upon our `for` loop above by removing the explicit reference to the number $5$."
   ]
  },
  {
   "cell_type": "code",
   "execution_count": 16,
   "metadata": {},
   "outputs": [
    {
     "name": "stdout",
     "output_type": "stream",
     "text": [
      "[0.019999999999999997, 0.0, -0.03, 0.0, -0.02]\n"
     ]
    }
   ],
   "source": [
    "excess_returns = []\n",
    "for i in range( len(daily_stock_returns) ):\n",
    "    excess_returns.append( daily_stock_returns[i] - 0.01 )\n",
    "print(excess_returns)"
   ]
  },
  {
   "cell_type": "markdown",
   "metadata": {},
   "source": [
    "Now, the above code will work as expected, regardless of how many items are in the `daily_stock_returns` list.\n",
    "\n",
    "An alternative to using `len()` and referencing list elements by their index position (i.e. doing `daily_stock_returns[i]`) is to simply tell Python that we want to loop over `daily_stock_returns`.  Thus, rather than telling Python we want to loop over `range(5)` or over `range( len(daily_stock_returns) )`, we can simply tell Python to loop over `daily_stock_returns` directly."
   ]
  },
  {
   "cell_type": "code",
   "execution_count": 17,
   "metadata": {},
   "outputs": [
    {
     "name": "stdout",
     "output_type": "stream",
     "text": [
      "0.03\n",
      "0.01\n",
      "-0.02\n",
      "0.01\n",
      "-0.01\n"
     ]
    }
   ],
   "source": [
    "for i in daily_stock_returns:\n",
    "    print(i)"
   ]
  },
  {
   "cell_type": "markdown",
   "metadata": {},
   "source": [
    "Thus, an alternative improvement to the `for` loop is to do the following."
   ]
  },
  {
   "cell_type": "code",
   "execution_count": 18,
   "metadata": {},
   "outputs": [
    {
     "name": "stdout",
     "output_type": "stream",
     "text": [
      "[0.019999999999999997, 0.0, -0.03, 0.0, -0.02]\n"
     ]
    }
   ],
   "source": [
    "excess_returns = []\n",
    "for i in daily_stock_returns:\n",
    "    excess_returns.append( i - .01 )\n",
    "print(excess_returns)"
   ]
  },
  {
   "cell_type": "markdown",
   "metadata": {},
   "source": [
    "If you don't need to use the list index position inside the `for` loop (as is the case here), it's better to loop over the list directly, rather than a list of numbers coresponding to the index positions.  The reason is that this form of the `for` loop is the cleanest.  It requires the least amount of typing, and it is the easiest to read."
   ]
  },
  {
   "cell_type": "markdown",
   "metadata": {},
   "source": [
    "Now that we've seen that we can loop over a list directly (rather than looping over index positions for the list), we can explain list comprehension.  List comprehension takes a simple `for` loop (with one line of code inside the loop) and converts the loop into a neater, shorter piece of code.  Consider the following example."
   ]
  },
  {
   "cell_type": "code",
   "execution_count": 11,
   "metadata": {},
   "outputs": [
    {
     "data": {
      "text/plain": [
       "[0, 1, 2]"
      ]
     },
     "execution_count": 11,
     "metadata": {},
     "output_type": "execute_result"
    }
   ],
   "source": [
    "[i for i in range(3)]"
   ]
  },
  {
   "cell_type": "markdown",
   "metadata": {},
   "source": [
    "The statment is wrapped up in square brackets, indicating a `list` variable.  Within these square brackets, we tell Python to add to this list the value `i`, where we define `i` as any element in `range(3)`.\n",
    "\n",
    "Likewise, if we allow `i` to be any element in `daily_stock_returns`:"
   ]
  },
  {
   "cell_type": "code",
   "execution_count": 19,
   "metadata": {},
   "outputs": [
    {
     "data": {
      "text/plain": [
       "[0.03, 0.01, -0.02, 0.01, -0.01]"
      ]
     },
     "execution_count": 19,
     "metadata": {},
     "output_type": "execute_result"
    }
   ],
   "source": [
    "[i for i in daily_stock_returns]"
   ]
  },
  {
   "cell_type": "markdown",
   "metadata": {},
   "source": [
    "Rather than store just the value `i`, we could store some function of it.  So, returning to the earlier example using `range(3)`"
   ]
  },
  {
   "cell_type": "code",
   "execution_count": 12,
   "metadata": {},
   "outputs": [
    {
     "data": {
      "text/plain": [
       "[0, 1, 4]"
      ]
     },
     "execution_count": 12,
     "metadata": {},
     "output_type": "execute_result"
    }
   ],
   "source": [
    "[i**2 for i in range(3)]"
   ]
  },
  {
   "cell_type": "markdown",
   "metadata": {},
   "source": [
    "the square of each value for `i` is included in a list."
   ]
  },
  {
   "cell_type": "markdown",
   "metadata": {},
   "source": [
    "In the case of daily stock returns, we can substract the risk free rate to get the excess return."
   ]
  },
  {
   "cell_type": "code",
   "execution_count": 20,
   "metadata": {},
   "outputs": [
    {
     "data": {
      "text/plain": [
       "[0.019999999999999997, 0.0, -0.03, 0.0, -0.02]"
      ]
     },
     "execution_count": 20,
     "metadata": {},
     "output_type": "execute_result"
    }
   ],
   "source": [
    "[i - .01 for i in daily_stock_returns]"
   ]
  },
  {
   "cell_type": "markdown",
   "metadata": {},
   "source": [
    "Hence, the easiest way to compute excess returns is with the simple, one-line statement:"
   ]
  },
  {
   "cell_type": "code",
   "execution_count": 21,
   "metadata": {},
   "outputs": [
    {
     "name": "stdout",
     "output_type": "stream",
     "text": [
      "[0.019999999999999997, 0.0, -0.03, 0.0, -0.02]\n"
     ]
    }
   ],
   "source": [
    "excess_returns = [i - .01 for i in daily_stock_returns]\n",
    "print(excess_returns)"
   ]
  },
  {
   "cell_type": "markdown",
   "metadata": {},
   "source": [
    "Because list comprehension is just a shortcut to writting out a simple `for` loop, a person could use Python perfectly fine without knowing how to use list comprehension.  However, it's a popular shortcut, so we highlight it here because it will be used throught this text."
   ]
  },
  {
   "cell_type": "markdown",
   "metadata": {},
   "source": [
    "<span style=\"color:red\">**Concept check**:</span>  Using list comprehension, iterate over `range(2,11,2)` and obtain the list of values `[1, 2, 3, 4, 5]` by dividing each item in the range by `2`."
   ]
  },
  {
   "cell_type": "code",
   "execution_count": null,
   "metadata": {},
   "outputs": [],
   "source": [
    "# complete concept check here"
   ]
  },
  {
   "cell_type": "markdown",
   "metadata": {},
   "source": [
    "### `for` Loops and Delayed Savings\n",
    "\n",
    "Consider a slightly modified version of the lifetime savings problem provided above.\n",
    "\n",
    "> Once you begin contributing to a savings account, assume that you put away $x$ dollars per year and expect an annual return of $r$.  How valuable is it to start saving now as opposed to $10$ years from now?\n",
    "\n",
    "Again, begin by defining some values for $x$ and $r$."
   ]
  },
  {
   "cell_type": "code",
   "execution_count": 22,
   "metadata": {},
   "outputs": [],
   "source": [
    "x = 5000\n",
    "r = 0.06"
   ]
  },
  {
   "cell_type": "markdown",
   "metadata": {},
   "source": [
    "Next, define two list variables.  These will store the value of savings accounts over time.  In the previous example, we updated the value for the savings account each year.  Here, we record the value of the account at each point in time.  This is useful because we can then plot the data and explore this delayed savings problem more carefully."
   ]
  },
  {
   "cell_type": "code",
   "execution_count": 23,
   "metadata": {},
   "outputs": [],
   "source": [
    "save_now = [x]    # value of saving account when savings starts immediately\n",
    "save_later = [0]  # value of saving account when savings starts 10 years from now"
   ]
  },
  {
   "cell_type": "markdown",
   "metadata": {},
   "source": [
    "These list variables store one value each (the value $x$ and the value $0$), which corresponds to the value of the savings account at the beginning of year $0$.  Under the \"save-now\" plan, $x$ is put away immediately.  Under the \"save-later\" plan, $x$ is not put away until year 10.\n",
    "\n",
    "Now, what we want to do is think about what happens each year.  In the first scenario (begin saving immediately), the savings account grows by `(1+r)` each year, plus an additional `x` that gets added in.  In the second scenario, the savings account only begins growing after year 10, and contributions only begin in year 10.  Before that, nothing happens.\n",
    "\n",
    "Using `if`/`else` logic, a `for` loop, and the `.append()` function for lists, we can evaluate these two savings plans.\n",
    "\n",
    "We'll begin with the \"save-now\" savings plan, since this is similar to the problem from the beginning of the chapter.  A difference implemented here is that we call the `.append()` function to add values to the `save_now` list."
   ]
  },
  {
   "cell_type": "code",
   "execution_count": 24,
   "metadata": {},
   "outputs": [],
   "source": [
    "for i in range(1,56): # loop over i from 1 to 55\n",
    "    account_value_last_year = save_now[i-1] # e.g. for i = 1 (year 1), loop up account value at i = 0 (year 0)\n",
    "    account_value_next_year = account_value_last_year * (1+r) + x\n",
    "    save_now.append( account_value_next_year )"
   ]
  },
  {
   "cell_type": "markdown",
   "metadata": {},
   "source": [
    "At the beginning of the chapter, we defined a variable `savings`, and updated that variable's value each loop iteration.  Here, the list variable `save_now` keeps track of *each* of the savings account values (that is, the value of the account at year 0, at year 1, ..., at year 55).  This is useful for plotting a figure, which we'll do at the end of the chapter.\n",
    "\n",
    "Next, we modify the above `for` loop to work on the \"save-later\" plan.  The important distinction here is that, for the first ten years (list index values $0-9$, since Python starts counting at $0$), no money is put in to the savings account.  Thus, we set the first ten values of the `save_later` list equal to $0$."
   ]
  },
  {
   "cell_type": "code",
   "execution_count": 25,
   "metadata": {},
   "outputs": [],
   "source": [
    "for i in range(1,56):\n",
    "    if i > 9:\n",
    "        save_later.append( save_later[i-1]*(1+r) + x )\n",
    "    else:\n",
    "        save_later.append( 0 )"
   ]
  },
  {
   "cell_type": "markdown",
   "metadata": {},
   "source": [
    "Plotting will be covered in greater detail in a later chapter, so don't worry about understanding the meaning of the following code block.  The important takeaway is what's presented in the figure it creates."
   ]
  },
  {
   "cell_type": "code",
   "execution_count": 26,
   "metadata": {},
   "outputs": [
    {
     "data": {
      "image/png": "[encoded data removed]",
      "text/plain": [
       "<Figure size 432x288 with 1 Axes>"
      ]
     },
     "execution_count": 26,
     "metadata": {
      "image/png": {
       "height": 258,
       "width": 372
      },
      "needs_background": "light"
     },
     "output_type": "execute_result"
    }
   ],
   "source": [
    "%matplotlib inline\n",
    "\n",
    "import matplotlib\n",
    "import numpy as np\n",
    "import matplotlib.pyplot as plt\n",
    "\n",
    "plt.plot(range(0,56), save_now, color='b', label='Now')\n",
    "plt.plot(range(0,56), save_later, color='r', label='Later', linestyle='--')\n",
    "plt.legend()\n",
    "plt.show()"
   ]
  }
 ],
 "metadata": {
  "kernelspec": {
   "display_name": "Python 3",
   "language": "python",
   "name": "python3"
  },
  "language_info": {
   "codemirror_mode": {
    "name": "ipython",
    "version": 3
   },
   "file_extension": ".py",
   "mimetype": "text/x-python",
   "name": "python",
   "nbconvert_exporter": "python",
   "pygments_lexer": "ipython3",
   "version": "3.8.2"
  }
 },
 "nbformat": 4,
 "nbformat_minor": 4
}
