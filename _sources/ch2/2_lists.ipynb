{
 "cells": [
  {
   "cell_type": "markdown",
   "metadata": {
    "collapsed": false
   },
   "source": [
    "### Lists\n",
    "\n",
    "A Python `list` holds a list of items in an ordered way.  For example, a list of favorite things might include\n",
    "```python3\n",
    "favorite_things1 = ['raindrops on roses', 'whiskers on kittens', 'bright copper kettles', 'warm woolen mittens']\n",
    "```\n",
    "for Julie Andrews.\n",
    "\n",
    "When we say lists are ordered, it's because we can enter `favorite_things1[0]` and get back `'raindrops on roses'` as Julie Andrew's first favorite thing.  Remember, Python starts counting at zero!"
   ]
  },
  {
   "cell_type": "markdown",
   "metadata": {
    "collapsed": false
   },
   "source": [
    "Lists can hold whatever you want.  It could be strings (as shown above), numbers, or even other variables.  Consider a list of daily stock returns\n",
    "```python3\n",
    "daily_stock_returns = [0.03, 0.01, -0.02, 0.01, -0.01]\n",
    "```\n",
    "Let's input this into the following code block for use throughout this section."
   ]
  },
  {
   "cell_type": "code",
   "execution_count": 5,
   "metadata": {
    "collapsed": false
   },
   "outputs": [
   ],
   "source": [
    "daily_stock_returns = [0.03, 0.01, -0.02, 0.01, -0.01]"
   ]
  },
  {
   "cell_type": "markdown",
   "metadata": {
    "collapsed": false
   },
   "source": [
    "If we want the stock return for day 0, we simply type"
   ]
  },
  {
   "cell_type": "code",
   "execution_count": 6,
   "metadata": {
    "collapsed": false
   },
   "outputs": [
    {
     "data": {
      "text/plain": [
       "0.03"
      ]
     },
     "execution_count": 6,
     "metadata": {
     },
     "output_type": "execute_result"
    }
   ],
   "source": [
    "daily_stock_returns[0]"
   ]
  },
  {
   "cell_type": "markdown",
   "metadata": {
    "collapsed": false
   },
   "source": [
    "and Python gives us back the value.  Now suppose that the five daily stock returns corresponded to a week of stock return data.  How do we convert this data into a weekly return?\n",
    "\n",
    "$$\n",
    "\\text{weekly return} = (-1) + \\Pi_{t=1}^5 (1 + \\text{daily return}_t)\n",
    "$$\n",
    "\n",
    "In case the $\\Pi$ symbol is unfamiliar, it means multiply.  Just like $\\sum_{i=1}^3 x_i$ means $x_1 + x_2 + x_3$, the statement $\\Pi_{i=1}^3 x_i$ means $x_1 * x_2 * x_3$.\n",
    "\n",
    "The simple way to do this is"
   ]
  },
  {
   "cell_type": "code",
   "execution_count": 7,
   "metadata": {
    "collapsed": false
   },
   "outputs": [
    {
     "data": {
      "text/plain": [
       "0.019392050600000044"
      ]
     },
     "execution_count": 7,
     "metadata": {
     },
     "output_type": "execute_result"
    }
   ],
   "source": [
    "(-1) + (1+daily_stock_returns[0]) * (1+daily_stock_returns[1]) * (1+daily_stock_returns[2]) * (1+daily_stock_returns[3]) * (1+daily_stock_returns[4])"
   ]
  },
  {
   "cell_type": "markdown",
   "metadata": {
    "collapsed": false
   },
   "source": [
    "That looks annoying to type out, doesn't it?  Now imagine calculating an annual return from 252 days of daily trading data.  This would be prohbitively tedious.\n",
    "\n",
    "Luckily, we're learning how to program, which means we can take advantage of useful things like `for` loops to make our lives easier."
   ]
  },
  {
   "cell_type": "code",
   "execution_count": 8,
   "metadata": {
    "collapsed": false
   },
   "outputs": [
    {
     "name": "stdout",
     "output_type": "stream",
     "text": [
      "0.019392050600000044\n"
     ]
    }
   ],
   "source": [
    "weekly_return = 1\n",
    "for i in range(0,5):\n",
    "    weekly_return = weekly_return*(1+daily_stock_returns[i])\n",
    "weekly_return -= 1\n",
    "print(weekly_return)"
   ]
  },
  {
   "cell_type": "markdown",
   "metadata": {
    "collapsed": false
   },
   "source": [
    "Stop to think for a moment about why we set `weekly_return` equal to $1$ before beginning the `for` loop.\n",
    "\n",
    "Most, if not all, variable types in Python have special functions that exist for those variable types.  For example, string variables contain text, and so these variables have `.upper()` and `.lower()` functions that can be used with them."
   ]
  },
  {
   "cell_type": "code",
   "execution_count": 9,
   "metadata": {
    "collapsed": false
   },
   "outputs": [
    {
     "name": "stdout",
     "output_type": "stream",
     "text": [
      "FINANCE DATA SCIENCE\n"
     ]
    }
   ],
   "source": [
    "my_str = 'Finance Data Science'\n",
    "print(my_str.upper())"
   ]
  },
  {
   "cell_type": "code",
   "execution_count": 10,
   "metadata": {
    "collapsed": false
   },
   "outputs": [
    {
     "name": "stdout",
     "output_type": "stream",
     "text": [
      "finance data science\n"
     ]
    }
   ],
   "source": [
    "print(my_str.lower())"
   ]
  },
  {
   "cell_type": "markdown",
   "metadata": {
    "collapsed": false
   },
   "source": [
    "For list variables, two important functions are `.append()` and `.pop()`.  These functions add and remove data from the list, respectively."
   ]
  },
  {
   "cell_type": "code",
   "execution_count": 11,
   "metadata": {
    "collapsed": false
   },
   "outputs": [
    {
     "name": "stdout",
     "output_type": "stream",
     "text": [
      "[1, 2, 3, 4]\n"
     ]
    }
   ],
   "source": [
    "my_list = [1, 2, 3]\n",
    "my_list.append(4)\n",
    "print(my_list)"
   ]
  },
  {
   "cell_type": "markdown",
   "metadata": {
    "collapsed": false
   },
   "source": [
    "The `.append()` function takes as an argument the data that you want to append to a list, and then adds that data to the end of an existing list.  Note that, as with `.upper()` or `.lower()` for strings, here the function starts with a `.` and follows the variable name.  This is different than using a function like `print()` or, from earlier in this chapter, `wacc()`.  The difference exists because `.append()` is a function defined specifically for the list variable type."
   ]
  },
  {
   "cell_type": "code",
   "execution_count": 12,
   "metadata": {
    "collapsed": false
   },
   "outputs": [
    {
     "name": "stdout",
     "output_type": "stream",
     "text": [
      "[1, 2]\n"
     ]
    }
   ],
   "source": [
    "my_list = [1, 2, 3]\n",
    "my_list.pop()\n",
    "print(my_list)"
   ]
  },
  {
   "cell_type": "markdown",
   "metadata": {
    "collapsed": false
   },
   "source": [
    "`.pop()` removes data from a list, and you don't necessarily need to say *what* data gets deleted.  By default, if you do not supply an argument to `.pop()` then Python will delete the last item from the list.  To specify an element to delete, select it based on that element's position in the list."
   ]
  },
  {
   "cell_type": "code",
   "execution_count": 13,
   "metadata": {
    "collapsed": false
   },
   "outputs": [
    {
     "name": "stdout",
     "output_type": "stream",
     "text": [
      "[2, 3]\n"
     ]
    }
   ],
   "source": [
    "my_list = [1, 2, 3]\n",
    "my_list.pop(0)\n",
    "print(my_list)"
   ]
  },
  {
   "cell_type": "markdown",
   "metadata": {
    "collapsed": false
   },
   "source": [
    "In Python, `for` loops operate on lists of information.  For example, the command `for i in range(5)` tells Python to operate on the list of numbers from $0$ to $4$.  Likewise, `for i in ['cat', 'dog', 'bird']` tells Python to operate on the list of strings 'cat', 'dog', and 'bird'.  Notice, therfore, that the list of items we loop over does not have to use numbers!  Let's see what happens when we loop over these strings."
   ]
  },
  {
   "cell_type": "code",
   "execution_count": 10,
   "metadata": {
    "collapsed": false
   },
   "outputs": [
    {
     "name": "stdout",
     "output_type": "stream",
     "text": [
      "cat\n",
      "dog\n",
      "bird\n"
     ]
    }
   ],
   "source": [
    "for i in ['cat', 'dog', 'bird']:\n",
    "    print(i)"
   ]
  },
  {
   "cell_type": "markdown",
   "metadata": {
    "collapsed": false
   },
   "source": [
    "The value for `i` in the above `for` loop is set to be each of these strings in turn.\n",
    "\n",
    "<span style=\"color:red\">**Concept check**:</span> Lists can be *empty*, meaning that they have no items inside them.  For example `x = []` is an empty list because it has no items.  In the code cell below, start with an empty list called `squares`.  Then, looping over `range(5)` with a loop index of `i`, append the value $i^2$ to the list `squares`.`"
   ]
  },
  {
   "cell_type": "code",
   "execution_count": 0,
   "metadata": {
    "collapsed": false
   },
   "outputs": [
   ],
   "source": [
   ]
  }
 ],
 "metadata": {
  "kernelspec": {
   "display_name": "Python 3 (system-wide)",
   "language": "python",
   "metadata": {
    "cocalc": {
     "description": "Python 3 programming language",
     "priority": 100,
     "url": "https://www.python.org/"
    }
   },
   "name": "python3",
   "resource_dir": "/ext/jupyter/kernels/python3"
  },
  "language_info": {
   "codemirror_mode": {
    "name": "ipython",
    "version": 3
   },
   "file_extension": ".py",
   "mimetype": "text/x-python",
   "name": "python",
   "nbconvert_exporter": "python",
   "pygments_lexer": "ipython3",
   "version": "3.9.1"
  }
 },
 "nbformat": 4,
 "nbformat_minor": 4
}