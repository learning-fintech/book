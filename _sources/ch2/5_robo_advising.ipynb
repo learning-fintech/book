{
 "cells": [
  {
   "cell_type": "markdown",
   "metadata": {
    "collapsed": false
   },
   "source": [
    "## Robo-Advising\n",
    "\n",
    "As a capstone to chapter 1, let us build a function that serves as a robo-adivsor for a user's investment portfolio.\n",
    "\n",
    "There are two new ingredients to add to make a simplified robo-advisor work: *type-conversion* and *input*.\n",
    "\n",
    "We won't build a complete robo-advisor just yet, but we can make some progress towards building one using the material from this chapter.\n",
    "\n",
    "### Type Conversions\n",
    "\n",
    "Two basic data types within Python are integers and strings."
   ]
  },
  {
   "cell_type": "code",
   "execution_count": 10,
   "metadata": {
    "collapsed": false
   },
   "outputs": [
   ],
   "source": [
    "my_int = 1\n",
    "my_str = '1'"
   ]
  },
  {
   "cell_type": "markdown",
   "metadata": {
    "collapsed": false
   },
   "source": [
    "The *type* of a variable can be checked with the `type()` function."
   ]
  },
  {
   "cell_type": "code",
   "execution_count": 11,
   "metadata": {
    "collapsed": false
   },
   "outputs": [
    {
     "name": "stdout",
     "output_type": "stream",
     "text": [
      "<class 'int'>\n",
      "<class 'str'>\n"
     ]
    }
   ],
   "source": [
    "print( type(my_int) )\n",
    "print( type(my_str) )"
   ]
  },
  {
   "cell_type": "markdown",
   "metadata": {
    "collapsed": false
   },
   "source": [
    "Variable typing can be important to keep track of.  Note that $1$ and `'1'` do not count as the same thing in Python."
   ]
  },
  {
   "cell_type": "code",
   "execution_count": 12,
   "metadata": {
    "collapsed": false
   },
   "outputs": [
    {
     "data": {
      "text/plain": [
       "False"
      ]
     },
     "execution_count": 12,
     "metadata": {
     },
     "output_type": "execute_result"
    }
   ],
   "source": [
    "'1' == 1"
   ]
  },
  {
   "cell_type": "markdown",
   "metadata": {
    "collapsed": false
   },
   "source": [
    "This matters in the event that you have a *string* number that you want to use as an integer (or floating point) number.  Suppose you need to add the number 8 to your string number."
   ]
  },
  {
   "cell_type": "code",
   "execution_count": 17,
   "metadata": {
    "collapsed": false
   },
   "outputs": [
    {
     "ename": "TypeError",
     "evalue": "unsupported operand type(s) for +: 'int' and 'str'",
     "output_type": "error",
     "traceback": [
      "\u001b[1;31m---------------------------------------------------------------------------\u001b[0m",
      "\u001b[1;31mTypeError\u001b[0m                                 Traceback (most recent call last)",
      "\u001b[1;32m<ipython-input-17-bc89c6d67d5b>\u001b[0m in \u001b[0;36m<module>\u001b[1;34m\u001b[0m\n\u001b[1;32m----> 1\u001b[1;33m \u001b[1;36m8\u001b[0m\u001b[1;33m+\u001b[0m\u001b[1;34m'1'\u001b[0m\u001b[1;33m\u001b[0m\u001b[1;33m\u001b[0m\u001b[0m\n\u001b[0m",
      "\u001b[1;31mTypeError\u001b[0m: unsupported operand type(s) for +: 'int' and 'str'"
     ]
    }
   ],
   "source": [
    "8+'1'"
   ]
  },
  {
   "cell_type": "markdown",
   "metadata": {
    "collapsed": false
   },
   "source": [
    "Strings containing integers can be converted into integers with the `int()` function."
   ]
  },
  {
   "cell_type": "code",
   "execution_count": 18,
   "metadata": {
    "collapsed": false
   },
   "outputs": [
    {
     "data": {
      "text/plain": [
       "9"
      ]
     },
     "execution_count": 18,
     "metadata": {
     },
     "output_type": "execute_result"
    }
   ],
   "source": [
    "int('1') + 8"
   ]
  },
  {
   "cell_type": "markdown",
   "metadata": {
    "collapsed": false
   },
   "source": [
    "Likewise strings containing decimal numbers can be converted into floating point numbers with the `float()` function."
   ]
  },
  {
   "cell_type": "code",
   "execution_count": 19,
   "metadata": {
    "collapsed": false
   },
   "outputs": [
    {
     "data": {
      "text/plain": [
       "9.23"
      ]
     },
     "execution_count": 19,
     "metadata": {
     },
     "output_type": "execute_result"
    }
   ],
   "source": [
    "float('1.23') + 8"
   ]
  },
  {
   "cell_type": "markdown",
   "metadata": {
    "collapsed": false
   },
   "source": [
    "Moreover, integers or floating point numbers can be converted to strings with the `str()` function."
   ]
  },
  {
   "cell_type": "code",
   "execution_count": 20,
   "metadata": {
    "collapsed": false
   },
   "outputs": [
    {
     "data": {
      "text/plain": [
       "str"
      ]
     },
     "execution_count": 20,
     "metadata": {
     },
     "output_type": "execute_result"
    }
   ],
   "source": [
    "type(str(1.23))"
   ]
  },
  {
   "cell_type": "markdown",
   "metadata": {
    "collapsed": false
   },
   "source": [
    "Translating variables from one type to another will only be successul when the data in the variable can be reasonably converted.  One could not do `int('banana')` because there is no way to convert the string `'banana'` into integer data. "
   ]
  },
  {
   "cell_type": "markdown",
   "metadata": {
    "collapsed": false
   },
   "source": [
    "### Input\n",
    "\n",
    "The other new ingredient needed to get a basic form of robo-adivising to work is the `input()` function.  Our goal is to build a tool that asks a user a series of questions such that the tool can then recommend an investment strategy based on those questions.  The `input()` function is the ingredient we'll need to ask for user input into the tool.\n",
    "\n",
    "Consider the example:"
   ]
  },
  {
   "cell_type": "code",
   "execution_count": 42,
   "metadata": {
    "collapsed": false
   },
   "outputs": [
    {
     "name": "stdout",
     "output_type": "stream",
     "text": [
      "What is your favorite color?\n",
      "purple\n",
      "User entered the response: purple\n"
     ]
    }
   ],
   "source": [
    "color = input('What is your favorite color?\\n')\n",
    "print('User entered the response:', color)"
   ]
  },
  {
   "cell_type": "markdown",
   "metadata": {
    "collapsed": false
   },
   "source": [
    "The `input()` function prints out a string, given as the argument to the function.  The `input()` function waits for a response and then returns that response.  We store the returned value in a variable named `color`.  The second line of the code above simply prints out the response to verify that the `input()` function worked correctly.\n",
    "\n",
    "Responses to the `input()` function are always strings."
   ]
  },
  {
   "cell_type": "code",
   "execution_count": 8,
   "metadata": {
    "collapsed": false
   },
   "outputs": [
    {
     "name": "stdout",
     "output_type": "stream",
     "text": [
      "<class 'str'>\n"
     ]
    }
   ],
   "source": [
    "print(type(color))"
   ]
  },
  {
   "cell_type": "markdown",
   "metadata": {
    "collapsed": false
   },
   "source": [
    "This means that if we want to use the response as something else, like an integer, we need to convert the data.\n",
    "\n",
    "Let's move to another example to really see the `input()` function in action.  This time, we'll ask for the user's age and print a response that is *conditional* on the user's age."
   ]
  },
  {
   "cell_type": "code",
   "execution_count": 43,
   "metadata": {
    "collapsed": false
   },
   "outputs": [
    {
     "name": "stdout",
     "output_type": "stream",
     "text": [
      "What is your age?\n",
      "31\n",
      "Equity allocation percent: 69\n"
     ]
    }
   ],
   "source": [
    "age = input('What is your age?\\n')\n",
    "print('Equity allocation percent:', 100-int(age))"
   ]
  },
  {
   "cell_type": "markdown",
   "metadata": {
    "collapsed": false
   },
   "source": [
    "The output above represents the *rule of 100*.  One frequently proposed piece of investment advice is for younger people to invest more in stocks (which generally grow more in value than bonds, but are riskier) and for older people to invest more in bonds (which are less risky and thus potentially safer to live off of in retirement).  The rule of 100 is a trick for thinking about how much of a person's portfolio should be in stocks: 100 minus your age is approximately the percentage of your wealth that should be in stocks.  Or so the rule goes, at least.  These notes are certainly not intended to serve as investment advice; the rule of 100 is just a convenient way to show up the utility of the `input()` function.\n",
    "\n",
    "As another example of a conditional response, let's ask the user how much risk they're willing to take on."
   ]
  },
  {
   "cell_type": "code",
   "execution_count": 44,
   "metadata": {
    "collapsed": false
   },
   "outputs": [
   ],
   "source": [
    "def check_attitude():\n",
    "    attitude = input('How much risk are you willing to take on?\\n')\n",
    "\n",
    "    if attitude == 'not much':\n",
    "        print(\"Okay, we'll invest mostly in bonds.\")\n",
    "    elif attitude == 'a lot':\n",
    "        print(\"Okey, we'll invest mostly in equities.\")\n",
    "    else:\n",
    "        print(\"I'm just a stupid robot, I can't understand you.\")"
   ]
  },
  {
   "cell_type": "markdown",
   "metadata": {
    "collapsed": false
   },
   "source": [
    "The goal, of course, is to get a sense of how much risk the user is willing to take on.  The robo-adivsor can allocate the user's money into riskier investments (potentially earning higher returns) if the user is willing to bear the risk of those investment."
   ]
  },
  {
   "cell_type": "code",
   "execution_count": 45,
   "metadata": {
    "collapsed": false
   },
   "outputs": [
    {
     "name": "stdout",
     "output_type": "stream",
     "text": [
      "How much risk are you willing to take on?\n",
      "a lot\n",
      "Okey, we'll invest mostly in equities.\n"
     ]
    }
   ],
   "source": [
    "check_attitude()"
   ]
  },
  {
   "cell_type": "markdown",
   "metadata": {
    "collapsed": false
   },
   "source": [
    "Of course, the problem here is that the input question, as stated above, is very open-ended.  A user could in all likelihood enter a response that is not expected."
   ]
  },
  {
   "cell_type": "code",
   "execution_count": 46,
   "metadata": {
    "collapsed": false
   },
   "outputs": [
    {
     "name": "stdout",
     "output_type": "stream",
     "text": [
      "How much risk are you willing to take on?\n",
      "maybe a medium amount\n",
      "I'm just a stupid robot, I can't understand you.\n"
     ]
    }
   ],
   "source": [
    "check_attitude()"
   ]
  },
  {
   "cell_type": "markdown",
   "metadata": {
    "collapsed": false
   },
   "source": [
    "Computers are getting better at open-ended questions.  The rise of artificial intelligence, and in particular a topic called *natural language understanding*, is helping with that.\n",
    "\n",
    "For our use case, we will give the user a bit more guidance with the response we want."
   ]
  },
  {
   "cell_type": "code",
   "execution_count": 47,
   "metadata": {
    "collapsed": false
   },
   "outputs": [
   ],
   "source": [
    "def get_risk_preference():\n",
    "    response = input(\"On a scale of 1-5, how much do you dislike risk?  1=not bothered by risk, 5=extremely worried about risk.\\n\")\n",
    "    \n",
    "    if response not in ['1', '2', '3', '4', '5']:\n",
    "        print('Sorry, response must be 1, 2, 3, 4, or 5')\n",
    "        print('I will guess that you meant to put 3')\n",
    "        return 3\n",
    "    \n",
    "    return int(response)"
   ]
  },
  {
   "cell_type": "code",
   "execution_count": 48,
   "metadata": {
    "collapsed": false
   },
   "outputs": [
    {
     "name": "stdout",
     "output_type": "stream",
     "text": [
      "On a scale of 1-5, how much do you dislike risk?  1=not bothered by risk, 5=extremely worried about risk.\n",
      "4\n"
     ]
    },
    {
     "data": {
      "text/plain": [
       "4"
      ]
     },
     "execution_count": 48,
     "metadata": {
     },
     "output_type": "execute_result"
    }
   ],
   "source": [
    "get_risk_preference()"
   ]
  },
  {
   "cell_type": "markdown",
   "metadata": {
    "collapsed": false
   },
   "source": [
    "With these ideas, we can begin to form the start of a robo-advisor.\n",
    "\n",
    "First, apply the rule of 100 to get a baseline for how the debt-equity mix should be allocated.  Second, shift the allocation more towards stocks if the user is more okay with risk and shift the allocation more towards bonds if the user hates risk.\n",
    "\n",
    "Note that we are allocating the task of asking for a user's age to a separate function called `get_age()`.  We will return to it and the `get_risk_preference()` shortly and the reason for dedicating this to a separate function will be made clear."
   ]
  },
  {
   "cell_type": "code",
   "execution_count": 0,
   "metadata": {
    "collapsed": false
   },
   "outputs": [
   ],
   "source": [
    "# get user's age\n",
    "def get_age()\n",
    "    age = input('What is your age?  Enter it as a numberic argument (e.g. \"50\", not \"fifty\")\\n')\n",
    "    return age"
   ]
  },
  {
   "cell_type": "code",
   "execution_count": 51,
   "metadata": {
    "collapsed": false
   },
   "outputs": [
   ],
   "source": [
    "def get_allocation():\n",
    "    \n",
    "    age = get_age()\n",
    "    \n",
    "    # apply rule of 100\n",
    "    equity_weight = 100-int(age)\n",
    "    \n",
    "    # get user's risk preference\n",
    "    preference = get_risk_preference()\n",
    "    \n",
    "    # shift the allocation according to the user's preference\n",
    "    if preference == 1:\n",
    "        equity_weight += 10\n",
    "    elif preference == 2:\n",
    "        equity_weight += 5\n",
    "    elif preference == 4:\n",
    "        equity_weight -= 5\n",
    "    elif preference == 5:\n",
    "        equity_weight -= 10\n",
    "        \n",
    "    # correct weights to stick within 0-100\n",
    "    equity_weight = min(equity_weight, 100)\n",
    "    equity_weight = max(equity_weight, 0)\n",
    "    \n",
    "    debt_weight = 100-equity_weight\n",
    "    \n",
    "    print('I would recommend', equity_weight, 'percent stocks and ', debt_weight, 'percent bonds')\n",
    "    \n",
    "    return [equity_weight, debt_weight]"
   ]
  },
  {
   "cell_type": "code",
   "execution_count": 52,
   "metadata": {
    "collapsed": false
   },
   "outputs": [
    {
     "name": "stdout",
     "output_type": "stream",
     "text": [
      "What is your age?  Enter it as a numberic argument (e.g. \"50\", not \"fifty\")\n",
      "31\n",
      "On a scale of 1-5, how much do you dislike risk?  1=not bothered by risk, 5=extremely worried about risk.\n",
      "5\n",
      "I would recommend 59 percent stocks and  41 percent bonds\n"
     ]
    },
    {
     "data": {
      "text/plain": [
       "[59, 41]"
      ]
     },
     "execution_count": 52,
     "metadata": {
     },
     "output_type": "execute_result"
    }
   ],
   "source": [
    "get_allocation()"
   ]
  },
  {
   "cell_type": "markdown",
   "metadata": {
    "collapsed": false
   },
   "source": [
    "### While Loops\n",
    "\n",
    "`while` loops are the slightly trickier cousin of `for` loops.  A `for` loop will iterate over a defined list/set of items.  This may be a range, a Python `list`, or something else.  But we know the items over which a `for` loop will iterate, which means we know exactly how many times a `for` loop will iterate.  For instance, if we say\n",
    "```\n",
    "for i in ['a', 'b', 'c']:\n",
    "```\n",
    "then we know that the loop will execute three times.\n",
    "\n",
    "A `while` loop in contrast will continue executing so long as a given condition or set of conditions is `True`.  The general syntax for a while loop is `while <either a condition or set of conditions>`.  For instance, if we do:"
   ]
  },
  {
   "cell_type": "code",
   "execution_count": 2,
   "metadata": {
    "collapsed": false
   },
   "outputs": [
    {
     "name": "stdout",
     "output_type": "stream",
     "text": [
      "0\n",
      "1\n",
      "2\n"
     ]
    }
   ],
   "source": [
    "i = 0\n",
    "while i < 3:\n",
    "    print(i)\n",
    "    i = i +1"
   ]
  },
  {
   "cell_type": "markdown",
   "metadata": {
    "collapsed": false
   },
   "source": [
    "then we can increment over an index variable `i`.  Let's look at a second example that makes use of the `len()` function.  The `len()` function will tell us the number of items in a list.  So, `len(['a','b'])` would be $2$."
   ]
  },
  {
   "cell_type": "code",
   "execution_count": 3,
   "metadata": {
    "collapsed": false
   },
   "outputs": [
    {
     "name": "stdout",
     "output_type": "stream",
     "text": [
      "[] 0\n",
      "['a'] 1\n",
      "['a', 'a'] 2\n",
      "['a', 'a', 'a'] 3\n"
     ]
    }
   ],
   "source": [
    "my_list = [] # start by creating an empty list\n",
    "while len(my_list) < 4:\n",
    "    print(my_list, len(my_list))\n",
    "    my_list.append('a')"
   ]
  },
  {
   "cell_type": "markdown",
   "metadata": {
    "collapsed": false
   },
   "source": [
    "The risky bit about `while` loops is that we could end up with code that never stops running!  The trivial example is:\n",
    "```\n",
    "while True:\n",
    "    print('this loop will never stop!')\n",
    "```\n",
    "\n",
    "since the `True` condition is given explicitly, it's fairly obvious that the `while` condition will always be `True` and thus the loop will never stop.  The trickier problem is when a condition turns out to be always `True` and we don't anticipate it in advance.  For example:\n",
    "```\n",
    "i = 1\n",
    "while i > 0:\n",
    "    i = i + 1\n",
    "```\n",
    "this code will never end because `i` will grow each iteration and consequently will always be greater than $0$ (given the starting value is $1$.\n",
    "\n",
    "So, use `while` loops with caution.  However, they can be useful little tools.  We'll see an example applied to the `get_age()` function shortly."
   ]
  },
  {
   "cell_type": "markdown",
   "metadata": {
    "collapsed": false
   },
   "source": [
    "### Try, Except\n",
    "\n",
    "One of the best ways to write robust Python code is to employ the `try` and `except` pair of commands.  This gives us the ability to catch small problems and deal with them, rather than just \"giving up\" if an issue arises.\n",
    "\n",
    "The organization for a `try`/`except` block of code looks something like:\n",
    "```\n",
    "try:\n",
    "    <stuff to try here>\n",
    "except Exception as e:\n",
    "    <things to do if there is a problem>\n",
    "```"
   ]
  },
  {
   "cell_type": "code",
   "execution_count": 4,
   "metadata": {
    "collapsed": false
   },
   "outputs": [
    {
     "name": "stdout",
     "output_type": "stream",
     "text": [
      "unsupported operand type(s) for +: 'int' and 'str'\n",
      "it's okay, not all code works\n"
     ]
    }
   ],
   "source": [
    "try:\n",
    "    1 + 'nachos'\n",
    "except Exception as e:\n",
    "    print(e)\n",
    "    print(\"it's okay, not all code works\")"
   ]
  },
  {
   "cell_type": "markdown",
   "metadata": {
    "collapsed": false
   },
   "source": [
    "When asking for user input, it can be helpful to pair `while` loops and `try`/`except` blocks.  Note that in the `get_age()` function above, we just assumed the user would behave and enter a numeric age (e.g. `22`) rather than an age expressed by alphabetic characters (e.g. `'twenty two'`).  That was naughty of us!  It's much better to head off potential issues if they can be anticipated.\n",
    "\n",
    "Consider the following block:"
   ]
  },
  {
   "cell_type": "code",
   "execution_count": 5,
   "metadata": {
    "collapsed": false
   },
   "outputs": [
   ],
   "source": [
    "def get_age():\n",
    "    need_age = True\n",
    "    while need_age:\n",
    "        age = input('What is your age?  Enter it as a numberic argument (e.g. \"50\", not \"fifty\")\\n')\n",
    "        try:\n",
    "            age = int(age) # this will break (raise an exception) if age is not numeric\n",
    "            need_age = False\n",
    "        except Exception as e:\n",
    "            print('Please try entering your age again')\n",
    "    return age"
   ]
  },
  {
   "cell_type": "code",
   "execution_count": 6,
   "metadata": {
    "collapsed": false
   },
   "outputs": [
    {
     "name": "stdout",
     "output_type": "stream",
     "text": [
      "What is your age?  Enter it as a numberic argument (e.g. \"50\", not \"fifty\")\n",
      "fifty\n",
      "Please try entering your age again\n",
      "What is your age?  Enter it as a numberic argument (e.g. \"50\", not \"fifty\")\n",
      "30t\n",
      "Please try entering your age again\n",
      "What is your age?  Enter it as a numberic argument (e.g. \"50\", not \"fifty\")\n",
      "30\n"
     ]
    },
    {
     "data": {
      "text/plain": [
       "30"
      ]
     },
     "execution_count": 6,
     "metadata": {
     },
     "output_type": "execute_result"
    }
   ],
   "source": [
    "get_age()"
   ]
  },
  {
   "cell_type": "markdown",
   "metadata": {
    "collapsed": false
   },
   "source": [
    "<span style=\"color:red\">**Concept check**:</span> The `get_age()` function is now robust to users not entering in a numeric value for their age.  Copy and paste the `get_risk_preference()` function and modify it so that, rather than addressing errors by assuming that the response is `'3'`, it re-asks the user for a risk preference."
   ]
  },
  {
   "cell_type": "code",
   "execution_count": 0,
   "metadata": {
    "collapsed": false
   },
   "outputs": [
   ],
   "source": [
   ]
  }
 ],
 "metadata": {
  "kernelspec": {
   "display_name": "Python 3 (system-wide)",
   "language": "python",
   "metadata": {
    "cocalc": {
     "description": "Python 3 programming language",
     "priority": 100,
     "url": "https://www.python.org/"
    }
   },
   "name": "python3",
   "resource_dir": "/ext/jupyter/kernels/python3"
  },
  "language_info": {
   "codemirror_mode": {
    "name": "ipython",
    "version": 3
   },
   "file_extension": ".py",
   "mimetype": "text/x-python",
   "name": "python",
   "nbconvert_exporter": "python",
   "pygments_lexer": "ipython3",
   "version": "3.9.1"
  }
 },
 "nbformat": 4,
 "nbformat_minor": 4
}