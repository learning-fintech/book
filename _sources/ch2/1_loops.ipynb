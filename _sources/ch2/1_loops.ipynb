{
 "cells": [
  {
   "cell_type": "markdown",
   "metadata": {
    "collapsed": false
   },
   "source": [
    "## Loops and Lists\n",
    "\n",
    "### `for` Loops and Lifetime Savings\n",
    "\n",
    "Because Python is quick and easy (once you have a handle of it), it serves as a useful tool for playing out ideas.  For example, suppose that we want to visualize a savings decision:\n",
    "\n",
    "> Once you begin contributing to a savings account, assume that you put away $x$ dollars per year and expect an annual return of $r$.  How much money will you have saved in $55$ years?\n",
    "\n",
    "Begin by defining the *variables* you need"
   ]
  },
  {
   "cell_type": "code",
   "execution_count": 1,
   "metadata": {
    "collapsed": false
   },
   "outputs": [
   ],
   "source": [
    "x = 5000\n",
    "r = 0.06"
   ]
  },
  {
   "cell_type": "markdown",
   "metadata": {
    "collapsed": false
   },
   "source": [
    "Now, *compound* the returns you get over the next $55$ years.  Imagine that today is year 0.  At the end of year 0, you'll have saved $x \\times (1+r)$.  Then, after another, you're year zero savings grow by another $(1+r)$, and your year one savings (since you put away $x$ more each year), also grows by $(1+r)$.  The following table helps visualize the idea:\n",
    "\n",
    "Time | Value of Money Saved at Year 0 | Value of Money Saved at Year 1 | Value of Money Saved at Year 2 | Value of Money Saved at Year 3\n",
    "- | - | - | - | -\n",
    "0 | $x$ | . | . | .\n",
    "1 | $x(1+r)$ | $x$ | . | .\n",
    "2 | $x(1+r)^2$ | $x(1+r)$ | $x$ | .\n",
    "3 | $x(1+r)^3$ | $x(1+r)^2$ | $x(1+r)$ | $x$\n",
    "\n",
    "Add up the values across each column to get the total savings at the *beginning* of a given year.  This sum is reported in the following table:\n",
    "\n",
    "<table width=\"100%\">\n",
    "    <tr>\n",
    "        <th width=\"20%\">\n",
    "            Time\n",
    "        </th>\n",
    "        <th width=\"40%\">\n",
    "            Total Savings (beginning of year)\n",
    "        </th>\n",
    "        <th width=\"40%\">\n",
    "            Total Savings (algebraically re-arranged)\n",
    "        </th>\n",
    "    </tr>\n",
    "    <tr>\n",
    "        <td>\n",
    "            $0$\n",
    "        </td>\n",
    "        <td>\n",
    "            $x$\n",
    "        </td>\n",
    "        <td>\n",
    "            $x$\n",
    "        </td>\n",
    "    </tr>\n",
    "    <tr>\n",
    "        <td>\n",
    "            $1$\n",
    "        </td>\n",
    "        <td>\n",
    "            <span style=\"color:blue\">$x(1+r)+x$</span>\n",
    "        </td>\n",
    "        <td>\n",
    "            $x(1+r)+x$\n",
    "        </td>\n",
    "    </tr>\n",
    "    <tr>\n",
    "        <td>\n",
    "            $2$\n",
    "        </td>\n",
    "        <td>\n",
    "            <span style=\"color:red\">$x(1+r)^2+x(1+r)+x$</span>\n",
    "        </td>\n",
    "        <td>\n",
    "            $\\Big[$<span style=\"color:blue\">$x(1+r)+x$</span>$\\Big](1+r)+x$\n",
    "        </td>\n",
    "    </tr>\n",
    "    <tr>\n",
    "        <td>\n",
    "            $3$\n",
    "        </td>\n",
    "        <td>\n",
    "            $x(1+r)^3+x(1+r)^2+x(1+r)+x$\n",
    "        </td>\n",
    "        <td>\n",
    "            $\\Big[$<span style=\"color:red\">$x(1+r)^2+x(1+r)+x$</span>$\\Big](1+r)+x$\n",
    "        </td>\n",
    "    </tr>\n",
    "</table>\n",
    "\n",
    "Comparing values across columns two and three of the above table, a convenient pattern emerges.  For instance, the value in year 2, column three equals $x$ plus $(1+r)$ times the value in year 1, column two.\n",
    "\n",
    "If we want to calculate the value of your savings acount at the beginning of year $55$, we need to tell Python to compound returns for $55$ years.  The really awful way to do this is to tell Python to calculate $x(1+r)^{55}+x(1+r)^{54}+x(1+r)^{53}+...+x(1+r)^2+x(1+r)+x$.  The programmer's way to do this is to use the pattern we pointed out in the above table, and make use of a *for loop* that operates over a range of years.\n",
    "\n",
    "If we wanted to loop over years $0$ through $3$, we could tell Python to use a `for` loop to iterate over a list of the numbers $0$ through $3$.  A `for` loop has four components to it:\n",
    "- the word `for` : tells Python to execute a `for` loop\n",
    "- a variable name : this serves as a *loop index*.  You'll see in a moment what this index does.  A common name used here is the letter `i`\n",
    "- the word `in` : tells Python that the loop index will be contained within ''something''.\n",
    "- a list : this is the ''something'' that we loop over.  Every item in the list gets used once."
   ]
  },
  {
   "cell_type": "code",
   "execution_count": 2,
   "metadata": {
    "collapsed": false
   },
   "outputs": [
    {
     "name": "stdout",
     "output_type": "stream",
     "text": [
      "0\n",
      "1\n",
      "2\n",
      "3\n"
     ]
    }
   ],
   "source": [
    "for i in [0, 1, 2, 3]:\n",
    "    print(i)"
   ]
  },
  {
   "cell_type": "markdown",
   "metadata": {
    "collapsed": false
   },
   "source": [
    "What a `for` loop does is tells Python to loop over the list specified (in this case, the list of numbers $0$ through $4$).  For each item in that list, Python sets the loop index variable (in this case, we defined the index variable to be named `i`) equal to that value of the list and then executes every step within the for loop (all of the indented lines of code underneath the line `for`.  Here, our for loop only specifies one action: print out the value of the loop index.\n",
    "\n",
    "In our motivating example, we want Python to work over a long range of years.  In this case, years $0$ through $55$.\n",
    "This would be tedious to type out explicitly into `[0, 1, 2, ..., 54, 55]`.  Python has a trick for this, but there's one caveat to keep in mind.  As children, we learn to start counting with the number $1$.  Python, like most programming languages, starts counting with the number $0$.  Thus, the built-in function `range()` uses this starts-at-zero convention."
   ]
  },
  {
   "cell_type": "code",
   "execution_count": 3,
   "metadata": {
    "collapsed": false
   },
   "outputs": [
    {
     "name": "stdout",
     "output_type": "stream",
     "text": [
      "0\n",
      "1\n",
      "2\n",
      "3\n",
      "4\n"
     ]
    }
   ],
   "source": [
    "for t in range(5):\n",
    "    print(t)"
   ]
  },
  {
   "cell_type": "markdown",
   "metadata": {
    "collapsed": false
   },
   "source": [
    "As demonstrated above, `range(5)` tells Python that the loop should iterate over numbers $0$ through $4$.  Generally, we use `range(n)` to obtain numbers $0$ through $n-1$ (*not* $0$ through $n$).  Thus, we get $n$ numbers out of `range(n)`.  If we want to iterate up through year $55$, we would therefore use the statement `range(56)`.\n",
    "\n",
    "To calculate the value of your savings after $55$ years, we simply have to type out:"
   ]
  },
  {
   "cell_type": "code",
   "execution_count": 4,
   "metadata": {
    "collapsed": false
   },
   "outputs": [
    {
     "name": "stdout",
     "output_type": "stream",
     "text": [
      "2094111.7408149564\n"
     ]
    }
   ],
   "source": [
    "savings = 0 # initially, 0 dollars in savings account\n",
    "for i in range(56):\n",
    "    savings = savings*(1+r) + x # each year, pre-existings savings grows by (1+r) and an additional x is added\n",
    "print(savings)"
   ]
  },
  {
   "cell_type": "markdown",
   "metadata": {
    "collapsed": false
   },
   "source": [
    "<span style=\"color:red\">**Concept check**:</span>  Edit the following code so that the value for `my_savings` is printed out at years `10`, `20`, and `30`.  Hint: check for whether `i` is `in [10, 20, 30]`, or use the `%` operator."
   ]
  },
  {
   "cell_type": "code",
   "execution_count": 0,
   "metadata": {
    "collapsed": false
   },
   "outputs": [
   ],
   "source": [
    "my_savings = 0\n",
    "for i in range(35):\n",
    "    my_savings = my_savings*(1+r) + x\n",
    "    # edit the code here!\n",
    "    \n",
    "print(savings) # this will print the savings after 35 years, we want to see savings at year 10, 20, 30 as well"
   ]
  },
  {
   "cell_type": "markdown",
   "metadata": {
    "collapsed": false
   },
   "source": [
    "For loops allow us to quickly visualize an idea.  For example, let's return to the valuation problem from earlier in the chapter."
   ]
  },
  {
   "cell_type": "code",
   "execution_count": 3,
   "metadata": {
    "collapsed": false
   },
   "outputs": [
   ],
   "source": [
    "def better_wacc(E, D, rE, rD, tC):\n",
    "    \n",
    "    if rE <= 0:\n",
    "        raise Exception('rE is not positive')\n",
    "    if rD <= 0:\n",
    "        raise Exception('rD is not positive')\n",
    "    if tC <= 0:\n",
    "        raise Exception('tC is not positive')\n",
    "    \n",
    "    V = E + D\n",
    "    cost_of_capital = E / V * rE + D / V * rD * (1-tC)\n",
    "    return cost_of_capital\n",
    "\n",
    "def cost_of_equity(E, D, rA, rD, tC):\n",
    "    return rA + (rA-rD)*(1-tC)*(D/E)\n",
    "\n",
    "def firm_value(E, D, rA, rD, tC, FCF, g):\n",
    "    \n",
    "    rE = cost_of_equity(E=E, D=D, rA=rA, rD=rD, tC=tC)\n",
    "    rW = better_wacc(E, D, rE, rD, tC)\n",
    "    \n",
    "    if rW < g:\n",
    "        raise Exception('rW must be greater than g, but g=', g, 'and rW=', rW)\n",
    "    \n",
    "    return FCF / (rW - g)"
   ]
  },
  {
   "cell_type": "markdown",
   "metadata": {
    "collapsed": false
   },
   "source": [
    "Earlier, we saw that the value of the firm changed as its leverage ratio changed.  A more complete, easier to see representation of this idea is to loop over many different debt-equity mixes and check what happens to firm value.\n",
    "\n",
    "Before jumping on the firm value example, let's clarify the usages of `range()`.  There are three possible ways to call the `range()` function:\n",
    "1. `range(n)`: gives numbers $0$ to $n$, i.e. [0, 1, ..., n]\n",
    "2. `range(k,n)`: gives numbers $k$ to $n$, i.e. [k, k+1, ..., n]\n",
    "3. `range(k,n,b)`: gives numbers $k$ to $n$, incrementing by $b$\n",
    "\n",
    "It's perhaps easiest to understand the use cases with a few examples."
   ]
  },
  {
   "cell_type": "code",
   "execution_count": 6,
   "metadata": {
    "collapsed": false
   },
   "outputs": [
    {
     "name": "stdout",
     "output_type": "stream",
     "text": [
      "0\n",
      "1\n",
      "2\n",
      "3\n",
      "4\n",
      "5\n",
      "6\n"
     ]
    }
   ],
   "source": [
    "for i in range(7):\n",
    "    print(i)"
   ]
  },
  {
   "cell_type": "code",
   "execution_count": 7,
   "metadata": {
    "collapsed": false
   },
   "outputs": [
    {
     "name": "stdout",
     "output_type": "stream",
     "text": [
      "2\n",
      "3\n",
      "4\n",
      "5\n",
      "6\n"
     ]
    }
   ],
   "source": [
    "for i in range(2,7):\n",
    "    print(i)"
   ]
  },
  {
   "cell_type": "code",
   "execution_count": 8,
   "metadata": {
    "collapsed": false
   },
   "outputs": [
    {
     "name": "stdout",
     "output_type": "stream",
     "text": [
      "2\n",
      "5\n"
     ]
    }
   ],
   "source": [
    "for i in range(2,7,3):\n",
    "    print(i)"
   ]
  },
  {
   "cell_type": "markdown",
   "metadata": {
    "collapsed": false
   },
   "source": [
    "In the earlier example estimating firm value, the level of debt and equity of the firm added up to be 100.  Let's stick to the example numbers used earlier, and consider different debt-equity mixes that add to 100.  We could iterate over possible debt levels of 0 to 90 with either a call to `range(91)` or `range(0,91)`, but that would call the `firm_value()` function 91 times!  That many calculated firm values would be hard to read.  To make things easier on ourselves, let's try debt values of 0, 10, 20, ..., 90.  We can do this with the three-input version of the `range()` function call."
   ]
  },
  {
   "cell_type": "code",
   "execution_count": 9,
   "metadata": {
    "collapsed": false
   },
   "outputs": [
    {
     "name": "stdout",
     "output_type": "stream",
     "text": [
      "0 50.0\n",
      "10 52.287581699346404\n",
      "20 54.7945205479452\n",
      "30 57.55395683453237\n",
      "40 60.6060606060606\n",
      "50 64.0\n",
      "60 67.79661016949152\n",
      "70 72.07207207207207\n",
      "80 76.92307692307692\n",
      "90 82.4742268041237\n"
     ]
    }
   ],
   "source": [
    "for D in range(0, 100, 10):\n",
    "    v = firm_value(E=100-D, D=D, rA=.05, rD=.04, tC=.35, FCF=2, g=.01)\n",
    "    print(D, v)"
   ]
  },
  {
   "cell_type": "markdown",
   "metadata": {
    "collapsed": false
   },
   "source": [
    "Think carefully about why `range(0,100,10)` gives values [0, 10, 20, ..., 80, 90] and not values [0, 10, 20, ..., 90, 100]."
   ]
  }
 ],
 "metadata": {
  "kernelspec": {
   "display_name": "Python 3 (system-wide)",
   "language": "python",
   "metadata": {
    "cocalc": {
     "description": "Python 3 programming language",
     "priority": 100,
     "url": "https://www.python.org/"
    }
   },
   "name": "python3",
   "resource_dir": "/ext/jupyter/kernels/python3"
  },
  "language_info": {
   "codemirror_mode": {
    "name": "ipython",
    "version": 3
   },
   "file_extension": ".py",
   "mimetype": "text/x-python",
   "name": "python",
   "nbconvert_exporter": "python",
   "pygments_lexer": "ipython3",
   "version": "3.9.1"
  }
 },
 "nbformat": 4,
 "nbformat_minor": 4
}