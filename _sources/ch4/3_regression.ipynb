{
 "cells": [
  {
   "cell_type": "markdown",
   "metadata": {},
   "source": [
    "### Regression\n",
    "\n",
    "We begin with the regression model\n",
    "\n",
    "$$\n",
    "y = \\beta_0 + \\beta_1 x + u\n",
    "$$\n",
    "\n",
    "where $\\beta_0$ is the intercept of the regression line, $\\beta_1$ is the slope parameter corresponding to the variable $x$, and $u$ is unobserved information.\n",
    "\n",
    "We need to assume that $E(u|x)=0$, which tells us that $E(y|x) = \\beta_0 + \\beta_1 x$.  This assumption is called *exgoeneity*.\n",
    "<!--When we want to impose this assumption, what we really mean is that we want to assume one of the three following graphs holds:\n",
    "\n",
    "![exogeneity graphs](assets/exogeneity.svg)\n",
    "\n",
    "Graph 1 shows $u \\rightarrow x \\rightarrow y$, which implies that $u$ affects $x$ but not $y$.  Graph 2 shows $x \\rightarrow y$ and $x \\rightarrow u$, which implies that $x$ affects both $y$ and $u$.  Graph 3 shows $x \\rightarrow y$ and $u \\rightarrow y$, which means that $u$ affects $y$ but not $x$.  Graph 4 shows $x \\rightarrow y$ and $y \\rightarrow u$ so that $u$ is caused by $y$.  Graph 5 shows three edges: $x \\rightarrow y, x \\rightarrow u, y \\rightarrow u$; this implies that $u$ is caused by both $x$ and $y$.\n",
    "-->\n",
    "When we want to impose this assumption, what we really mean is that we want to assume\n",
    "\n",
    "![{u->y, x->y}](assets/exog.svg)\n",
    "\n",
    "This is a strong assumption, we will often encounter models that more realistically look like\n",
    "\n",
    "![{u->y, u->x, x->y} graph](assets/endog.svg)\n",
    "\n",
    "where we have edges $x \\rightarrow y, u \\rightarrow x, u \\rightarrow y$.  In this case, we cannot estimate a causal effect of $x$ on $y$ with a simple linear regression because $x$ is *endogenous*.\n",
    "\n",
    "Should our exogeneity assumption hold, we can confidently proceed with Ordinary Least Squares (OLS) regression.\n",
    "\n",
    "With one $x$ variable, the estimators for $\\hat{\\beta}_0$ and $\\hat{\\beta}_1$ are:\n",
    "\n",
    "$$\n",
    "\\hat{\\beta}_1 = \\frac{\\sum_{i=1}^n(x_i - \\bar{x})(y_i - \\bar{y})}{\\sum_{i=1}^n(x_i-\\bar{x})^2}\n",
    "$$\n",
    "\n",
    "$$\n",
    "\\hat{\\beta}_0 = \\bar{y} - \\hat{\\beta}_1\\bar{x}\n",
    "$$\n",
    "\n",
    "One of the best ways to practice with regression is to simulate the data ourselves.  This guarantees that we know the true causal model as well as parameters.\n",
    "\n",
    "Begin by importing the `numpy` and `pandas` modules."
   ]
  },
  {
   "cell_type": "code",
   "execution_count": 3,
   "metadata": {},
   "outputs": [],
   "source": [
    "import numpy as np\n",
    "import pandas as pd"
   ]
  },
  {
   "cell_type": "markdown",
   "metadata": {},
   "source": [
    "We'll start by generating observations one unit at a time.  This is perhaps the most straight-forward way of visualizing the data (though the least efficient!)."
   ]
  },
  {
   "cell_type": "code",
   "execution_count": 4,
   "metadata": {},
   "outputs": [],
   "source": [
    "np.random.seed(0)\n",
    "u = []\n",
    "x = []\n",
    "y = []\n",
    "for i in range(1000):\n",
    "    u.append( np.random.normal(0,1) )\n",
    "    x.append( np.random.normal(0,1) )\n",
    "    y.append( 1 + 2*x[i] + u[i] ) # beta_0 is 1, beta_1 is 2"
   ]
  },
  {
   "cell_type": "markdown",
   "metadata": {},
   "source": [
    "Print out a snippet of data, just to verify what we have."
   ]
  },
  {
   "cell_type": "code",
   "execution_count": 5,
   "metadata": {},
   "outputs": [
    {
     "name": "stdout",
     "output_type": "stream",
     "text": [
      "[0.4001572083672233, 2.240893199201458, -0.977277879876411, -0.1513572082976979, 0.41059850193837233, 1.454273506962975, 0.12167501649282841, 0.33367432737426683, -0.20515826376580087, -0.8540957393017248]\n",
      "[3.564366762702111, 6.4605243825086545, 0.9130022303971455, 1.6473740009301936, 1.7179781520831867, 4.052590585086828, 2.0043877581326504, 2.111211887493959, 2.0837625456260045, -0.3951237769525482]\n"
     ]
    }
   ],
   "source": [
    "print(x[0:10])\n",
    "print(y[0:10])"
   ]
  },
  {
   "cell_type": "markdown",
   "metadata": {},
   "source": [
    "The regression formula requires $\\bar{x}$ and $\\bar{y}$, which are the means of $x$ and $y$, respectively.  We can use two built-in methods to do this for the sake of review.  We'll utilize the slightly more efficient `np.mean()` function in later example."
   ]
  },
  {
   "cell_type": "code",
   "execution_count": 6,
   "metadata": {},
   "outputs": [
    {
     "name": "stdout",
     "output_type": "stream",
     "text": [
      "-0.00990328278886823 0.9584569500370996\n"
     ]
    }
   ],
   "source": [
    "xmean = sum(x)/len(x)\n",
    "ymean = sum(y)/len(x)\n",
    "print(xmean, ymean)"
   ]
  },
  {
   "cell_type": "markdown",
   "metadata": {},
   "source": [
    "Now, let's compute $\\frac{\\sum_{i=1}^n(x_i - \\bar{x})(y_i - \\bar{y})}{\\sum_{i=1}^n(x_i-\\bar{x})^2}$ one unit at a time."
   ]
  },
  {
   "cell_type": "code",
   "execution_count": 7,
   "metadata": {},
   "outputs": [],
   "source": [
    "numerator = 0\n",
    "denominator = 0\n",
    "for i in range(1000):\n",
    "    numerator += (x[i] - xmean) * (y[i] - ymean)\n",
    "    denominator += (x[i] - xmean)**2\n",
    "beta1 = numerator / denominator"
   ]
  },
  {
   "cell_type": "markdown",
   "metadata": {},
   "source": [
    "Once we have $\\hat{\\beta}_1$, the estimation of $\\hat{\\beta}_0$ is easy."
   ]
  },
  {
   "cell_type": "code",
   "execution_count": 8,
   "metadata": {},
   "outputs": [
    {
     "name": "stdout",
     "output_type": "stream",
     "text": [
      "0.9781266416743201 1.9861789324374455\n"
     ]
    }
   ],
   "source": [
    "beta0 = ymean - beta1*xmean\n",
    "print(beta0, beta1)"
   ]
  },
  {
   "cell_type": "markdown",
   "metadata": {},
   "source": [
    "Let's now repeat the analysis, but this time utilizing DataFrames to store the data a bit more compactly."
   ]
  },
  {
   "cell_type": "code",
   "execution_count": 10,
   "metadata": {},
   "outputs": [],
   "source": [
    "np.random.seed(0)\n",
    "df = pd.DataFrame(columns=['x','y']) # creates an empty DataFrame (a DataFrame with no rows) that has column names 'x' and 'y'\n",
    "df['u'] = np.random.normal(0, 1, 1000)\n",
    "df['x'] = np.random.normal(0, 1, 1000)\n",
    "df['y'] = 1 + 2 * df['x'] + df['u'] # beta_0 is 1, beta_1 is 2"
   ]
  },
  {
   "cell_type": "markdown",
   "metadata": {},
   "source": [
    "Rather than use `for` loops to calculate the numerator/denominator values as above, we can use the `sum()` function to simplify the math."
   ]
  },
  {
   "cell_type": "code",
   "execution_count": 11,
   "metadata": {},
   "outputs": [
    {
     "name": "stdout",
     "output_type": "stream",
     "text": [
      "0.9551807025777593 1.9678775071492143\n"
     ]
    }
   ],
   "source": [
    "df_numerator = sum( (df['x'] - np.mean(df['x'])) * (df['y'] - np.mean(df['y'])) )\n",
    "df_denominator = sum( (df['x'] - np.mean(df['x']))**2 )\n",
    "df_beta1 = df_numerator/df_denominator\n",
    "df_beta0 = np.mean(df['y']) - df_beta1*np.mean(df['x'])\n",
    "print(df_beta0, df_beta1)"
   ]
  },
  {
   "cell_type": "markdown",
   "metadata": {},
   "source": [
    "In both simulations, the values for $\\hat{\\beta}_0$ and $\\hat{\\beta}_1$ are close to their correct values.\n",
    "\n",
    "What happens if we break the exogeneity assumption and allow for $u \\rightarrow x$?  Let's simulate some data to find out."
   ]
  },
  {
   "cell_type": "code",
   "execution_count": 14,
   "metadata": {},
   "outputs": [
    {
     "name": "stdout",
     "output_type": "stream",
     "text": [
      "0.9708784946790944 2.5099658945193766\n"
     ]
    }
   ],
   "source": [
    "np.random.seed(0)\n",
    "df2 = pd.DataFrame(columns=['x','y','u'])\n",
    "df2['u'] = np.random.normal(0, 1, 1000)\n",
    "df2['x'] = np.random.normal(0, 1, 1000) + df2['u']\n",
    "df2['y'] = 1 + 2 * df2['x'] + df2['u']\n",
    "\n",
    "df2['xdiff'] = df2['x'] - np.mean(df2['x'])\n",
    "df2['ydiff'] = df2['y'] - np.mean(df2['y'])\n",
    "\n",
    "df2_numerator = sum(df2['xdiff'] * df2['ydiff'])\n",
    "df2_denominator = sum(df2['xdiff'] * df2['xdiff'])\n",
    "df2_beta1 = df2_numerator/df2_denominator\n",
    "df2_beta0 = np.mean(df2['y']) - df2_beta1*np.mean(df2['x'])\n",
    "print(df2_beta0, df2_beta1)"
   ]
  },
  {
   "cell_type": "markdown",
   "metadata": {},
   "source": [
    "Here, there was a positive effect $u \\xrightarrow{\\text{positive}} x$ and the estimate of $\\hat{\\beta}_1$ is too high.\n",
    "\n",
    "What happens if we have $u \\xrightarrow{\\text{negative}} x$?"
   ]
  },
  {
   "cell_type": "code",
   "execution_count": 1,
   "metadata": {},
   "outputs": [
    {
     "ename": "NameError",
     "evalue": "name 'np' is not defined",
     "output_type": "error",
     "traceback": [
      "\u001b[0;31m---------------------------------------------------------------------------\u001b[0m",
      "\u001b[0;31mNameError\u001b[0m                                 Traceback (most recent call last)",
      "\u001b[0;32m<ipython-input-1-8047c290dfe6>\u001b[0m in \u001b[0;36m<module>\u001b[0;34m\u001b[0m\n\u001b[0;32m----> 1\u001b[0;31m \u001b[0mnp\u001b[0m\u001b[0;34m.\u001b[0m\u001b[0mrandom\u001b[0m\u001b[0;34m.\u001b[0m\u001b[0mseed\u001b[0m\u001b[0;34m(\u001b[0m\u001b[0;36m0\u001b[0m\u001b[0;34m)\u001b[0m\u001b[0;34m\u001b[0m\u001b[0;34m\u001b[0m\u001b[0m\n\u001b[0m\u001b[1;32m      2\u001b[0m \u001b[0mdf3\u001b[0m \u001b[0;34m=\u001b[0m \u001b[0mpd\u001b[0m\u001b[0;34m.\u001b[0m\u001b[0mDataFrame\u001b[0m\u001b[0;34m(\u001b[0m\u001b[0mcolumns\u001b[0m\u001b[0;34m=\u001b[0m\u001b[0;34m[\u001b[0m\u001b[0;34m'x'\u001b[0m\u001b[0;34m,\u001b[0m\u001b[0;34m'y'\u001b[0m\u001b[0;34m,\u001b[0m\u001b[0;34m'u'\u001b[0m\u001b[0;34m]\u001b[0m\u001b[0;34m)\u001b[0m\u001b[0;34m\u001b[0m\u001b[0;34m\u001b[0m\u001b[0m\n\u001b[1;32m      3\u001b[0m \u001b[0mdf3\u001b[0m\u001b[0;34m[\u001b[0m\u001b[0;34m'u'\u001b[0m\u001b[0;34m]\u001b[0m \u001b[0;34m=\u001b[0m \u001b[0mnp\u001b[0m\u001b[0;34m.\u001b[0m\u001b[0mrandom\u001b[0m\u001b[0;34m.\u001b[0m\u001b[0mnormal\u001b[0m\u001b[0;34m(\u001b[0m\u001b[0;36m0\u001b[0m\u001b[0;34m,\u001b[0m \u001b[0;36m1\u001b[0m\u001b[0;34m,\u001b[0m \u001b[0;36m1000\u001b[0m\u001b[0;34m)\u001b[0m\u001b[0;34m\u001b[0m\u001b[0;34m\u001b[0m\u001b[0m\n\u001b[1;32m      4\u001b[0m \u001b[0mdf3\u001b[0m\u001b[0;34m[\u001b[0m\u001b[0;34m'x'\u001b[0m\u001b[0;34m]\u001b[0m \u001b[0;34m=\u001b[0m \u001b[0mnp\u001b[0m\u001b[0;34m.\u001b[0m\u001b[0mrandom\u001b[0m\u001b[0;34m.\u001b[0m\u001b[0mnormal\u001b[0m\u001b[0;34m(\u001b[0m\u001b[0;36m0\u001b[0m\u001b[0;34m,\u001b[0m \u001b[0;36m1\u001b[0m\u001b[0;34m,\u001b[0m \u001b[0;36m1000\u001b[0m\u001b[0;34m)\u001b[0m \u001b[0;34m-\u001b[0m \u001b[0mdf2\u001b[0m\u001b[0;34m[\u001b[0m\u001b[0;34m'u'\u001b[0m\u001b[0;34m]\u001b[0m\u001b[0;34m\u001b[0m\u001b[0;34m\u001b[0m\u001b[0m\n\u001b[1;32m      5\u001b[0m \u001b[0mdf3\u001b[0m\u001b[0;34m[\u001b[0m\u001b[0;34m'y'\u001b[0m\u001b[0;34m]\u001b[0m \u001b[0;34m=\u001b[0m \u001b[0;36m1\u001b[0m \u001b[0;34m+\u001b[0m \u001b[0;36m2\u001b[0m \u001b[0;34m*\u001b[0m \u001b[0mdf3\u001b[0m\u001b[0;34m[\u001b[0m\u001b[0;34m'x'\u001b[0m\u001b[0;34m]\u001b[0m \u001b[0;34m+\u001b[0m \u001b[0mdf3\u001b[0m\u001b[0;34m[\u001b[0m\u001b[0;34m'u'\u001b[0m\u001b[0;34m]\u001b[0m\u001b[0;34m\u001b[0m\u001b[0;34m\u001b[0m\u001b[0m\n",
      "\u001b[0;31mNameError\u001b[0m: name 'np' is not defined"
     ]
    }
   ],
   "source": [
    "np.random.seed(0)\n",
    "df3 = pd.DataFrame(columns=['x','y','u'])\n",
    "df3['u'] = np.random.normal(0, 1, 1000)\n",
    "df3['x'] = np.random.normal(0, 1, 1000) - df2['u']\n",
    "df3['y'] = 1 + 2 * df3['x'] + df3['u']\n",
    "\n",
    "df3['xdiff'] = df3['x'] - np.mean(df3['x'])\n",
    "df3['ydiff'] = df3['y'] - np.mean(df3['y'])\n",
    "\n",
    "df3_numerator = sum(df3['xdiff'] * df3['ydiff'])\n",
    "df3_denominator = sum(df3['xdiff'] * df3['xdiff'])\n",
    "df3_beta1 = df3_numerator/df3_denominator\n",
    "df3_beta0 = np.mean(df3['y']) - df3_beta1*np.mean(df3['x'])\n",
    "print(df3_beta0, df3_beta1)"
   ]
  },
  {
   "cell_type": "markdown",
   "metadata": {},
   "source": [
    "In this case, the estimate of $\\hat{\\beta}_1$ is too low.\n",
    "\n",
    "When your model has one variable, the estimation error from endogeneity is predictable: a positive effect of $u$ on $x$ will render a $\\hat{\\beta}_1$ that is too large while a negative effect of $u$ on $x$ will render a $\\hat{\\beta}_1$ that is too small.  The \"incorrectness\" of $\\hat{\\beta}_1$ is referred to as *estimation bias*.\n",
    "\n",
    "<span style=\"color:red\">**Concept check**:</span> putting it all together to test the above claim about estimation bias under endogeneity.  On the first line of code, set the seed to $0$.  Then create a function called `get_bias()`, which takes no inputs.  Inside the function, create a DataFrame to store values for $u$, $e$, $x$ and $y$ where:\n",
    "- there are $1000$ observations\n",
    "- $u \\sim N(0,1)$\n",
    "- $e \\sim N(0,1)$\n",
    "- $x = u + e$ ($x$ has a random component, $e$, as well as a component that is caused by $u$)\n",
    "- $y = 1 + 2*x + u$\n",
    "Perform linear regression to estimate $\\hat{\\beta}_1$.  Return the value $\\hat{\\beta}_1 - 2$ (this is the estimation error).\n",
    "\n",
    "Outside the function, use either a `for` loop or list comprehension to execute the function `get_bias()` $100$ times, saving the returned value to a list each time.  Name this list `bias`.  Finally, print the minimum, mean, and maximum values of the list `bias`.\n",
    "\n",
    "This task may seem like a lot of work, but it's honeslty just the combination of a few little tasks that we've done multiple times by now!"
   ]
  },
  {
   "cell_type": "code",
   "execution_count": 18,
   "metadata": {},
   "outputs": [
    {
     "name": "stdout",
     "output_type": "stream",
     "text": [
      "0.4595900036063352 0.4993952043129066 0.5305625067816879\n"
     ]
    }
   ],
   "source": [
    "np.random.seed(0)\n",
    "def get_bias():\n",
    "    df = pd.DataFrame(columns=['u','e','x','y'])\n",
    "    df['u'] = np.random.normal(0, 1, 1000)\n",
    "    df['e'] = np.random.normal(0, 1, 1000)\n",
    "    df['x'] = df['u'] + df['e']\n",
    "    df['y'] = 1 + 2*df['x'] + df['u']\n",
    "    beta_1 = sum( (df['x'] - np.mean(df['x'])) * (df['y'] - np.mean(df['y'])) ) / sum( (df['x'] - np.mean(df['x']))**2 )\n",
    "    return beta_1 - 2\n",
    "bias = [get_bias() for i in range(100)]\n",
    "print(min(bias), np.mean(bias), max(bias))"
   ]
  }
 ],
 "metadata": {
  "kernelspec": {
   "display_name": "Python 3",
   "language": "python",
   "name": "python3"
  },
  "language_info": {
   "codemirror_mode": {
    "name": "ipython",
    "version": 3
   },
   "file_extension": ".py",
   "mimetype": "text/x-python",
   "name": "python",
   "nbconvert_exporter": "python",
   "pygments_lexer": "ipython3",
   "version": "3.8.2"
  }
 },
 "nbformat": 4,
 "nbformat_minor": 4
}
