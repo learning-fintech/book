{
 "cells": [
  {
   "cell_type": "markdown",
   "metadata": {},
   "source": [
    "### Regression Details\n",
    "\n",
    "This notebook will explore a few additional facets of linear regression with a single variable.  Begin by loading the CEOs data from the `wooldridge` model.  We'll print out a head of the DataFrame to see a snapshot of what the data looks like."
   ]
  },
  {
   "cell_type": "code",
   "execution_count": 1,
   "metadata": {},
   "outputs": [
    {
     "data": {
      "text/html": [
       "<div>\n",
       "<style scoped>\n",
       "    .dataframe tbody tr th:only-of-type {\n",
       "        vertical-align: middle;\n",
       "    }\n",
       "\n",
       "    .dataframe tbody tr th {\n",
       "        vertical-align: top;\n",
       "    }\n",
       "\n",
       "    .dataframe thead th {\n",
       "        text-align: right;\n",
       "    }\n",
       "</style>\n",
       "<table border=\"1\" class=\"dataframe\">\n",
       "  <thead>\n",
       "    <tr style=\"text-align: right;\">\n",
       "      <th></th>\n",
       "      <th>salary</th>\n",
       "      <th>pcsalary</th>\n",
       "      <th>sales</th>\n",
       "      <th>roe</th>\n",
       "      <th>pcroe</th>\n",
       "      <th>ros</th>\n",
       "      <th>indus</th>\n",
       "      <th>finance</th>\n",
       "      <th>consprod</th>\n",
       "      <th>utility</th>\n",
       "      <th>lsalary</th>\n",
       "      <th>lsales</th>\n",
       "    </tr>\n",
       "  </thead>\n",
       "  <tbody>\n",
       "    <tr>\n",
       "      <th>count</th>\n",
       "      <td>209.000000</td>\n",
       "      <td>209.000000</td>\n",
       "      <td>209.000000</td>\n",
       "      <td>209.000000</td>\n",
       "      <td>209.000000</td>\n",
       "      <td>209.000000</td>\n",
       "      <td>209.000000</td>\n",
       "      <td>209.000000</td>\n",
       "      <td>209.000000</td>\n",
       "      <td>209.000000</td>\n",
       "      <td>209.000000</td>\n",
       "      <td>209.000000</td>\n",
       "    </tr>\n",
       "    <tr>\n",
       "      <th>mean</th>\n",
       "      <td>1281.119617</td>\n",
       "      <td>13.282297</td>\n",
       "      <td>6923.793282</td>\n",
       "      <td>17.184211</td>\n",
       "      <td>10.800478</td>\n",
       "      <td>61.803828</td>\n",
       "      <td>0.320574</td>\n",
       "      <td>0.220096</td>\n",
       "      <td>0.287081</td>\n",
       "      <td>0.172249</td>\n",
       "      <td>6.950386</td>\n",
       "      <td>8.292265</td>\n",
       "    </tr>\n",
       "    <tr>\n",
       "      <th>std</th>\n",
       "      <td>1372.345308</td>\n",
       "      <td>32.633921</td>\n",
       "      <td>10633.271088</td>\n",
       "      <td>8.518509</td>\n",
       "      <td>97.219399</td>\n",
       "      <td>68.177052</td>\n",
       "      <td>0.467818</td>\n",
       "      <td>0.415306</td>\n",
       "      <td>0.453486</td>\n",
       "      <td>0.378503</td>\n",
       "      <td>0.566374</td>\n",
       "      <td>1.013161</td>\n",
       "    </tr>\n",
       "    <tr>\n",
       "      <th>min</th>\n",
       "      <td>223.000000</td>\n",
       "      <td>-61.000000</td>\n",
       "      <td>175.199997</td>\n",
       "      <td>0.500000</td>\n",
       "      <td>-98.900002</td>\n",
       "      <td>-58.000000</td>\n",
       "      <td>0.000000</td>\n",
       "      <td>0.000000</td>\n",
       "      <td>0.000000</td>\n",
       "      <td>0.000000</td>\n",
       "      <td>5.407172</td>\n",
       "      <td>5.165928</td>\n",
       "    </tr>\n",
       "    <tr>\n",
       "      <th>25%</th>\n",
       "      <td>736.000000</td>\n",
       "      <td>-1.000000</td>\n",
       "      <td>2210.300049</td>\n",
       "      <td>12.400000</td>\n",
       "      <td>-21.200001</td>\n",
       "      <td>21.000000</td>\n",
       "      <td>0.000000</td>\n",
       "      <td>0.000000</td>\n",
       "      <td>0.000000</td>\n",
       "      <td>0.000000</td>\n",
       "      <td>6.601230</td>\n",
       "      <td>7.700883</td>\n",
       "    </tr>\n",
       "    <tr>\n",
       "      <th>50%</th>\n",
       "      <td>1039.000000</td>\n",
       "      <td>9.000000</td>\n",
       "      <td>3705.199951</td>\n",
       "      <td>15.500000</td>\n",
       "      <td>-3.000000</td>\n",
       "      <td>52.000000</td>\n",
       "      <td>0.000000</td>\n",
       "      <td>0.000000</td>\n",
       "      <td>0.000000</td>\n",
       "      <td>0.000000</td>\n",
       "      <td>6.946014</td>\n",
       "      <td>8.217492</td>\n",
       "    </tr>\n",
       "    <tr>\n",
       "      <th>75%</th>\n",
       "      <td>1407.000000</td>\n",
       "      <td>20.000000</td>\n",
       "      <td>7177.000000</td>\n",
       "      <td>20.000000</td>\n",
       "      <td>19.500000</td>\n",
       "      <td>81.000000</td>\n",
       "      <td>1.000000</td>\n",
       "      <td>0.000000</td>\n",
       "      <td>1.000000</td>\n",
       "      <td>0.000000</td>\n",
       "      <td>7.249215</td>\n",
       "      <td>8.878636</td>\n",
       "    </tr>\n",
       "    <tr>\n",
       "      <th>max</th>\n",
       "      <td>14822.000000</td>\n",
       "      <td>212.000000</td>\n",
       "      <td>97649.898438</td>\n",
       "      <td>56.299999</td>\n",
       "      <td>977.000000</td>\n",
       "      <td>418.000000</td>\n",
       "      <td>1.000000</td>\n",
       "      <td>1.000000</td>\n",
       "      <td>1.000000</td>\n",
       "      <td>1.000000</td>\n",
       "      <td>9.603868</td>\n",
       "      <td>11.489144</td>\n",
       "    </tr>\n",
       "  </tbody>\n",
       "</table>\n",
       "</div>"
      ],
      "text/plain": [
       "             salary    pcsalary         sales         roe       pcroe  \\\n",
       "count    209.000000  209.000000    209.000000  209.000000  209.000000   \n",
       "mean    1281.119617   13.282297   6923.793282   17.184211   10.800478   \n",
       "std     1372.345308   32.633921  10633.271088    8.518509   97.219399   \n",
       "min      223.000000  -61.000000    175.199997    0.500000  -98.900002   \n",
       "25%      736.000000   -1.000000   2210.300049   12.400000  -21.200001   \n",
       "50%     1039.000000    9.000000   3705.199951   15.500000   -3.000000   \n",
       "75%     1407.000000   20.000000   7177.000000   20.000000   19.500000   \n",
       "max    14822.000000  212.000000  97649.898438   56.299999  977.000000   \n",
       "\n",
       "              ros       indus     finance    consprod     utility     lsalary  \\\n",
       "count  209.000000  209.000000  209.000000  209.000000  209.000000  209.000000   \n",
       "mean    61.803828    0.320574    0.220096    0.287081    0.172249    6.950386   \n",
       "std     68.177052    0.467818    0.415306    0.453486    0.378503    0.566374   \n",
       "min    -58.000000    0.000000    0.000000    0.000000    0.000000    5.407172   \n",
       "25%     21.000000    0.000000    0.000000    0.000000    0.000000    6.601230   \n",
       "50%     52.000000    0.000000    0.000000    0.000000    0.000000    6.946014   \n",
       "75%     81.000000    1.000000    0.000000    1.000000    0.000000    7.249215   \n",
       "max    418.000000    1.000000    1.000000    1.000000    1.000000    9.603868   \n",
       "\n",
       "           lsales  \n",
       "count  209.000000  \n",
       "mean     8.292265  \n",
       "std      1.013161  \n",
       "min      5.165928  \n",
       "25%      7.700883  \n",
       "50%      8.217492  \n",
       "75%      8.878636  \n",
       "max     11.489144  "
      ]
     },
     "execution_count": 1,
     "metadata": {},
     "output_type": "execute_result"
    }
   ],
   "source": [
    "import wooldridge as woo\n",
    "ceos = woo.data('ceosal1')\n",
    "ceos.describe()"
   ]
  },
  {
   "cell_type": "markdown",
   "metadata": {},
   "source": [
    "We've already computed ordinary least squares regression coefficients \"by hand\" once, which is a rite of passage that will surely stay with you for the rest of your life.  But now that we've seen how it's done, it's time to speed things up by asking Python to do the regression for us.\n",
    "\n",
    "The module we'll use for this is `statsmodels`.  Within `statsmodels`, the `forumla.api` suite of tools will allow us to perform linear regression with ease.  The canonical import for `statsmodels.formula.api` is `smf`."
   ]
  },
  {
   "cell_type": "code",
   "execution_count": 2,
   "metadata": {},
   "outputs": [],
   "source": [
    "import statsmodels.formula.api as smf"
   ]
  },
  {
   "cell_type": "markdown",
   "metadata": {},
   "source": [
    "Regression in `statsmodels` happens in two steps.  In the first step, we tell Python about a regression formula that we want to use.  The linear equation\n",
    "\n",
    "$$\n",
    "y = \\beta_0 + \\beta_1 x + u\n",
    "$$\n",
    "\n",
    "is described as `y ~ x` in `smf`."
   ]
  },
  {
   "cell_type": "code",
   "execution_count": 3,
   "metadata": {},
   "outputs": [],
   "source": [
    "reg = smf.ols(formula='salary ~ roe', data=ceos)"
   ]
  },
  {
   "cell_type": "markdown",
   "metadata": {},
   "source": [
    "Note that we do not need to specify an intercept term.  The `statsmodels` module will add one in by default.  The reason why will be considered later.\n",
    "\n",
    "After creating a variable that holds the regression information, we must then instruct `statsmodels` to actually perform the regression.  The reason for why this task is split into two steps will be shown later when we address heteroskedasticity."
   ]
  },
  {
   "cell_type": "code",
   "execution_count": 4,
   "metadata": {},
   "outputs": [],
   "source": [
    "res = reg.fit()"
   ]
  },
  {
   "cell_type": "markdown",
   "metadata": {},
   "source": [
    "The output from a `.fit()` call will be a variable that stores all kinds of useful information.\n",
    "\n",
    "For an overview of the regression estimation, use the `.summary()` command on the output variable.  If you put the `.summary()` call inside of a `print()` statement then the output will be displayed on your screen a bit better."
   ]
  },
  {
   "cell_type": "code",
   "execution_count": 5,
   "metadata": {},
   "outputs": [
    {
     "name": "stdout",
     "output_type": "stream",
     "text": [
      "                            OLS Regression Results                            \n",
      "==============================================================================\n",
      "Dep. Variable:                 salary   R-squared:                       0.013\n",
      "Model:                            OLS   Adj. R-squared:                  0.008\n",
      "Method:                 Least Squares   F-statistic:                     2.767\n",
      "Date:                Fri, 10 Sep 2021   Prob (F-statistic):             0.0978\n",
      "Time:                        00:13:25   Log-Likelihood:                -1804.5\n",
      "No. Observations:                 209   AIC:                             3613.\n",
      "Df Residuals:                     207   BIC:                             3620.\n",
      "Df Model:                           1                                         \n",
      "Covariance Type:            nonrobust                                         \n",
      "==============================================================================\n",
      "                 coef    std err          t      P>|t|      [0.025      0.975]\n",
      "------------------------------------------------------------------------------\n",
      "Intercept    963.1913    213.240      4.517      0.000     542.790    1383.592\n",
      "roe           18.5012     11.123      1.663      0.098      -3.428      40.431\n",
      "==============================================================================\n",
      "Omnibus:                      311.096   Durbin-Watson:                   2.105\n",
      "Prob(Omnibus):                  0.000   Jarque-Bera (JB):            31120.902\n",
      "Skew:                           6.915   Prob(JB):                         0.00\n",
      "Kurtosis:                      61.158   Cond. No.                         43.3\n",
      "==============================================================================\n",
      "\n",
      "Notes:\n",
      "[1] Standard Errors assume that the covariance matrix of the errors is correctly specified.\n"
     ]
    }
   ],
   "source": [
    "print(res.summary())"
   ]
  },
  {
   "cell_type": "markdown",
   "metadata": {},
   "source": [
    "There's a lot of output here, some of it deals with topics covered while much of it deals with things we have not yet discussed.\n",
    "\n",
    "The `Intercept` ($\\beta_0$) is estimated to be $963.1913$.  The slope coefficient on `roe` ($\\beta_1$) is estimated to be $18.5012$.\n",
    "\n",
    "Along with the ability to display summary output, the output variable also stores information about $\\hat{y}$ and $\\hat{u}$.  The information on $\\hat{y}$ is in `.fittedvalues` while the information about $\\hat{u}$ is in `.resid`.  Of course, $\\hat{u}$ is merely $y - \\hat{y}$, so once we have `.fittedvalues` we could easily calculate $\\hat{u}$ ourselves without getting the data from `.resid` (but `statsmodels` is just super generous)."
   ]
  },
  {
   "cell_type": "code",
   "execution_count": 6,
   "metadata": {},
   "outputs": [
    {
     "data": {
      "text/html": [
       "<div>\n",
       "<style scoped>\n",
       "    .dataframe tbody tr th:only-of-type {\n",
       "        vertical-align: middle;\n",
       "    }\n",
       "\n",
       "    .dataframe tbody tr th {\n",
       "        vertical-align: top;\n",
       "    }\n",
       "\n",
       "    .dataframe thead th {\n",
       "        text-align: right;\n",
       "    }\n",
       "</style>\n",
       "<table border=\"1\" class=\"dataframe\">\n",
       "  <thead>\n",
       "    <tr style=\"text-align: right;\">\n",
       "      <th></th>\n",
       "      <th>salary</th>\n",
       "      <th>pcsalary</th>\n",
       "      <th>sales</th>\n",
       "      <th>roe</th>\n",
       "      <th>pcroe</th>\n",
       "      <th>ros</th>\n",
       "      <th>indus</th>\n",
       "      <th>finance</th>\n",
       "      <th>consprod</th>\n",
       "      <th>utility</th>\n",
       "      <th>lsalary</th>\n",
       "      <th>lsales</th>\n",
       "      <th>salary_hat</th>\n",
       "      <th>u_hat</th>\n",
       "    </tr>\n",
       "  </thead>\n",
       "  <tbody>\n",
       "    <tr>\n",
       "      <th>0</th>\n",
       "      <td>1095</td>\n",
       "      <td>20</td>\n",
       "      <td>27595.000000</td>\n",
       "      <td>14.1</td>\n",
       "      <td>106.400002</td>\n",
       "      <td>191</td>\n",
       "      <td>1</td>\n",
       "      <td>0</td>\n",
       "      <td>0</td>\n",
       "      <td>0</td>\n",
       "      <td>6.998509</td>\n",
       "      <td>10.225389</td>\n",
       "      <td>1224.058071</td>\n",
       "      <td>-129.058071</td>\n",
       "    </tr>\n",
       "    <tr>\n",
       "      <th>1</th>\n",
       "      <td>1001</td>\n",
       "      <td>32</td>\n",
       "      <td>9958.000000</td>\n",
       "      <td>10.9</td>\n",
       "      <td>-30.600000</td>\n",
       "      <td>13</td>\n",
       "      <td>1</td>\n",
       "      <td>0</td>\n",
       "      <td>0</td>\n",
       "      <td>0</td>\n",
       "      <td>6.908755</td>\n",
       "      <td>9.206132</td>\n",
       "      <td>1164.854261</td>\n",
       "      <td>-163.854261</td>\n",
       "    </tr>\n",
       "    <tr>\n",
       "      <th>2</th>\n",
       "      <td>1122</td>\n",
       "      <td>9</td>\n",
       "      <td>6125.899902</td>\n",
       "      <td>23.5</td>\n",
       "      <td>-16.299999</td>\n",
       "      <td>14</td>\n",
       "      <td>1</td>\n",
       "      <td>0</td>\n",
       "      <td>0</td>\n",
       "      <td>0</td>\n",
       "      <td>7.022868</td>\n",
       "      <td>8.720281</td>\n",
       "      <td>1397.969216</td>\n",
       "      <td>-275.969216</td>\n",
       "    </tr>\n",
       "    <tr>\n",
       "      <th>3</th>\n",
       "      <td>578</td>\n",
       "      <td>-9</td>\n",
       "      <td>16246.000000</td>\n",
       "      <td>5.9</td>\n",
       "      <td>-25.700001</td>\n",
       "      <td>-21</td>\n",
       "      <td>1</td>\n",
       "      <td>0</td>\n",
       "      <td>0</td>\n",
       "      <td>0</td>\n",
       "      <td>6.359574</td>\n",
       "      <td>9.695602</td>\n",
       "      <td>1072.348338</td>\n",
       "      <td>-494.348338</td>\n",
       "    </tr>\n",
       "    <tr>\n",
       "      <th>4</th>\n",
       "      <td>1368</td>\n",
       "      <td>7</td>\n",
       "      <td>21783.199219</td>\n",
       "      <td>13.8</td>\n",
       "      <td>-3.000000</td>\n",
       "      <td>56</td>\n",
       "      <td>1</td>\n",
       "      <td>0</td>\n",
       "      <td>0</td>\n",
       "      <td>0</td>\n",
       "      <td>7.221105</td>\n",
       "      <td>9.988894</td>\n",
       "      <td>1218.507712</td>\n",
       "      <td>149.492288</td>\n",
       "    </tr>\n",
       "  </tbody>\n",
       "</table>\n",
       "</div>"
      ],
      "text/plain": [
       "   salary  pcsalary         sales   roe       pcroe  ros  indus  finance  \\\n",
       "0    1095        20  27595.000000  14.1  106.400002  191      1        0   \n",
       "1    1001        32   9958.000000  10.9  -30.600000   13      1        0   \n",
       "2    1122         9   6125.899902  23.5  -16.299999   14      1        0   \n",
       "3     578        -9  16246.000000   5.9  -25.700001  -21      1        0   \n",
       "4    1368         7  21783.199219  13.8   -3.000000   56      1        0   \n",
       "\n",
       "   consprod  utility   lsalary     lsales   salary_hat       u_hat  \n",
       "0         0        0  6.998509  10.225389  1224.058071 -129.058071  \n",
       "1         0        0  6.908755   9.206132  1164.854261 -163.854261  \n",
       "2         0        0  7.022868   8.720281  1397.969216 -275.969216  \n",
       "3         0        0  6.359574   9.695602  1072.348338 -494.348338  \n",
       "4         0        0  7.221105   9.988894  1218.507712  149.492288  "
      ]
     },
     "execution_count": 6,
     "metadata": {},
     "output_type": "execute_result"
    }
   ],
   "source": [
    "ceos['salary_hat'] = res.fittedvalues # creates a column of y hat values for our DataFrame\n",
    "ceos['u_hat'] = res.resid # creates a column of u hat values for our DataFrame\n",
    "ceos.head()"
   ]
  },
  {
   "cell_type": "markdown",
   "metadata": {},
   "source": [
    "Let's turn our attention to $R^2$, a measure for the goodness of fit for a linear regression.  Define:\n",
    "\n",
    "$$\n",
    "\\text{Sum of Squares, Total (SST)} = \\sum_{i=1}^n (y_i - \\bar{y})^2\n",
    "$$\n",
    "\n",
    "to be the total variation in the dependent variable.  Note that the *variance* of the dependent variable is SST divided by $n$.  Also define\n",
    "\n",
    "$$\n",
    "\\text{Sum of Squares, Explained (SSE)} = \\sum_{i=1}^n (\\hat{y}_i - \\bar{y})^2\n",
    "$$\n",
    "\n",
    "to be the variation explained by the regression.  Finally, let\n",
    "\n",
    "$$\n",
    "\\text{Sum of Squares, Residual (SSR)} = \\sum_{i=1}^n (y_i - \\hat{y}_i)^2\n",
    "$$\n",
    "\n",
    "to be the variation in the dependent variable that is not explained by the regression.\n",
    "\n",
    "Then, the $R^2$ of the regression model is\n",
    "\n",
    "$$\n",
    "R^2 = \\frac{SSE}{SST} = 1 - \\frac{SSR}{SST}.\n",
    "$$"
   ]
  },
  {
   "cell_type": "code",
   "execution_count": 7,
   "metadata": {},
   "outputs": [
    {
     "data": {
      "text/html": [
       "<div>\n",
       "<style scoped>\n",
       "    .dataframe tbody tr th:only-of-type {\n",
       "        vertical-align: middle;\n",
       "    }\n",
       "\n",
       "    .dataframe tbody tr th {\n",
       "        vertical-align: top;\n",
       "    }\n",
       "\n",
       "    .dataframe thead th {\n",
       "        text-align: right;\n",
       "    }\n",
       "</style>\n",
       "<table border=\"1\" class=\"dataframe\">\n",
       "  <thead>\n",
       "    <tr style=\"text-align: right;\">\n",
       "      <th></th>\n",
       "      <th>ST</th>\n",
       "      <th>SE</th>\n",
       "      <th>SR</th>\n",
       "    </tr>\n",
       "  </thead>\n",
       "  <tbody>\n",
       "    <tr>\n",
       "      <th>count</th>\n",
       "      <td>2.090000e+02</td>\n",
       "      <td>209.000000</td>\n",
       "      <td>2.090000e+02</td>\n",
       "    </tr>\n",
       "    <tr>\n",
       "      <th>mean</th>\n",
       "      <td>1.874320e+06</td>\n",
       "      <td>24719.708325</td>\n",
       "      <td>1.849601e+06</td>\n",
       "    </tr>\n",
       "    <tr>\n",
       "      <th>std</th>\n",
       "      <td>1.449754e+07</td>\n",
       "      <td>59047.801988</td>\n",
       "      <td>1.438029e+07</td>\n",
       "    </tr>\n",
       "    <tr>\n",
       "      <th>min</th>\n",
       "      <td>3.535839e+00</td>\n",
       "      <td>2.427324</td>\n",
       "      <td>3.847426e-01</td>\n",
       "    </tr>\n",
       "    <tr>\n",
       "      <th>25%</th>\n",
       "      <td>4.457149e+04</td>\n",
       "      <td>1532.299834</td>\n",
       "      <td>4.076691e+04</td>\n",
       "    </tr>\n",
       "    <tr>\n",
       "      <th>50%</th>\n",
       "      <td>1.773417e+05</td>\n",
       "      <td>6882.895491</td>\n",
       "      <td>1.834925e+05</td>\n",
       "    </tr>\n",
       "    <tr>\n",
       "      <th>75%</th>\n",
       "      <td>4.544373e+05</td>\n",
       "      <td>20740.935509</td>\n",
       "      <td>3.904399e+05</td>\n",
       "    </tr>\n",
       "    <tr>\n",
       "      <th>max</th>\n",
       "      <td>1.833554e+08</td>\n",
       "      <td>523725.039775</td>\n",
       "      <td>1.822469e+08</td>\n",
       "    </tr>\n",
       "  </tbody>\n",
       "</table>\n",
       "</div>"
      ],
      "text/plain": [
       "                 ST             SE            SR\n",
       "count  2.090000e+02     209.000000  2.090000e+02\n",
       "mean   1.874320e+06   24719.708325  1.849601e+06\n",
       "std    1.449754e+07   59047.801988  1.438029e+07\n",
       "min    3.535839e+00       2.427324  3.847426e-01\n",
       "25%    4.457149e+04    1532.299834  4.076691e+04\n",
       "50%    1.773417e+05    6882.895491  1.834925e+05\n",
       "75%    4.544373e+05   20740.935509  3.904399e+05\n",
       "max    1.833554e+08  523725.039775  1.822469e+08"
      ]
     },
     "execution_count": 7,
     "metadata": {},
     "output_type": "execute_result"
    }
   ],
   "source": [
    "ceos['ST'] = (ceos['salary'] - ceos['salary'].mean())**2 # calculate R-squared\n",
    "ceos['SE'] = (ceos['salary_hat'] - ceos['salary'].mean())**2\n",
    "ceos['SR'] = (ceos['u_hat'])**2\n",
    "ceos[['ST','SE','SR']].describe()"
   ]
  },
  {
   "cell_type": "code",
   "execution_count": 8,
   "metadata": {},
   "outputs": [
    {
     "name": "stdout",
     "output_type": "stream",
     "text": [
      "0.013188624081034115\n",
      "0.01318862408103405\n"
     ]
    }
   ],
   "source": [
    "print(ceos['SE'].sum() / ceos['ST'].sum())\n",
    "print(1 - ceos['SR'].sum() / ceos['ST'].sum())"
   ]
  },
  {
   "cell_type": "markdown",
   "metadata": {},
   "source": [
    "This value for $R^2$ matches the one shown in the `.summary()` output above.\n",
    "\n",
    "Likewise, if we assume that the variance of $u$ is independent of $x$ (meaning, in this instance, that the regression error has variance that does not depend on the level of `roe`), then the formula for $var(\\hat{\\beta}_1)$ is given by\n",
    "\n",
    "$$\n",
    "var(\\hat{\\beta}_1) = \\frac{var(u)}{\\sum_{i=1}^n(x_i - \\bar{x})^2}\n",
    "$$\n",
    "\n",
    "where we can estimate $var(u)$ with\n",
    "\n",
    "$$\n",
    "\\hat{var}(u) = \\frac{1}{n-2}\\sum_{i=1}^n \\hat{u}_i^2\n",
    "$$\n",
    "\n",
    "Often, we report the square root of $var(\\hat{\\beta}_1)$, which is referred to as the *standard error* of the regression model."
   ]
  },
  {
   "cell_type": "code",
   "execution_count": 9,
   "metadata": {},
   "outputs": [
    {
     "name": "stdout",
     "output_type": "stream",
     "text": [
      "11.123250903287637\n"
     ]
    }
   ],
   "source": [
    "import numpy as np\n",
    "se_b1 = np.sqrt( ((res.resid**2).sum()/(len(ceos['SR'])-2)) / ((ceos['roe'] - ceos['roe'].mean())**2).sum() )\n",
    "print(se_b1)"
   ]
  },
  {
   "cell_type": "markdown",
   "metadata": {},
   "source": [
    "This output again matches the regression output from `.summary()` above.\n",
    "\n",
    "To see it a bit more slowly:"
   ]
  },
  {
   "cell_type": "code",
   "execution_count": 14,
   "metadata": {},
   "outputs": [
    {
     "name": "stdout",
     "output_type": "stream",
     "text": [
      "11.123250903287637\n"
     ]
    }
   ],
   "source": [
    "n = len(ceos['SR'])\n",
    "varHat_u = (1/(n-2)) * (res.resid**2).sum()\n",
    "var_b1 = varHat_u / ((ceos['roe'] - ceos['roe'].mean())**2).sum()\n",
    "se_b1 = np.sqrt(var_b1)\n",
    "print(se_b1)"
   ]
  },
  {
   "cell_type": "markdown",
   "metadata": {},
   "source": [
    "Knowledge of the standard error is important.\n",
    "\n",
    "The formulas shown above assume that the variance of $u$ is independent of $x$.  We can allow for the two to be related with the `cov_type_'HC3'` option to `.fit()`."
   ]
  },
  {
   "cell_type": "code",
   "execution_count": 11,
   "metadata": {},
   "outputs": [
    {
     "name": "stdout",
     "output_type": "stream",
     "text": [
      "                            OLS Regression Results                            \n",
      "==============================================================================\n",
      "Dep. Variable:                 salary   R-squared:                       0.013\n",
      "Model:                            OLS   Adj. R-squared:                  0.008\n",
      "Method:                 Least Squares   F-statistic:                     7.191\n",
      "Date:                Fri, 10 Sep 2021   Prob (F-statistic):            0.00792\n",
      "Time:                        00:13:26   Log-Likelihood:                -1804.5\n",
      "No. Observations:                 209   AIC:                             3613.\n",
      "Df Residuals:                     207   BIC:                             3620.\n",
      "Df Model:                           1                                         \n",
      "Covariance Type:                  HC3                                         \n",
      "==============================================================================\n",
      "                 coef    std err          z      P>|z|      [0.025      0.975]\n",
      "------------------------------------------------------------------------------\n",
      "Intercept    963.1913    122.072      7.890      0.000     723.935    1202.448\n",
      "roe           18.5012      6.899      2.682      0.007       4.979      32.024\n",
      "==============================================================================\n",
      "Omnibus:                      311.096   Durbin-Watson:                   2.105\n",
      "Prob(Omnibus):                  0.000   Jarque-Bera (JB):            31120.902\n",
      "Skew:                           6.915   Prob(JB):                         0.00\n",
      "Kurtosis:                      61.158   Cond. No.                         43.3\n",
      "==============================================================================\n",
      "\n",
      "Notes:\n",
      "[1] Standard Errors are heteroscedasticity robust (HC3)\n"
     ]
    }
   ],
   "source": [
    "res2 = reg.fit(cov_type='HC3')\n",
    "print(res2.summary())"
   ]
  },
  {
   "cell_type": "markdown",
   "metadata": {},
   "source": [
    "Note here that, unlike before, the 95% confidence interval for `roe` excludes $0$."
   ]
  }
 ],
 "metadata": {
  "kernelspec": {
   "display_name": "Python 3",
   "language": "python",
   "name": "python3"
  },
  "language_info": {
   "codemirror_mode": {
    "name": "ipython",
    "version": 3
   },
   "file_extension": ".py",
   "mimetype": "text/x-python",
   "name": "python",
   "nbconvert_exporter": "python",
   "pygments_lexer": "ipython3",
   "version": "3.8.2"
  }
 },
 "nbformat": 4,
 "nbformat_minor": 4
}
