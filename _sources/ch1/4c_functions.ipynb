{
 "cells": [
  {
   "cell_type": "markdown",
   "metadata": {
    "collapsed": false
   },
   "source": [
    "### Combine Multiple Functions for Maximal Efficiency\n",
    "\n",
    "Functions should handle small, specific tasks.  Do not write one large function that does an entirely specialized task that you will rarely need to perform.  Remember, the goal of functions is to create shortcuts for us to instruct Python to perform a repetitive task, rather than re-writing those instructions each time we need a task to be performed.\n",
    "\n",
    "You will find that one convenient use of functions is to combine them in a manner like what is shown below.  We already have the `better_wacc()` function defined, which calculates a firm's weighted average cost of capital.  As alluded to above, a firm's cost of equity is a function of its leverage ratio.  So let's create a function called `cost_of_equity()` that will determine a firm's cost of equity capital.  Recall that Modigliani and Miller proposition 2 states:\n",
    "$$\n",
    "r_E = r_A + (r_A-r_D)*(1-t_C)*(D/E)\n",
    "$$\n",
    "where $r_A$ is the *unlevered* cost of capital (equal to the cost of equity capital for a firm with no leverage).\n",
    "\n",
    "Let us then define another function, `firm_value()` that calculates the value of a firm.  Inside the `firm_value()` function, we will call both the `better_wacc()` function and the `cost_of_equity()` function."
   ]
  },
  {
   "cell_type": "code",
   "execution_count": 1,
   "metadata": {
    "collapsed": false
   },
   "outputs": [
   ],
   "source": [
    "def wacc(E, D, rE, rD, tC):\n",
    "    \n",
    "    if rE <= 0:\n",
    "        raise Exception('rE is not positive')\n",
    "    if rD <= 0:\n",
    "        raise Exception('rD is not positive')\n",
    "    if tC < 0:\n",
    "        raise Exception('tC is negative')\n",
    "    if rE <= rD:\n",
    "        raise Exception('rE <= rD, M&M prop2 violated')\n",
    "    if D > E:\n",
    "        print('Warning, debt value exceeds equity value.  Did you accidentally flip these values?')\n",
    "    \n",
    "    V = E + D\n",
    "    cost_of_capital = E / V * rE + D / V * rD * (1-tC)\n",
    "    return cost_of_capital\n",
    "\n",
    "def cost_of_equity(E, D, rA, rD, tC):\n",
    "    return rA + (rA-rD)*(1-tC)*(D/E)\n",
    "\n",
    "def firm_value(E, D, rA, rD, tC, FCF, g):\n",
    "    \n",
    "    rE = cost_of_equity(E=E, D=D, rA=rA, rD=rD, tC=tC)\n",
    "    rW = wacc(E, D, rE, rD, tC)\n",
    "    \n",
    "    if rW < g:\n",
    "        raise Exception('rW must be greater than g, but g=', g, 'and rW=', rW)\n",
    "    \n",
    "    return FCF / (rW - g)"
   ]
  },
  {
   "cell_type": "code",
   "execution_count": 2,
   "metadata": {
    "collapsed": false
   },
   "outputs": [
    {
     "data": {
      "text/plain": [
       "55.61497326203209"
      ]
     },
     "execution_count": 2,
     "metadata": {
     },
     "output_type": "execute_result"
    }
   ],
   "source": [
    "firm_value(E=100, D=30, rA=.05, rD=.04, tC=.35, FCF=2, g=.01)"
   ]
  },
  {
   "cell_type": "markdown",
   "metadata": {
    "collapsed": false
   },
   "source": [
    "What happens if the firm had a different debt level?"
   ]
  },
  {
   "cell_type": "code",
   "execution_count": 3,
   "metadata": {
    "collapsed": false
   },
   "outputs": [
    {
     "data": {
      "text/plain": [
       "57.77777777777777"
      ]
     },
     "execution_count": 3,
     "metadata": {
     },
     "output_type": "execute_result"
    }
   ],
   "source": [
    "firm_value(E=90, D=40, rA=.05, rD=.04, tC=.35, FCF=2, g=.01)"
   ]
  },
  {
   "cell_type": "markdown",
   "metadata": {
    "collapsed": false
   },
   "source": [
    "Debt is valuable because of the tax shield.  You can see that this is the cause for the change in firm value by setting `tC` to zero and re-computing both values above."
   ]
  },
  {
   "cell_type": "code",
   "execution_count": 4,
   "metadata": {
    "collapsed": false
   },
   "outputs": [
    {
     "name": "stdout",
     "output_type": "stream",
     "text": [
      "50.0\n",
      "50.0\n"
     ]
    }
   ],
   "source": [
    "print( firm_value(E=100, D=30, rA=.05, rD=.04, tC=0, FCF=2, g=.01) )\n",
    "print( firm_value(E=90, D=40, rA=.05, rD=.04, tC=0, FCF=2, g=.01) )"
   ]
  },
  {
   "cell_type": "markdown",
   "metadata": {
    "collapsed": false
   },
   "source": [
    "<span style=\"color:red\">**Concept check**:</span>  Estimate the cost of equity for a firm under two different scenarios.\n",
    "1. E=90, D=10, rA=.05, rD=.04, tC=.2\n",
    "2. E=10, D=90, rA=.05, rD=.04, tC=.2"
   ]
  },
  {
   "cell_type": "code",
   "execution_count": 5,
   "metadata": {
    "collapsed": false
   },
   "outputs": [
    {
     "name": "stdout",
     "output_type": "stream",
     "text": [
      "0.05088888888888889\n",
      "0.12200000000000003\n"
     ]
    }
   ],
   "source": [
    "print( cost_of_equity(E=90, D=10, rA=.05, rD=.04, tC=.2) )\n",
    "print( cost_of_equity(E=10, D=90, rA=.05, rD=.04, tC=.2) )"
   ]
  },
  {
   "cell_type": "markdown",
   "metadata": {
    "collapsed": false
   },
   "source": [
    "The cost of equity for a firm with a lot of debt is much higher than the cost of equity for a firm with little debt."
   ]
  },
  {
   "cell_type": "markdown",
   "metadata": {
    "collapsed": false
   },
   "source": [
    "### Revisiting Tweets\n",
    "\n",
    "Recall that earlier we made use of the `.find()` function for strings to check whether a tweet discussed a given company.  We can turn this in to a function.  Doing so will highlight a potentail efficiency gain of functions."
   ]
  },
  {
   "cell_type": "code",
   "execution_count": 6,
   "metadata": {
    "collapsed": false
   },
   "outputs": [
   ],
   "source": [
    "def scan_tweet(tweet, ticker):\n",
    "    if tweet.find(ticker) > -1:\n",
    "        print(tweet)"
   ]
  },
  {
   "cell_type": "code",
   "execution_count": 8,
   "metadata": {
    "collapsed": false
   },
   "outputs": [
   ],
   "source": [
    "tic = 'AAPL'\n",
    "t1 = 'AAPL announces plans to buy back stock.'\n",
    "t2 = 'Earnings for AAPL beat analyst expectations.'\n",
    "t3 = 'OMG look at this crazy kitten.'"
   ]
  },
  {
   "cell_type": "code",
   "execution_count": 9,
   "metadata": {
    "collapsed": false
   },
   "outputs": [
    {
     "name": "stdout",
     "output_type": "stream",
     "text": [
      "AAPL announces plans to buy back stock.\n",
      "Earnings for AAPL beat analyst expectations.\n"
     ]
    }
   ],
   "source": [
    "scan_tweet(t1, tic)\n",
    "scan_tweet(t2, tic)\n",
    "scan_tweet(t3, tic)"
   ]
  }
 ],
 "metadata": {
  "kernelspec": {
   "display_name": "Python 3 (system-wide)",
   "language": "python",
   "metadata": {
    "cocalc": {
     "description": "Python 3 programming language",
     "priority": 100,
     "url": "https://www.python.org/"
    }
   },
   "name": "python3",
   "resource_dir": "/ext/jupyter/kernels/python3"
  },
  "language_info": {
   "codemirror_mode": {
    "name": "ipython",
    "version": 3
   },
   "file_extension": ".py",
   "mimetype": "text/x-python",
   "name": "python",
   "nbconvert_exporter": "python",
   "pygments_lexer": "ipython3",
   "version": "3.9.5"
  }
 },
 "nbformat": 4,
 "nbformat_minor": 4
}