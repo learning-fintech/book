{
 "cells": [
  {
   "cell_type": "markdown",
   "metadata": {
    "collapsed": false
   },
   "source": [
    "## Strings\n",
    "\n",
    "Strings are a simple but powerful tool for storing non-numerical information.\n",
    "\n",
    "String variables store textual data.  To tell Python that we want to treat some text as a string, we use either single quotations `'` or double quotations `\"`.  Either format is a valid approach."
   ]
  },
  {
   "cell_type": "code",
   "execution_count": 1,
   "metadata": {
    "collapsed": false
   },
   "outputs": [
   ],
   "source": [
    "fruit = 'banana'"
   ]
  },
  {
   "cell_type": "code",
   "execution_count": 2,
   "metadata": {
    "collapsed": false
   },
   "outputs": [
   ],
   "source": [
    "vegetable = \"carrot\""
   ]
  },
  {
   "cell_type": "markdown",
   "metadata": {
    "collapsed": false
   },
   "source": [
    "Use of single or double quotes can make nested quotations easier.  For instance, what if you want to use an apostrophe inside a string variable?  Consider the apostrophe in:\n",
    "> This isn't an interesting sentence.\n",
    "\n",
    "In that case, be sure to use double quotes to mark your string."
   ]
  },
  {
   "cell_type": "code",
   "execution_count": 3,
   "metadata": {
    "collapsed": false
   },
   "outputs": [
   ],
   "source": [
    "sent = \"This isn't an interesting sentence.\" # this code will work"
   ]
  },
  {
   "cell_type": "code",
   "execution_count": 4,
   "metadata": {
    "collapsed": false
   },
   "outputs": [
    {
     "ename": "SyntaxError",
     "evalue": "invalid syntax (<ipython-input-4-fcbf08c4a876>, line 1)",
     "output_type": "error",
     "traceback": [
      "\u001b[1;36m  File \u001b[1;32m\"<ipython-input-4-fcbf08c4a876>\"\u001b[1;36m, line \u001b[1;32m1\u001b[0m\n\u001b[1;33m    sent = 'This isn't an interesting sentence. # this has problems\u001b[0m\n\u001b[1;37m                     ^\u001b[0m\n\u001b[1;31mSyntaxError\u001b[0m\u001b[1;31m:\u001b[0m invalid syntax\n"
     ]
    }
   ],
   "source": [
    "sent = 'This isn't an interesting sentence. # this has problems"
   ]
  },
  {
   "cell_type": "markdown",
   "metadata": {
    "collapsed": false
   },
   "source": [
    "Because Python won't be able to differentiate between the `'` character being used as an apostrophe and the `'` character being used to signify a single quote, the easiest way to enter the above example into Python is to use double quotes for the string.\n",
    "\n",
    "\n",
    "Similarly, use single quotes to mark the string if you want to include double quotes inside the string.  Consider the example:\n",
    "> Bob said, \"Yes, that is a boring sentence.\"\n",
    "\n",
    "In this case, the easiest way to do things is to enter this as a string in Python is to use single quotes."
   ]
  },
  {
   "cell_type": "code",
   "execution_count": 6,
   "metadata": {
    "collapsed": false
   },
   "outputs": [
   ],
   "source": [
    "quote = 'Bob said, \"Yes, that is a boring sentence.\"'"
   ]
  },
  {
   "cell_type": "markdown",
   "metadata": {
    "collapsed": false
   },
   "source": [
    "### Escape Characters\n",
    "\n",
    "The trickiest problem with quotations is something like the following example:\n",
    "> Bob said, \"Yes, that's a boring sentence.\"\n",
    "\n",
    "Note that the textual data we want to include here has both double quotes and a single quote inside the data.  To enter this text into Python as a string variable, we need to use an **escape character**.\n",
    "\n",
    "Escape characters are special commands inside of a string variable that tell Python that the data is something special.  Without an escape character inside a string, Python interprets every character literally.  For instance, the literal interpretation of `n` is that it represents the letter \"n\".  The literal interpretation of `'` is that it represents a single quote.  We can \"escape\" from this literal interpretation of a character by prefacing that character with `\\`.  The `\\` symbol tells Python to treat the information following the `\\` specially.  In the example here, `\\'` will tell Python that the `'` character is to be treated as part of the data, rather than a potential end for a single quoted string."
   ]
  },
  {
   "cell_type": "code",
   "execution_count": 7,
   "metadata": {
    "collapsed": false
   },
   "outputs": [
    {
     "name": "stdout",
     "output_type": "stream",
     "text": [
      "Bob said, \"Yes, that's a boring sentence.\"\n"
     ]
    }
   ],
   "source": [
    "quote = 'Bob said, \"Yes, that\\'s a boring sentence.\"'\n",
    "print(quote)"
   ]
  },
  {
   "cell_type": "markdown",
   "metadata": {
    "collapsed": false
   },
   "source": [
    "There are only a handful of escape characters to remember.  The rest can be Googled if you need them.  The escape characters worth remembering are:\n",
    "- `\\'`: tells Python to treat `'` as a single quote (apostrophe) inside the string data\n",
    "- `\\\"`: tells Python to treat `\"` as a double quote inside the string data\n",
    "- '\\n' : tells Python to enter a line break.\n",
    "- '\\t' : tells Python to enter a tab."
   ]
  },
  {
   "cell_type": "code",
   "execution_count": 9,
   "metadata": {
    "collapsed": false
   },
   "outputs": [
    {
     "name": "stdout",
     "output_type": "stream",
     "text": [
      "Line one of text.\n",
      "Line two of text\n"
     ]
    }
   ],
   "source": [
    "print('Line one of text.\\nLine two of text')"
   ]
  },
  {
   "cell_type": "code",
   "execution_count": 10,
   "metadata": {
    "collapsed": false
   },
   "outputs": [
    {
     "name": "stdout",
     "output_type": "stream",
     "text": [
      "\tThis is an indented sentenece.\n"
     ]
    }
   ],
   "source": [
    "print('\\tThis is an indented sentenece.')"
   ]
  },
  {
   "cell_type": "markdown",
   "metadata": {
    "collapsed": false
   },
   "source": [
    "<span style=\"color:red\">**Concept check**:</span>  Set the variable, `v`, below equal to a string such that the second line evaluates to (aka prints out) the following:\n",
    "```\n",
    "That isn't a smart investment.\n",
    "You should but Dogecoin instead.\n",
    "    (just kidding)\n",
    "```"
   ]
  },
  {
   "cell_type": "code",
   "execution_count": 0,
   "metadata": {
    "collapsed": false
   },
   "outputs": [
   ],
   "source": [
    "v =\n",
    "print(v)"
   ]
  },
  {
   "cell_type": "markdown",
   "metadata": {
    "collapsed": false
   },
   "source": [
    "### Characters\n",
    "\n",
    "A string is a collection of characters.  The string `'cat'` is comprised of the individual characters `'c'`, `'a'`, and `'t'`.  The string `'my\\ncat'` is made up of the characters `'m'`, `'y'`, `'\\n'`, `'c'`, `'a'`, `'t'`.  Note that the third character in this latter example is an escape character `'\\n`' rather than an alphanumeric character (the letters `'a'`-`'z'` or numbers `'0'`-`'9'`) or a symbol (e.g. `'!'`, `'@'`, or `'#'`).\n",
    "\n",
    "Becuase strings are comprised of characters, it is helpful to know how to access individual characters of those strings.  We will work with the examples `'AAPL Stock'` and `'F Stock'` for a moment.  These two strings are items that we may come accross in a written document.  Suppose that we need to extract the ticker names from these strings.  For instance, if these strings are items that we've extracted from a news article or a tweet, then finding the ticker names helps us determine what the subject of the article/tweet is.\n",
    "\n",
    "The first character of a string is the $0^{th}$ character in the string.  This is a quirk of Python, along with a number of many other programming languages.  Python begins counting at zero, rather than at one.  Hence, the first character is character $0$, the second character is character number $1$, etc.  We can select character number $n$ with square brackets that follow immediately after the string name."
   ]
  },
  {
   "cell_type": "code",
   "execution_count": 11,
   "metadata": {
    "collapsed": false
   },
   "outputs": [
    {
     "name": "stdout",
     "output_type": "stream",
     "text": [
      "c\n"
     ]
    }
   ],
   "source": [
    "string = 'cat'\n",
    "print(string[0])"
   ]
  },
  {
   "cell_type": "code",
   "execution_count": 12,
   "metadata": {
    "collapsed": false
   },
   "outputs": [
    {
     "name": "stdout",
     "output_type": "stream",
     "text": [
      "a\n"
     ]
    }
   ],
   "source": [
    "print(string[1])"
   ]
  },
  {
   "cell_type": "markdown",
   "metadata": {
    "collapsed": false
   },
   "source": [
    "Along with selecting a single character with its position in the string, we can choose a subset of characters with a set of sequential numbers.  Such numbers are listed with a starting point and ending point.  For instance, if we want the numbers $1$, $2$, $3$, then we would indicate the starting point of $1$ and the ending point of $4$.  Yes, $4$, *not* $3$.  The ending point is the number *after* the last number to be included.\n",
    "\n",
    "Consequently, `0:2` would select characters number $0$ and $1$ because the starting point is $0$ and the ending point is $1$."
   ]
  },
  {
   "cell_type": "code",
   "execution_count": 15,
   "metadata": {
    "collapsed": false
   },
   "outputs": [
    {
     "name": "stdout",
     "output_type": "stream",
     "text": [
      "ca\n"
     ]
    }
   ],
   "source": [
    "print(string[0:2])"
   ]
  },
  {
   "cell_type": "markdown",
   "metadata": {
    "collapsed": false
   },
   "source": [
    "Similarly, `1:3` selects characters number $1$ and $2$ because the starting point is $1$ and the ending point is $3$."
   ]
  },
  {
   "cell_type": "code",
   "execution_count": 16,
   "metadata": {
    "collapsed": false
   },
   "outputs": [
    {
     "name": "stdout",
     "output_type": "stream",
     "text": [
      "at\n"
     ]
    }
   ],
   "source": [
    "print(string[1:3])"
   ]
  }
 ],
 "metadata": {
  "kernelspec": {
   "display_name": "Python 3 (system-wide)",
   "language": "python",
   "metadata": {
    "cocalc": {
     "description": "Python 3 programming language",
     "priority": 100,
     "url": "https://www.python.org/"
    }
   },
   "name": "python3",
   "resource_dir": "/ext/jupyter/kernels/python3"
  },
  "language_info": {
   "codemirror_mode": {
    "name": "ipython",
    "version": 3
   },
   "file_extension": ".py",
   "mimetype": "text/x-python",
   "name": "python",
   "nbconvert_exporter": "python",
   "pygments_lexer": "ipython3",
   "version": "3.9.5"
  }
 },
 "nbformat": 4,
 "nbformat_minor": 4
}