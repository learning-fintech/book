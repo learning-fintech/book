{
 "cells": [
  {
   "cell_type": "markdown",
   "metadata": {
    "collapsed": false
   },
   "source": [
    "## Functions\n",
    "\n",
    "Variables are one of the two fundamental components of any programming language.  Now that we know what variables are (they things that store data) and how to work with them, we can introduce the the other fundamental component of programming: functions.\n",
    "\n",
    "Functions give us the ability to write some code that we reference over and over again without having to retype things.  Ultimately, programming is about making your life easier!  We work hard (say, for one semester of our lives) learning how to give a computer instructions (using Python) and then, for the rest of our lives, everything else is easier and more convenient because we can instruct a computer to do lots of the heavy lifting for us.  <u>In financial terms, we spend a little time now for a bunch of time saved later, and thus the net present value of learning to program is positive.</u>\n",
    "\n",
    "Functions have three parts:\n",
    "1. Function defintion (name the function and determine what *inputs* we need, if any)\n",
    "2. Operations (execute some code)\n",
    "3. Return statement (define what want we want to get back from the function)\n",
    "\n",
    "As an example, let's compute the weighted average cost of capital, defined as\n",
    "\n",
    "$$\n",
    "r_{\\text{WACC}} = \\frac{E}{V}\\times r_E + \\frac{D}{V}\\times r_D\\times (1-\\tau_C).\n",
    "$$\n",
    "\n",
    "That is, the weighted average cost of capital for a firm is the proportion of equity in the firm times the equity cost of capital plus the proportion of debt in the firm times the debt cost of capital.  We adjust the latter for the tax shield of debt using the corporate tax rate $\\tau_C$.\n",
    "\n",
    "**Part 1: definition**\n",
    "\n",
    "A function defintion begins with the keyword `def` followed by the function name and then a colon.\n",
    "\n",
    "Functions can use information passed to it via input arguments (inputs are named in the parentheses, which appear before the colon).\n",
    "\n",
    "```python3\n",
    "def wacc(E, D, rE, rD, tC):\n",
    "```\n",
    "\n",
    "Note that in this function definition, we expect `E` and `D` as inputs.  We do not require `V` to be an input to the function, since `V` is easily calculated as `V = E + D`.  This calculation is included in part 2.\n",
    "\n",
    "**Part 2: operations**\n",
    "\n",
    "Functions run the code written inside of the function (operations) when the function is *called*.  A function call occurs when a programmer ''uses'' the function, and we'll see an example of this shortly.\n",
    "\n",
    "<u>NOTE</u>: indentation keeps track of whether code is ''inside'' a function\n",
    "\n",
    "```python3\n",
    "def wacc(E, D, rE, rD, tC):\n",
    "    V = E + D\n",
    "    cost_of_capital = E / V * rE + D / V * rD * (1 - tC)\n",
    "```\n",
    "\n",
    "**Part 3: return value**\n",
    "\n",
    "Functions can be many, many lines of code.\n",
    "\n",
    "The last line, starting with the keyword `return` specifies what value comes back when you run the function.\n",
    "\n",
    "```python3\n",
    "def wacc(E, D, rE, rD, tC):\n",
    "    V = E + D\n",
    "    cost_of_capital = E / V * rE + D / V * rD * (1 - tC)\n",
    "    return cost_of_capital\n",
    "```\n",
    "\n",
    "When a function is created, Python becomes ''aware'' of the function, but nothing else happens at that time."
   ]
  },
  {
   "cell_type": "code",
   "execution_count": 1,
   "metadata": {
    "collapsed": false
   },
   "outputs": [
   ],
   "source": [
    "def wacc(E, D, rE, rD, tC):\n",
    "    V = E + D\n",
    "    cost_of_capital = E / V * rE + D / V * rD * (1-tC)\n",
    "    return cost_of_capital"
   ]
  },
  {
   "cell_type": "markdown",
   "metadata": {
    "collapsed": false
   },
   "source": [
    "For functions to be used, they need to be *called*.  For example:"
   ]
  },
  {
   "cell_type": "code",
   "execution_count": 2,
   "metadata": {
    "collapsed": false
   },
   "outputs": [
    {
     "data": {
      "text/plain": [
       "0.06753846153846155"
      ]
     },
     "execution_count": 2,
     "metadata": {
     },
     "output_type": "execute_result"
    }
   ],
   "source": [
    "wacc(100,30,.08,.04,.35)"
   ]
  },
  {
   "cell_type": "markdown",
   "metadata": {
    "collapsed": false
   },
   "source": [
    "tells Python to compute the weighted average cost of capital for a firm with an equity value of $100$, a debt value of $30$, an equity cost of capital of $8\\%$, a debt cost of capital of $4\\%$, and a tax rate of $35\\%$.  The returned value of `0.0675` tells us that the firm's WACC is $6.75\\%$.\n",
    "\n",
    "In the above example, Python *assumes* the first number ($100$) should be given to the input variable `E`, it *assumes* that the second number ($30$) should be given to the input variable `D`, etc.  This is bad practice!  It's much better to use the input variable names:"
   ]
  },
  {
   "cell_type": "code",
   "execution_count": 3,
   "metadata": {
    "collapsed": false
   },
   "outputs": [
    {
     "data": {
      "text/plain": [
       "0.06753846153846155"
      ]
     },
     "execution_count": 3,
     "metadata": {
     },
     "output_type": "execute_result"
    }
   ],
   "source": [
    "wacc(E=100,D=30,rE=.08,rD=.04,tC=.35)"
   ]
  },
  {
   "cell_type": "markdown",
   "metadata": {
    "collapsed": false
   },
   "source": [
    "because then the ordering of how you enter the inputs doesn't matter."
   ]
  },
  {
   "cell_type": "code",
   "execution_count": 4,
   "metadata": {
    "collapsed": false
   },
   "outputs": [
    {
     "data": {
      "text/plain": [
       "0.06753846153846155"
      ]
     },
     "execution_count": 4,
     "metadata": {
     },
     "output_type": "execute_result"
    }
   ],
   "source": [
    "wacc(rE=.08,rD=.04,tC=.35,E=100,D=30)"
   ]
  },
  {
   "cell_type": "markdown",
   "metadata": {
    "collapsed": false
   },
   "source": [
    "This is useful to keep in mind because, realistically, you won't remember the default ordering of inputs (the order of input variables in the `def` line of the function definition).\n",
    "\n",
    "The `return` line is important because variables that live inside a function are stuck inside that function.\n",
    "\n",
    "E.g. the below will throw an error because `cost_of_capital` is only *accessible* inside the function `wacc`."
   ]
  },
  {
   "cell_type": "code",
   "execution_count": 5,
   "metadata": {
    "collapsed": false
   },
   "outputs": [
    {
     "ename": "NameError",
     "evalue": "name 'cost_of_capital' is not defined",
     "output_type": "error",
     "traceback": [
      "\u001b[1;31m---------------------------------------------------------------------------\u001b[0m",
      "\u001b[1;31mNameError\u001b[0m                                 Traceback (most recent call last)",
      "\u001b[1;32m<ipython-input-5-967605eceae6>\u001b[0m in \u001b[0;36m<module>\u001b[1;34m\u001b[0m\n\u001b[1;32m----> 1\u001b[1;33m \u001b[0mcost_of_capital\u001b[0m\u001b[1;33m\u001b[0m\u001b[1;33m\u001b[0m\u001b[0m\n\u001b[0m",
      "\u001b[1;31mNameError\u001b[0m: name 'cost_of_capital' is not defined"
     ]
    }
   ],
   "source": [
    "cost_of_capital"
   ]
  },
  {
   "cell_type": "markdown",
   "metadata": {
    "collapsed": false
   },
   "source": [
    "In order to get the value `cost_of_capital` back from the function, we specify that this value should be *returned* from the function.  If desired, we can instruct the function to return multiple items to us.  For instance, the `wacc()` function defined above returns only the cost of capital.  If we want to return the total firm value, `V`, along with the cost of capital, we can easily modify the function to do so."
   ]
  },
  {
   "cell_type": "code",
   "execution_count": 6,
   "metadata": {
    "collapsed": false
   },
   "outputs": [
   ],
   "source": [
    "def more_wacc(E, D, rE, rD, tC):\n",
    "    V = E + D\n",
    "    cost_of_capital = E / V * rE + D / V * rD * (1-tC)\n",
    "    return cost_of_capital, V"
   ]
  },
  {
   "cell_type": "code",
   "execution_count": 7,
   "metadata": {
    "collapsed": false
   },
   "outputs": [
    {
     "data": {
      "text/plain": [
       "(0.06753846153846155, 130)"
      ]
     },
     "execution_count": 7,
     "metadata": {
     },
     "output_type": "execute_result"
    }
   ],
   "source": [
    "more_wacc(E=100,D=30,rE=.08,rD=.04,tC=.35)"
   ]
  },
  {
   "cell_type": "markdown",
   "metadata": {
    "collapsed": false
   },
   "source": [
    "By default, Python is printing out the returned item(s) from the function.  This happens because, if Python is not told to save the returned item(s) anywhere, Python simply prints it out.  We can instead save the returned item(s) to a variable."
   ]
  },
  {
   "cell_type": "code",
   "execution_count": 8,
   "metadata": {
    "collapsed": false
   },
   "outputs": [
   ],
   "source": [
    "r_W = wacc(E=100,D=30,rE=.08,rD=.04,tC=.35)"
   ]
  },
  {
   "cell_type": "markdown",
   "metadata": {
    "collapsed": false
   },
   "source": [
    "This will preserve the returned item for later use.  For instance, suppose that we calculate the cost of capital and then estimate the present value of a series of three dividend payments (one today, one in a year from now, and one in two years from now).  For simplicity, let's assume each divident payment is \\$5."
   ]
  },
  {
   "cell_type": "code",
   "execution_count": 9,
   "metadata": {
    "collapsed": false
   },
   "outputs": [
    {
     "data": {
      "text/plain": [
       "14.071028677403966"
      ]
     },
     "execution_count": 9,
     "metadata": {
     },
     "output_type": "execute_result"
    }
   ],
   "source": [
    "5 + 5/(1+r_W) + 5/(1+r_W)**2"
   ]
  },
  {
   "cell_type": "markdown",
   "metadata": {
    "collapsed": false
   },
   "source": [
    "If multiple items are returned from a function and we save the returned items to a variable, that variable will be a list."
   ]
  },
  {
   "cell_type": "code",
   "execution_count": 10,
   "metadata": {
    "collapsed": false
   },
   "outputs": [
    {
     "name": "stdout",
     "output_type": "stream",
     "text": [
      "(0.06753846153846155, 130)\n"
     ]
    }
   ],
   "source": [
    "x = more_wacc(E=100,D=30,rE=.08,rD=.04,tC=.35)\n",
    "print(x)"
   ]
  },
  {
   "cell_type": "code",
   "execution_count": 11,
   "metadata": {
    "collapsed": false
   },
   "outputs": [
    {
     "data": {
      "text/plain": [
       "0.06753846153846155"
      ]
     },
     "execution_count": 11,
     "metadata": {
     },
     "output_type": "execute_result"
    }
   ],
   "source": [
    "x[0]"
   ]
  },
  {
   "cell_type": "markdown",
   "metadata": {
    "collapsed": false
   },
   "source": [
    "<span style=\"color:red\">**Concept check**:</span>  Use the `more_wacc()` function to calculate WACC under the following parameter values:\n",
    "- E=200\n",
    "- D=80\n",
    "- rE=.09\n",
    "- rD=0.8\n",
    "- tC=.4"
   ]
  },
  {
   "cell_type": "code",
   "execution_count": 0,
   "metadata": {
    "collapsed": false
   },
   "outputs": [
   ],
   "source": [
   ]
  }
 ],
 "metadata": {
  "kernelspec": {
   "display_name": "Python 3 (system-wide)",
   "language": "python",
   "metadata": {
    "cocalc": {
     "description": "Python 3 programming language",
     "priority": 100,
     "url": "https://www.python.org/"
    }
   },
   "name": "python3",
   "resource_dir": "/ext/jupyter/kernels/python3"
  },
  "language_info": {
   "codemirror_mode": {
    "name": "ipython",
    "version": 3
   },
   "file_extension": ".py",
   "mimetype": "text/x-python",
   "name": "python",
   "nbconvert_exporter": "python",
   "pygments_lexer": "ipython3",
   "version": "3.9.5"
  }
 },
 "nbformat": 4,
 "nbformat_minor": 4
}