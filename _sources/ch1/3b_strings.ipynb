{
 "cells": [
  {
   "cell_type": "markdown",
   "metadata": {
    "collapsed": false
   },
   "source": [
    "## More Strings\n",
    "\n",
    "### Searching Strings\n",
    "\n",
    "To find a particular character in a string, we can use the `.find()` function.\n",
    "\n",
    "For example, `'cat'.find('a')` takes the string `'cat'` and applies the function `.find()` to it.  We specify the character `'a'` inside the function (inside the parentheses) to indicate that we are searching for the character `'a'`.  This command in Python will return the number $1$ because the character `'a'` first appears in the string `'cat'` at position $1$."
   ]
  },
  {
   "cell_type": "code",
   "execution_count": 17,
   "metadata": {
    "collapsed": false
   },
   "outputs": [
    {
     "data": {
      "text/plain": [
       "1"
      ]
     },
     "execution_count": 17,
     "metadata": {
     },
     "output_type": "execute_result"
    }
   ],
   "source": [
    "'cat'.find('a')"
   ]
  },
  {
   "cell_type": "markdown",
   "metadata": {
    "collapsed": false
   },
   "source": [
    "Note that `.find()` will give us only the position of the first instance of a desired character.  Suppose that we want to find the position of the character `'o'` in the string `'google'`.  The command `'google.find('o')` will return the number $1$.  It will never give us back the number $2$, even though the character `'o'` also appears in that position in the string `'google'`."
   ]
  },
  {
   "cell_type": "code",
   "execution_count": 18,
   "metadata": {
    "collapsed": false
   },
   "outputs": [
    {
     "data": {
      "text/plain": [
       "1"
      ]
     },
     "execution_count": 18,
     "metadata": {
     },
     "output_type": "execute_result"
    }
   ],
   "source": [
    "'google'.find('o')"
   ]
  },
  {
   "cell_type": "code",
   "execution_count": 19,
   "metadata": {
    "collapsed": false
   },
   "outputs": [
    {
     "data": {
      "text/plain": [
       "2"
      ]
     },
     "execution_count": 19,
     "metadata": {
     },
     "output_type": "execute_result"
    }
   ],
   "source": [
    "'This is a sentence'.find('is')"
   ]
  },
  {
   "cell_type": "markdown",
   "metadata": {
    "collapsed": false
   },
   "source": [
    "If a given character is *not* found in a string, the `.find()` function will return `-1`."
   ]
  },
  {
   "cell_type": "code",
   "execution_count": 20,
   "metadata": {
    "collapsed": false
   },
   "outputs": [
    {
     "data": {
      "text/plain": [
       "-1"
      ]
     },
     "execution_count": 20,
     "metadata": {
     },
     "output_type": "execute_result"
    }
   ],
   "source": [
    "'google'.find('a')"
   ]
  },
  {
   "cell_type": "markdown",
   "metadata": {
    "collapsed": false
   },
   "source": [
    "Suppose that we are given a tweet and want to check whether the tweet concerns a company of interest.  The tweet data will be a string, because tweets are textual data."
   ]
  },
  {
   "cell_type": "code",
   "execution_count": 1,
   "metadata": {
    "collapsed": false
   },
   "outputs": [
    {
     "name": "stdout",
     "output_type": "stream",
     "text": [
      "This tweet discusses AAPL\n"
     ]
    }
   ],
   "source": [
    "tweet = 'Very excited about AAPL earnings next week.'\n",
    "company = 'AAPL'\n",
    "\n",
    "if tweet.find(company):\n",
    "    print('This tweet discusses', company)\n",
    "else:\n",
    "    print('Nothing to report.')"
   ]
  },
  {
   "cell_type": "markdown",
   "metadata": {
    "collapsed": false
   },
   "source": [
    "<span style=\"color:red\">**Concept check**:</span>  Find the position of the ticker `NVDA` in the following string."
   ]
  },
  {
   "cell_type": "code",
   "execution_count": 0,
   "metadata": {
    "collapsed": false
   },
   "outputs": [
   ],
   "source": [
    "string = 'Analysts expect earnings for NVDA to rise over the next four quarters.'\n"
   ]
  },
  {
   "cell_type": "markdown",
   "metadata": {
    "collapsed": false
   },
   "source": [
    "### String Concatenation\n",
    "\n",
    "The way to combine (also known as *concatenating*) two or more strings is to use the `+` character.  Just like `+` combines integers and/or floating point numbers, `+` combines strings."
   ]
  },
  {
   "cell_type": "code",
   "execution_count": 21,
   "metadata": {
    "collapsed": false
   },
   "outputs": [
    {
     "data": {
      "text/plain": [
       "'AppleInc.'"
      ]
     },
     "execution_count": 21,
     "metadata": {
     },
     "output_type": "execute_result"
    }
   ],
   "source": [
    "word1 = 'Apple'\n",
    "word2 = 'Inc.'\n",
    "word1 + word2"
   ]
  },
  {
   "cell_type": "markdown",
   "metadata": {
    "collapsed": false
   },
   "source": [
    "Notice that `+` does not join together strings with spaces between them.  There are very reasonable applications in which no spacing should occur between strings, and so Python will not assume that you'd like to have spaces between strings.\n",
    "\n",
    "In the above example, we can safely say that the combined string would look more reasonable with a space between the two words.  To achive this, simply include a `' '` string as a middle string in what becomes a concatenation of three strings."
   ]
  },
  {
   "cell_type": "code",
   "execution_count": 22,
   "metadata": {
    "collapsed": false
   },
   "outputs": [
    {
     "data": {
      "text/plain": [
       "'Apple Inc.'"
      ]
     },
     "execution_count": 22,
     "metadata": {
     },
     "output_type": "execute_result"
    }
   ],
   "source": [
    "word1 + ' ' + word2"
   ]
  },
  {
   "cell_type": "markdown",
   "metadata": {
    "collapsed": false
   },
   "source": [
    "Note that tricky issues arrive if we use `+` in circumstances that include both strings and numbers.  Obviously, one can't add strings and numbers together in any sort of algebraic interpretation of the word \"add\".  Importantly, however, is that Python won't assume that, in the presence of both strings and numbers, a `+` character should be interpreted as concatenation.  To clarify these last two sentences, let's attempt two different lines of code.\n",
    "\n",
    "First, enter a number plus a string."
   ]
  },
  {
   "cell_type": "code",
   "execution_count": 24,
   "metadata": {
    "collapsed": false
   },
   "outputs": [
    {
     "ename": "TypeError",
     "evalue": "unsupported operand type(s) for +: 'int' and 'str'",
     "output_type": "error",
     "traceback": [
      "\u001b[1;31m---------------------------------------------------------------------------\u001b[0m",
      "\u001b[1;31mTypeError\u001b[0m                                 Traceback (most recent call last)",
      "\u001b[1;32m<ipython-input-24-5043558bd679>\u001b[0m in \u001b[0;36m<module>\u001b[1;34m\u001b[0m\n\u001b[1;32m----> 1\u001b[1;33m \u001b[1;36m8\u001b[0m \u001b[1;33m+\u001b[0m \u001b[1;34m'1'\u001b[0m\u001b[1;33m\u001b[0m\u001b[1;33m\u001b[0m\u001b[0m\n\u001b[0m",
      "\u001b[1;31mTypeError\u001b[0m: unsupported operand type(s) for +: 'int' and 'str'"
     ]
    }
   ],
   "source": [
    "8 + '1'"
   ]
  },
  {
   "cell_type": "markdown",
   "metadata": {
    "collapsed": false
   },
   "source": [
    "Python prints out an error.  The message, in a nutshell, informs us that we can't use `+` in the presence of an `int` and a `str` variable type.\n",
    "\n",
    "Second, try things the other way around.  Enter a string plus a number."
   ]
  },
  {
   "cell_type": "code",
   "execution_count": 25,
   "metadata": {
    "collapsed": false
   },
   "outputs": [
    {
     "ename": "TypeError",
     "evalue": "can only concatenate str (not \"int\") to str",
     "output_type": "error",
     "traceback": [
      "\u001b[1;31m---------------------------------------------------------------------------\u001b[0m",
      "\u001b[1;31mTypeError\u001b[0m                                 Traceback (most recent call last)",
      "\u001b[1;32m<ipython-input-25-73173934f639>\u001b[0m in \u001b[0;36m<module>\u001b[1;34m\u001b[0m\n\u001b[1;32m----> 1\u001b[1;33m \u001b[1;34m'1'\u001b[0m \u001b[1;33m+\u001b[0m \u001b[1;36m8\u001b[0m\u001b[1;33m\u001b[0m\u001b[1;33m\u001b[0m\u001b[0m\n\u001b[0m",
      "\u001b[1;31mTypeError\u001b[0m: can only concatenate str (not \"int\") to str"
     ]
    }
   ],
   "source": [
    "'1' + 8"
   ]
  },
  {
   "cell_type": "markdown",
   "metadata": {
    "collapsed": false
   },
   "source": [
    "Again, Python prints out an error.  This time the message is different.  It warns us that Python can only concatenate `str` variables with other `str` variables (and not `int` variables.\n",
    "\n",
    "Why do the messages differ?  In the first case, Python sees a number (integer) first.  It then assumes that the `+` character must be addition, and gets confused and raises an error when, after the `+` character, it encounters a string.  In the second case, Python sees a string first.  It then assumes that the `+` character is meant to signify concatenation, and thus becomes confused and raises and error when it sees an integer.\n",
    "\n",
    "The solution to the problem of combining strings and numbers together is called *type conversion*, and it will be discussed later in this chapter."
   ]
  },
  {
   "cell_type": "markdown",
   "metadata": {
    "collapsed": false
   },
   "source": [
    "<span style=\"color:red\">**Concept check**:</span> Add a new line of code to the end of the block below to combine the variables `first` and `second` so that the result is a complete sentence that reads:\n",
    "> Strings are really important pieces of data."
   ]
  },
  {
   "cell_type": "code",
   "execution_count": 0,
   "metadata": {
    "collapsed": false
   },
   "outputs": [
   ],
   "source": [
    "first = 'Strings are really important'\n",
    "second = 'pieces of data.'"
   ]
  }
 ],
 "metadata": {
  "kernelspec": {
   "display_name": "Python 3 (system-wide)",
   "language": "python",
   "metadata": {
    "cocalc": {
     "description": "Python 3 programming language",
     "priority": 100,
     "url": "https://www.python.org/"
    }
   },
   "name": "python3",
   "resource_dir": "/ext/jupyter/kernels/python3"
  },
  "language_info": {
   "codemirror_mode": {
    "name": "ipython",
    "version": 3
   },
   "file_extension": ".py",
   "mimetype": "text/x-python",
   "name": "python",
   "nbconvert_exporter": "python",
   "pygments_lexer": "ipython3",
   "version": "3.9.5"
  }
 },
 "nbformat": 4,
 "nbformat_minor": 4
}