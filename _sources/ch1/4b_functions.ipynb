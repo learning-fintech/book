{
 "cells": [
  {
   "cell_type": "markdown",
   "metadata": {
    "collapsed": false
   },
   "source": [
    "## More Functions\n",
    "\n",
    "### Plan Ahead\n",
    "\n",
    "Functions have the potential to create immense utility for the end user.  A very well constructed function can save you hours (if not days or weeks) of time down the road.  However, to be useful, the function needs to be planned carefully.  If the function is written well, then you can use it conveniently in the future without worrying about the details.  However, if the function is written poorly, it could end up creating a huge headache for you when you try to use it later.\n",
    "\n",
    "Keeping to the `wacc()` example, let's consider some simple improvements to the function.\n",
    "\n",
    "Imagine that we plan to use this `wacc()` function to value companies, using data on companies that will be obtained in some other piece of code.  Thus, we collect all the requisite components to calculating a weighted average cost of capital, as well as information about the current free cash flow and an expected growth rate to the free cash flow.  For simplicity, assume that free cash flow growth and the risk free rate of capital are constant.  In this scenario, we can apply the Gordon growth formula to value the company.\n",
    "\n",
    "$$\n",
    "V = \\frac{FCF}{r_{WACC}-g}\n",
    "$$"
   ]
  },
  {
   "cell_type": "code",
   "execution_count": 0,
   "metadata": {
    "collapsed": false
   },
   "outputs": [
   ],
   "source": [
    "def wacc(E, D, rE, rD, tC):\n",
    "    V = E + D\n",
    "    cost_of_capital = E / V * rE + D / V * rD * (1-tC)\n",
    "    return cost_of_capital, V"
   ]
  },
  {
   "cell_type": "code",
   "execution_count": 18,
   "metadata": {
    "collapsed": false
   },
   "outputs": [
    {
     "data": {
      "text/plain": [
       "34.75935828877005"
      ]
     },
     "execution_count": 18,
     "metadata": {
     },
     "output_type": "execute_result"
    }
   ],
   "source": [
    "2/(wacc(E=100,D=30,rE=.08,rD=.04,tC=.35) - 0.01) # $2M in FCF, growing at 1%/year"
   ]
  },
  {
   "cell_type": "markdown",
   "metadata": {
    "collapsed": false
   },
   "source": [
    "A limitation of the `wacc()` function is that it assumes all inputs are sensible.  Suppose an innocent typo places a negative sign in front of the value for `rE`.  In this case, form value can end up a negative number!"
   ]
  },
  {
   "cell_type": "code",
   "execution_count": 19,
   "metadata": {
    "collapsed": false
   },
   "outputs": [
    {
     "data": {
      "text/plain": [
       "-30.516431924882625"
      ]
     },
     "execution_count": 19,
     "metadata": {
     },
     "output_type": "execute_result"
    }
   ],
   "source": [
    "2/(wacc(E=100,D=30,rE=-.08,rD=.04,tC=.35) - 0.01)"
   ]
  },
  {
   "cell_type": "markdown",
   "metadata": {
    "collapsed": false
   },
   "source": [
    "One can look at this and see that there is a problem; firm value cannot be negative.  A scarier example is one in which the accidental negative shows up in front of the value for `rD`.  This latter case is worse because it's not as obvious that there is an issue (firm value is still calculated to be positive)."
   ]
  },
  {
   "cell_type": "code",
   "execution_count": 20,
   "metadata": {
    "collapsed": false
   },
   "outputs": [
    {
     "data": {
      "text/plain": [
       "43.91891891891892"
      ]
     },
     "execution_count": 20,
     "metadata": {
     },
     "output_type": "execute_result"
    }
   ],
   "source": [
    "2/(wacc(E=100,D=30,rE=.08,rD=-.04,tC=.35) - 0.01)"
   ]
  },
  {
   "cell_type": "markdown",
   "metadata": {
    "collapsed": false
   },
   "source": [
    "These sorts of small problems can create huge issues for you or your company.  In this working example, the typo over-values the firm by:"
   ]
  },
  {
   "cell_type": "code",
   "execution_count": 23,
   "metadata": {
    "collapsed": false
   },
   "outputs": [
    {
     "data": {
      "text/plain": [
       "0.2635135135135136"
      ]
     },
     "execution_count": 23,
     "metadata": {
     },
     "output_type": "execute_result"
    }
   ],
   "source": [
    "value_wrong = 2/(wacc(E=100,D=30,rE=.08,rD=-.04,tC=.35) - 0.01)\n",
    "value_right = 2/(wacc(E=100,D=30,rE=.08,rD=.04,tC=.35) - 0.01)\n",
    "value_wrong / value_right - 1"
   ]
  },
  {
   "cell_type": "markdown",
   "metadata": {
    "collapsed": false
   },
   "source": [
    "Therefore, when we write the `wacc()` function, we should take care to watch out for anticipable errors and deal with them.\n",
    "\n",
    "One option is to simply print out a warning message if the function detects something fishy."
   ]
  },
  {
   "cell_type": "code",
   "execution_count": 26,
   "metadata": {
    "collapsed": false
   },
   "outputs": [
    {
     "name": "stdout",
     "output_type": "stream",
     "text": [
      "Warning! rD is not positive\n"
     ]
    },
    {
     "data": {
      "text/plain": [
       "43.91891891891892"
      ]
     },
     "execution_count": 26,
     "metadata": {
     },
     "output_type": "execute_result"
    }
   ],
   "source": [
    "def better_wacc(E, D, rE, rD, tC):\n",
    "    \n",
    "    if rE <= 0:\n",
    "        print('rE is not positive')\n",
    "    if rD <= 0:\n",
    "        print('rD is not positive')\n",
    "    if tC <= 0:\n",
    "        print('tC is not positive')\n",
    "    \n",
    "    V = E + D\n",
    "    cost_of_capital = E / V * rE + D / V * rD * (1-tC)\n",
    "    return cost_of_capital\n",
    "\n",
    "2/(better_wacc(E=100,D=30,rE=.08,rD=-.04,tC=.35) - 0.01)"
   ]
  },
  {
   "cell_type": "markdown",
   "metadata": {
    "collapsed": false
   },
   "source": [
    "This at least generates a warning message, but warnings can only go so far.  There is a very real possibility that someone using this function may not notice the warning message and consequently carry on with their analysis despite having an erroneously calculated firm value.\n",
    "\n",
    "If you are certain something is absolutely not an acceptable input, stop it!  Do not let the function continue operating on bad data.  The way to do this is with an **Exception**."
   ]
  },
  {
   "cell_type": "code",
   "execution_count": 27,
   "metadata": {
    "collapsed": false
   },
   "outputs": [
    {
     "ename": "Exception",
     "evalue": "Warning! rD is not positive",
     "output_type": "error",
     "traceback": [
      "\u001b[1;31m---------------------------------------------------------------------------\u001b[0m",
      "\u001b[1;31mException\u001b[0m                                 Traceback (most recent call last)",
      "\u001b[1;32m<ipython-input-27-256c67bfb8c0>\u001b[0m in \u001b[0;36m<module>\u001b[1;34m\u001b[0m\n\u001b[0;32m     12\u001b[0m     \u001b[1;32mreturn\u001b[0m \u001b[0mcost_of_capital\u001b[0m\u001b[1;33m\u001b[0m\u001b[1;33m\u001b[0m\u001b[0m\n\u001b[0;32m     13\u001b[0m \u001b[1;33m\u001b[0m\u001b[0m\n\u001b[1;32m---> 14\u001b[1;33m \u001b[1;36m2\u001b[0m\u001b[1;33m/\u001b[0m\u001b[1;33m(\u001b[0m\u001b[0mbetter_wacc\u001b[0m\u001b[1;33m(\u001b[0m\u001b[0mE\u001b[0m\u001b[1;33m=\u001b[0m\u001b[1;36m100\u001b[0m\u001b[1;33m,\u001b[0m\u001b[0mD\u001b[0m\u001b[1;33m=\u001b[0m\u001b[1;36m30\u001b[0m\u001b[1;33m,\u001b[0m\u001b[0mrE\u001b[0m\u001b[1;33m=\u001b[0m\u001b[1;36m.08\u001b[0m\u001b[1;33m,\u001b[0m\u001b[0mrD\u001b[0m\u001b[1;33m=\u001b[0m\u001b[1;33m-\u001b[0m\u001b[1;36m.04\u001b[0m\u001b[1;33m,\u001b[0m\u001b[0mtC\u001b[0m\u001b[1;33m=\u001b[0m\u001b[1;36m.35\u001b[0m\u001b[1;33m)\u001b[0m \u001b[1;33m-\u001b[0m \u001b[1;36m0.01\u001b[0m\u001b[1;33m)\u001b[0m\u001b[1;33m\u001b[0m\u001b[1;33m\u001b[0m\u001b[0m\n\u001b[0m",
      "\u001b[1;32m<ipython-input-27-256c67bfb8c0>\u001b[0m in \u001b[0;36mbetter_wacc\u001b[1;34m(E, D, rE, rD, tC)\u001b[0m\n\u001b[0;32m      4\u001b[0m         \u001b[1;32mraise\u001b[0m \u001b[0mException\u001b[0m\u001b[1;33m(\u001b[0m\u001b[1;34m'Warning! rE is not positive'\u001b[0m\u001b[1;33m)\u001b[0m\u001b[1;33m\u001b[0m\u001b[1;33m\u001b[0m\u001b[0m\n\u001b[0;32m      5\u001b[0m     \u001b[1;32mif\u001b[0m \u001b[0mrD\u001b[0m \u001b[1;33m<=\u001b[0m \u001b[1;36m0\u001b[0m\u001b[1;33m:\u001b[0m\u001b[1;33m\u001b[0m\u001b[1;33m\u001b[0m\u001b[0m\n\u001b[1;32m----> 6\u001b[1;33m         \u001b[1;32mraise\u001b[0m \u001b[0mException\u001b[0m\u001b[1;33m(\u001b[0m\u001b[1;34m'Warning! rD is not positive'\u001b[0m\u001b[1;33m)\u001b[0m\u001b[1;33m\u001b[0m\u001b[1;33m\u001b[0m\u001b[0m\n\u001b[0m\u001b[0;32m      7\u001b[0m     \u001b[1;32mif\u001b[0m \u001b[0mtC\u001b[0m \u001b[1;33m<=\u001b[0m \u001b[1;36m0\u001b[0m\u001b[1;33m:\u001b[0m\u001b[1;33m\u001b[0m\u001b[1;33m\u001b[0m\u001b[0m\n\u001b[0;32m      8\u001b[0m         \u001b[1;32mraise\u001b[0m \u001b[0mException\u001b[0m\u001b[1;33m(\u001b[0m\u001b[1;34m'Warning! tC is not positive'\u001b[0m\u001b[1;33m)\u001b[0m\u001b[1;33m\u001b[0m\u001b[1;33m\u001b[0m\u001b[0m\n",
      "\u001b[1;31mException\u001b[0m: Warning! rD is not positive"
     ]
    }
   ],
   "source": [
    "def better_wacc(E, D, rE, rD, tC):\n",
    "    \n",
    "    if rE <= 0:\n",
    "        raise Exception('rE is not positive')\n",
    "    if rD <= 0:\n",
    "        raise Exception('rD is not positive')\n",
    "    if tC <= 0:\n",
    "        raise Exception('tC is not positive')\n",
    "    \n",
    "    V = E + D\n",
    "    cost_of_capital = E / V * rE + D / V * rD * (1-tC)\n",
    "    return cost_of_capital\n",
    "\n",
    "2/(better_wacc(E=100,D=30,rE=.08,rD=-.04,tC=.35) - 0.01)"
   ]
  },
  {
   "cell_type": "markdown",
   "metadata": {
    "collapsed": false
   },
   "source": [
    "Exception messages spit out lots of text, so they can be somewhat intimidating to approach at first.  Python will print out a *traceback* of what code ran that ultimately resulted in an error.  The easiest way to get a quick picture of what happened is to follow the `--->` symbols, reading from top to bottom.  The first such symbol indicates that line 14 was called.  The second such symbol tells us that line 6 was called.  The actual error message is the final line of the printout.  From this brief inspection, we can figure out what went wrong.  Notice that line 6 can only be called if line 5 is true.  Hence, the root of our problem is that line 5 is true, indicating that `rD` is entered as a negative number.\n",
    "\n",
    "The `if` statements added to `better_wacc()` cause the funcion to \"break\" (raise an error message and stop the code from continuing) under certain scenarios.  To see that the code completely terminantes when an exception is raised, try the following."
   ]
  },
  {
   "cell_type": "code",
   "execution_count": 28,
   "metadata": {
    "collapsed": false
   },
   "outputs": [
    {
     "ename": "Exception",
     "evalue": "Warning! rD is not positive",
     "output_type": "error",
     "traceback": [
      "\u001b[1;31m---------------------------------------------------------------------------\u001b[0m",
      "\u001b[1;31mException\u001b[0m                                 Traceback (most recent call last)",
      "\u001b[1;32m<ipython-input-28-a502cbe6c27d>\u001b[0m in \u001b[0;36m<module>\u001b[1;34m\u001b[0m\n\u001b[1;32m----> 1\u001b[1;33m \u001b[0mprint\u001b[0m\u001b[1;33m(\u001b[0m \u001b[1;36m2\u001b[0m\u001b[1;33m/\u001b[0m\u001b[1;33m(\u001b[0m\u001b[0mbetter_wacc\u001b[0m\u001b[1;33m(\u001b[0m\u001b[0mE\u001b[0m\u001b[1;33m=\u001b[0m\u001b[1;36m100\u001b[0m\u001b[1;33m,\u001b[0m\u001b[0mD\u001b[0m\u001b[1;33m=\u001b[0m\u001b[1;36m30\u001b[0m\u001b[1;33m,\u001b[0m\u001b[0mrE\u001b[0m\u001b[1;33m=\u001b[0m\u001b[1;36m.08\u001b[0m\u001b[1;33m,\u001b[0m\u001b[0mrD\u001b[0m\u001b[1;33m=\u001b[0m\u001b[1;33m-\u001b[0m\u001b[1;36m.04\u001b[0m\u001b[1;33m,\u001b[0m\u001b[0mtC\u001b[0m\u001b[1;33m=\u001b[0m\u001b[1;36m.35\u001b[0m\u001b[1;33m)\u001b[0m \u001b[1;33m-\u001b[0m \u001b[1;36m0.01\u001b[0m\u001b[1;33m)\u001b[0m \u001b[1;33m)\u001b[0m\u001b[1;33m\u001b[0m\u001b[1;33m\u001b[0m\u001b[0m\n\u001b[0m\u001b[0;32m      2\u001b[0m \u001b[0mprint\u001b[0m\u001b[1;33m(\u001b[0m\u001b[1;34m'firm value is now calculated'\u001b[0m\u001b[1;33m)\u001b[0m\u001b[1;33m\u001b[0m\u001b[1;33m\u001b[0m\u001b[0m\n",
      "\u001b[1;32m<ipython-input-27-256c67bfb8c0>\u001b[0m in \u001b[0;36mbetter_wacc\u001b[1;34m(E, D, rE, rD, tC)\u001b[0m\n\u001b[0;32m      4\u001b[0m         \u001b[1;32mraise\u001b[0m \u001b[0mException\u001b[0m\u001b[1;33m(\u001b[0m\u001b[1;34m'Warning! rE is not positive'\u001b[0m\u001b[1;33m)\u001b[0m\u001b[1;33m\u001b[0m\u001b[1;33m\u001b[0m\u001b[0m\n\u001b[0;32m      5\u001b[0m     \u001b[1;32mif\u001b[0m \u001b[0mrD\u001b[0m \u001b[1;33m<=\u001b[0m \u001b[1;36m0\u001b[0m\u001b[1;33m:\u001b[0m\u001b[1;33m\u001b[0m\u001b[1;33m\u001b[0m\u001b[0m\n\u001b[1;32m----> 6\u001b[1;33m         \u001b[1;32mraise\u001b[0m \u001b[0mException\u001b[0m\u001b[1;33m(\u001b[0m\u001b[1;34m'Warning! rD is not positive'\u001b[0m\u001b[1;33m)\u001b[0m\u001b[1;33m\u001b[0m\u001b[1;33m\u001b[0m\u001b[0m\n\u001b[0m\u001b[0;32m      7\u001b[0m     \u001b[1;32mif\u001b[0m \u001b[0mtC\u001b[0m \u001b[1;33m<=\u001b[0m \u001b[1;36m0\u001b[0m\u001b[1;33m:\u001b[0m\u001b[1;33m\u001b[0m\u001b[1;33m\u001b[0m\u001b[0m\n\u001b[0;32m      8\u001b[0m         \u001b[1;32mraise\u001b[0m \u001b[0mException\u001b[0m\u001b[1;33m(\u001b[0m\u001b[1;34m'Warning! tC is not positive'\u001b[0m\u001b[1;33m)\u001b[0m\u001b[1;33m\u001b[0m\u001b[1;33m\u001b[0m\u001b[0m\n",
      "\u001b[1;31mException\u001b[0m: Warning! rD is not positive"
     ]
    }
   ],
   "source": [
    "print( 2/(better_wacc(E=100,D=30,rE=.08,rD=-.04,tC=.35) - 0.01) )\n",
    "print('firm value is now calculated')"
   ]
  },
  {
   "cell_type": "markdown",
   "metadata": {
    "collapsed": false
   },
   "source": [
    "Note that the second print statement is not executed.  Python halts all operations when an exception occurs."
   ]
  },
  {
   "cell_type": "markdown",
   "metadata": {
    "collapsed": false
   },
   "source": [
    "Do not insert exceptions to your functions unnecessarily.  Only rely on financial principles to make these judgements.  It is obvious, for example, that costs of capital should not be negative.  Moreover, the second Modigliani and Miller proposition tells us that `rE` should always be at least as high as `rD`, so we could raise an exception if `rE <= rD`.  However, there is no strict rule, either by regulation or by principles of finance, that debt value cannot exceed equity value.  For some smaller firms, it may very well be that leverage exceeds 50%.  However, if you write the `better_wacc()` function and anticipate that it will only be used on large, S\\&P 500 companies, it may make sense to check whether `E > D`.  In this case, raising an exception would not be appropriate.  However, since we would generally expect that equity value should exceed debt value, it may make sense to print a warning message for the user."
   ]
  },
  {
   "cell_type": "code",
   "execution_count": 40,
   "metadata": {
    "collapsed": false
   },
   "outputs": [
   ],
   "source": [
    "def better_wacc(E, D, rE, rD, tC):\n",
    "    \n",
    "    if rE <= 0:\n",
    "        raise Exception('rE is not positive')\n",
    "    if rD <= 0:\n",
    "        raise Exception('rD is not positive')\n",
    "    if tC < 0:\n",
    "        raise Exception('tC is negative')\n",
    "    if rE <= rD:\n",
    "        raise Exception('rE <= rD, M&M prop2 violated')\n",
    "    if D > E:\n",
    "        print('Warning, debt value exceeds equity value.  Did you accidentally flip these values?')\n",
    "    \n",
    "    V = E + D\n",
    "    cost_of_capital = E / V * rE + D / V * rD * (1-tC)\n",
    "    return cost_of_capital"
   ]
  },
  {
   "cell_type": "markdown",
   "metadata": {
    "collapsed": false
   },
   "source": [
    "<span style=\"color:red\">**Concept check**:</span>  Use the `better_wacc()` function to estimate WACC given the following parameter values.\n",
    "- E = 10\n",
    "- D = 100\n",
    "- rE = .15\n",
    "- rD = .05\n",
    "- tC = .35\n",
    "\n",
    "By the way, does the gap between `rE` and `rD` make senese to you?  Hint: think about the levels of `E` and `D`."
   ]
  },
  {
   "cell_type": "code",
   "execution_count": 0,
   "metadata": {
    "collapsed": false
   },
   "outputs": [
   ],
   "source": [
   ]
  }
 ],
 "metadata": {
  "kernelspec": {
   "display_name": "Python 3 (system-wide)",
   "language": "python",
   "metadata": {
    "cocalc": {
     "description": "Python 3 programming language",
     "priority": 100,
     "url": "https://www.python.org/"
    }
   },
   "name": "python3",
   "resource_dir": "/ext/jupyter/kernels/python3"
  },
  "language_info": {
   "codemirror_mode": {
    "name": "ipython",
    "version": 3
   },
   "file_extension": ".py",
   "mimetype": "text/x-python",
   "name": "python",
   "nbconvert_exporter": "python",
   "pygments_lexer": "ipython3",
   "version": "3.9.5"
  }
 },
 "nbformat": 4,
 "nbformat_minor": 4
}