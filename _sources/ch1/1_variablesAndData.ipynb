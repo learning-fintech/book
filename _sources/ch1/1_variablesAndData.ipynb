{
 "cells": [
  {
   "cell_type": "markdown",
   "metadata": {
    "collapsed": false
   },
   "source": [
    "## Variables and Data\n",
    "\n",
    "Variables store information.  All modeling and analytics requires data.  Once the data is input into Python, we can use statistical techniques to extract actionable information from the raw data.\n",
    "\n",
    "### Inputting and Printing Data\n",
    "\n",
    "Below, variable `a` is defined to store the number 5.  Next, variable `b` is defined to store 5 (the value of `a`) plus 2, which is 7.  The sum of `a` and `b` is confirmed on line three of the following code cell.  If we run the cell, Python prints out `7`."
   ]
  },
  {
   "cell_type": "code",
   "execution_count": 1,
   "metadata": {
    "collapsed": false
   },
   "outputs": [
    {
     "data": {
      "text/plain": [
       "7"
      ]
     },
     "execution_count": 1,
     "metadata": {
     },
     "output_type": "execute_result"
    }
   ],
   "source": [
    "a = 5\n",
    "b = a + 2\n",
    "b"
   ]
  },
  {
   "cell_type": "markdown",
   "metadata": {
    "collapsed": false
   },
   "source": [
    "By default, the last line of the cell will print out information to the user.  For example, to see the value of `a`, we could simply type:"
   ]
  },
  {
   "cell_type": "code",
   "execution_count": 2,
   "metadata": {
    "collapsed": false
   },
   "outputs": [
    {
     "data": {
      "text/plain": [
       "5"
      ]
     },
     "execution_count": 2,
     "metadata": {
     },
     "output_type": "execute_result"
    }
   ],
   "source": [
    "a"
   ]
  },
  {
   "cell_type": "markdown",
   "metadata": {
    "collapsed": false
   },
   "source": [
    "This approach is fairly limited.  If we want to see both the value of `a` and the value of `b`, the following will not achieve our goal:"
   ]
  },
  {
   "cell_type": "code",
   "execution_count": 3,
   "metadata": {
    "collapsed": false
   },
   "outputs": [
    {
     "data": {
      "text/plain": [
       "7"
      ]
     },
     "execution_count": 3,
     "metadata": {
     },
     "output_type": "execute_result"
    }
   ],
   "source": [
    "a\n",
    "b"
   ]
  },
  {
   "cell_type": "markdown",
   "metadata": {
    "collapsed": false
   },
   "source": [
    "Remember, only the *last* line of code will print out.  In order to print multiple pieces of information, we use the `print()` function.  A *function* in Python is something that we will discuss in greater detail later on in this section.  For now, note that `print(a)` will print the value of `a` and `print(b)` will print the value of `b`."
   ]
  },
  {
   "cell_type": "code",
   "execution_count": 4,
   "metadata": {
    "collapsed": false
   },
   "outputs": [
    {
     "name": "stdout",
     "output_type": "stream",
     "text": [
      "5\n",
      "7\n"
     ]
    }
   ],
   "source": [
    "print(a)\n",
    "print(b)"
   ]
  },
  {
   "cell_type": "markdown",
   "metadata": {
    "collapsed": false
   },
   "source": [
    "Printing is simple, but remarkably important.  We will be feeding Python information to process (e.g. a firm's financial statements, a consumer's credit history, a set of stock returns, etc.).  Printing is useful to (1) verify that the information is correct in Python and (2) see the result of our data manipulation.  For instance, suppose that we feed Python a portfolio of individual stock returns.  After instructing Python on how to do some statistical analysis, we will be able to calculate the portfolio's Sharpe ratio.  That information needs to be printed out back to us, the user, in order to know whether the portfolio does well (in a risk-return sense).\n",
    "\n",
    "Note that the last line of your code cell will always print out, even if it is redundant."
   ]
  },
  {
   "cell_type": "code",
   "execution_count": 5,
   "metadata": {
    "collapsed": false
   },
   "outputs": [
    {
     "name": "stdout",
     "output_type": "stream",
     "text": [
      "7\n"
     ]
    },
    {
     "data": {
      "text/plain": [
       "7"
      ]
     },
     "execution_count": 5,
     "metadata": {
     },
     "output_type": "execute_result"
    }
   ],
   "source": [
    "print(b)\n",
    "b"
   ]
  },
  {
   "cell_type": "markdown",
   "metadata": {
    "collapsed": false
   },
   "source": [
    "That last line of code will not print out anything, however, if there is nothing that warrants printing.  This statement will make a little bit more sense later on once we talk about functions in more detail.  For now, observe that if we define a variable (e.g. `c = 8`) then nothing will print out."
   ]
  },
  {
   "cell_type": "code",
   "execution_count": 6,
   "metadata": {
    "collapsed": false
   },
   "outputs": [
   ],
   "source": [
    "c = 8"
   ]
  },
  {
   "cell_type": "markdown",
   "metadata": {
    "collapsed": false
   },
   "source": [
    "<span style=\"color:red\">**Concept check**:</span>  In the following code cell, perform four tasks (each task should be done on a new line of code).  First, define a variable `net_income` to be equal to `10`.  Second, define a variable `total_assets` equal to `30`.  Third, define a variable `roa` equal to `net_income` divided by `total_assets`.  Fourth, print out the value of `roa`.  **Hint:** division in Python is done with the `/` character, so if we set `x` equal to $1$ divided by $3$ we would type `x = 1/3`."
   ]
  },
  {
   "cell_type": "code",
   "execution_count": 0,
   "metadata": {
    "collapsed": false
   },
   "outputs": [
   ],
   "source": [
   ]
  },
  {
   "cell_type": "markdown",
   "metadata": {
    "collapsed": false
   },
   "source": [
    "### Naming Variables and Adding Comments\n",
    "\n",
    "Variable names must start with a letter, and can contain letters, numbers, and underscores.  In general, variables should be named in a descriptive manner.  For example, if you have information about a firm's cost of capital, storing that information in a variable named `x` is a horrible idea.\n",
    "\n",
    "You should always strive to make your code *readable*.  What this means is that it should be relatively easy to open up code that your wrote earlier and know what it does.  Adding inteligent variable names helps tremendously.  Consider the following example:\n",
    "```\n",
    "a = b / (c+b) * e + c / (c+b) * f * (1-g)\n",
    "```\n",
    "\n",
    "Can you tell what the above line of code does?  If you live and breathe finance formulas, the pattern of the equation above *may* be familiar.  We can all agree, however, that the mystery is much easier to solve if we simply give the variables more meaningful names:\n",
    "```\n",
    "wacc = equity / (debt+equity) * cost_of_equity + debt / (debt+equity) * cost_of_debt * (1 - tax_rate)\n",
    "```\n",
    "\n",
    "One method of making long variable names readable is, as shown above, to space out words via underscores.\n",
    "\n",
    "That is, if you have a variable that contains a firm's cost of capital as its information, it is better to name this something like `cost_of_capital` or `costOfCapital` rather than a non-descriptive name like `a` or `b`.\n",
    "\n",
    "Note that you can use `#` to add comments to your code.\n",
    "\n",
    "Python will ignore everything on a line following a `#` symbol."
   ]
  },
  {
   "cell_type": "code",
   "execution_count": 8,
   "metadata": {
    "collapsed": false
   },
   "outputs": [
   ],
   "source": [
    "accountsreceiveable = 10"
   ]
  },
  {
   "cell_type": "markdown",
   "metadata": {
    "collapsed": false
   },
   "source": [
    "Even for short(ish) phrases like \"accounts receiveable\", squishing all of the characters together into one long word renders the variable name difficult to read.  The underscore naming method would use:"
   ]
  },
  {
   "cell_type": "code",
   "execution_count": 9,
   "metadata": {
    "collapsed": false
   },
   "outputs": [
   ],
   "source": [
    "accounts_receiveable = 10"
   ]
  },
  {
   "cell_type": "markdown",
   "metadata": {
    "collapsed": false
   },
   "source": [
    "which is much easier to read.  Others prefer the \"camel hump\" method:"
   ]
  },
  {
   "cell_type": "code",
   "execution_count": 10,
   "metadata": {
    "collapsed": false
   },
   "outputs": [
   ],
   "source": [
    "accountsReceiveable = 10"
   ]
  },
  {
   "cell_type": "markdown",
   "metadata": {
    "collapsed": false
   },
   "source": [
    "and whether you use underscores or camel humps is down to personal preference.  Using neither underscores nor humps, however, violates rules of good programming.\n",
    "\n",
    "Let's return to example formula\n",
    "```\n",
    "wacc = equity / (debt+equity) * cost_of_equity + debt / (debt+equity) * cost_of_debt * (1 - tax_rate)\n",
    "```\n",
    "\n",
    "Besides good variable naming, we can make the code more readable by including *comments*.  Comments are notes that programmers leave inside code.  These notes are not read by Python when Python goes through to run the code that's been written.  The following code cell will not run successfully."
   ]
  },
  {
   "cell_type": "code",
   "execution_count": 12,
   "metadata": {
    "collapsed": false
   },
   "outputs": [
    {
     "ename": "SyntaxError",
     "evalue": "invalid syntax (<ipython-input-12-a8368e710330>, line 1)",
     "output_type": "error",
     "traceback": [
      "\u001b[1;36m  File \u001b[1;32m\"<ipython-input-12-a8368e710330>\"\u001b[1;36m, line \u001b[1;32m1\u001b[0m\n\u001b[1;33m    define c equal a plus b\u001b[0m\n\u001b[1;37m           ^\u001b[0m\n\u001b[1;31mSyntaxError\u001b[0m\u001b[1;31m:\u001b[0m invalid syntax\n"
     ]
    }
   ],
   "source": [
    "define c equal a plus b\n",
    "c = a + b"
   ]
  },
  {
   "cell_type": "markdown",
   "metadata": {
    "collapsed": false
   },
   "source": [
    "The code fails because the statement\n",
    "```\n",
    "define c to equal a plus b\n",
    "```\n",
    "is something that Python thinks is code.  To transform the note into a comment so that Python ignores it, we use the `#` character.  Python ignores the `#` character and everything that follows it.  Use this to take notes about what's happening in the code."
   ]
  },
  {
   "cell_type": "code",
   "execution_count": 13,
   "metadata": {
    "collapsed": false
   },
   "outputs": [
   ],
   "source": [
    "# define c to equal a plus b\n",
    "c = a+b"
   ]
  },
  {
   "cell_type": "markdown",
   "metadata": {
    "collapsed": false
   },
   "source": [
    "Using comments, the \"nicest\" version of the example formula is\n",
    "```\n",
    "# compute the weighted average cost of capital\n",
    "wacc = equity / (debt+equity) * cost_of_equity + debt / (debt+equity) * cost_of_debt * (1 - tax_rate)\n",
    "```\n",
    "\n",
    "Note that comments can appear on the same line as some Python code.  When this happens, Python stops reading the line of code at the `#` character."
   ]
  },
  {
   "cell_type": "code",
   "execution_count": 14,
   "metadata": {
    "collapsed": false
   },
   "outputs": [
   ],
   "source": [
    "c = a + b # let c equal a plus b"
   ]
  },
  {
   "cell_type": "markdown",
   "metadata": {
    "collapsed": false
   },
   "source": [
    "<span style=\"color:red\">**Concept check**:</span>  In the following code cell, perform 6 tasks (each task should be its own line of code).  First, enter a comment that reads \"apply the Gordon growth model\".  Second, define a variable `d` equal to `5` and add a comment at the end of the line that says \"dividend\".  Third, define a variable `r` equal to `0.1` and add a comment at the end of the line that says \"discount rate\".  Fourth, define a variable `g` equal to `0.02` and add a comment at the end of the line that says \"dividend growth rate\".   Fifth, define a variable `v` equal to `d / (r-g)`.  Sixth, print out the value of `v`."
   ]
  },
  {
   "cell_type": "code",
   "execution_count": 0,
   "metadata": {
    "collapsed": false
   },
   "outputs": [
   ],
   "source": [
   ]
  },
  {
   "cell_type": "markdown",
   "metadata": {
    "collapsed": false
   },
   "source": [
    "### Basic Variable Types\n",
    "\n",
    "There are a handful of basic variable types."
   ]
  },
  {
   "cell_type": "code",
   "execution_count": 15,
   "metadata": {
    "collapsed": false
   },
   "outputs": [
   ],
   "source": [
    "a = 5        # a is an integer (there is no decimal point)\n",
    "b = 1.5      # floating point number (in general, don't worry about integer vs. floating point)\n",
    "c = False    # c is a Boolean\n",
    "d = 'banana' # d is a string"
   ]
  },
  {
   "cell_type": "markdown",
   "metadata": {
    "collapsed": false
   },
   "source": [
    "We won't worry too much about the distinction between integers and floating points.  To us, both are just numbers.\n",
    "\n",
    "*Boolean* variable types, named after George Boole, are either equal to `True` or `False` (note the capital `T` and `F`).  We will see some examples of Boolean values later on in this section.\n",
    "\n",
    "Strings store characters (e.g. single values like `'c'` or `'%'`) and words (combinations of characters like `'cat'` or `'dog'`).  The characters/words in strings are encased in either single quotes like `'cat'` or double quotes like `\"dog\"`.  In Python, whether you use single quotes or double quotes usually doesn't matter.\n",
    "\n",
    "<span style=\"color:red\">**Concept check**:</span>  In the following code cell, complete each comment to indicate the likely variable type of a given piece of information.  The first line is completed for you, as an example."
   ]
  },
  {
   "cell_type": "code",
   "execution_count": 16,
   "metadata": {
    "collapsed": false
   },
   "outputs": [
   ],
   "source": [
    "# shares outstanding: integer\n",
    "# cost of equity capital:\n",
    "# leverage ratio:\n",
    "# stock ticker symbol:\n",
    "# number of options awarded to the CEO:\n",
    "# amount of assets under management:\n",
    "# name of the company's largest shareholder:\n",
    "# number of stocks in the portfolio:"
   ]
  },
  {
   "cell_type": "markdown",
   "metadata": {
    "collapsed": false
   },
   "source": [
    "Programming is useful because variables can store *lots* of information (more than just a single number or word!)."
   ]
  },
  {
   "cell_type": "code",
   "execution_count": 17,
   "metadata": {
    "collapsed": false
   },
   "outputs": [
   ],
   "source": [
    "e = [1,2,3]  # e is a list\n",
    "f = {'word 1':'definition 1', 'word 2':'definition 2'} # f is a dictionary"
   ]
  },
  {
   "cell_type": "markdown",
   "metadata": {
    "collapsed": false
   },
   "source": [
    "Above, variable `e` stores information about multiple numbers.  Lists can store lots of things, not just numbers.  For example, the list `fang = ['FB', 'AMZN', 'NFLX', 'GOOG']` stores a list of string variables, where each string corresponds to one of the ticker symbols for the FANG stocks.\n",
    "\n",
    "Above, variable `f` stores information about words and their meanings.  Like lists, dictionaries can store lots of things.  For example `FB = {'3/23/20':148.10, '3/24/20':160.98, '3/25/20':156.21, '3/26/20':163.34, '3/27/20':156.79}` records daily stock price information for Facebook, Inc. for the week of March 23, 2020.  Dictionary variables hold *keys* (e.g. a word to look up) and *values* (e.g. the definition of the word).  Here, the key is a string that records the date, and the value is a floating point number that corresponds to the stock price.\n",
    "\n",
    "We'll return to lists and dictionaries later, including a discussion of how to modify/update data inside the list/dictionary, as well as instructions for accessing single items within a list/dictionary.  For now, we'll work with variables that hold single pieces of information for the sake of simplicity.  But note that variables can store lots of data simultaneously, and that's what makes programming truly useful for financial practioners.\n"
   ]
  }
 ],
 "metadata": {
  "kernelspec": {
   "display_name": "Python 3 (system-wide)",
   "language": "python",
   "metadata": {
    "cocalc": {
     "description": "Python 3 programming language",
     "priority": 100,
     "url": "https://www.python.org/"
    }
   },
   "name": "python3",
   "resource_dir": "/ext/jupyter/kernels/python3"
  },
  "language_info": {
   "codemirror_mode": {
    "name": "ipython",
    "version": 3
   },
   "file_extension": ".py",
   "mimetype": "text/x-python",
   "name": "python",
   "nbconvert_exporter": "python",
   "pygments_lexer": "ipython3",
   "version": "3.9.5"
  }
 },
 "nbformat": 4,
 "nbformat_minor": 4
}